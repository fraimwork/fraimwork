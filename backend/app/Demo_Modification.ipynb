{
 "cells": [
  {
   "cell_type": "code",
   "execution_count": 2,
   "metadata": {},
   "outputs": [],
   "source": [
    "import datetime, time, math, os, json, shutil, asyncio, networkx as nx\n",
    "from utils.gitutils import create_pull_request, clone_repo, create_branch, wipe_repo, prepare_repo\n",
    "from utils.agent import Agent, GenerationConfig, Interaction, Team\n",
    "from utils.stringutils import arr_from_sep_string, extract_markdown_blocks, markdown_to_dict, fuzzy_find, skwonk\n",
    "from utils.filetreeutils import FileTree, write_file_tree\n",
    "from utils.listutils import flatten\n",
    "from utils.frameworkutils import DartAnalyzer\n",
    "from dotenv import load_dotenv\n",
    "from utils.graphutils import loose_level_order, collapsed_level_order\n",
    "from utils.frameworkutils import Framework"
   ]
  },
  {
   "cell_type": "code",
   "execution_count": 3,
   "metadata": {},
   "outputs": [],
   "source": [
    "load_dotenv()  # Load environment variables from .env\n",
    "\n",
    "GITHUB_TOKEN = os.getenv('GITHUB_TOKEN')\n",
    "API_KEY = os.getenv('API_KEY')"
   ]
  },
  {
   "cell_type": "code",
   "execution_count": 4,
   "metadata": {},
   "outputs": [],
   "source": [
    "repo_url = 'https://github.com/6165-MSET-CuttleFish/TeamTrack'\n",
    "source = Framework.FLUTTER\n",
    "feature = f\"\"\"# Name\n",
    "Organizations\n",
    "## Descriptions\n",
    "Organizations are a way to group users together. They can be used to organize users into teams, or to provide a way to manage permissions across a group of users. An organization is also a way for users to quickly share events with the members of the organization quickly.\n",
    "\"\"\""
   ]
  },
  {
   "cell_type": "code",
   "execution_count": 5,
   "metadata": {},
   "outputs": [],
   "source": [
    "# Clone the repo and make a new branch\n",
    "repo = clone_repo(repo_url)\n",
    "base_branch = repo.active_branch.name\n",
    "created_branch = f\"modification-{base_branch}\"\n",
    "local_repo_path = str(repo.working_dir)\n",
    "working_dir_path = f'{local_repo_path}\\\\{source.get_working_dir()}'"
   ]
  },
  {
   "cell_type": "code",
   "execution_count": 6,
   "metadata": {},
   "outputs": [],
   "source": [
    "source_swe_summarizer = Agent(\n",
    "    model_name=\"gemini-1.5-flash-001\",\n",
    "    api_key=API_KEY,\n",
    "    name=\"source_swe_analyzer\",\n",
    "    generation_config=GenerationConfig(temperature=0.7),\n",
    "    system_prompt=f'''You are a {source} software engineer. Your job is to summarize the functionality of provided code files. Structure your response as follows:\n",
    "\n",
    "# filename.ext:\n",
    "\n",
    "$7 sentence summary of the functionality/contents of the file$\n",
    "'''\n",
    ")\n",
    "pm = Agent(\n",
    "    model_name=\"gemini-1.5-pro-001\",\n",
    "    api_key=API_KEY,\n",
    "    name=\"pm\",\n",
    "    generation_config=GenerationConfig(temperature=0.3),\n",
    "    system_prompt=f\"\"\"You are a high-level technical project manager tasked with the project of adding functionality to a {source} repository.\"\"\"\n",
    ")\n",
    "source_swe_coder = Agent(\n",
    "    model_name=\"gemini-1.5-flash-001\",\n",
    "    api_key=API_KEY,\n",
    "    name=\"source_swe_coder\",\n",
    "    generation_config=GenerationConfig(temperature=0.5),\n",
    "    system_prompt=f\"You are a {source} software engineer. Your job is to write code to implement a specific feature. Respond with code and nothing else. No explanations needed.\"\n",
    ")\n",
    "source_swe_editor = Agent(\n",
    "    model_name=\"gemini-1.5-flash-001\",\n",
    "    api_key=API_KEY,\n",
    "    name=\"source_swe_editor\",\n",
    "    generation_config=GenerationConfig(temperature=0.0),\n",
    "    system_prompt=f\"\"\"You are a {source} software engineer tasked with editing a large code file to implement changes in accordance with the instructions you will receive in the following prompts. Large edits at once are NOT the way. We will solve this problem by dividing the edit into smaller sub-edits consisting of additions and deletions (no more than 10 lines per edit). We will use a custom file type called 'skinnydiff', which are diff-like files but only feature a larger file's substring, to convey these changes. Here is an example of a 'skinnydiff' file:\n",
    "\n",
    "```skinnydiff\n",
    " void foo() {{\n",
    "- int x = 5;\n",
    "+ var x = 7;\n",
    "  return x + 3; // Example code \n",
    " }}\n",
    "```\n",
    "Skinnydiffs are shorter versions of diff files that only include a few context lines around the deletions and insertions. They DO NOT CONTAINS @@...@@  as this is wasted information\n",
    "\n",
    "Given this knowledge, structure your response as follows:\n",
    "\n",
    "# Step 1\n",
    "$Brief description of the 1st sub-change$\n",
    "## Scope\n",
    "$Brief planning on which line or class to include in the change$\n",
    "## Change 1\n",
    "```skinnydiff\n",
    "$code diff$\n",
    "```\n",
    "\n",
    "# Step N\n",
    "$Brief description of the Nth sub-change$\n",
    "## Scope\n",
    "$Brief planning on which line or class to include in the change$\n",
    "## Change N\n",
    "```skinnydiff\n",
    "$...$\n",
    "```\"\"\"\n",
    ")\n",
    "\n",
    "team = Team(source_swe_summarizer, pm, source_swe_coder, source_swe_editor)"
   ]
  },
  {
   "cell_type": "code",
   "execution_count": 7,
   "metadata": {},
   "outputs": [],
   "source": [
    "analyzer = source.get_analyzer(working_dir_path)\n",
    "\n",
    "source_dependency_graph = analyzer.buildDependencyGraph()"
   ]
  },
  {
   "cell_type": "code",
   "execution_count": 8,
   "metadata": {},
   "outputs": [
    {
     "name": "stdout",
     "output_type": "stream",
     "text": [
      "['models\\\\AppModel.dart', 'models\\\\StatConfig.dart']\n",
      "['models\\\\GameModel.dart']\n",
      "['models\\\\ScoreModel.dart']\n",
      "['components\\\\misc\\\\PlatformGraphics.dart', 'functions\\\\Extensions.dart']\n",
      "['components\\\\statistics\\\\BarGraph.dart', 'components\\\\users\\\\PFP.dart']\n",
      "['components\\\\users\\\\UsersRow.dart', 'functions\\\\Statistics.dart', 'providers\\\\Auth.dart', 'components\\\\scores\\\\ScoreSummary.dart', 'components\\\\scores\\\\Incrementor.dart']\n",
      "['views\\\\home\\\\match\\\\MatchView.dart']\n",
      "['functions\\\\Functions.dart', 'components\\\\statistics\\\\PercentChange.dart']\n",
      "['components\\\\scores\\\\ScoreTimeline.dart', 'models\\\\Change.dart', 'components\\\\scores\\\\ScoreRangeSummary.dart']\n",
      "['views\\\\home\\\\match\\\\ExampleMatchRow.dart', 'components\\\\misc\\\\EmptyList.dart', 'views\\\\home\\\\match\\\\MatchRow.dart', 'components\\\\misc\\\\CardView.dart', 'components\\\\scores\\\\ScoringElementStats.dart', 'components\\\\statistics\\\\CheckList.dart', 'views\\\\home\\\\change\\\\ChangeRow.dart', 'views\\\\home\\\\change\\\\ChangeConfig.dart', 'views\\\\home\\\\match\\\\MatchConfig.dart']\n",
      "['components\\\\scores\\\\ScoreCard.dart', 'views\\\\home\\\\change\\\\ChangeList.dart', 'views\\\\home\\\\match\\\\MatchList.dart', 'components\\\\misc\\\\Collapsible.dart', 'components\\\\AutonomousDrawingTool.dart']\n",
      "['views\\\\home\\\\team\\\\AutonDrawer.dart']\n",
      "['views\\\\home\\\\team\\\\TeamView.dart', 'views\\\\home\\\\team\\\\ExampleTeamRow.dart', 'views\\\\home\\\\util\\\\Permissions.dart', 'views\\\\home\\\\team\\\\TeamRow.dart']\n",
      "['views\\\\home\\\\team\\\\TeamList.dart', 'functions\\\\APIMethods.dart', 'views\\\\home\\\\events\\\\EventShare.dart']\n",
      "['views\\\\auth\\\\SignUpScreen.dart', 'views\\\\home\\\\events\\\\EventView.dart']\n",
      "['views\\\\templates\\\\TemplatesList.dart', 'views\\\\inbox\\\\BlockList.dart', 'views\\\\auth\\\\Login.dart', 'providers\\\\PushNotifications.dart', 'providers\\\\Theme.dart', 'views\\\\home\\\\events\\\\EventsList.dart', 'views\\\\inbox\\\\Inbox.dart']\n",
      "['views\\\\LandingPage.dart']\n",
      "['models\\\\GPTModel.dart', 'views\\\\auth\\\\AuthenticationWrapper.dart']\n",
      "['views\\\\home\\\\team\\\\TeamRowAlliance.dart', 'views\\\\templates\\\\TemplateView.dart', 'views\\\\auth\\\\Verify.dart', 'views\\\\home\\\\team\\\\AllianceSimulator.dart', 'functions\\\\ResponseModel.dart', 'views\\\\home\\\\events\\\\CameraView.dart', 'api\\\\README.MD', 'views\\\\home\\\\team\\\\TeamAllianceRecommend.dart', 'views\\\\home\\\\team\\\\AllianceSelection.dart', 'functions\\\\GPTModel.dart', 'components\\\\misc\\\\InfoPills.dart', 'main.dart', 'views\\\\home\\\\events\\\\ImageView.dart', 'providers\\\\UserPresence.dart']\n",
      "Number of levels: 19\n"
     ]
    }
   ],
   "source": [
    "# loose level order\n",
    "eval_order = loose_level_order(source_dependency_graph)[::-1]\n",
    "for level in eval_order:\n",
    "    print(level)\n",
    "print(f\"Number of levels: {len(eval_order)}\")"
   ]
  },
  {
   "cell_type": "code",
   "execution_count": 9,
   "metadata": {},
   "outputs": [
    {
     "data": {
      "text/plain": [
       "├── api\\\n",
       "│   ├── README.MD\n",
       "├── components\\\n",
       "│   ├── misc\\\n",
       "│   │   ├── CardView.dart\n",
       "│   │   ├── Collapsible.dart\n",
       "│   │   ├── EmptyList.dart\n",
       "│   │   ├── InfoPills.dart\n",
       "│   │   ├── PlatformGraphics.dart\n",
       "│   ├── scores\\\n",
       "│   │   ├── Incrementor.dart\n",
       "│   │   ├── ScoreCard.dart\n",
       "│   │   ├── ScoreRangeSummary.dart\n",
       "│   │   ├── ScoreSummary.dart\n",
       "│   │   ├── ScoreTimeline.dart\n",
       "│   │   ├── ScoringElementStats.dart\n",
       "│   ├── statistics\\\n",
       "│   │   ├── BarGraph.dart\n",
       "│   │   ├── CheckList.dart\n",
       "│   │   ├── PercentChange.dart\n",
       "│   ├── users\\\n",
       "│   │   ├── PFP.dart\n",
       "│   │   ├── UsersRow.dart\n",
       "│   ├── AutonomousDrawingTool.dart\n",
       "├── functions\\\n",
       "│   ├── APIMethods.dart\n",
       "│   ├── Extensions.dart\n",
       "│   ├── Functions.dart\n",
       "│   ├── GPTModel.dart\n",
       "│   ├── ResponseModel.dart\n",
       "│   ├── Statistics.dart\n",
       "├── models\\\n",
       "│   ├── AppModel.dart\n",
       "│   ├── Change.dart\n",
       "│   ├── GameModel.dart\n",
       "│   ├── GPTModel.dart\n",
       "│   ├── ScoreModel.dart\n",
       "│   ├── StatConfig.dart\n",
       "├── providers\\\n",
       "│   ├── Auth.dart\n",
       "│   ├── PushNotifications.dart\n",
       "│   ├── Theme.dart\n",
       "│   ├── UserPresence.dart\n",
       "├── views\\\n",
       "│   ├── auth\\\n",
       "│   │   ├── AuthenticationWrapper.dart\n",
       "│   │   ├── Login.dart\n",
       "│   │   ├── SignUpScreen.dart\n",
       "│   │   ├── Verify.dart\n",
       "│   ├── home\\\n",
       "│   │   ├── change\\\n",
       "│   │   │   ├── ChangeConfig.dart\n",
       "│   │   │   ├── ChangeList.dart\n",
       "│   │   │   ├── ChangeRow.dart\n",
       "│   │   ├── events\\\n",
       "│   │   │   ├── CameraView.dart\n",
       "│   │   │   ├── EventShare.dart\n",
       "│   │   │   ├── EventsList.dart\n",
       "│   │   │   ├── EventView.dart\n",
       "│   │   │   ├── ImageView.dart\n",
       "│   │   ├── match\\\n",
       "│   │   │   ├── ExampleMatchRow.dart\n",
       "│   │   │   ├── MatchConfig.dart\n",
       "│   │   │   ├── MatchList.dart\n",
       "│   │   │   ├── MatchRow.dart\n",
       "│   │   │   ├── MatchView.dart\n",
       "│   │   ├── team\\\n",
       "│   │   │   ├── AllianceSelection.dart\n",
       "│   │   │   ├── AllianceSimulator.dart\n",
       "│   │   │   ├── AutonDrawer.dart\n",
       "│   │   │   ├── ExampleTeamRow.dart\n",
       "│   │   │   ├── TeamAllianceRecommend.dart\n",
       "│   │   │   ├── TeamList.dart\n",
       "│   │   │   ├── TeamRow.dart\n",
       "│   │   │   ├── TeamRowAlliance.dart\n",
       "│   │   │   ├── TeamView.dart\n",
       "│   │   ├── util\\\n",
       "│   │   │   ├── Permissions.dart\n",
       "│   ├── inbox\\\n",
       "│   │   ├── BlockList.dart\n",
       "│   │   ├── Inbox.dart\n",
       "│   ├── templates\\\n",
       "│   │   ├── TemplatesList.dart\n",
       "│   │   ├── TemplateView.dart\n",
       "│   ├── LandingPage.dart\n",
       "├── main.dart"
      ]
     },
     "execution_count": 9,
     "metadata": {},
     "output_type": "execute_result"
    }
   ],
   "source": [
    "(source_file_tree := FileTree.from_dir(working_dir_path))"
   ]
  },
  {
   "cell_type": "code",
   "execution_count": 10,
   "metadata": {},
   "outputs": [
    {
     "name": "stderr",
     "output_type": "stream",
     "text": [
      "  0%|          | 0/19 [00:00<?, ?it/s]"
     ]
    },
    {
     "name": "stderr",
     "output_type": "stream",
     "text": [
      "100%|██████████| 19/19 [01:07<00:00,  3.58s/it]\n"
     ]
    }
   ],
   "source": [
    "# Summarize the original repo\n",
    "from tqdm import tqdm\n",
    "\n",
    "async def summarize_group(group):\n",
    "    async def summarize(node):\n",
    "        name = source_file_tree.nodes[node]['name']\n",
    "        content = source_file_tree.nodes[node]['content']\n",
    "        message = f\"{name}\\n```\\n{content}\\n```\"\n",
    "        return await team.async_chat_with_agent(\n",
    "            agent_name='source_swe_analyzer',\n",
    "            message=message,\n",
    "            context_keys=[f\"summary_{neighbor}\" for neighbor in source_dependency_graph[node]],\n",
    "            save_keys=[f\"summary_{node}\", \"all\"],\n",
    "            prompt_title=f\"Summary of {node}\"\n",
    "            )\n",
    "    tasks = [summarize(node) for node in group]\n",
    "    responses = await asyncio.gather(*tasks)\n",
    "    for i, response in enumerate(responses):\n",
    "        source_file_tree.nodes[group[i]][\"summary\"] = response\n",
    "\n",
    "for level in tqdm(eval_order):\n",
    "    await summarize_group(level)\n",
    "    time.sleep(0.5)"
   ]
  },
  {
   "cell_type": "code",
   "execution_count": 11,
   "metadata": {},
   "outputs": [
    {
     "name": "stdout",
     "output_type": "stream",
     "text": [
      "This Flutter repository implements a comprehensive application designed for managing and analyzing data related to First Tech Challenge (FTC) robotics competitions. \n",
      "\n",
      "The application allows users to:\n",
      "\n",
      "- **Manage events:** Create, share, edit, and delete events, including local, remote, and driver analysis events.\n",
      "- **Track team performance:** View team details, scores, match history, and statistics.\n",
      "- **Visualize autonomous routines:** Capture, store, and view autonomous paths for robots.\n",
      "- **Simulate alliances:** Explore potential alliances and receive AI-powered recommendations based on team performance.\n",
      "- **Manage user permissions:** Grant access to events and control user roles.\n",
      "- **Import data from The Orange Alliance API:** Retrieve event information and match schedules.\n",
      "- **Analyze match schedules from images:** Capture images of match schedules and extract team data using Google ML Kit.\n",
      "- **Manage inbox notifications:** Receive event invitations, block users, and manage notifications.\n",
      "\n",
      "The application leverages Firebase for authentication, data persistence, and push notifications. It also integrates with the The Orange Alliance API and Google ML Kit for data retrieval and image analysis. The application utilizes various Flutter widgets, including custom components, for a user-friendly and visually appealing interface. \n",
      "\n",
      "\n",
      "\n"
     ]
    }
   ],
   "source": [
    "prompt = f\"\"\"This is the file tree for the original {source} repo:\n",
    "```\n",
    "{source.get_working_dir()}\\\\\n",
    "{source_file_tree}\n",
    "```\n",
    "Given the prior context, summarize the functionality of the entire repository succinctly.\n",
    "\"\"\"\n",
    "print(team.chat_with_agent('source_swe_analyzer', prompt, context_keys=[\"all\"], save_keys=[\"all\"], prompt_title=f\"\"\"Repository Summary.\n",
    "File Tree provided:\n",
    "```\n",
    "{source.get_working_dir()}\\\\\n",
    "{source_file_tree}\n",
    "```\n",
    "\"\"\"))"
   ]
  },
  {
   "cell_type": "code",
   "execution_count": 12,
   "metadata": {},
   "outputs": [
    {
     "data": {
      "text/plain": [
       "20816"
      ]
     },
     "execution_count": 12,
     "metadata": {},
     "output_type": "execute_result"
    }
   ],
   "source": [
    "curr_string = '\\n'.join([message['parts'][0] for interaction in team.context_threads['all'] for message in interaction.to_dict()])\n",
    "(curr_tokens := pm.model.count_tokens(curr_string).total_tokens)"
   ]
  },
  {
   "cell_type": "code",
   "execution_count": 13,
   "metadata": {},
   "outputs": [
    {
     "data": {
      "text/plain": [
       "122951"
      ]
     },
     "execution_count": 13,
     "metadata": {},
     "output_type": "execute_result"
    }
   ],
   "source": [
    "would_be_string = '\\n'.join([source_file_tree.nodes[node]['content'] for node in source_dependency_graph.nodes])\n",
    "(would_be_tokens := pm.model.count_tokens(would_be_string).total_tokens)"
   ]
  },
  {
   "cell_type": "code",
   "execution_count": 14,
   "metadata": {},
   "outputs": [
    {
     "data": {
      "text/plain": [
       "0.8306967816447203"
      ]
     },
     "execution_count": 14,
     "metadata": {},
     "output_type": "execute_result"
    }
   ],
   "source": [
    "(percent_tokens_reduction := 1 - (curr_tokens / would_be_tokens))"
   ]
  },
  {
   "cell_type": "code",
   "execution_count": 15,
   "metadata": {},
   "outputs": [
    {
     "name": "stdout",
     "output_type": "stream",
     "text": [
      "```\n",
      "| WRITE | lib\\models\\Organization.dart | Implement an `Organization` class with the following properties:\n",
      "    - `id`: String\n",
      "    - `name`: String\n",
      "    - `members`: List<String> (User IDs)\n",
      "    - `admins`: List<String> (User IDs)\n",
      "| WRITE | lib\\providers\\OrganizationProvider.dart | Implement an `OrganizationProvider` class that uses Firestore to:\n",
      "    - Create new organizations.\n",
      "    - Get an organization by ID.\n",
      "    - Get a list of organizations a user is a member of.\n",
      "    - Add and remove members from an organization.\n",
      "    - Update organization details.\n",
      "| WRITE | lib\\views\\organizations\\OrganizationSettingsScreen.dart | Implement an `OrganizationSettingsScreen` widget to:\n",
      "    - Display organization details (name, members, admins).\n",
      "    - Allow admins to edit the organization name.\n",
      "    - Allow admins to promote members to admins.\n",
      "    - Allow admins to remove members from the organization.\n",
      "| WRITE | lib\\views\\organizations\\CreateOrganizationScreen.dart | Implement a `CreateOrganizationScreen` widget to:\n",
      "    - Allow users to create a new organization with a name.\n",
      "    - Add the creator as an admin of the organization.\n",
      "| WRITE | lib\\views\\organizations\\OrganizationListScreen.dart | Implement an `OrganizationListScreen` widget to:\n",
      "    - Display a list of organizations the user is a member of.\n",
      "    - Navigate to the `OrganizationSettingsScreen` when an organization is tapped.\n",
      "| EDIT | lib\\views\\LandingPage.dart | Add a new tab for \"Organizations\" that navigates to the `OrganizationListScreen`.\n",
      "| EDIT | lib\\views\\home\\events\\EventShare.dart | Add an option to share an event with an organization. \n",
      "    - This should add all organization members as viewers to the event.\n",
      "```\n"
     ]
    }
   ],
   "source": [
    "response_format = f\"\"\"\n",
    "You may choose ACTIONS from the following list:\n",
    "- | WRITE | $FILE_PATH$ | $PROMPT$ (PROMPT should be a brief instruction for how the new FILE_PATH should be WRITTEN)\n",
    "- | EDIT | $FILE_PATH$ | $PROMPT$ (PROMPT should be a brief instruction for how the FILE_PATH should be EDITED)\n",
    "- | DELETE | $FILE_PATH$ (Delete the provided file)\n",
    "----------\n",
    "Structure your response using the following example:\n",
    "```\n",
    "| WRITE | {source.get_working_dir()}\\\\path\\\\to\\\\newfile.ext | Implement ... with the following properties:\n",
    "    - property1\n",
    "    - property2\n",
    "    - dependency1\n",
    "    - dependency2\n",
    "| EDIT | {source.get_working_dir()}\\\\path\\\\to\\\\file.ext | Fix the bug ... by doing:\n",
    "    - step1\n",
    "    - step2\n",
    "| DELETE | {source.get_working_dir()}\\\\path\\\\to\\\\some\\\\file.ext | Reasons for deletion:\n",
    "    - reason1\n",
    "    - reason2\n",
    "```\n",
    "It is VERY important that you only respond with a high level overview of what to do. The actual implementation will be done by the coder.\n",
    "\"\"\"\n",
    "\n",
    "# Create new file tree\n",
    "prompt = f'''\n",
    "You are to build the following feature:\n",
    "{feature}\n",
    "------------------\n",
    "{response_format}\n",
    "------------------\n",
    "You need to follow the response template structure exactly (MY JOB DEPENDS ON IT)\n",
    "'''\n",
    "print(response := team.chat_with_agent(\"pm\", prompt, context_keys=[\"all\"], save_keys=[\"all\"], prompt_title=\"Feature Creation Steps\"))"
   ]
  },
  {
   "cell_type": "code",
   "execution_count": 16,
   "metadata": {},
   "outputs": [
    {
     "name": "stdout",
     "output_type": "stream",
     "text": [
      "('WRITE', 'models\\\\Organization.dart', 'Implement an `Organization` class with the following properties:\\n    - `id`: String\\n    - `name`: String\\n    - `members`: List<String> (User IDs)\\n    - `admins`: List<String> (User IDs)')\n",
      "('WRITE', 'providers\\\\OrganizationProvider.dart', 'Implement an `OrganizationProvider` class that uses Firestore to:\\n    - Create new organizations.\\n    - Get an organization by ID.\\n    - Get a list of organizations a user is a member of.\\n    - Add and remove members from an organization.\\n    - Update organization details.')\n",
      "('WRITE', 'views\\\\organizations\\\\OrganizationSettingsScreen.dart', 'Implement an `OrganizationSettingsScreen` widget to:\\n    - Display organization details (name, members, admins).\\n    - Allow admins to edit the organization name.\\n    - Allow admins to promote members to admins.\\n    - Allow admins to remove members from the organization.')\n",
      "('WRITE', 'views\\\\organizations\\\\CreateOrganizationScreen.dart', 'Implement a `CreateOrganizationScreen` widget to:\\n    - Allow users to create a new organization with a name.\\n    - Add the creator as an admin of the organization.')\n",
      "('WRITE', 'views\\\\organizations\\\\OrganizationListScreen.dart', 'Implement an `OrganizationListScreen` widget to:\\n    - Display a list of organizations the user is a member of.\\n    - Navigate to the `OrganizationSettingsScreen` when an organization is tapped.')\n",
      "('EDIT', 'views\\\\LandingPage.dart', 'Add a new tab for \"Organizations\" that navigates to the `OrganizationListScreen`.')\n",
      "('EDIT', 'views\\\\home\\\\events\\\\EventShare.dart', 'Add an option to share an event with an organization. \\n    - This should add all organization members as viewers to the event.')\n"
     ]
    }
   ],
   "source": [
    "md = extract_markdown_blocks(response)[0]\n",
    "blocks = md.split(\"|\")\n",
    "actions = []\n",
    "i = 0\n",
    "while i < len(blocks):\n",
    "    block = blocks[i].strip()\n",
    "    if block != \"WRITE\" and block != \"EDIT\" and block != \"DELETE\":\n",
    "        i += 1\n",
    "        continue\n",
    "    action, file, prompt = blocks[i:i + 3]\n",
    "    action = action.strip()\n",
    "    if file.strip().startswith(source.get_working_dir()):\n",
    "        file = file.strip()[len(source.get_working_dir()) + 1:]\n",
    "    else:\n",
    "        file = file.strip()\n",
    "    prompt = prompt.strip()\n",
    "    actions.append((action, file, prompt))\n",
    "    i += 3\n",
    "for action in actions:\n",
    "    print(action)"
   ]
  },
  {
   "cell_type": "code",
   "execution_count": 17,
   "metadata": {},
   "outputs": [
    {
     "data": {
      "text/plain": [
       "21231"
      ]
     },
     "execution_count": 17,
     "metadata": {},
     "output_type": "execute_result"
    }
   ],
   "source": [
    "source_swe_coder.model.count_tokens('\\n'.join(message['parts'][0] for interaction in team.context_threads['all'] for message in interaction.to_dict())).total_tokens"
   ]
  },
  {
   "cell_type": "code",
   "execution_count": 18,
   "metadata": {},
   "outputs": [
    {
     "data": {
      "text/plain": [
       "42431"
      ]
     },
     "execution_count": 18,
     "metadata": {},
     "output_type": "execute_result"
    }
   ],
   "source": [
    "# Cache the context threads\n",
    "factor = 32768 / source_swe_coder.model.count_tokens('\\n'.join(message['parts'][0] for interaction in team.context_threads['all'] for message in interaction.to_dict())).total_tokens\n",
    "# eg. if factor is 3.2, round to 4\n",
    "factor = math.ceil(factor)\n",
    "thread = team.context_threads['all'].copy()\n",
    "thread *= factor\n",
    "source_swe_coder.model.count_tokens('\\n'.join(message['parts'][0] for interaction in thread for message in interaction.to_dict())).total_tokens"
   ]
  },
  {
   "cell_type": "code",
   "execution_count": 24,
   "metadata": {},
   "outputs": [],
   "source": [
    "def write(file_path, prompt):\n",
    "    response = source_swe_coder.chat(f\"Instructions for {file_path}:\\n{prompt}\")\n",
    "    md = extract_markdown_blocks(response)[0]\n",
    "    path = f\"{working_dir_path}\\\\{file_path}\"\n",
    "    if not os.path.exists(os.path.dirname(path)):\n",
    "        os.makedirs(os.path.dirname(path))\n",
    "    with open(path, 'w') as f:\n",
    "        f.write(md)\n",
    "\n",
    "def edit(file_path, prompt):\n",
    "    with open(f\"{working_dir_path}\\\\{file_path}\", 'r') as f:\n",
    "        content = f.read()\n",
    "    response = source_swe_editor.chat(\n",
    "        f\"{prompt}\\n\\nRemember, keep your skinnydiffs SHORT and do not include @@...@@. Instead, split it into multiple steps.\",\n",
    "        custom_context=[Interaction(f\"Contents of {file_path}\", content)]\n",
    "    )\n",
    "    diffs = extract_markdown_blocks(response)\n",
    "    for diff in diffs:\n",
    "        with open(f'{working_dir_path}\\\\{file_path}', 'w') as f:\n",
    "            f.seek(0)\n",
    "            f.truncate()\n",
    "            content = skwonk(content, diff)\n",
    "            f.write(content)\n",
    "\n",
    "def delete(file_path):\n",
    "    os.remove(f\"{working_dir_path}\\\\{file_path}\")"
   ]
  },
  {
   "cell_type": "code",
   "execution_count": 25,
   "metadata": {},
   "outputs": [
    {
     "name": "stderr",
     "output_type": "stream",
     "text": [
      " 50%|█████     | 1/2 [00:01<00:01,  1.65s/it]"
     ]
    },
    {
     "name": "stdout",
     "output_type": "stream",
     "text": [
      "No similar substring found in database\n",
      "[\"Row(\\n                   children: [\\n                     IconButton(\\n                       onPressed: _onPressed,\\n                       tooltip: 'Select Contact',\\n                       icon: Icon(Icons.contacts),\\n                       color: Theme.of(context).colorScheme.primary,\\n                     ),\\n                     IconButton(\\n                       onPressed: _onPressedOrg,\\n                       tooltip: 'Select Organization',\\n                       icon: Icon(Icons.business),\\n                       color: Theme.of(context).colorScheme.primary,\\n                     ),\\n                     Expanded(\\n                       child: PlatformTextField(\\n                         textInputAction: TextInputAction.done,\\n                         placeholder: 'Email',\\n                         keyboardType: TextInputType.emailAddress,\\n                         controller: emailController,\\n                         autoCorrect: false,\\n                       ),\\n                     ),\\n                   ],\\n                 ),\"]\n",
      "[\"class _EventShareState extends State<EventShare> {\\n   EmailContact? _emailContact;\\n   final emailController = TextEditingController();\\n   @override\\n   Widget build(BuildContext context) => StreamBuilder<DatabaseEvent>(\\n     stream: widget.event.getRef()?.onValue,\\n     builder: (context, eventHandler) {\\n       if (eventHandler.hasData && !eventHandler.hasError) {\\n         widget.event.updateLocal(\\n           json.decode(\\n             json.encode(eventHandler.data?.snapshot.value),\\n           ),\\n           context,\\n         );\\n       }\\n       final currentUser = TeamTrackUser.fromUser(context.read<User?>());\\n       return Scaffold(\\n         appBar: AppBar(\\n           title: Text(\\n             widget.event.role == Role.admin ? 'Share Event' : 'Permissions',\\n           ),\\n           backgroundColor: Theme.of(context).colorScheme.primary,\\n         ),\\n         body: Column(\\n           children: [\\n             if (widget.event.role == Role.admin)\\n               Row(\\n                 children: [\\n                   IconButton(\\n                     onPressed: _onPressed,\\n                     tooltip: 'Select Contact',\\n                     icon: Icon(Icons.contacts),\\n                     color: Theme.of(context).colorScheme.primary,\\n                   ),\\n                   IconButton(\\n                     onPressed: _onPressedOrg,\\n                     tooltip: 'Select Organization',\\n                     icon: Icon(Icons.business),\\n                     color: Theme.of(context).colorScheme.primary,\\n                   ),\\n                   Expanded(\\n                     child: PlatformTextField(\\n                       textInputAction: TextInputAction.done,\\n                       placeholder: 'Email',\\n                       keyboardType: TextInputType.emailAddress,\\n                       controller: emailController,\\n                       autoCorrect: false,\\n                     ),\\n                   ),\\n                 ],\\n               ),\\n             if (widget.event.role == Role.admin)\\n               DropdownButton<Role>(\\n                 value: shareRole,\\n                 onChanged: (newValue) {\\n                   HapticFeedback.lightImpact();\\n                   setState(() => shareRole = newValue ?? Role.editor);\\n                 },\\n                 items: Role.values\\n                     .map(\\n                       (e) => DropdownMenuItem<Role>(\\n                         child: Text(e.name()),\\n                         value: e,\\n                       ),\\n                     )\\n                     .toList(),\\n               ),\\n             if (widget.event.role == Role.admin)\\n               Padding(\\n                 padding: const EdgeInsets.all(8.0),\\n                 child: Container(\\n                   width: MediaQuery.of(context).size.width,\\n                   child: PlatformButton(\\n                     child: Text('Share'),\\n                     color: Colors.green,\\n                     onPressed: () async {\\n                       HapticFeedback.lightImpact();\\n                       if (widget.event.shared) {\\n                         if (emailController.text.trim().isNotEmpty) {\\n                           showPlatformDialog(\\n                             barrierDismissible: false,\\n                             context: context,\\n                             builder: (_) => PlatformAlert(\\n                               content: Center(\\n                                 child: PlatformProgressIndicator(),\\n                               ),\\n                             ),\\n                           );\\n                           await widget.event.shareEvent(\\n                             email: emailController.text.trim(),\\n                             role: shareRole,\\n                           );\\n                           emailController.clear();\\n                         }\\n                         Navigator.pop(context);\\n                       }\\n                     },\\n                   ),\\n                 ),\\n               ),\\n             Expanded(\\n               child: Permissions(\\n                 event: widget.event,\\n                 users: widget.event.users,\\n                 currentUser: currentUser,\\n                 ref: widget.event.getRef()?.child('Permissions'),\\n               ),\\n             ),\\n           ],\\n         ),\\n       );\\n     },\\n   );\\n   void _onPressed() async {\\n     _emailContact = await FlutterContactPicker.pickEmailContact();\\n     emailController.text = _emailContact?.email?.email ?? '';\\n   }\\n   void _onPressedOrg() async {\\n     // TODO: Implement organization selection logic\\n   }\\n \\n }\"]\n",
      "['void _onPressedOrg() async {\\n     // TODO: Implement organization selection logic\\n     final organization = await Navigator.push(\\n       context,\\n       MaterialPageRoute(\\n         builder: (context) => OrganizationSelection(),\\n       ),\\n     );\\n     if (organization != null) {\\n       showPlatformDialog(\\n         barrierDismissible: false,\\n         context: context,\\n         builder: (_) => PlatformAlert(\\n           content: Center(\\n             child: PlatformProgressIndicator(),\\n           ),\\n         ),\\n       );\\n       await widget.event.shareEvent(\\n         organization: organization,\\n         role: shareRole,\\n       );\\n       Navigator.pop(context);\\n     }\\n   }']\n"
     ]
    },
    {
     "name": "stderr",
     "output_type": "stream",
     "text": [
      "100%|██████████| 2/2 [00:15<00:00,  7.59s/it]"
     ]
    },
    {
     "name": "stdout",
     "output_type": "stream",
     "text": [
      "[\"import 'package:flutter/material.dart';\\nimport 'package:teamtrack/models/AppModel.dart';\\nimport 'package:teamtrack/components/misc/PlatformGraphics.dart';\\nimport 'package:provider/provider.dart';\\n\\nclass OrganizationSelection extends StatefulWidget {\\n  const OrganizationSelection({Key? key}) : super(key: key);\\n\\n  @override\\n  State<OrganizationSelection> createState() => _OrganizationSelectionState();\\n}\\n\\nclass _OrganizationSelectionState extends State<OrganizationSelection> {\\n  @override\\n  Widget build(BuildContext context) {\\n    final organizations = context.watch<TeamTrackUser>().organizations;\\n    return Scaffold(\\n      appBar: AppBar(\\n        title: Text('Select Organization'),\\n        backgroundColor: Theme.of(context).colorScheme.primary,\\n      ),\\n      body: ListView.builder(\\n        itemCount: organizations.length,\\n        itemBuilder: (context, index) {\\n          final organization = organizations[index];\\n          return ListTile(\\n            title: Text(organization.name),\\n            onTap: () {\\n              Navigator.pop(context, organization);\\n            },\\n          );\\n        },\\n      ),\\n    );\\n  }\\n}\"]\n",
      "[\"Future<void> shareEvent({\\n    String? email,\\n    Organization? organization,\\n    Role? role,\\n  }) async {\\n    if (email != null) {\\n      await getRef()?.child('Permissions').child(email).set(role?.index);\\n    } else if (organization != null) {\\n      for (final member in organization.members) {\\n        await getRef()?.child('Permissions').child(member).set(role?.index);\\n      }\\n    }\\n  }\"]\n",
      "[\"Future<void> shareEvent({\\n    String? email,\\n    Organization? organization,\\n    Role? role,\\n  }) async {\\n    if (email != null) {\\n      await getRef()?.child('Permissions').child(email).set(role?.index);\\n    } else if (organization != null) {\\n      for (final member in organization.members) {\\n        await getRef()?.child('Permissions').child(member).set(role?.index);\\n      }\\n    }\\n  }\"]\n"
     ]
    },
    {
     "name": "stderr",
     "output_type": "stream",
     "text": [
      "\n"
     ]
    }
   ],
   "source": [
    "from utils.errorutils import repeat_until_finish\n",
    "from tqdm import tqdm\n",
    "\n",
    "for i in tqdm(range(5, len(actions))):\n",
    "    action, file, prompt = actions[i]\n",
    "    if action == 'WRITE':\n",
    "        repeat_until_finish(lambda: write(file, prompt), max_retries=2)\n",
    "    elif action == 'EDIT':\n",
    "        repeat_until_finish(lambda: edit(file, prompt), max_retries=2)\n",
    "    elif action == 'DELETE':\n",
    "        delete(file)"
   ]
  }
 ],
 "metadata": {
  "kernelspec": {
   "display_name": "base",
   "language": "python",
   "name": "python3"
  },
  "language_info": {
   "codemirror_mode": {
    "name": "ipython",
    "version": 3
   },
   "file_extension": ".py",
   "mimetype": "text/x-python",
   "name": "python",
   "nbconvert_exporter": "python",
   "pygments_lexer": "ipython3",
   "version": "3.11.7"
  }
 },
 "nbformat": 4,
 "nbformat_minor": 2
}
