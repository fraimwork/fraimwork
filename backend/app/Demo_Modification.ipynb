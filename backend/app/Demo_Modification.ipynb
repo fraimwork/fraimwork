{
 "cells": [
  {
   "cell_type": "code",
   "execution_count": 40,
   "metadata": {},
   "outputs": [],
   "source": [
    "import datetime, time, math, os, json, shutil, asyncio, networkx as nx\n",
    "from utils.gitutils import create_pull_request, clone_repo, create_branch, wipe_repo, prepare_repo\n",
    "from utils.agent import Agent, GenerationConfig, Interaction, Team\n",
    "from utils.stringutils import arr_from_sep_string, extract_markdown_blocks, markdown_to_dict\n",
    "from utils.filetreeutils import FileTree, write_file_tree\n",
    "from utils.listutils import flatten\n",
    "from utils.frameworkutils import DartAnalyzer\n",
    "from dotenv import load_dotenv\n",
    "from utils.graphutils import loose_level_order, collapsed_level_order\n",
    "from utils.frameworkutils import Framework"
   ]
  },
  {
   "cell_type": "code",
   "execution_count": 41,
   "metadata": {},
   "outputs": [],
   "source": [
    "load_dotenv()  # Load environment variables from .env\n",
    "\n",
    "GITHUB_TOKEN = os.getenv('GITHUB_TOKEN')\n",
    "API_KEY = os.getenv('API_KEY')"
   ]
  },
  {
   "cell_type": "code",
   "execution_count": 42,
   "metadata": {},
   "outputs": [],
   "source": [
    "repo_url = 'https://github.com/6165-MSET-CuttleFish/TeamTrack'\n",
    "source = Framework.FLUTTER\n",
    "feature = f\"\"\"# Name: Organizations\n",
    "# Description: Organizations are a way to group users together. They can be used to automatically share events with the members of the organization whenever they are uploaded to the cloud. \\\n",
    "Organizations consist of a name, team number, and a backend-generated unique id. They can also have a profile picture, description, and location. \\\n",
    "Members can also opt to be publicly listed as a member of the organization or not. \\\n",
    "\"\"\""
   ]
  },
  {
   "cell_type": "code",
   "execution_count": 43,
   "metadata": {},
   "outputs": [],
   "source": [
    "# Clone the repo and make a new branch\n",
    "repo = clone_repo(repo_url)\n",
    "base_branch = repo.active_branch.name\n",
    "created_branch = f\"modification-{base_branch}\"\n",
    "local_repo_path = str(repo.working_dir)\n",
    "working_dir_path = f'{local_repo_path}\\\\{source.get_working_dir()}'"
   ]
  },
  {
   "cell_type": "code",
   "execution_count": 44,
   "metadata": {},
   "outputs": [],
   "source": [
    "source_swe_summarizer = Agent(\n",
    "    model_name=\"gemini-1.5-flash-001\",\n",
    "    api_key=API_KEY,\n",
    "    name=\"source_swe_analyzer\",\n",
    "    generation_config=GenerationConfig(temperature=0.7),\n",
    "    system_prompt=f'''You are a {source} software engineer. Your job is to summarize the functionality of provided code files. Structure your response as follows:\n",
    "\n",
    "# filename.ext:\n",
    "\n",
    "$7 sentence summary of the functionality/contents of the file$\n",
    "'''\n",
    ")\n",
    "\n",
    "pm = Agent(\n",
    "    model_name=\"gemini-1.5-pro-001\",\n",
    "    api_key=API_KEY,\n",
    "    name=\"pm\",\n",
    "    generation_config=GenerationConfig(temperature=0.3),\n",
    "    system_prompt=f\"\"\"You are a high-level technical project manager tasked with the project of adding functionality to a {source} repository.\"\"\"\n",
    ")\n",
    "\n",
    "source_swe_coder = Agent(\n",
    "    model_name=\"gemini-1.5-flash-001\",\n",
    "    api_key=API_KEY,\n",
    "    name=\"source_swe_coder\",\n",
    "    generation_config=GenerationConfig(temperature=0.7),\n",
    "    system_prompt=f'''You are a {source} software engineer. Your job is to write code to implement a specific feature. Structure your responses as follows:\n",
    "# Code\n",
    "```\n",
    "$code$\n",
    "```\n",
    "# Example Usage\n",
    "```\n",
    "$example usage$\n",
    "```\n",
    "'''\n",
    ")\n",
    "\n",
    "team = Team(source_swe_summarizer, pm, source_swe_coder)"
   ]
  },
  {
   "cell_type": "code",
   "execution_count": 45,
   "metadata": {},
   "outputs": [],
   "source": [
    "analyzer = source.get_analyzer(working_dir_path)\n",
    "\n",
    "source_dependency_graph = analyzer.buildDependencyGraph()"
   ]
  },
  {
   "cell_type": "code",
   "execution_count": 46,
   "metadata": {},
   "outputs": [
    {
     "name": "stdout",
     "output_type": "stream",
     "text": [
      "['models\\\\AppModel.dart', 'models\\\\StatConfig.dart']\n",
      "['models\\\\GameModel.dart']\n",
      "['models\\\\ScoreModel.dart']\n",
      "['components\\\\misc\\\\PlatformGraphics.dart', 'functions\\\\Extensions.dart']\n",
      "['components\\\\users\\\\PFP.dart', 'components\\\\statistics\\\\BarGraph.dart']\n",
      "['components\\\\scores\\\\Incrementor.dart', 'components\\\\users\\\\UsersRow.dart', 'providers\\\\Auth.dart', 'functions\\\\Statistics.dart', 'components\\\\scores\\\\ScoreSummary.dart']\n",
      "['views\\\\home\\\\match\\\\MatchView.dart']\n",
      "['components\\\\statistics\\\\PercentChange.dart', 'functions\\\\Functions.dart']\n",
      "['components\\\\scores\\\\ScoreRangeSummary.dart', 'components\\\\scores\\\\ScoreTimeline.dart', 'models\\\\Change.dart']\n",
      "['components\\\\misc\\\\EmptyList.dart', 'views\\\\home\\\\match\\\\ExampleMatchRow.dart', 'components\\\\statistics\\\\CheckList.dart', 'components\\\\scores\\\\ScoringElementStats.dart', 'views\\\\home\\\\match\\\\MatchConfig.dart', 'views\\\\home\\\\change\\\\ChangeRow.dart', 'components\\\\misc\\\\CardView.dart', 'views\\\\home\\\\match\\\\MatchRow.dart', 'views\\\\home\\\\change\\\\ChangeConfig.dart']\n",
      "['components\\\\AutonomousDrawingTool.dart', 'components\\\\scores\\\\ScoreCard.dart', 'components\\\\misc\\\\Collapsible.dart', 'views\\\\home\\\\match\\\\MatchList.dart', 'views\\\\home\\\\change\\\\ChangeList.dart']\n",
      "['views\\\\home\\\\team\\\\AutonDrawer.dart']\n",
      "['views\\\\home\\\\team\\\\TeamView.dart', 'views\\\\home\\\\util\\\\Permissions.dart', 'views\\\\home\\\\team\\\\ExampleTeamRow.dart', 'views\\\\home\\\\team\\\\TeamRow.dart']\n",
      "['views\\\\home\\\\team\\\\TeamList.dart', 'functions\\\\APIMethods.dart', 'views\\\\home\\\\events\\\\EventShare.dart']\n",
      "['views\\\\home\\\\events\\\\EventView.dart', 'views\\\\auth\\\\SignUpScreen.dart']\n",
      "['views\\\\auth\\\\Login.dart', 'providers\\\\Theme.dart', 'providers\\\\PushNotifications.dart', 'views\\\\templates\\\\TemplatesList.dart', 'views\\\\inbox\\\\BlockList.dart', 'views\\\\inbox\\\\Inbox.dart', 'views\\\\home\\\\events\\\\EventsList.dart']\n",
      "['views\\\\LandingPage.dart']\n",
      "['views\\\\auth\\\\AuthenticationWrapper.dart', 'models\\\\GPTModel.dart']\n",
      "['views\\\\auth\\\\Verify.dart', 'views\\\\templates\\\\TemplateView.dart', 'views\\\\home\\\\team\\\\TeamAllianceRecommend.dart', 'views\\\\home\\\\team\\\\AllianceSelection.dart', 'functions\\\\ResponseModel.dart', 'views\\\\home\\\\team\\\\AllianceSimulator.dart', 'views\\\\home\\\\team\\\\TeamRowAlliance.dart', 'providers\\\\UserPresence.dart', 'views\\\\home\\\\events\\\\ImageView.dart', 'views\\\\home\\\\events\\\\CameraView.dart', 'api\\\\README.MD', 'main.dart', 'components\\\\misc\\\\InfoPills.dart', 'functions\\\\GPTModel.dart']\n",
      "Number of levels: 19\n"
     ]
    }
   ],
   "source": [
    "# loose level order\n",
    "eval_order = loose_level_order(source_dependency_graph)[::-1]\n",
    "for level in eval_order:\n",
    "    print(level)\n",
    "print(f\"Number of levels: {len(eval_order)}\")"
   ]
  },
  {
   "cell_type": "code",
   "execution_count": 47,
   "metadata": {},
   "outputs": [
    {
     "data": {
      "text/plain": [
       "├── api\\\n",
       "│   ├── README.MD\n",
       "├── components\\\n",
       "│   ├── misc\\\n",
       "│   │   ├── CardView.dart\n",
       "│   │   ├── Collapsible.dart\n",
       "│   │   ├── EmptyList.dart\n",
       "│   │   ├── InfoPills.dart\n",
       "│   │   ├── PlatformGraphics.dart\n",
       "│   ├── scores\\\n",
       "│   │   ├── Incrementor.dart\n",
       "│   │   ├── ScoreCard.dart\n",
       "│   │   ├── ScoreRangeSummary.dart\n",
       "│   │   ├── ScoreSummary.dart\n",
       "│   │   ├── ScoreTimeline.dart\n",
       "│   │   ├── ScoringElementStats.dart\n",
       "│   ├── statistics\\\n",
       "│   │   ├── BarGraph.dart\n",
       "│   │   ├── CheckList.dart\n",
       "│   │   ├── PercentChange.dart\n",
       "│   ├── users\\\n",
       "│   │   ├── PFP.dart\n",
       "│   │   ├── UsersRow.dart\n",
       "│   ├── AutonomousDrawingTool.dart\n",
       "├── functions\\\n",
       "│   ├── APIMethods.dart\n",
       "│   ├── Extensions.dart\n",
       "│   ├── Functions.dart\n",
       "│   ├── GPTModel.dart\n",
       "│   ├── ResponseModel.dart\n",
       "│   ├── Statistics.dart\n",
       "├── models\\\n",
       "│   ├── AppModel.dart\n",
       "│   ├── Change.dart\n",
       "│   ├── GameModel.dart\n",
       "│   ├── GPTModel.dart\n",
       "│   ├── ScoreModel.dart\n",
       "│   ├── StatConfig.dart\n",
       "├── providers\\\n",
       "│   ├── Auth.dart\n",
       "│   ├── PushNotifications.dart\n",
       "│   ├── Theme.dart\n",
       "│   ├── UserPresence.dart\n",
       "├── views\\\n",
       "│   ├── auth\\\n",
       "│   │   ├── AuthenticationWrapper.dart\n",
       "│   │   ├── Login.dart\n",
       "│   │   ├── SignUpScreen.dart\n",
       "│   │   ├── Verify.dart\n",
       "│   ├── home\\\n",
       "│   │   ├── change\\\n",
       "│   │   │   ├── ChangeConfig.dart\n",
       "│   │   │   ├── ChangeList.dart\n",
       "│   │   │   ├── ChangeRow.dart\n",
       "│   │   ├── events\\\n",
       "│   │   │   ├── CameraView.dart\n",
       "│   │   │   ├── EventShare.dart\n",
       "│   │   │   ├── EventsList.dart\n",
       "│   │   │   ├── EventView.dart\n",
       "│   │   │   ├── ImageView.dart\n",
       "│   │   ├── match\\\n",
       "│   │   │   ├── ExampleMatchRow.dart\n",
       "│   │   │   ├── MatchConfig.dart\n",
       "│   │   │   ├── MatchList.dart\n",
       "│   │   │   ├── MatchRow.dart\n",
       "│   │   │   ├── MatchView.dart\n",
       "│   │   ├── team\\\n",
       "│   │   │   ├── AllianceSelection.dart\n",
       "│   │   │   ├── AllianceSimulator.dart\n",
       "│   │   │   ├── AutonDrawer.dart\n",
       "│   │   │   ├── ExampleTeamRow.dart\n",
       "│   │   │   ├── TeamAllianceRecommend.dart\n",
       "│   │   │   ├── TeamList.dart\n",
       "│   │   │   ├── TeamRow.dart\n",
       "│   │   │   ├── TeamRowAlliance.dart\n",
       "│   │   │   ├── TeamView.dart\n",
       "│   │   ├── util\\\n",
       "│   │   │   ├── Permissions.dart\n",
       "│   ├── inbox\\\n",
       "│   │   ├── BlockList.dart\n",
       "│   │   ├── Inbox.dart\n",
       "│   ├── templates\\\n",
       "│   │   ├── TemplatesList.dart\n",
       "│   │   ├── TemplateView.dart\n",
       "│   ├── LandingPage.dart\n",
       "├── main.dart"
      ]
     },
     "execution_count": 47,
     "metadata": {},
     "output_type": "execute_result"
    }
   ],
   "source": [
    "(source_file_tree := FileTree.from_dir(working_dir_path))"
   ]
  },
  {
   "cell_type": "code",
   "execution_count": 48,
   "metadata": {},
   "outputs": [
    {
     "name": "stderr",
     "output_type": "stream",
     "text": [
      "100%|██████████| 19/19 [01:22<00:00,  4.37s/it]\n"
     ]
    }
   ],
   "source": [
    "# Summarize the original repo\n",
    "from tqdm import tqdm\n",
    "\n",
    "async def summarize_group(group):\n",
    "    async def summarize(node):\n",
    "        name = source_file_tree.nodes[node]['name']\n",
    "        content = source_file_tree.nodes[node]['content']\n",
    "        message = f\"{name}\\n```\\n{content}\\n```\"\n",
    "        return await team.async_chat_with_agent(\n",
    "            agent_name='source_swe_analyzer',\n",
    "            message=message,\n",
    "            context_keys=[f\"summary_{neighbor}\" for neighbor in source_dependency_graph[node]],\n",
    "            save_keys=[f\"summary_{node}\", \"all\"],\n",
    "            prompt_title=f\"Summary of {node}\"\n",
    "            )\n",
    "    tasks = [summarize(node) for node in group]\n",
    "    responses = await asyncio.gather(*tasks)\n",
    "    for i, response in enumerate(responses):\n",
    "        source_file_tree.nodes[group[i]][\"summary\"] = response\n",
    "\n",
    "for level in tqdm(eval_order):\n",
    "    await summarize_group(level)\n",
    "    time.sleep(0.5)"
   ]
  },
  {
   "cell_type": "code",
   "execution_count": 57,
   "metadata": {},
   "outputs": [
    {
     "name": "stdout",
     "output_type": "stream",
     "text": [
      "This repository houses a Flutter application called \"TeamTrack,\" designed to streamline the management and analysis of data for FIRST Tech Challenge (FTC) robotics competitions. \n",
      "\n",
      "The app provides features for:\n",
      "\n",
      "- **Event Management:** Creating, editing, sharing, and deleting events, including importing match schedules from images using OCR.\n",
      "- **Team Management:** Viewing and managing team details, scores, match history, statistics, autonomous paths, and alliance recommendations.\n",
      "- **User Management:** Creating and managing user accounts, handling logins, managing permissions, and blocking users.\n",
      "- **Data Storage:** Utilizing Firebase Realtime Database and Firestore for data persistence, along with local storage using shared preferences.\n",
      "- **Push Notifications:** Delivering notifications for new event invitations. \n",
      "\n",
      "The app leverages various libraries and services, including Firebase, Google ML Kit, The Orange Alliance API, and ChatGPT, to provide a comprehensive and interactive user experience for managing and analyzing FTC data. \n",
      "\n"
     ]
    }
   ],
   "source": [
    "prompt = f\"\"\"This is the file tree for the original {source} repo:\n",
    "```\n",
    "{source.get_working_dir()}\\\\\n",
    "{source_file_tree}\n",
    "```\n",
    "Given the prior context, summarize the functionality of the entire repository succinctly.\n",
    "\"\"\"\n",
    "print(team.chat_with_agent('source_swe_analyzer', prompt, context_keys=[\"all\"], save_keys=[\"all\"], prompt_title=f\"\"\"Repository Summary.\n",
    "File Tree provided:\n",
    "```\n",
    "{source.get_working_dir()}\\\\\n",
    "{source_file_tree}\n",
    "```\n",
    "\"\"\"))"
   ]
  },
  {
   "cell_type": "code",
   "execution_count": 50,
   "metadata": {},
   "outputs": [
    {
     "data": {
      "text/plain": [
       "20746"
      ]
     },
     "execution_count": 50,
     "metadata": {},
     "output_type": "execute_result"
    }
   ],
   "source": [
    "curr_string = '\\n'.join([message['parts'][0] for interaction in team.context_threads['all'] for message in interaction.to_dict()])\n",
    "(curr_tokens := pm.model.count_tokens(curr_string).total_tokens)"
   ]
  },
  {
   "cell_type": "code",
   "execution_count": 51,
   "metadata": {},
   "outputs": [
    {
     "data": {
      "text/plain": [
       "122951"
      ]
     },
     "execution_count": 51,
     "metadata": {},
     "output_type": "execute_result"
    }
   ],
   "source": [
    "would_be_string = '\\n'.join([source_file_tree.nodes[node]['content'] for node in source_dependency_graph.nodes])\n",
    "(would_be_tokens := pm.model.count_tokens(would_be_string).total_tokens)"
   ]
  },
  {
   "cell_type": "code",
   "execution_count": 52,
   "metadata": {},
   "outputs": [
    {
     "data": {
      "text/plain": [
       "0.8312661141430326"
      ]
     },
     "execution_count": 52,
     "metadata": {},
     "output_type": "execute_result"
    }
   ],
   "source": [
    "(percent_tokens_reduction := 1 - (curr_tokens / would_be_tokens))"
   ]
  },
  {
   "cell_type": "markdown",
   "metadata": {},
   "source": [
    "## Context Caching"
   ]
  },
  {
   "cell_type": "code",
   "execution_count": 53,
   "metadata": {},
   "outputs": [
    {
     "data": {
      "text/plain": [
       "20746"
      ]
     },
     "execution_count": 53,
     "metadata": {},
     "output_type": "execute_result"
    }
   ],
   "source": [
    "pm.model.count_tokens('\\n'.join(message['parts'][0] for interaction in team.context_threads['all'] for message in interaction.to_dict())).total_tokens"
   ]
  },
  {
   "cell_type": "code",
   "execution_count": 54,
   "metadata": {},
   "outputs": [
    {
     "data": {
      "text/plain": [
       "41469"
      ]
     },
     "execution_count": 54,
     "metadata": {},
     "output_type": "execute_result"
    }
   ],
   "source": [
    "# Cache the context threads\n",
    "factor = 32768 / pm.model.count_tokens('\\n'.join(message['parts'][0] for interaction in team.context_threads['all'] for message in interaction.to_dict())).total_tokens\n",
    "# eg. if factor is 3.2, round to 4\n",
    "factor = math.ceil(factor)\n",
    "team.context_threads['all'] *= factor\n",
    "pm.model.count_tokens('\\n'.join(message['parts'][0] for interaction in team.context_threads['all'] for message in interaction.to_dict())).total_tokens"
   ]
  },
  {
   "cell_type": "code",
   "execution_count": 55,
   "metadata": {},
   "outputs": [],
   "source": [
    "pm.cache_context(team.context_threads['all'], ttl=datetime.timedelta(minutes=5))"
   ]
  },
  {
   "cell_type": "code",
   "execution_count": 58,
   "metadata": {},
   "outputs": [
    {
     "name": "stdout",
     "output_type": "stream",
     "text": [
      "```\n",
      "1. WRITE | lib/models/Organization.dart | Create a new class named `Organization` with the following properties:\n",
      "    - `id`: String (backend-generated unique ID)\n",
      "    - `name`: String\n",
      "    - `teamNumber`: int\n",
      "    - `profilePicture`: String? (optional URL for profile picture)\n",
      "    - `description`: String? (optional description)\n",
      "    - `location`: String? (optional location)\n",
      "\n",
      "2. WRITE | lib/providers/OrganizationProvider.dart | Create a new provider named `OrganizationProvider` that:\n",
      "    - Uses Firebase Firestore to store and manage organizations.\n",
      "    - Provides methods for:\n",
      "        - Creating a new organization.\n",
      "        - Fetching an organization by ID.\n",
      "        - Updating organization details.\n",
      "        - Listing all organizations.\n",
      "        - Joining an organization.\n",
      "        - Leaving an organization.\n",
      "        - Listing members of an organization.\n",
      "\n",
      "3. WRITE | lib/views/organization/OrganizationList.dart | Create a new widget named `OrganizationList` that:\n",
      "    - Displays a list of organizations using `OrganizationProvider`.\n",
      "    - Allows users to search for organizations by name or team number.\n",
      "    - Navigates to the `OrganizationView` when an organization is tapped.\n",
      "\n",
      "4. WRITE | lib/views/organization/OrganizationView.dart | Create a new widget named `OrganizationView` that:\n",
      "    - Displays details of a specific organization using `OrganizationProvider`.\n",
      "    - Shows organization name, team number, profile picture, description, and location.\n",
      "    - Lists members of the organization.\n",
      "    - Allows the organization admin to:\n",
      "        - Edit organization details.\n",
      "        - Manage member roles (admin, member).\n",
      "        - Remove members.\n",
      "    - Allows members to:\n",
      "        - Leave the organization.\n",
      "        - Toggle their public listing preference.\n",
      "\n",
      "5. WRITE | lib/views/organization/CreateOrganization.dart | Create a new widget named `CreateOrganization` that:\n",
      "    - Allows users to create a new organization by providing name, team number, optional profile picture, description, and location.\n",
      "    - Uses `OrganizationProvider` to create the organization in Firestore.\n",
      "\n",
      "6. EDIT | lib/views/home/events/EventShare.dart | Add a new option to share an event with an organization.\n",
      "    - When sharing an event, allow the user to select an organization from a dropdown list.\n",
      "    - Automatically add all members of the selected organization to the event with the chosen role (editor or viewer).\n",
      "\n",
      "7. EDIT | lib/views/LandingPage.dart | Add a new tab for \"Organizations\" to the `BottomNavigationBar`.\n",
      "    - Display the `OrganizationList` widget when this tab is selected.\n",
      "\n",
      "8. EDIT | lib/models/AppModel.dart | Add a new property to the `DataModel` class:\n",
      "    - `organizations`: List<Organization> (stores a list of organizations the user belongs to)\n",
      "    - Add methods for:\n",
      "        - Loading user's organizations from Firestore.\n",
      "        - Saving user's organizations to Firestore.\n",
      "\n",
      "9. EDIT | lib/providers/Auth.dart | Modify the sign-up and sign-in methods to:\n",
      "    - Initialize the user's `organizations` list in Firestore upon successful account creation or sign-in.\n",
      "\n",
      "```\n"
     ]
    }
   ],
   "source": [
    "response_format = f\"\"\"\n",
    "You may choose ACTIONS from the following list:\n",
    "- WRITE | $FILE_PATH$ | $PROMPT$ (PROMPT should inform how the new FILE_PATH should be written)\n",
    "- EDIT | $FILE_PATH$ | $PROMPT$ (Edit the provided file to fulfill the prompt)\n",
    "- DELETE | $FILE_PATH$ (Delete the provided file)\n",
    "----------\n",
    "Here is a sample response:\n",
    "```\n",
    "1. WRITE | {source.get_working_dir()}\\\\path\\\\to\\\\newfile.ext | Implement ... with the following properties:\n",
    "    - property1\n",
    "    - property2\n",
    "2. EDIT | {source.get_working_dir()}\\\\path\\\\to\\\\file.ext | Fix the bug ... by doing:\n",
    "    - step1\n",
    "    - step2\n",
    "3. DELETE | {source.get_working_dir()}\\\\path\\\\to\\\\some\\\\file.ext | Reasons for deletion:\n",
    "    - reason1\n",
    "    - reason2\n",
    "```\n",
    "\"\"\"\n",
    "\n",
    "# Create new file tree\n",
    "prompt = f'''\n",
    "You are to build the following feature:\n",
    "{feature}\n",
    "------------------\n",
    "{response_format}\n",
    "------------------\n",
    "You need to follow the response template structure exactly or the response will not be accepted.\n",
    "'''\n",
    "print(response := pm.chat(prompt))"
   ]
  },
  {
   "cell_type": "code",
   "execution_count": 62,
   "metadata": {},
   "outputs": [
    {
     "name": "stdout",
     "output_type": "stream",
     "text": [
      "('WRITE', 'models/Organization.dart', 'Create a new class named `Organization` with the following properties:\\n    - `id`: String (backend-generated unique ID)\\n    - `name`: String\\n    - `teamNumber`: int\\n    - `profilePicture`: String? (optional URL for profile picture)\\n    - `description`: String? (optional description)\\n    - `location`: String? (optional location)')\n",
      "('WRITE', 'providers/OrganizationProvider.dart', 'Create a new provider named `OrganizationProvider` that:\\n    - Uses Firebase Firestore to store and manage organizations.\\n    - Provides methods for:\\n        - Creating a new organization.\\n        - Fetching an organization by ID.\\n        - Updating organization details.\\n        - Listing all organizations.\\n        - Joining an organization.\\n        - Leaving an organization.\\n        - Listing members of an organization.')\n",
      "('WRITE', 'views/organization/OrganizationList.dart', 'Create a new widget named `OrganizationList` that:\\n    - Displays a list of organizations using `OrganizationProvider`.\\n    - Allows users to search for organizations by name or team number.\\n    - Navigates to the `OrganizationView` when an organization is tapped.')\n",
      "('WRITE', 'views/organization/OrganizationView.dart', 'Create a new widget named `OrganizationView` that:\\n    - Displays details of a specific organization using `OrganizationProvider`.\\n    - Shows organization name, team number, profile picture, description, and location.\\n    - Lists members of the organization.\\n    - Allows the organization admin to:\\n        - Edit organization details.\\n        - Manage member roles (admin, member).\\n        - Remove members.\\n    - Allows members to:\\n        - Leave the organization.\\n        - Toggle their public listing preference.')\n",
      "('WRITE', 'views/organization/CreateOrganization.dart', 'Create a new widget named `CreateOrganization` that:\\n    - Allows users to create a new organization by providing name, team number, optional profile picture, description, and location.\\n    - Uses `OrganizationProvider` to create the organization in Firestore.')\n",
      "('EDIT', 'views/home/events/EventShare.dart', 'Add a new option to share an event with an organization.\\n    - When sharing an event, allow the user to select an organization from a dropdown list.\\n    - Automatically add all members of the selected organization to the event with the chosen role (editor or viewer).')\n",
      "('EDIT', 'views/LandingPage.dart', 'Add a new tab for \"Organizations\" to the `BottomNavigationBar`.\\n    - Display the `OrganizationList` widget when this tab is selected.')\n",
      "('EDIT', 'models/AppModel.dart', \"Add a new property to the `DataModel` class:\\n    - `organizations`: List<Organization> (stores a list of organizations the user belongs to)\\n    - Add methods for:\\n        - Loading user's organizations from Firestore.\\n        - Saving user's organizations to Firestore.\")\n",
      "('EDIT', 'providers/Auth.dart', \"Modify the sign-up and sign-in methods to:\\n    - Initialize the user's `organizations` list in Firestore upon successful account creation or sign-in.\")\n"
     ]
    }
   ],
   "source": [
    "import re\n",
    "\n",
    "pattern  = re.compile(r'^\\d+\\.\\s*((?:.*\\n?)*?(?=\\n\\d+\\.|\\Z))', re.MULTILINE)\n",
    "md = extract_markdown_blocks(response)[0]\n",
    "lines = pattern.findall(md)\n",
    "actions = [(action[0].strip(), action[1].strip()[len(source.get_working_dir()) + 1:], action[2].strip()) for line in lines if (action := line.split('|'))]\n",
    "for action in actions:\n",
    "    print(action)"
   ]
  },
  {
   "cell_type": "markdown",
   "metadata": {},
   "source": [
    "## Batch Processing"
   ]
  },
  {
   "cell_type": "code",
   "execution_count": 66,
   "metadata": {},
   "outputs": [
    {
     "name": "stdout",
     "output_type": "stream",
     "text": [
      "[('WRITE', 'models/Organization.dart', 'Create a new class named `Organization` with the following properties:\\n    - `id`: String (backend-generated unique ID)\\n    - `name`: String\\n    - `teamNumber`: int\\n    - `profilePicture`: String? (optional URL for profile picture)\\n    - `description`: String? (optional description)\\n    - `location`: String? (optional location)'), ('WRITE', 'providers/OrganizationProvider.dart', 'Create a new provider named `OrganizationProvider` that:\\n    - Uses Firebase Firestore to store and manage organizations.\\n    - Provides methods for:\\n        - Creating a new organization.\\n        - Fetching an organization by ID.\\n        - Updating organization details.\\n        - Listing all organizations.\\n        - Joining an organization.\\n        - Leaving an organization.\\n        - Listing members of an organization.'), ('WRITE', 'views/organization/OrganizationList.dart', 'Create a new widget named `OrganizationList` that:\\n    - Displays a list of organizations using `OrganizationProvider`.\\n    - Allows users to search for organizations by name or team number.\\n    - Navigates to the `OrganizationView` when an organization is tapped.'), ('WRITE', 'views/organization/OrganizationView.dart', 'Create a new widget named `OrganizationView` that:\\n    - Displays details of a specific organization using `OrganizationProvider`.\\n    - Shows organization name, team number, profile picture, description, and location.\\n    - Lists members of the organization.\\n    - Allows the organization admin to:\\n        - Edit organization details.\\n        - Manage member roles (admin, member).\\n        - Remove members.\\n    - Allows members to:\\n        - Leave the organization.\\n        - Toggle their public listing preference.'), ('WRITE', 'views/organization/CreateOrganization.dart', 'Create a new widget named `CreateOrganization` that:\\n    - Allows users to create a new organization by providing name, team number, optional profile picture, description, and location.\\n    - Uses `OrganizationProvider` to create the organization in Firestore.')]\n",
      "[('EDIT', 'views/home/events/EventShare.dart', 'Add a new option to share an event with an organization.\\n    - When sharing an event, allow the user to select an organization from a dropdown list.\\n    - Automatically add all members of the selected organization to the event with the chosen role (editor or viewer).'), ('EDIT', 'views/LandingPage.dart', 'Add a new tab for \"Organizations\" to the `BottomNavigationBar`.\\n    - Display the `OrganizationList` widget when this tab is selected.'), ('EDIT', 'models/AppModel.dart', \"Add a new property to the `DataModel` class:\\n    - `organizations`: List<Organization> (stores a list of organizations the user belongs to)\\n    - Add methods for:\\n        - Loading user's organizations from Firestore.\\n        - Saving user's organizations to Firestore.\"), ('EDIT', 'providers/Auth.dart', \"Modify the sign-up and sign-in methods to:\\n    - Initialize the user's `organizations` list in Firestore upon successful account creation or sign-in.\")]\n"
     ]
    }
   ],
   "source": [
    "# We will group all consecutive actions (of identical type) together\n",
    "grouped = []\n",
    "current_group = [actions[0]]\n",
    "\n",
    "for i in range(1, len(actions)):\n",
    "    if actions[i][0] == current_group[-1][0]:\n",
    "        current_group.append(actions[i])\n",
    "    else:\n",
    "        grouped.append(current_group)\n",
    "        current_group = [actions[i]]\n",
    "\n",
    "grouped.append(current_group)\n",
    "for group in grouped:\n",
    "    print(group)"
   ]
  },
  {
   "cell_type": "markdown",
   "metadata": {},
   "source": [
    "## Identify Independant Actions"
   ]
  },
  {
   "cell_type": "code",
   "execution_count": 38,
   "metadata": {},
   "outputs": [],
   "source": [
    "for group in grouped:\n",
    "    for action, file, prompt in group:\n",
    "        if action == 'WRITE':\n",
    "            source_dependency_graph.add_node(file, content=prompt)\n",
    "        elif action == 'EDIT':\n",
    "            source_dependency_graph.add_node(file, content=prompt)\n",
    "        elif action == 'DELETE':\n",
    "            source_dependency_graph.remove_node(file)"
   ]
  }
 ],
 "metadata": {
  "kernelspec": {
   "display_name": "base",
   "language": "python",
   "name": "python3"
  },
  "language_info": {
   "codemirror_mode": {
    "name": "ipython",
    "version": 3
   },
   "file_extension": ".py",
   "mimetype": "text/x-python",
   "name": "python",
   "nbconvert_exporter": "python",
   "pygments_lexer": "ipython3",
   "version": "3.11.7"
  }
 },
 "nbformat": 4,
 "nbformat_minor": 2
}
