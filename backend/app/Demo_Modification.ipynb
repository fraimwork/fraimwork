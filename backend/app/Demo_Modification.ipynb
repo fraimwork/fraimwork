{
 "cells": [
  {
   "cell_type": "code",
   "execution_count": 2,
   "metadata": {},
   "outputs": [],
   "source": [
    "import datetime, time, math, os, json, shutil, asyncio, networkx as nx\n",
    "from utils.gitutils import create_pull_request, clone_repo, create_branch, wipe_repo, prepare_repo\n",
    "from utils.agent import Agent, GenerationConfig, Interaction, Team\n",
    "from utils.stringutils import arr_from_sep_string, extract_markdown_blocks, markdown_to_dict\n",
    "from utils.filetreeutils import FileTree, write_file_tree\n",
    "from utils.listutils import flatten\n",
    "from utils.frameworkutils import DartAnalyzer\n",
    "from dotenv import load_dotenv\n",
    "from utils.graphutils import loose_level_order, collapsed_level_order\n",
    "from utils.frameworkutils import Framework"
   ]
  },
  {
   "cell_type": "code",
   "execution_count": 3,
   "metadata": {},
   "outputs": [],
   "source": [
    "load_dotenv()  # Load environment variables from .env\n",
    "\n",
    "GITHUB_TOKEN = os.getenv('GITHUB_TOKEN')\n",
    "API_KEY = os.getenv('API_KEY')"
   ]
  },
  {
   "cell_type": "code",
   "execution_count": 4,
   "metadata": {},
   "outputs": [],
   "source": [
    "repo_url = 'https://github.com/6165-MSET-CuttleFish/TeamTrack'\n",
    "source = Framework.FLUTTER\n",
    "feature = f\"\"\"# Name: Organizations\n",
    "# Description: Organizations are a way to group users together. They can be used to automatically share events with the members of the organization whenever they are uploaded to the cloud. \\\n",
    "Organizations consist of a name, team number, and a backend-generated unique id. They can also have a profile picture, description, and location. \\\n",
    "Members can also opt to be publicly listed as a member of the organization or not. \\\n",
    "\"\"\""
   ]
  },
  {
   "cell_type": "code",
   "execution_count": 5,
   "metadata": {},
   "outputs": [],
   "source": [
    "# Clone the repo and make a new branch\n",
    "repo = clone_repo(repo_url)\n",
    "base_branch = repo.active_branch.name\n",
    "created_branch = f\"modification-{base_branch}\"\n",
    "local_repo_path = str(repo.working_dir)\n",
    "working_dir_path = f'{local_repo_path}\\\\{source.get_working_dir()}'"
   ]
  },
  {
   "cell_type": "code",
   "execution_count": 6,
   "metadata": {},
   "outputs": [],
   "source": [
    "source_swe_summarizer = Agent(\n",
    "    model_name=\"gemini-1.5-flash-001\",\n",
    "    api_key=API_KEY,\n",
    "    name=\"source_swe_analyzer\",\n",
    "    generation_config=GenerationConfig(temperature=0.7),\n",
    "    system_prompt=f'''You are a {source} software engineer. Your job is to summarize the functionality of provided code files. Structure your response as follows:\n",
    "\n",
    "# filename.ext:\n",
    "\n",
    "$7 sentence summary of the functionality/contents of the file$\n",
    "'''\n",
    ")\n",
    "\n",
    "pm = Agent(\n",
    "    model_name=\"gemini-1.5-flash-001\",\n",
    "    api_key=API_KEY,\n",
    "    name=\"pm\",\n",
    "    generation_config=GenerationConfig(temperature=0.7),\n",
    "    system_prompt=f\"\"\"You are a high-level technical project manager tasked with the project of adding functionality to a {source} repository. For each feature request, you must provided a numbered list of tasks that need to be completed. \\\n",
    "Format your response as follows: \\\n",
    "1. $ACTION$\n",
    "2. $ACTION$\n",
    "------------------\n",
    "You may choose ACTIONS from the following list:\n",
    "- ANALYZE $FILE_PATH$ (Analyze the provided file)\n",
    "- WRITE $PROMPT$ (Write code to fulfill the prompt)\n",
    "- EDIT $FILE_PATH$ | $PROMPT$ (Edit the provided file to fulfill the prompt)\n",
    "\"\"\"\n",
    ")\n",
    "\n",
    "source_swe_coder = Agent(\n",
    "    model_name=\"gemini-1.5-flash-001\",\n",
    "    api_key=API_KEY,\n",
    "    name=\"source_swe_coder\",\n",
    "    generation_config=GenerationConfig(temperature=0.7),\n",
    "    system_prompt=f'''You are a {source} software engineer. Your job is to write code to implement a specific feature. Respond with only code.'''\n",
    ")\n",
    "\n",
    "team = Team(source_swe_summarizer, pm, source_swe_coder)"
   ]
  },
  {
   "cell_type": "code",
   "execution_count": 7,
   "metadata": {},
   "outputs": [],
   "source": [
    "analyzer = source.get_analyzer(working_dir_path)\n",
    "\n",
    "source_dependency_graph = analyzer.buildDependencyGraph()"
   ]
  },
  {
   "cell_type": "code",
   "execution_count": 8,
   "metadata": {},
   "outputs": [
    {
     "name": "stdout",
     "output_type": "stream",
     "text": [
      "['models\\\\StatConfig.dart', 'models\\\\AppModel.dart']\n",
      "['models\\\\GameModel.dart']\n",
      "['models\\\\ScoreModel.dart']\n",
      "['functions\\\\Extensions.dart', 'components\\\\misc\\\\PlatformGraphics.dart']\n",
      "['components\\\\statistics\\\\BarGraph.dart', 'components\\\\users\\\\PFP.dart']\n",
      "['functions\\\\Statistics.dart', 'providers\\\\Auth.dart', 'components\\\\scores\\\\ScoreSummary.dart', 'components\\\\users\\\\UsersRow.dart', 'components\\\\scores\\\\Incrementor.dart']\n",
      "['views\\\\home\\\\match\\\\MatchView.dart']\n",
      "['components\\\\statistics\\\\PercentChange.dart', 'functions\\\\Functions.dart']\n",
      "['components\\\\scores\\\\ScoreRangeSummary.dart', 'models\\\\Change.dart', 'components\\\\scores\\\\ScoreTimeline.dart']\n",
      "['components\\\\statistics\\\\CheckList.dart', 'components\\\\misc\\\\EmptyList.dart', 'views\\\\home\\\\change\\\\ChangeConfig.dart', 'components\\\\misc\\\\CardView.dart', 'views\\\\home\\\\change\\\\ChangeRow.dart', 'views\\\\home\\\\match\\\\MatchRow.dart', 'views\\\\home\\\\match\\\\MatchConfig.dart', 'components\\\\scores\\\\ScoringElementStats.dart', 'views\\\\home\\\\match\\\\ExampleMatchRow.dart']\n",
      "['views\\\\home\\\\change\\\\ChangeList.dart', 'components\\\\misc\\\\Collapsible.dart', 'components\\\\AutonomousDrawingTool.dart', 'views\\\\home\\\\match\\\\MatchList.dart', 'components\\\\scores\\\\ScoreCard.dart']\n",
      "['views\\\\home\\\\team\\\\AutonDrawer.dart']\n",
      "['views\\\\home\\\\team\\\\ExampleTeamRow.dart', 'views\\\\home\\\\team\\\\TeamView.dart', 'views\\\\home\\\\util\\\\Permissions.dart', 'views\\\\home\\\\team\\\\TeamRow.dart']\n",
      "['views\\\\home\\\\team\\\\TeamList.dart', 'views\\\\home\\\\events\\\\EventShare.dart', 'functions\\\\APIMethods.dart']\n",
      "['views\\\\auth\\\\SignUpScreen.dart', 'views\\\\home\\\\events\\\\EventView.dart']\n",
      "['views\\\\templates\\\\TemplatesList.dart', 'providers\\\\PushNotifications.dart', 'views\\\\auth\\\\Login.dart', 'views\\\\inbox\\\\BlockList.dart', 'views\\\\inbox\\\\Inbox.dart', 'views\\\\home\\\\events\\\\EventsList.dart', 'providers\\\\Theme.dart']\n",
      "['views\\\\LandingPage.dart']\n",
      "['models\\\\GPTModel.dart', 'views\\\\auth\\\\AuthenticationWrapper.dart']\n",
      "['views\\\\home\\\\team\\\\AllianceSelection.dart', 'providers\\\\UserPresence.dart', 'views\\\\auth\\\\Verify.dart', 'views\\\\home\\\\team\\\\AllianceSimulator.dart', 'views\\\\home\\\\team\\\\TeamAllianceRecommend.dart', 'views\\\\home\\\\team\\\\TeamRowAlliance.dart', 'functions\\\\GPTModel.dart', 'views\\\\home\\\\events\\\\ImageView.dart', 'api\\\\README.MD', 'views\\\\home\\\\events\\\\CameraView.dart', 'components\\\\misc\\\\InfoPills.dart', 'functions\\\\ResponseModel.dart', 'main.dart', 'views\\\\templates\\\\TemplateView.dart']\n",
      "Number of levels: 19\n"
     ]
    }
   ],
   "source": [
    "# loose level order\n",
    "eval_order = loose_level_order(source_dependency_graph)[::-1]\n",
    "for level in eval_order:\n",
    "    print(level)\n",
    "print(f\"Number of levels: {len(eval_order)}\")"
   ]
  },
  {
   "cell_type": "code",
   "execution_count": 9,
   "metadata": {},
   "outputs": [
    {
     "data": {
      "text/plain": [
       "├── api\\\n",
       "│   ├── README.MD\n",
       "├── components\\\n",
       "│   ├── misc\\\n",
       "│   │   ├── CardView.dart\n",
       "│   │   ├── Collapsible.dart\n",
       "│   │   ├── EmptyList.dart\n",
       "│   │   ├── InfoPills.dart\n",
       "│   │   ├── PlatformGraphics.dart\n",
       "│   ├── scores\\\n",
       "│   │   ├── Incrementor.dart\n",
       "│   │   ├── ScoreCard.dart\n",
       "│   │   ├── ScoreRangeSummary.dart\n",
       "│   │   ├── ScoreSummary.dart\n",
       "│   │   ├── ScoreTimeline.dart\n",
       "│   │   ├── ScoringElementStats.dart\n",
       "│   ├── statistics\\\n",
       "│   │   ├── BarGraph.dart\n",
       "│   │   ├── CheckList.dart\n",
       "│   │   ├── PercentChange.dart\n",
       "│   ├── users\\\n",
       "│   │   ├── PFP.dart\n",
       "│   │   ├── UsersRow.dart\n",
       "│   ├── AutonomousDrawingTool.dart\n",
       "├── functions\\\n",
       "│   ├── APIMethods.dart\n",
       "│   ├── Extensions.dart\n",
       "│   ├── Functions.dart\n",
       "│   ├── GPTModel.dart\n",
       "│   ├── ResponseModel.dart\n",
       "│   ├── Statistics.dart\n",
       "├── models\\\n",
       "│   ├── AppModel.dart\n",
       "│   ├── Change.dart\n",
       "│   ├── GameModel.dart\n",
       "│   ├── GPTModel.dart\n",
       "│   ├── ScoreModel.dart\n",
       "│   ├── StatConfig.dart\n",
       "├── providers\\\n",
       "│   ├── Auth.dart\n",
       "│   ├── PushNotifications.dart\n",
       "│   ├── Theme.dart\n",
       "│   ├── UserPresence.dart\n",
       "├── views\\\n",
       "│   ├── auth\\\n",
       "│   │   ├── AuthenticationWrapper.dart\n",
       "│   │   ├── Login.dart\n",
       "│   │   ├── SignUpScreen.dart\n",
       "│   │   ├── Verify.dart\n",
       "│   ├── home\\\n",
       "│   │   ├── change\\\n",
       "│   │   │   ├── ChangeConfig.dart\n",
       "│   │   │   ├── ChangeList.dart\n",
       "│   │   │   ├── ChangeRow.dart\n",
       "│   │   ├── events\\\n",
       "│   │   │   ├── CameraView.dart\n",
       "│   │   │   ├── EventShare.dart\n",
       "│   │   │   ├── EventsList.dart\n",
       "│   │   │   ├── EventView.dart\n",
       "│   │   │   ├── ImageView.dart\n",
       "│   │   ├── match\\\n",
       "│   │   │   ├── ExampleMatchRow.dart\n",
       "│   │   │   ├── MatchConfig.dart\n",
       "│   │   │   ├── MatchList.dart\n",
       "│   │   │   ├── MatchRow.dart\n",
       "│   │   │   ├── MatchView.dart\n",
       "│   │   ├── team\\\n",
       "│   │   │   ├── AllianceSelection.dart\n",
       "│   │   │   ├── AllianceSimulator.dart\n",
       "│   │   │   ├── AutonDrawer.dart\n",
       "│   │   │   ├── ExampleTeamRow.dart\n",
       "│   │   │   ├── TeamAllianceRecommend.dart\n",
       "│   │   │   ├── TeamList.dart\n",
       "│   │   │   ├── TeamRow.dart\n",
       "│   │   │   ├── TeamRowAlliance.dart\n",
       "│   │   │   ├── TeamView.dart\n",
       "│   │   ├── util\\\n",
       "│   │   │   ├── Permissions.dart\n",
       "│   ├── inbox\\\n",
       "│   │   ├── BlockList.dart\n",
       "│   │   ├── Inbox.dart\n",
       "│   ├── templates\\\n",
       "│   │   ├── TemplatesList.dart\n",
       "│   │   ├── TemplateView.dart\n",
       "│   ├── LandingPage.dart\n",
       "├── main.dart"
      ]
     },
     "execution_count": 9,
     "metadata": {},
     "output_type": "execute_result"
    }
   ],
   "source": [
    "(source_file_tree := FileTree.from_dir(working_dir_path))"
   ]
  },
  {
   "cell_type": "code",
   "execution_count": 11,
   "metadata": {},
   "outputs": [
    {
     "name": "stderr",
     "output_type": "stream",
     "text": [
      "100%|██████████| 19/19 [01:23<00:00,  4.41s/it]\n"
     ]
    }
   ],
   "source": [
    "# Summarize the original repo\n",
    "from tqdm import tqdm\n",
    "\n",
    "async def summarize_group(group):\n",
    "    async def summarize(node):\n",
    "        name = source_file_tree.nodes[node]['name']\n",
    "        content = source_file_tree.nodes[node]['content']\n",
    "        message = f\"{name}\\n```\\n{content}\\n```\"\n",
    "        return await team.async_chat_with_agent(\n",
    "            agent_name='source_swe_analyzer',\n",
    "            message=message,\n",
    "            context_keys=[f\"summary_{neighbor}\" for neighbor in source_dependency_graph[node]],\n",
    "            save_keys=[f\"summary_{node}\", \"all\"],\n",
    "            prompt_title=f\"Summary of {node}\"\n",
    "            )\n",
    "    tasks = [summarize(node) for node in group]\n",
    "    responses = await asyncio.gather(*tasks)\n",
    "    for i, response in enumerate(responses):\n",
    "        source_file_tree.nodes[group[i]][\"summary\"] = response\n",
    "\n",
    "for level in tqdm(eval_order):\n",
    "    await summarize_group(level)\n",
    "    time.sleep(0.5)"
   ]
  },
  {
   "cell_type": "code",
   "execution_count": 12,
   "metadata": {},
   "outputs": [
    {
     "data": {
      "text/plain": [
       "'The Framework.FLUTTER repository implements a comprehensive mobile application for managing and analyzing data related to FTC robotics competitions. \\n\\n**Core Features:**\\n\\n- **Event Management:**\\n    - Create, edit, and delete local events.\\n    - Share events with other users and manage their permissions.\\n    - Import match data from images using image processing and text recognition.\\n    - Fetch and display data from the The Orange Alliance (TOA) API.\\n\\n- **Team Management:**\\n    - View and analyze team performance based on various statistics.\\n    - Sort teams based on different criteria like score, rank, and operational mode.\\n    - Generate AI-driven recommendations for alliance selection using a GPT model.\\n    - Draw and save autonomous paths for teams.\\n\\n- **Match Management:**\\n    - View and manage match details, including scores, alliances, and active users.\\n    - Create new matches and delete existing ones.\\n    - Configure match settings like penalties and alliance totals.\\n\\n- **User Authentication:**\\n    - Sign in and sign up using email/password, Google, or anonymously.\\n    - Manage user profiles and permissions.\\n    - Track user presence across Firebase Realtime Database and Cloud Firestore.\\n\\n- **Push Notifications:**\\n    - Send and receive push notifications related to event invitations and other updates.\\n\\n- **Data Storage:**\\n    - Store and retrieve event data, user information, and statistics using Firebase Realtime Database and Cloud Firestore.\\n\\n- **UI Design:**\\n    - Implement a user-friendly interface with platform-specific widgets for a consistent experience across Android, iOS, and web platforms.\\n    - Utilize various UI elements like lists, cards, charts, and progress indicators.\\n\\n- **AI Integration:**\\n    - Integrate with ChatGPT API to provide AI-driven insights and recommendations for alliance selection.\\n\\n**Overall, the Framework.FLUTTER repository provides a robust and feature-rich platform for managing FTC robotics competition data, enabling users to analyze team performance, optimize alliance formation, and effectively manage events.** \\n'"
      ]
     },
     "execution_count": 12,
     "metadata": {},
     "output_type": "execute_result"
    }
   ],
   "source": [
    "prompt = f\"\"\"This is the file tree for the original {source} repo:\n",
    "```\n",
    "{source.get_working_dir()}\\\\\n",
    "{source_file_tree}\n",
    "```\n",
    "Given the prior context, summarize the functionality of the entire repository succinctly.\n",
    "\"\"\"\n",
    "team.chat_with_agent('source_swe_analyzer', prompt, context_keys=[\"all\"], save_keys=[\"all\"], prompt_title=f\"\"\"Repository Summary.\n",
    "File Tree provided:\n",
    "```\n",
    "{source.get_working_dir()}\\\\\n",
    "{source_file_tree}\n",
    "```\n",
    "\"\"\")"
   ]
  },
  {
   "cell_type": "code",
   "execution_count": 13,
   "metadata": {},
   "outputs": [
    {
     "data": {
      "text/plain": [
       "20646"
      ]
     },
     "execution_count": 13,
     "metadata": {},
     "output_type": "execute_result"
    }
   ],
   "source": [
    "curr_string = '\\n'.join([message['parts'][0] for interaction in team.context_threads['all'] for message in interaction.to_dict()])\n",
    "(curr_tokens := pm.model.count_tokens(curr_string).total_tokens)"
   ]
  },
  {
   "cell_type": "code",
   "execution_count": 14,
   "metadata": {},
   "outputs": [
    {
     "data": {
      "text/plain": [
       "123056"
      ]
     },
     "execution_count": 14,
     "metadata": {},
     "output_type": "execute_result"
    }
   ],
   "source": [
    "would_be_string = '\\n'.join([source_file_tree.nodes[node]['content'] for node in source_dependency_graph.nodes])\n",
    "(would_be_tokens := pm.model.count_tokens(would_be_string).total_tokens)"
   ]
  },
  {
   "cell_type": "code",
   "execution_count": 15,
   "metadata": {},
   "outputs": [
    {
     "data": {
      "text/plain": [
       "0.8322227278637369"
      ]
     },
     "execution_count": 15,
     "metadata": {},
     "output_type": "execute_result"
    }
   ],
   "source": [
    "(percent_tokens_reduction := 1 - (curr_tokens / would_be_tokens))"
   ]
  },
  {
   "cell_type": "markdown",
   "metadata": {},
   "source": [
    "## Context Caching"
   ]
  },
  {
   "cell_type": "code",
   "execution_count": 16,
   "metadata": {},
   "outputs": [
    {
     "data": {
      "text/plain": [
       "20646"
      ]
     },
     "execution_count": 16,
     "metadata": {},
     "output_type": "execute_result"
    }
   ],
   "source": [
    "pm.model.count_tokens('\\n'.join(message['parts'][0] for interaction in team.context_threads['all'] for message in interaction.to_dict())).total_tokens"
   ]
  },
  {
   "cell_type": "code",
   "execution_count": 17,
   "metadata": {},
   "outputs": [
    {
     "data": {
      "text/plain": [
       "41164"
      ]
     },
     "execution_count": 17,
     "metadata": {},
     "output_type": "execute_result"
    }
   ],
   "source": [
    "# Cache the context threads\n",
    "factor = 32768 / pm.model.count_tokens('\\n'.join(message['parts'][0] for interaction in team.context_threads['all'] for message in interaction.to_dict())).total_tokens\n",
    "# eg. if factor is 3.2, round to 4\n",
    "factor = math.ceil(factor)\n",
    "team.context_threads['all'] *= factor\n",
    "pm.model.count_tokens('\\n'.join(message['parts'][0] for interaction in team.context_threads['all'] for message in interaction.to_dict())).total_tokens"
   ]
  },
  {
   "cell_type": "code",
   "execution_count": 18,
   "metadata": {},
   "outputs": [],
   "source": [
    "pm.cache_context(team.context_threads['all'], ttl=datetime.timedelta(minutes=5))"
   ]
  },
  {
   "cell_type": "code",
   "execution_count": 19,
   "metadata": {},
   "outputs": [],
   "source": [
    "# Create new file tree\n",
    "prompt = f'''\n",
    "You are to build the following feature:\n",
    "{feature}\n",
    "'''\n",
    "response = pm.chat(prompt)"
   ]
  },
  {
   "cell_type": "code",
   "execution_count": 20,
   "metadata": {},
   "outputs": [
    {
     "data": {
      "text/plain": [
       "'Okay, here\\'s a breakdown of how to implement the \"Organizations\" feature, along with the necessary code snippets and explanations:\\n\\n**1. Data Model:**\\n\\n```dart\\nclass Organization {\\n  String id;\\n  String name;\\n  int teamNumber;\\n  String? profilePictureUrl;\\n  String? description;\\n  String? location;\\n\\n  Organization({\\n    required this.id,\\n    required this.name,\\n    required this.teamNumber,\\n    this.profilePictureUrl,\\n    this.description,\\n    this.location,\\n  });\\n\\n  // Constructor to create an Organization from a Map (for Firebase)\\n  factory Organization.fromJson(Map<String, dynamic> json) {\\n    return Organization(\\n      id: json[\\'id\\'],\\n      name: json[\\'name\\'],\\n      teamNumber: json[\\'teamNumber\\'],\\n      profilePictureUrl: json[\\'profilePictureUrl\\'],\\n      description: json[\\'description\\'],\\n      location: json[\\'location\\'],\\n    );\\n  }\\n\\n  // Method to convert Organization to Map (for Firebase)\\n  Map<String, dynamic> toJson() {\\n    return {\\n      \\'id\\': id,\\n      \\'name\\': name,\\n      \\'teamNumber\\': teamNumber,\\n      \\'profilePictureUrl\\': profilePictureUrl,\\n      \\'description\\': description,\\n      \\'location\\': location,\\n    };\\n  }\\n}\\n```\\n\\n**2. Firebase Integration:**\\n\\n* **Collection:** Create a new collection in Firebase Firestore named `organizations`.\\n* **Document Structure:**\\n   ```json\\n   {\\n     \"id\": \"unique_organization_id\",\\n     \"name\": \"Organization Name\",\\n     \"teamNumber\": 1234,\\n     \"profilePictureUrl\": \"https://example.com/profile_pic.jpg\",\\n     \"description\": \"This is an organization...\",\\n     \"location\": \"City, State\"\\n   }\\n   ```\\n\\n* **CRUD Operations:**\\n    - **Create:** Create a new document in the `organizations` collection with the `Organization` data.\\n    - **Read:** Fetch all organizations or a specific organization by its ID using `getDocs` or `doc` methods.\\n    - **Update:** Update an existing organization by its ID using the `update` method.\\n    - **Delete:** Delete an organization by its ID using the `delete` method.\\n\\n**3. User Management:**\\n\\n* **Organization Members:** Create a sub-collection named `members` within each organization document in Firestore.\\n   - Each document in this sub-collection represents a member:\\n     ```json\\n     {\\n       \"userId\": \"user_id\",\\n       \"public\": true // true if user wants to be publicly listed\\n     }\\n     ```\\n* **CRUD Operations:**\\n    - **Add Member:** Add a new document to the `members` sub-collection, providing the `userId` and `public` flag.\\n    - **Remove Member:** Delete the member document by the `userId` from the `members` sub-collection.\\n    - **Update Member Status:** Update the `public` field in the member document.\\n\\n**4. Event Sharing:**\\n\\n* **Cloud Function:** Create a Cloud Function triggered by the `onCreate` event for the `events` collection in Firestore.\\n* **Function Logic:**\\n    1. Get the organization ID from the event document.\\n    2. Retrieve all members of the organization from the `organizations` collection.\\n    3. For each member who has opted for public listing, fetch their user information.\\n    4. Update the event document to include these users as \"sharedWith\" members, giving them read access to the event.\\n\\n**5. UI Implementation:**\\n\\n- **Organization Creation:**\\n    - Add a screen or dialog to allow users to create new organizations.\\n    - Include input fields for name, team number, optional profile picture, description, and location.\\n    - Implement validation for input fields.\\n    - Allow users to select a profile picture from the device or upload from the cloud.\\n    - Save the new organization to the Firebase `organizations` collection.\\n- **Organization List:**\\n    - Display a list of organizations the user belongs to.\\n    - Show the organization\\'s name, team number, and profile picture (if available).\\n    - Allow users to view details of an organization.\\n- **Organization Details:**\\n    - Display the organization\\'s name, team number, profile picture, description, and location.\\n    - List the members of the organization, optionally filtering by public members.\\n    - Allow users to manage their membership (view details, leave the organization).\\n    - For admins, allow managing members (adding, removing, editing roles).\\n- **Event Sharing:**\\n    - When uploading an event to Firebase, check if the event is associated with an organization.\\n    - If yes, automatically share the event with the organization\\'s public members using the cloud function described above.\\n\\n**6. Additional Considerations:**\\n\\n* **User Roles:** Design a role system (admin, member) for organizations, allowing different levels of access and control.\\n* **Search and Filter:** Implement search and filtering capabilities for organizations, teams, and events.\\n* **Privacy Settings:** Allow users to customize their privacy settings within organizations, controlling whether they are publicly listed as a member.\\n* **Notifications:** Send notifications to members when new events are shared within their organization.\\n\\n**Code Snippets (Example):**\\n\\n```dart\\n// Firebase Cloud Function to share events\\nexports.onEventCreated = functions.firestore\\n    .document(\\'events/{eventId}\\')\\n    .onCreate((snapshot, context) async {\\n      // Get the organization ID from the event data\\n      String organizationId = snapshot.data()![\\'organizationId\\'];\\n\\n      // Retrieve organization members\\n      DocumentSnapshot organizationDoc = await admin.firestore()\\n          .collection(\\'organizations\\')\\n          .doc(organizationId)\\n          .get();\\n      List<dynamic> members = organizationDoc.data()![\\'members\\'];\\n\\n      // Fetch users who have opted for public listing\\n      List<String> userIds = [];\\n      for (var member in members) {\\n        if (member[\\'public\\'] == true) {\\n          userIds.add(member[\\'userId\\']);\\n        }\\n      }\\n\\n      // Fetch user details for public members\\n      List<Map<String, dynamic>> users = [];\\n      for (var userId in userIds) {\\n        DocumentSnapshot userDoc = await admin.firestore()\\n            .collection(\\'users\\')\\n            .doc(userId)\\n            .get();\\n        users.add(userDoc.data()!);\\n      }\\n\\n      // Update the event to include shared users\\n      await snapshot.ref.update({\\'sharedWith\\': users});\\n});\\n```\\n\\nRemember to test your implementation thoroughly and include error handling for robust functionality. \\n'"
      ]
     },
     "execution_count": 20,
     "metadata": {},
     "output_type": "execute_result"
    }
   ],
   "source": [
    "response"
   ]
  }
 ],
 "metadata": {
  "kernelspec": {
   "display_name": "base",
   "language": "python",
   "name": "python3"
  },
  "language_info": {
   "codemirror_mode": {
    "name": "ipython",
    "version": 3
   },
   "file_extension": ".py",
   "mimetype": "text/x-python",
   "name": "python",
   "nbconvert_exporter": "python",
   "pygments_lexer": "ipython3",
   "version": "3.11.7"
  }
 },
 "nbformat": 4,
 "nbformat_minor": 2
}
