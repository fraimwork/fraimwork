{
 "cells": [
  {
   "cell_type": "code",
   "execution_count": 1,
   "metadata": {},
   "outputs": [],
   "source": [
    "import datetime, time, math, os, json, shutil, asyncio, networkx as nx\n",
    "from utils.gitutils import create_pull_request, clone_repo, create_branch, wipe_repo, prepare_repo\n",
    "from utils.agent import Agent, GenerationConfig, Interaction, Team\n",
    "from utils.stringutils import arr_from_sep_string, extract_markdown_blocks, markdown_to_dict\n",
    "from utils.filetreeutils import FileTree, write_file_tree\n",
    "from utils.listutils import flatten\n",
    "from utils.frameworkutils import DartAnalyzer\n",
    "from dotenv import load_dotenv\n",
    "from utils.graphutils import loose_level_order, collapsed_level_order\n",
    "from utils.frameworkutils import Framework"
   ]
  },
  {
   "cell_type": "code",
   "execution_count": 2,
   "metadata": {},
   "outputs": [],
   "source": [
    "load_dotenv()  # Load environment variables from .env\n",
    "\n",
    "GITHUB_TOKEN = os.getenv('GITHUB_TOKEN')\n",
    "API_KEY = os.getenv('API_KEY')"
   ]
  },
  {
   "cell_type": "code",
   "execution_count": 3,
   "metadata": {},
   "outputs": [],
   "source": [
    "repo_url = 'https://github.com/6165-MSET-CuttleFish/TeamTrack'\n",
    "source = Framework.FLUTTER\n",
    "feature = f\"\"\"# Name: Organizations\n",
    "# Description: Organizations are a way to group users together. They can be used to automatically share events with the members of the organization whenever they are uploaded to the cloud. \\\n",
    "Organizations consist of a name, team number, and a backend-generated unique id. They can also have a profile picture, description, and location. \\\n",
    "Members can also opt to be publicly listed as a member of the organization or not. \\\n",
    "\"\"\""
   ]
  },
  {
   "cell_type": "code",
   "execution_count": 4,
   "metadata": {},
   "outputs": [],
   "source": [
    "# Clone the repo and make a new branch\n",
    "repo = clone_repo(repo_url)\n",
    "base_branch = repo.active_branch.name\n",
    "created_branch = f\"modification-{base_branch}\"\n",
    "local_repo_path = str(repo.working_dir)\n",
    "working_dir_path = f'{local_repo_path}\\\\{source.get_working_dir()}'"
   ]
  },
  {
   "cell_type": "code",
   "execution_count": 5,
   "metadata": {},
   "outputs": [],
   "source": [
    "source_swe_summarizer = Agent(\n",
    "    model_name=\"gemini-1.5-flash-001\",\n",
    "    api_key=API_KEY,\n",
    "    name=\"source_swe_analyzer\",\n",
    "    generation_config=GenerationConfig(temperature=0.7),\n",
    "    system_prompt=f'''You are a {source} software engineer. Your job is to summarize the functionality of provided code files. Structure your response as follows:\n",
    "\n",
    "# filename.ext:\n",
    "\n",
    "$7 sentence summary of the functionality/contents of the file$\n",
    "'''\n",
    ")\n",
    "\n",
    "pm = Agent(\n",
    "    model_name=\"gemini-1.5-pro-001\",\n",
    "    api_key=API_KEY,\n",
    "    name=\"pm\",\n",
    "    generation_config=GenerationConfig(temperature=0.3),\n",
    "    system_prompt=f\"\"\"You are a high-level technical project manager tasked with the project of adding functionality to a {source} repository.\"\"\"\n",
    ")\n",
    "\n",
    "source_swe_coder = Agent(\n",
    "    model_name=\"gemini-1.5-flash-001\",\n",
    "    api_key=API_KEY,\n",
    "    name=\"source_swe_coder\",\n",
    "    generation_config=GenerationConfig(temperature=0.7),\n",
    "    system_prompt=f\"You are a {source} software engineer. Your job is to write code to implement a specific feature. Respond with code and nothing else. No explanations needed.\"\n",
    ")\n",
    "\n",
    "team = Team(source_swe_summarizer, pm, source_swe_coder)"
   ]
  },
  {
   "cell_type": "code",
   "execution_count": 6,
   "metadata": {},
   "outputs": [],
   "source": [
    "analyzer = source.get_analyzer(working_dir_path)\n",
    "\n",
    "source_dependency_graph = analyzer.buildDependencyGraph()"
   ]
  },
  {
   "cell_type": "code",
   "execution_count": 7,
   "metadata": {},
   "outputs": [
    {
     "name": "stdout",
     "output_type": "stream",
     "text": [
      "['models\\\\AppModel.dart', 'models\\\\StatConfig.dart']\n",
      "['models\\\\GameModel.dart']\n",
      "['models\\\\ScoreModel.dart']\n",
      "['functions\\\\Extensions.dart', 'components\\\\misc\\\\PlatformGraphics.dart']\n",
      "['components\\\\statistics\\\\BarGraph.dart', 'components\\\\users\\\\PFP.dart']\n",
      "['functions\\\\Statistics.dart', 'providers\\\\Auth.dart', 'components\\\\scores\\\\ScoreSummary.dart', 'components\\\\users\\\\UsersRow.dart', 'components\\\\scores\\\\Incrementor.dart']\n",
      "['views\\\\home\\\\match\\\\MatchView.dart']\n",
      "['functions\\\\Functions.dart', 'components\\\\statistics\\\\PercentChange.dart']\n",
      "['components\\\\scores\\\\ScoreRangeSummary.dart', 'models\\\\Change.dart', 'components\\\\scores\\\\ScoreTimeline.dart']\n",
      "['views\\\\home\\\\match\\\\MatchRow.dart', 'components\\\\misc\\\\CardView.dart', 'components\\\\statistics\\\\CheckList.dart', 'views\\\\home\\\\match\\\\MatchConfig.dart', 'views\\\\home\\\\match\\\\ExampleMatchRow.dart', 'views\\\\home\\\\change\\\\ChangeConfig.dart', 'components\\\\scores\\\\ScoringElementStats.dart', 'views\\\\home\\\\change\\\\ChangeRow.dart', 'components\\\\misc\\\\EmptyList.dart']\n",
      "['views\\\\home\\\\match\\\\MatchList.dart', 'views\\\\home\\\\change\\\\ChangeList.dart', 'components\\\\scores\\\\ScoreCard.dart', 'components\\\\misc\\\\Collapsible.dart', 'components\\\\AutonomousDrawingTool.dart']\n",
      "['views\\\\home\\\\team\\\\AutonDrawer.dart']\n",
      "['views\\\\home\\\\util\\\\Permissions.dart', 'views\\\\home\\\\team\\\\ExampleTeamRow.dart', 'views\\\\home\\\\team\\\\TeamRow.dart', 'views\\\\home\\\\team\\\\TeamView.dart']\n",
      "['functions\\\\APIMethods.dart', 'views\\\\home\\\\events\\\\EventShare.dart', 'views\\\\home\\\\team\\\\TeamList.dart']\n",
      "['views\\\\auth\\\\SignUpScreen.dart', 'views\\\\home\\\\events\\\\EventView.dart']\n",
      "['views\\\\auth\\\\Login.dart', 'views\\\\inbox\\\\Inbox.dart', 'providers\\\\PushNotifications.dart', 'providers\\\\Theme.dart', 'views\\\\templates\\\\TemplatesList.dart', 'views\\\\inbox\\\\BlockList.dart', 'views\\\\home\\\\events\\\\EventsList.dart']\n",
      "['views\\\\LandingPage.dart']\n",
      "['models\\\\GPTModel.dart', 'views\\\\auth\\\\AuthenticationWrapper.dart']\n",
      "['views\\\\home\\\\events\\\\ImageView.dart', 'views\\\\templates\\\\TemplateView.dart', 'views\\\\home\\\\team\\\\AllianceSimulator.dart', 'views\\\\home\\\\team\\\\TeamRowAlliance.dart', 'views\\\\home\\\\team\\\\TeamAllianceRecommend.dart', 'views\\\\home\\\\events\\\\CameraView.dart', 'main.dart', 'functions\\\\GPTModel.dart', 'providers\\\\UserPresence.dart', 'views\\\\home\\\\team\\\\AllianceSelection.dart', 'api\\\\README.MD', 'views\\\\auth\\\\Verify.dart', 'components\\\\misc\\\\InfoPills.dart', 'functions\\\\ResponseModel.dart']\n",
      "Number of levels: 19\n"
     ]
    }
   ],
   "source": [
    "# loose level order\n",
    "eval_order = loose_level_order(source_dependency_graph)[::-1]\n",
    "for level in eval_order:\n",
    "    print(level)\n",
    "print(f\"Number of levels: {len(eval_order)}\")"
   ]
  },
  {
   "cell_type": "code",
   "execution_count": 8,
   "metadata": {},
   "outputs": [
    {
     "data": {
      "text/plain": [
       "├── api\\\n",
       "│   ├── README.MD\n",
       "├── components\\\n",
       "│   ├── misc\\\n",
       "│   │   ├── CardView.dart\n",
       "│   │   ├── Collapsible.dart\n",
       "│   │   ├── EmptyList.dart\n",
       "│   │   ├── InfoPills.dart\n",
       "│   │   ├── PlatformGraphics.dart\n",
       "│   ├── scores\\\n",
       "│   │   ├── Incrementor.dart\n",
       "│   │   ├── ScoreCard.dart\n",
       "│   │   ├── ScoreRangeSummary.dart\n",
       "│   │   ├── ScoreSummary.dart\n",
       "│   │   ├── ScoreTimeline.dart\n",
       "│   │   ├── ScoringElementStats.dart\n",
       "│   ├── statistics\\\n",
       "│   │   ├── BarGraph.dart\n",
       "│   │   ├── CheckList.dart\n",
       "│   │   ├── PercentChange.dart\n",
       "│   ├── users\\\n",
       "│   │   ├── PFP.dart\n",
       "│   │   ├── UsersRow.dart\n",
       "│   ├── AutonomousDrawingTool.dart\n",
       "├── functions\\\n",
       "│   ├── APIMethods.dart\n",
       "│   ├── Extensions.dart\n",
       "│   ├── Functions.dart\n",
       "│   ├── GPTModel.dart\n",
       "│   ├── ResponseModel.dart\n",
       "│   ├── Statistics.dart\n",
       "├── models\\\n",
       "│   ├── AppModel.dart\n",
       "│   ├── Change.dart\n",
       "│   ├── GameModel.dart\n",
       "│   ├── GPTModel.dart\n",
       "│   ├── ScoreModel.dart\n",
       "│   ├── StatConfig.dart\n",
       "├── providers\\\n",
       "│   ├── Auth.dart\n",
       "│   ├── PushNotifications.dart\n",
       "│   ├── Theme.dart\n",
       "│   ├── UserPresence.dart\n",
       "├── views\\\n",
       "│   ├── auth\\\n",
       "│   │   ├── AuthenticationWrapper.dart\n",
       "│   │   ├── Login.dart\n",
       "│   │   ├── SignUpScreen.dart\n",
       "│   │   ├── Verify.dart\n",
       "│   ├── home\\\n",
       "│   │   ├── change\\\n",
       "│   │   │   ├── ChangeConfig.dart\n",
       "│   │   │   ├── ChangeList.dart\n",
       "│   │   │   ├── ChangeRow.dart\n",
       "│   │   ├── events\\\n",
       "│   │   │   ├── CameraView.dart\n",
       "│   │   │   ├── EventShare.dart\n",
       "│   │   │   ├── EventsList.dart\n",
       "│   │   │   ├── EventView.dart\n",
       "│   │   │   ├── ImageView.dart\n",
       "│   │   ├── match\\\n",
       "│   │   │   ├── ExampleMatchRow.dart\n",
       "│   │   │   ├── MatchConfig.dart\n",
       "│   │   │   ├── MatchList.dart\n",
       "│   │   │   ├── MatchRow.dart\n",
       "│   │   │   ├── MatchView.dart\n",
       "│   │   ├── team\\\n",
       "│   │   │   ├── AllianceSelection.dart\n",
       "│   │   │   ├── AllianceSimulator.dart\n",
       "│   │   │   ├── AutonDrawer.dart\n",
       "│   │   │   ├── ExampleTeamRow.dart\n",
       "│   │   │   ├── TeamAllianceRecommend.dart\n",
       "│   │   │   ├── TeamList.dart\n",
       "│   │   │   ├── TeamRow.dart\n",
       "│   │   │   ├── TeamRowAlliance.dart\n",
       "│   │   │   ├── TeamView.dart\n",
       "│   │   ├── util\\\n",
       "│   │   │   ├── Permissions.dart\n",
       "│   ├── inbox\\\n",
       "│   │   ├── BlockList.dart\n",
       "│   │   ├── Inbox.dart\n",
       "│   ├── templates\\\n",
       "│   │   ├── TemplatesList.dart\n",
       "│   │   ├── TemplateView.dart\n",
       "│   ├── LandingPage.dart\n",
       "├── main.dart"
      ]
     },
     "execution_count": 8,
     "metadata": {},
     "output_type": "execute_result"
    }
   ],
   "source": [
    "(source_file_tree := FileTree.from_dir(working_dir_path))"
   ]
  },
  {
   "cell_type": "code",
   "execution_count": 9,
   "metadata": {},
   "outputs": [
    {
     "name": "stderr",
     "output_type": "stream",
     "text": [
      "  0%|          | 0/19 [00:00<?, ?it/s]"
     ]
    },
    {
     "name": "stderr",
     "output_type": "stream",
     "text": [
      "100%|██████████| 19/19 [01:20<00:00,  4.24s/it]\n"
     ]
    }
   ],
   "source": [
    "# Summarize the original repo\n",
    "from tqdm import tqdm\n",
    "\n",
    "async def summarize_group(group):\n",
    "    async def summarize(node):\n",
    "        name = source_file_tree.nodes[node]['name']\n",
    "        content = source_file_tree.nodes[node]['content']\n",
    "        message = f\"{name}\\n```\\n{content}\\n```\"\n",
    "        return await team.async_chat_with_agent(\n",
    "            agent_name='source_swe_analyzer',\n",
    "            message=message,\n",
    "            context_keys=[f\"summary_{neighbor}\" for neighbor in source_dependency_graph[node]],\n",
    "            save_keys=[f\"summary_{node}\", \"all\"],\n",
    "            prompt_title=f\"Summary of {node}\"\n",
    "            )\n",
    "    tasks = [summarize(node) for node in group]\n",
    "    responses = await asyncio.gather(*tasks)\n",
    "    for i, response in enumerate(responses):\n",
    "        source_file_tree.nodes[group[i]][\"summary\"] = response\n",
    "\n",
    "for level in tqdm(eval_order):\n",
    "    await summarize_group(level)\n",
    "    time.sleep(0.5)"
   ]
  },
  {
   "cell_type": "code",
   "execution_count": 10,
   "metadata": {},
   "outputs": [
    {
     "name": "stdout",
     "output_type": "stream",
     "text": [
      "This repository houses the source code for the TeamTrack Flutter application, a tool designed for managing and analyzing data from First Tech Challenge (FTC) robotics competitions. \n",
      "\n",
      "The app provides a comprehensive set of features, including:\n",
      "\n",
      "* **Event Management:** Users can create, manage, and share events with other users. They can add teams, matches, and robot iterations to events, and view detailed performance statistics.\n",
      "* **Team Management:** Users can view and analyze team performance data, including scores, rankings, and alliance recommendations. They can also draw autonomous paths and manage team changes.\n",
      "* **Match Management:** Users can view match details, edit scores, control the match timer, and manage active users.\n",
      "* **Alliance Management:** Users can simulate alliance formations, explore team compatibility, and receive AI-driven recommendations for alliance partners.\n",
      "* **Inbox and Blocking:** Users can manage incoming event requests, block other users, and view their blocked user list.\n",
      "* **Push Notifications:** The app supports push notifications for event requests and other important updates.\n",
      "* **Data Importing:** Users can import match schedules from images using Google ML Kit's Text Recognition API.\n",
      "* **Theme Customization:** Users can switch between light and dark themes.\n",
      "\n",
      "The app uses a combination of Firebase services, including Realtime Database and Firestore, for data storage and real-time updates. It also leverages Google ML Kit for image analysis and ChatGPT for providing intelligent recommendations. The app utilizes the provider package for state management and various Flutter packages for UI components and functionality.  \n",
      "\n",
      "Overall, the TeamTrack app provides a powerful and user-friendly platform for managing and analyzing FTC competition data, aiding teams in improving their performance and making strategic decisions. \n",
      "\n"
     ]
    }
   ],
   "source": [
    "prompt = f\"\"\"This is the file tree for the original {source} repo:\n",
    "```\n",
    "{source.get_working_dir()}\\\\\n",
    "{source_file_tree}\n",
    "```\n",
    "Given the prior context, summarize the functionality of the entire repository succinctly.\n",
    "\"\"\"\n",
    "print(team.chat_with_agent('source_swe_analyzer', prompt, context_keys=[\"all\"], save_keys=[\"all\"], prompt_title=f\"\"\"Repository Summary.\n",
    "File Tree provided:\n",
    "```\n",
    "{source.get_working_dir()}\\\\\n",
    "{source_file_tree}\n",
    "```\n",
    "\"\"\"))"
   ]
  },
  {
   "cell_type": "code",
   "execution_count": 11,
   "metadata": {},
   "outputs": [
    {
     "data": {
      "text/plain": [
       "20296"
      ]
     },
     "execution_count": 11,
     "metadata": {},
     "output_type": "execute_result"
    }
   ],
   "source": [
    "curr_string = '\\n'.join([message['parts'][0] for interaction in team.context_threads['all'] for message in interaction.to_dict()])\n",
    "(curr_tokens := pm.model.count_tokens(curr_string).total_tokens)"
   ]
  },
  {
   "cell_type": "code",
   "execution_count": 12,
   "metadata": {},
   "outputs": [
    {
     "data": {
      "text/plain": [
       "122951"
      ]
     },
     "execution_count": 12,
     "metadata": {},
     "output_type": "execute_result"
    }
   ],
   "source": [
    "would_be_string = '\\n'.join([source_file_tree.nodes[node]['content'] for node in source_dependency_graph.nodes])\n",
    "(would_be_tokens := pm.model.count_tokens(would_be_string).total_tokens)"
   ]
  },
  {
   "cell_type": "code",
   "execution_count": 13,
   "metadata": {},
   "outputs": [
    {
     "data": {
      "text/plain": [
       "0.8349261087750405"
      ]
     },
     "execution_count": 13,
     "metadata": {},
     "output_type": "execute_result"
    }
   ],
   "source": [
    "(percent_tokens_reduction := 1 - (curr_tokens / would_be_tokens))"
   ]
  },
  {
   "cell_type": "code",
   "execution_count": 14,
   "metadata": {},
   "outputs": [
    {
     "name": "stdout",
     "output_type": "stream",
     "text": [
      "```\n",
      "1. WRITE | lib/models/Organization.dart | Implement the `Organization` class with the following properties:\n",
      "    - `id`: String, backend-generated unique ID\n",
      "    - `name`: String, name of the organization\n",
      "    - `teamNumber`: int, team number associated with the organization\n",
      "    - `profilePicture`: String, URL of the organization's profile picture (optional)\n",
      "    - `description`: String, description of the organization (optional)\n",
      "    - `location`: String, location of the organization (optional)\n",
      "\n",
      "2. WRITE | lib/providers/OrganizationProvider.dart | Implement the `OrganizationProvider` class using ChangeNotifier to manage organization data and interactions. Include functionalities for:\n",
      "    - Creating a new organization.\n",
      "    - Fetching organization details.\n",
      "    - Updating organization information.\n",
      "    - Listing organizations a user is a member of.\n",
      "    - Managing organization members (adding, removing, updating member visibility).\n",
      "\n",
      "3. WRITE | lib/views/organization/OrganizationSettings.dart | Implement the `OrganizationSettings` widget for displaying and managing organization settings. Allow organization admins to:\n",
      "    - Edit organization details (name, team number, profile picture, description, location).\n",
      "    - Manage organization members (add, remove, update member visibility).\n",
      "\n",
      "4. WRITE | lib/views/organization/OrganizationList.dart | Implement the `OrganizationList` widget for displaying a list of organizations the user is a member of. Allow users to:\n",
      "    - View organization details (name, team number, profile picture).\n",
      "    - Navigate to `OrganizationSettings` for managing organization settings (if admin).\n",
      "\n",
      "5. WRITE | lib/views/organization/CreateOrganization.dart | Implement the `CreateOrganization` widget for creating new organizations. Allow users to:\n",
      "    - Input organization details (name, team number, profile picture, description, location).\n",
      "    - Create the organization and add themselves as an admin.\n",
      "\n",
      "6. EDIT | lib/views/LandingPage.dart | Add a new tab for \"Organizations\" to the bottom navigation bar. Display the `OrganizationList` widget in this tab.\n",
      "\n",
      "7. EDIT | lib/views/home/events/EventShare.dart | Add an option to share an event with an organization. Upon sharing, all organization members should automatically have access to the event.\n",
      "\n",
      "8. EDIT | lib/models/AppModel.dart | \n",
      "    - Add a list of `Organization` objects to the `DataModel` class to store organizations the user is a member of.\n",
      "    - Update the `DataModel` to fetch and manage organization data from Firestore.\n",
      "\n",
      "9. EDIT | lib/providers/Auth.dart | Update the authentication service to handle organization membership upon user creation and login.\n",
      "```\n"
     ]
    }
   ],
   "source": [
    "response_format = f\"\"\"\n",
    "You may choose ACTIONS from the following list:\n",
    "- WRITE | $FILE_PATH$ | $PROMPT$ (PROMPT should inform how the new FILE_PATH should be written)\n",
    "- EDIT | $FILE_PATH$ | $PROMPT$ (Edit the provided file to fulfill the prompt)\n",
    "- DELETE | $FILE_PATH$ (Delete the provided file)\n",
    "----------\n",
    "Here is a sample response:\n",
    "```\n",
    "1. WRITE | {source.get_working_dir()}\\\\path\\\\to\\\\newfile.ext | Implement ... with the following properties:\n",
    "    - property1\n",
    "    - property2\n",
    "2. EDIT | {source.get_working_dir()}\\\\path\\\\to\\\\file.ext | Fix the bug ... by doing:\n",
    "    - step1\n",
    "    - step2\n",
    "3. DELETE | {source.get_working_dir()}\\\\path\\\\to\\\\some\\\\file.ext | Reasons for deletion:\n",
    "    - reason1\n",
    "    - reason2\n",
    "```\n",
    "\"\"\"\n",
    "\n",
    "# Create new file tree\n",
    "prompt = f'''\n",
    "You are to build the following feature:\n",
    "{feature}\n",
    "------------------\n",
    "{response_format}\n",
    "------------------\n",
    "You need to follow the response template structure exactly or the response will not be accepted.\n",
    "'''\n",
    "print(response := team.chat_with_agent(\"pm\", prompt, context_keys=[\"all\"], save_keys=[\"all\"], prompt_title=\"Feature Creation Steps\"))"
   ]
  },
  {
   "cell_type": "code",
   "execution_count": 15,
   "metadata": {},
   "outputs": [
    {
     "name": "stdout",
     "output_type": "stream",
     "text": [
      "('WRITE', 'models/Organization.dart', \"Implement the `Organization` class with the following properties:\\n    - `id`: String, backend-generated unique ID\\n    - `name`: String, name of the organization\\n    - `teamNumber`: int, team number associated with the organization\\n    - `profilePicture`: String, URL of the organization's profile picture (optional)\\n    - `description`: String, description of the organization (optional)\\n    - `location`: String, location of the organization (optional)\")\n",
      "('WRITE', 'providers/OrganizationProvider.dart', 'Implement the `OrganizationProvider` class using ChangeNotifier to manage organization data and interactions. Include functionalities for:\\n    - Creating a new organization.\\n    - Fetching organization details.\\n    - Updating organization information.\\n    - Listing organizations a user is a member of.\\n    - Managing organization members (adding, removing, updating member visibility).')\n",
      "('WRITE', 'views/organization/OrganizationSettings.dart', 'Implement the `OrganizationSettings` widget for displaying and managing organization settings. Allow organization admins to:\\n    - Edit organization details (name, team number, profile picture, description, location).\\n    - Manage organization members (add, remove, update member visibility).')\n",
      "('WRITE', 'views/organization/OrganizationList.dart', 'Implement the `OrganizationList` widget for displaying a list of organizations the user is a member of. Allow users to:\\n    - View organization details (name, team number, profile picture).\\n    - Navigate to `OrganizationSettings` for managing organization settings (if admin).')\n",
      "('WRITE', 'views/organization/CreateOrganization.dart', 'Implement the `CreateOrganization` widget for creating new organizations. Allow users to:\\n    - Input organization details (name, team number, profile picture, description, location).\\n    - Create the organization and add themselves as an admin.')\n",
      "('EDIT', 'views/LandingPage.dart', 'Add a new tab for \"Organizations\" to the bottom navigation bar. Display the `OrganizationList` widget in this tab.')\n",
      "('EDIT', 'views/home/events/EventShare.dart', 'Add an option to share an event with an organization. Upon sharing, all organization members should automatically have access to the event.')\n",
      "('EDIT', 'models/AppModel.dart', '- Add a list of `Organization` objects to the `DataModel` class to store organizations the user is a member of.\\n    - Update the `DataModel` to fetch and manage organization data from Firestore.')\n",
      "('EDIT', 'providers/Auth.dart', 'Update the authentication service to handle organization membership upon user creation and login.')\n"
     ]
    }
   ],
   "source": [
    "import re\n",
    "\n",
    "pattern  = re.compile(r'^\\d+\\.\\s*((?:.*\\n?)*?(?=\\n\\d+\\.|\\Z))', re.MULTILINE)\n",
    "md = extract_markdown_blocks(response)[0]\n",
    "lines = pattern.findall(md)\n",
    "actions = [(action[0].strip(), action[1].strip()[len(source.get_working_dir()) + 1:], action[2].strip()) for line in lines if (action := line.split('|'))]\n",
    "for action in actions:\n",
    "    print(action)"
   ]
  },
  {
   "cell_type": "markdown",
   "metadata": {},
   "source": [
    "## Context Caching"
   ]
  },
  {
   "cell_type": "code",
   "execution_count": 16,
   "metadata": {},
   "outputs": [
    {
     "data": {
      "text/plain": [
       "20885"
      ]
     },
     "execution_count": 16,
     "metadata": {},
     "output_type": "execute_result"
    }
   ],
   "source": [
    "source_swe_coder.model.count_tokens('\\n'.join(message['parts'][0] for interaction in team.context_threads['all'] for message in interaction.to_dict())).total_tokens"
   ]
  },
  {
   "cell_type": "code",
   "execution_count": 17,
   "metadata": {},
   "outputs": [
    {
     "data": {
      "text/plain": [
       "41739"
      ]
     },
     "execution_count": 17,
     "metadata": {},
     "output_type": "execute_result"
    }
   ],
   "source": [
    "# Cache the context threads\n",
    "factor = 32768 / source_swe_coder.model.count_tokens('\\n'.join(message['parts'][0] for interaction in team.context_threads['all'] for message in interaction.to_dict())).total_tokens\n",
    "# eg. if factor is 3.2, round to 4\n",
    "factor = math.ceil(factor)\n",
    "thread = team.context_threads['all'].copy()\n",
    "thread *= factor\n",
    "source_swe_coder.model.count_tokens('\\n'.join(message['parts'][0] for interaction in thread for message in interaction.to_dict())).total_tokens"
   ]
  },
  {
   "cell_type": "code",
   "execution_count": 19,
   "metadata": {},
   "outputs": [],
   "source": [
    "source_swe_coder.cache_context(thread, ttl=datetime.timedelta(minutes=8))"
   ]
  },
  {
   "cell_type": "code",
   "execution_count": 20,
   "metadata": {},
   "outputs": [],
   "source": [
    "def write(file_path, prompt):\n",
    "    response = source_swe_coder.chat(prompt)\n",
    "    md = extract_markdown_blocks(response)[0]\n",
    "    path = f\"{working_dir_path}\\\\{file_path}\"\n",
    "    if not os.path.exists(os.path.dirname(path)):\n",
    "        os.makedirs(os.path.dirname(path))\n",
    "    with open(path, 'w') as f:\n",
    "        f.write(md)\n",
    "\n",
    "def edit(file_path, prompt):\n",
    "    with open(f\"{working_dir_path}\\\\{file_path}\", 'r') as f:\n",
    "        content = f.read()\n",
    "    response = source_swe_coder.chat(f\"\"\"{prompt}\n",
    "Respond in the following format:\n",
    "# Old Code Snippet\n",
    "```\n",
    "$old code snippet to be changed (this string must match exactly with a substring of the original content) (no filler comments etc.)$\n",
    "```\n",
    "# New Code Snippet\n",
    "```\n",
    "$the code snippet the prompt is asking for$\n",
    "```\"\"\", custom_context=[Interaction(f\"Contents of {file_path}\", content)])\n",
    "    old_code, new_code = extract_markdown_blocks(response)\n",
    "    with open(f'{working_dir_path}\\\\{file_path}', 'w') as f:\n",
    "        f.write(content.replace(old_code, new_code))\n",
    "\n",
    "def delete(file_path):\n",
    "    os.remove(f\"{working_dir_path}\\\\{file_path}\")"
   ]
  },
  {
   "cell_type": "code",
   "execution_count": 22,
   "metadata": {},
   "outputs": [
    {
     "name": "stderr",
     "output_type": "stream",
     "text": [
      " 56%|█████▌    | 5/9 [03:31<02:49, 42.32s/it]\n"
     ]
    },
    {
     "ename": "ValueError",
     "evalue": "not enough values to unpack (expected 2, got 1)",
     "output_type": "error",
     "traceback": [
      "\u001b[1;31m---------------------------------------------------------------------------\u001b[0m",
      "\u001b[1;31mValueError\u001b[0m                                Traceback (most recent call last)",
      "Cell \u001b[1;32mIn[22], line 10\u001b[0m\n\u001b[0;32m      8\u001b[0m     delete(file)\n\u001b[0;32m      9\u001b[0m \u001b[38;5;28;01melif\u001b[39;00m action \u001b[38;5;241m==\u001b[39m \u001b[38;5;124m'\u001b[39m\u001b[38;5;124mEDIT\u001b[39m\u001b[38;5;124m'\u001b[39m:\n\u001b[1;32m---> 10\u001b[0m     repeatuntilfinish(\u001b[43medit\u001b[49m\u001b[43m(\u001b[49m\u001b[43mfile\u001b[49m\u001b[43m,\u001b[49m\u001b[43m \u001b[49m\u001b[43mprompt\u001b[49m\u001b[43m)\u001b[49m, max_retries\u001b[38;5;241m=\u001b[39m\u001b[38;5;241m2\u001b[39m)\n",
      "Cell \u001b[1;32mIn[20], line 19\u001b[0m, in \u001b[0;36medit\u001b[1;34m(file_path, prompt)\u001b[0m\n\u001b[0;32m     12\u001b[0m         content \u001b[38;5;241m=\u001b[39m f\u001b[38;5;241m.\u001b[39mread()\n\u001b[0;32m     13\u001b[0m     response \u001b[38;5;241m=\u001b[39m source_swe_coder\u001b[38;5;241m.\u001b[39mchat(\u001b[38;5;124mf\u001b[39m\u001b[38;5;124m\"\"\"\u001b[39m\u001b[38;5;132;01m{\u001b[39;00mprompt\u001b[38;5;132;01m}\u001b[39;00m\n\u001b[0;32m     14\u001b[0m \u001b[38;5;124mRespond in the following format:\u001b[39m\n\u001b[0;32m     15\u001b[0m \u001b[38;5;124m# Old Code Snippet\u001b[39m\n\u001b[0;32m     16\u001b[0m \u001b[38;5;124m$old code snippet to be changed (this string must match exactly with a substring of the original content) (no filler comments etc.)$\u001b[39m\n\u001b[0;32m     17\u001b[0m \u001b[38;5;124m# New Code Snippet\u001b[39m\n\u001b[0;32m     18\u001b[0m \u001b[38;5;124m$the code snippet the prompt is asking for$\u001b[39m\u001b[38;5;124m\"\"\"\u001b[39m, custom_context\u001b[38;5;241m=\u001b[39m[Interaction(\u001b[38;5;124mf\u001b[39m\u001b[38;5;124m\"\u001b[39m\u001b[38;5;124mContents of \u001b[39m\u001b[38;5;132;01m{\u001b[39;00mfile_path\u001b[38;5;132;01m}\u001b[39;00m\u001b[38;5;124m\"\u001b[39m, content)])\n\u001b[1;32m---> 19\u001b[0m     old_code, new_code \u001b[38;5;241m=\u001b[39m extract_markdown_blocks(response)\n\u001b[0;32m     20\u001b[0m     \u001b[38;5;28;01mwith\u001b[39;00m \u001b[38;5;28mopen\u001b[39m(\u001b[38;5;124mf\u001b[39m\u001b[38;5;124m'\u001b[39m\u001b[38;5;132;01m{\u001b[39;00mworking_dir_path\u001b[38;5;132;01m}\u001b[39;00m\u001b[38;5;130;01m\\\\\u001b[39;00m\u001b[38;5;132;01m{\u001b[39;00mfile_path\u001b[38;5;132;01m}\u001b[39;00m\u001b[38;5;124m'\u001b[39m, \u001b[38;5;124m'\u001b[39m\u001b[38;5;124mw\u001b[39m\u001b[38;5;124m'\u001b[39m) \u001b[38;5;28;01mas\u001b[39;00m f:\n\u001b[0;32m     21\u001b[0m         f\u001b[38;5;241m.\u001b[39mwrite(content\u001b[38;5;241m.\u001b[39mreplace(old_code, new_code))\n",
      "\u001b[1;31mValueError\u001b[0m: not enough values to unpack (expected 2, got 1)"
     ]
    }
   ],
   "source": [
    "from utils.errorutils import repeat_until_finish\n",
    "from tqdm import tqdm\n",
    "\n",
    "for action, file, prompt in tqdm(actions):\n",
    "    if action == 'WRITE':\n",
    "        repeat_until_finish(lambda: write(file, prompt), max_retries=2)\n",
    "    elif action == 'DELETE':\n",
    "        delete(file)\n",
    "    elif action == 'EDIT':\n",
    "        repeat_until_finish(lambda: edit(file, prompt), max_retries=2)"
   ]
  }
 ],
 "metadata": {
  "kernelspec": {
   "display_name": "base",
   "language": "python",
   "name": "python3"
  },
  "language_info": {
   "codemirror_mode": {
    "name": "ipython",
    "version": 3
   },
   "file_extension": ".py",
   "mimetype": "text/x-python",
   "name": "python",
   "nbconvert_exporter": "python",
   "pygments_lexer": "ipython3",
   "version": "3.11.7"
  }
 },
 "nbformat": 4,
 "nbformat_minor": 2
}
