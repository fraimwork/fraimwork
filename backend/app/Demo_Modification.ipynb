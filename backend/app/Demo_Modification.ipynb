{
 "cells": [
  {
   "cell_type": "code",
   "execution_count": 1,
   "metadata": {},
   "outputs": [],
   "source": [
    "import datetime, time, math, os, json, shutil, asyncio, networkx as nx\n",
    "from utils.gitutils import create_pull_request, clone_repo, create_branch, wipe_repo, prepare_repo\n",
    "from utils.agent import Agent, GenerationConfig, Interaction, Team\n",
    "from utils.stringutils import arr_from_sep_string, extract_markdown_blocks, markdown_to_dict, fuzzy_find, skwonk\n",
    "from utils.filetreeutils import FileTree, write_file_tree\n",
    "from utils.listutils import flatten\n",
    "from utils.frameworkutils import DartAnalyzer\n",
    "from dotenv import load_dotenv\n",
    "from utils.graphutils import loose_level_order, collapsed_level_order\n",
    "from utils.frameworkutils import Framework"
   ]
  },
  {
   "cell_type": "code",
   "execution_count": 2,
   "metadata": {},
   "outputs": [],
   "source": [
    "load_dotenv()  # Load environment variables from .env\n",
    "\n",
    "GITHUB_TOKEN = os.getenv('GITHUB_TOKEN')\n",
    "API_KEY = os.getenv('API_KEY')"
   ]
  },
  {
   "cell_type": "code",
   "execution_count": 3,
   "metadata": {},
   "outputs": [],
   "source": [
    "repo_url = 'https://github.com/6165-MSET-CuttleFish/TeamTrack'\n",
    "source = Framework.FLUTTER\n",
    "feature = f\"\"\"# Name\n",
    "Spaces\n",
    "## Descriptions\n",
    "Spaces are a way for users to share videos of their robot competing. These videos will have information about the team number and name as well. Users will be able to view these videos and see how other teams are doing. They will also be able to upload their own videos to share with others.\n",
    "\"\"\""
   ]
  },
  {
   "cell_type": "code",
   "execution_count": 4,
   "metadata": {},
   "outputs": [],
   "source": [
    "# Clone the repo and make a new branch\n",
    "repo = clone_repo(repo_url)\n",
    "base_branch = repo.active_branch.name\n",
    "created_branch = f\"modification-{base_branch}\"\n",
    "local_repo_path = str(repo.working_dir)\n",
    "working_dir_path = f'{local_repo_path}\\\\{source.get_working_dir()}'"
   ]
  },
  {
   "cell_type": "code",
   "execution_count": 5,
   "metadata": {},
   "outputs": [],
   "source": [
    "source_swe_summarizer = Agent(\n",
    "    model_name=\"gemini-1.5-flash-001\",\n",
    "    api_key=API_KEY,\n",
    "    name=\"source_swe_analyzer\",\n",
    "    generation_config=GenerationConfig(temperature=0.7),\n",
    "    system_prompt=f'''You are a {source} software engineer. Your job is to summarize the functionality of provided code files. Structure your response as follows:\n",
    "\n",
    "# filename.ext:\n",
    "\n",
    "$7 sentence summary of the functionality/contents of the file$\n",
    "'''\n",
    ")\n",
    "pm = Agent(\n",
    "    model_name=\"gemini-1.5-pro-001\",\n",
    "    api_key=API_KEY,\n",
    "    name=\"pm\",\n",
    "    generation_config=GenerationConfig(temperature=0.3),\n",
    "    system_prompt=f\"\"\"You are a high-level technical project manager tasked with the project of adding functionality to a {source} repository.\"\"\"\n",
    ")\n",
    "source_swe_coder = Agent(\n",
    "    model_name=\"gemini-1.5-flash-001\",\n",
    "    api_key=API_KEY,\n",
    "    name=\"source_swe_coder\",\n",
    "    generation_config=GenerationConfig(temperature=0.5),\n",
    "    system_prompt=f\"You are a {source} software engineer. Your job is to write code to implement a specific feature. Respond with code and nothing else. No explanations needed.\"\n",
    ")\n",
    "source_swe_editor = Agent(\n",
    "    model_name=\"gemini-1.5-flash\",\n",
    "    api_key=API_KEY,\n",
    "    name=\"source_swe_editor\",\n",
    "    generation_config=GenerationConfig(temperature=0.0),\n",
    "    system_prompt=f\"\"\"You are a {source} software engineer tasked with editing a large code file to implement changes in accordance with the instructions you will receive in the following prompts. Large edits at once are NOT the way. We will solve this problem by dividing the edit into smaller sub-edits consisting of additions and deletions (no more than 10 lines per edit). We will use a custom file type called 'skinnydiff', which are diff-like files but only feature a larger file's substring, to convey these changes. Here is an example of a 'skinnydiff' file:\n",
    "\n",
    "```skinnydiff\n",
    " void foo() {{\n",
    "- int x = 5;\n",
    "+ var x = 7;\n",
    "  return x + 3; // Example code \n",
    " }}\n",
    "```\n",
    "Skinnydiffs are shorter versions of diff files that only include a few context lines around the deletions and insertions. They DO NOT CONTAINS @@...@@  as this is wasted information\n",
    "\n",
    "Given this knowledge, structure your response as follows:\n",
    "\n",
    "# Step 1\n",
    "$Brief description of the 1st sub-change$\n",
    "## Scope\n",
    "$Brief planning on which line or class to include in the change$\n",
    "## Change 1\n",
    "```skinnydiff\n",
    "$code diff$\n",
    "```\n",
    "\n",
    "# Step N\n",
    "$Brief description of the Nth sub-change$\n",
    "## Scope\n",
    "$Brief planning on which line or class to include in the change$\n",
    "## Change N\n",
    "```skinnydiff\n",
    "$...$\n",
    "```\"\"\"\n",
    ")\n",
    "\n",
    "team = Team(source_swe_summarizer, pm, source_swe_coder, source_swe_editor)"
   ]
  },
  {
   "cell_type": "code",
   "execution_count": 6,
   "metadata": {},
   "outputs": [],
   "source": [
    "analyzer = source.get_analyzer(working_dir_path)\n",
    "\n",
    "source_dependency_graph = analyzer.buildDependencyGraph()"
   ]
  },
  {
   "cell_type": "code",
   "execution_count": 7,
   "metadata": {},
   "outputs": [
    {
     "name": "stdout",
     "output_type": "stream",
     "text": [
      "['models\\\\AppModel.dart', 'models\\\\StatConfig.dart']\n",
      "['models\\\\GameModel.dart']\n",
      "['models\\\\ScoreModel.dart']\n",
      "['functions\\\\Extensions.dart', 'components\\\\misc\\\\PlatformGraphics.dart']\n",
      "['components\\\\users\\\\PFP.dart', 'components\\\\statistics\\\\BarGraph.dart']\n",
      "['components\\\\scores\\\\Incrementor.dart', 'components\\\\users\\\\UsersRow.dart', 'functions\\\\Statistics.dart', 'components\\\\scores\\\\ScoreSummary.dart', 'providers\\\\Auth.dart']\n",
      "['views\\\\home\\\\match\\\\MatchView.dart']\n",
      "['functions\\\\Functions.dart', 'components\\\\statistics\\\\PercentChange.dart']\n",
      "['components\\\\scores\\\\ScoreRangeSummary.dart', 'models\\\\Change.dart', 'components\\\\scores\\\\ScoreTimeline.dart']\n",
      "['views\\\\home\\\\change\\\\ChangeRow.dart', 'views\\\\home\\\\match\\\\MatchRow.dart', 'components\\\\misc\\\\EmptyList.dart', 'views\\\\home\\\\match\\\\ExampleMatchRow.dart', 'views\\\\home\\\\match\\\\MatchConfig.dart', 'components\\\\scores\\\\ScoringElementStats.dart', 'components\\\\statistics\\\\CheckList.dart', 'views\\\\home\\\\change\\\\ChangeConfig.dart', 'components\\\\misc\\\\CardView.dart']\n",
      "['views\\\\home\\\\match\\\\MatchList.dart', 'components\\\\scores\\\\ScoreCard.dart', 'views\\\\home\\\\change\\\\ChangeList.dart', 'components\\\\AutonomousDrawingTool.dart', 'components\\\\misc\\\\Collapsible.dart']\n",
      "['views\\\\home\\\\team\\\\AutonDrawer.dart']\n",
      "['views\\\\home\\\\team\\\\TeamView.dart', 'views\\\\home\\\\team\\\\ExampleTeamRow.dart', 'views\\\\home\\\\team\\\\TeamRow.dart', 'views\\\\home\\\\util\\\\Permissions.dart']\n",
      "['views\\\\home\\\\team\\\\TeamList.dart', 'views\\\\home\\\\events\\\\EventShare.dart', 'functions\\\\APIMethods.dart']\n",
      "['views\\\\home\\\\events\\\\EventView.dart', 'views\\\\auth\\\\SignUpScreen.dart']\n",
      "['providers\\\\Theme.dart', 'views\\\\inbox\\\\BlockList.dart', 'views\\\\templates\\\\TemplatesList.dart', 'views\\\\inbox\\\\Inbox.dart', 'views\\\\home\\\\events\\\\EventsList.dart', 'views\\\\auth\\\\Login.dart', 'providers\\\\PushNotifications.dart']\n",
      "['views\\\\LandingPage.dart']\n",
      "['views\\\\auth\\\\AuthenticationWrapper.dart', 'models\\\\GPTModel.dart']\n",
      "['views\\\\templates\\\\TemplateView.dart', 'main.dart', 'views\\\\home\\\\team\\\\AllianceSelection.dart', 'components\\\\misc\\\\InfoPills.dart', 'api\\\\README.MD', 'views\\\\home\\\\events\\\\CameraView.dart', 'providers\\\\UserPresence.dart', 'views\\\\auth\\\\Verify.dart', 'views\\\\home\\\\events\\\\ImageView.dart', 'views\\\\home\\\\team\\\\TeamRowAlliance.dart', 'functions\\\\ResponseModel.dart', 'views\\\\home\\\\team\\\\AllianceSimulator.dart', 'functions\\\\GPTModel.dart', 'views\\\\home\\\\team\\\\TeamAllianceRecommend.dart']\n",
      "Number of levels: 19\n"
     ]
    }
   ],
   "source": [
    "# loose level order\n",
    "eval_order = loose_level_order(source_dependency_graph)[::-1]\n",
    "for level in eval_order:\n",
    "    print(level)\n",
    "print(f\"Number of levels: {len(eval_order)}\")"
   ]
  },
  {
   "cell_type": "code",
   "execution_count": 8,
   "metadata": {},
   "outputs": [
    {
     "data": {
      "text/plain": [
       "├── api\\\n",
       "│   ├── README.MD\n",
       "├── components\\\n",
       "│   ├── misc\\\n",
       "│   │   ├── CardView.dart\n",
       "│   │   ├── Collapsible.dart\n",
       "│   │   ├── EmptyList.dart\n",
       "│   │   ├── InfoPills.dart\n",
       "│   │   ├── PlatformGraphics.dart\n",
       "│   ├── scores\\\n",
       "│   │   ├── Incrementor.dart\n",
       "│   │   ├── ScoreCard.dart\n",
       "│   │   ├── ScoreRangeSummary.dart\n",
       "│   │   ├── ScoreSummary.dart\n",
       "│   │   ├── ScoreTimeline.dart\n",
       "│   │   ├── ScoringElementStats.dart\n",
       "│   ├── statistics\\\n",
       "│   │   ├── BarGraph.dart\n",
       "│   │   ├── CheckList.dart\n",
       "│   │   ├── PercentChange.dart\n",
       "│   ├── users\\\n",
       "│   │   ├── PFP.dart\n",
       "│   │   ├── UsersRow.dart\n",
       "│   ├── AutonomousDrawingTool.dart\n",
       "├── functions\\\n",
       "│   ├── APIMethods.dart\n",
       "│   ├── Extensions.dart\n",
       "│   ├── Functions.dart\n",
       "│   ├── GPTModel.dart\n",
       "│   ├── ResponseModel.dart\n",
       "│   ├── Statistics.dart\n",
       "├── models\\\n",
       "│   ├── AppModel.dart\n",
       "│   ├── Change.dart\n",
       "│   ├── GameModel.dart\n",
       "│   ├── GPTModel.dart\n",
       "│   ├── ScoreModel.dart\n",
       "│   ├── StatConfig.dart\n",
       "├── providers\\\n",
       "│   ├── Auth.dart\n",
       "│   ├── PushNotifications.dart\n",
       "│   ├── Theme.dart\n",
       "│   ├── UserPresence.dart\n",
       "├── views\\\n",
       "│   ├── auth\\\n",
       "│   │   ├── AuthenticationWrapper.dart\n",
       "│   │   ├── Login.dart\n",
       "│   │   ├── SignUpScreen.dart\n",
       "│   │   ├── Verify.dart\n",
       "│   ├── home\\\n",
       "│   │   ├── change\\\n",
       "│   │   │   ├── ChangeConfig.dart\n",
       "│   │   │   ├── ChangeList.dart\n",
       "│   │   │   ├── ChangeRow.dart\n",
       "│   │   ├── events\\\n",
       "│   │   │   ├── CameraView.dart\n",
       "│   │   │   ├── EventShare.dart\n",
       "│   │   │   ├── EventsList.dart\n",
       "│   │   │   ├── EventView.dart\n",
       "│   │   │   ├── ImageView.dart\n",
       "│   │   ├── match\\\n",
       "│   │   │   ├── ExampleMatchRow.dart\n",
       "│   │   │   ├── MatchConfig.dart\n",
       "│   │   │   ├── MatchList.dart\n",
       "│   │   │   ├── MatchRow.dart\n",
       "│   │   │   ├── MatchView.dart\n",
       "│   │   ├── team\\\n",
       "│   │   │   ├── AllianceSelection.dart\n",
       "│   │   │   ├── AllianceSimulator.dart\n",
       "│   │   │   ├── AutonDrawer.dart\n",
       "│   │   │   ├── ExampleTeamRow.dart\n",
       "│   │   │   ├── TeamAllianceRecommend.dart\n",
       "│   │   │   ├── TeamList.dart\n",
       "│   │   │   ├── TeamRow.dart\n",
       "│   │   │   ├── TeamRowAlliance.dart\n",
       "│   │   │   ├── TeamView.dart\n",
       "│   │   ├── util\\\n",
       "│   │   │   ├── Permissions.dart\n",
       "│   ├── inbox\\\n",
       "│   │   ├── BlockList.dart\n",
       "│   │   ├── Inbox.dart\n",
       "│   ├── templates\\\n",
       "│   │   ├── TemplatesList.dart\n",
       "│   │   ├── TemplateView.dart\n",
       "│   ├── LandingPage.dart\n",
       "├── main.dart"
      ]
     },
     "execution_count": 8,
     "metadata": {},
     "output_type": "execute_result"
    }
   ],
   "source": [
    "(source_file_tree := FileTree.from_dir(working_dir_path))"
   ]
  },
  {
   "cell_type": "code",
   "execution_count": 9,
   "metadata": {},
   "outputs": [
    {
     "name": "stderr",
     "output_type": "stream",
     "text": [
      "100%|██████████| 19/19 [01:10<00:00,  3.71s/it]\n"
     ]
    }
   ],
   "source": [
    "# Summarize the original repo\n",
    "from tqdm import tqdm\n",
    "\n",
    "async def summarize_group(group):\n",
    "    async def summarize(node):\n",
    "        name = source_file_tree.nodes[node]['name']\n",
    "        content = source_file_tree.nodes[node]['content']\n",
    "        message = f\"{name}\\n```\\n{content}\\n```\"\n",
    "        return await team.async_chat_with_agent(\n",
    "            agent_name='source_swe_analyzer',\n",
    "            message=message,\n",
    "            context_keys=[f\"summary_{neighbor}\" for neighbor in source_dependency_graph[node]],\n",
    "            save_keys=[f\"summary_{node}\", \"all\"],\n",
    "            prompt_title=f\"Summary of {node}\"\n",
    "            )\n",
    "    tasks = [summarize(node) for node in group]\n",
    "    responses = await asyncio.gather(*tasks)\n",
    "    for i, response in enumerate(responses):\n",
    "        source_file_tree.nodes[group[i]][\"summary\"] = response\n",
    "\n",
    "for level in tqdm(eval_order):\n",
    "    await summarize_group(level)\n",
    "    time.sleep(0.5)"
   ]
  },
  {
   "cell_type": "code",
   "execution_count": 10,
   "metadata": {},
   "outputs": [
    {
     "name": "stdout",
     "output_type": "stream",
     "text": [
      "This Flutter repository implements the TeamTrack app, a tool for managing and analyzing data for FTC (FIRST Tech Challenge) robotics teams and events. It features:\n",
      "\n",
      "**Core Functionality:**\n",
      "\n",
      "- **Event Management:** Create, edit, and delete events. Add teams, matches, and scores. Share events with other users.\n",
      "- **Team Management:** View team statistics, score breakdowns, match history, and autonomous paths. Analyze team performance using various statistical measures.\n",
      "- **Match Management:** View match details, edit scores, and track match progress.\n",
      "- **Alliance Management:** Generate alliance recommendations based on team performance and event context. Simulate alliances and view compatibility metrics.\n",
      "- **Data Visualization:** Display team statistics and score trends using bar graphs, line charts, and score timelines.\n",
      "- **User Management:** Manage user roles, block users, and share events with other users.\n",
      "- **Push Notifications:** Receive notifications about new event invitations or updates.\n",
      "- **The Orange Alliance (TOA) Integration:** Fetch and import event data from the TOA API.\n",
      "- **Image-Based Schedule Analysis:** Extract team numbers from match schedules using image recognition.\n",
      "\n",
      "**Additional Features:**\n",
      "\n",
      "- **Autonomous Path Drawing Tool:** Draw autonomous paths for teams and save them to Firebase Storage.\n",
      "- **Dark Theme Support:** Toggle between light and dark themes.\n",
      "- **Platform-Specific UI:** Adapt to different platforms (iOS, Android, web) for a consistent user experience.\n",
      "\n",
      "**Key Components:**\n",
      "\n",
      "- **Firebase Integration:** Utilizes Firebase for authentication, database, storage, and push notifications.\n",
      "- **Google ML Kit:** Uses Google ML Kit for image-based text recognition.\n",
      "- **GPT Model:** Leverages a GPT model for alliance recommendations and analysis.\n",
      "- **Provider Package:** Manages application state and data flow.\n",
      "- **PlatformGraphics:** Provides platform-specific UI elements and styling.\n",
      "\n",
      "\n",
      "**Overall, the TeamTrack repository provides a comprehensive and user-friendly tool for managing and analyzing FTC data, empowering teams to improve their performance and make informed decisions.** \n",
      "\n"
     ]
    }
   ],
   "source": [
    "prompt = f\"\"\"This is the file tree for the original {source} repo:\n",
    "```\n",
    "{source.get_working_dir()}\\\\\n",
    "{source_file_tree}\n",
    "```\n",
    "Given the prior context, summarize the functionality of the entire repository succinctly.\n",
    "\"\"\"\n",
    "print(team.chat_with_agent('source_swe_analyzer', prompt, context_keys=[\"all\"], save_keys=[\"all\"], prompt_title=f\"\"\"Repository Summary.\n",
    "File Tree provided:\n",
    "```\n",
    "{source.get_working_dir()}\\\\\n",
    "{source_file_tree}\n",
    "```\n",
    "\"\"\"))"
   ]
  },
  {
   "cell_type": "code",
   "execution_count": 11,
   "metadata": {},
   "outputs": [
    {
     "data": {
      "text/plain": [
       "22288"
      ]
     },
     "execution_count": 11,
     "metadata": {},
     "output_type": "execute_result"
    }
   ],
   "source": [
    "curr_string = '\\n'.join([message['parts'][0] for interaction in team.context_threads['all'] for message in interaction.to_dict()])\n",
    "(curr_tokens := pm.model.count_tokens(curr_string).total_tokens)"
   ]
  },
  {
   "cell_type": "code",
   "execution_count": 12,
   "metadata": {},
   "outputs": [
    {
     "data": {
      "text/plain": [
       "122951"
      ]
     },
     "execution_count": 12,
     "metadata": {},
     "output_type": "execute_result"
    }
   ],
   "source": [
    "would_be_string = '\\n'.join([source_file_tree.nodes[node]['content'] for node in source_dependency_graph.nodes])\n",
    "(would_be_tokens := pm.model.count_tokens(would_be_string).total_tokens)"
   ]
  },
  {
   "cell_type": "code",
   "execution_count": 13,
   "metadata": {},
   "outputs": [
    {
     "data": {
      "text/plain": [
       "0.8187245325373522"
      ]
     },
     "execution_count": 13,
     "metadata": {},
     "output_type": "execute_result"
    }
   ],
   "source": [
    "(percent_tokens_reduction := 1 - (curr_tokens / would_be_tokens))"
   ]
  },
  {
   "cell_type": "code",
   "execution_count": 14,
   "metadata": {},
   "outputs": [
    {
     "name": "stdout",
     "output_type": "stream",
     "text": [
      "```\n",
      "| WRITE | lib\\models\\SpaceModel.dart | Implement a `Space` class to represent a space with the following properties:\n",
      "    - `id`: String, unique identifier for the space\n",
      "    - `teamNumber`: int, the team number associated with the video\n",
      "    - `teamName`: String, the name of the team\n",
      "    - `videoUrl`: String, URL of the uploaded video\n",
      "    - `timestamp`: Timestamp, creation timestamp of the space\n",
      "| WRITE | lib\\views\\spaces\\SpaceList.dart | Implement a `SpaceList` widget to display a list of spaces:\n",
      "    - Fetch spaces data from Firebase Firestore.\n",
      "    - Display each space using a `SpaceCard` widget.\n",
      "    - Allow navigation to `SpaceView` for individual space details.\n",
      "| WRITE | lib\\views\\spaces\\SpaceCard.dart | Implement a `SpaceCard` widget to display a preview of a space:\n",
      "    - Show team number, team name, and a thumbnail of the video.\n",
      "    - Handle navigation to `SpaceView` when tapped.\n",
      "| WRITE | lib\\views\\spaces\\SpaceView.dart | Implement a `SpaceView` widget to display details of a space:\n",
      "    - Fetch space data from Firebase Firestore based on the space ID.\n",
      "    - Display video player to play the video.\n",
      "    - Show team number and team name.\n",
      "| WRITE | lib\\views\\spaces\\CreateSpaceScreen.dart | Implement a `CreateSpaceScreen` widget to allow users to create new spaces:\n",
      "    - Use `image_picker` to allow video selection from the gallery.\n",
      "    - Upload the video to Firebase Storage.\n",
      "    - Create a new `Space` object with video URL and other details.\n",
      "    - Store the `Space` object in Firebase Firestore.\n",
      "| EDIT | lib\\views\\LandingPage.dart | Add a new tab for \"Spaces\" and link it to the `SpaceList` widget.\n",
      "| EDIT | lib\\models\\AppModel.dart | Add data management functions for spaces in the `DataModel` class. \n",
      "```\n"
     ]
    }
   ],
   "source": [
    "response_format = f\"\"\"\n",
    "You may choose ACTIONS from the following list:\n",
    "- | WRITE | $FILE_PATH$ | $PROMPT$ (PROMPT should be a brief instruction for how the new FILE_PATH should be WRITTEN)\n",
    "- | EDIT | $FILE_PATH$ | $PROMPT$ (PROMPT should be a brief instruction for how the FILE_PATH should be EDITED)\n",
    "- | DELETE | $FILE_PATH$ (Delete the provided file)\n",
    "----------\n",
    "Structure your response using the following example:\n",
    "```\n",
    "| WRITE | {source.get_working_dir()}\\\\path\\\\to\\\\newfile.ext | Implement ... with the following properties:\n",
    "    - property1\n",
    "    - property2\n",
    "    - dependency1\n",
    "    - dependency2\n",
    "| EDIT | {source.get_working_dir()}\\\\path\\\\to\\\\file.ext | Fix the bug ... by doing:\n",
    "    - step1\n",
    "    - step2\n",
    "| DELETE | {source.get_working_dir()}\\\\path\\\\to\\\\some\\\\file.ext | Reasons for deletion:\n",
    "    - reason1\n",
    "    - reason2\n",
    "```\n",
    "It is VERY important that you only respond with a high level overview of what to do. The actual implementation will be done by the coder.\n",
    "\"\"\"\n",
    "\n",
    "# Create new file tree\n",
    "prompt = f'''\n",
    "You are to build the following feature:\n",
    "{feature}\n",
    "------------------\n",
    "{response_format}\n",
    "------------------\n",
    "You need to follow the response template structure exactly (MY JOB DEPENDS ON IT)\n",
    "'''\n",
    "print(response := team.chat_with_agent(\"pm\", prompt, context_keys=[\"all\"], save_keys=[\"all\"], prompt_title=\"Feature Creation Steps\"))"
   ]
  },
  {
   "cell_type": "code",
   "execution_count": 15,
   "metadata": {},
   "outputs": [
    {
     "name": "stdout",
     "output_type": "stream",
     "text": [
      "('WRITE', 'models\\\\SpaceModel.dart', 'Implement a `Space` class to represent a space with the following properties:\\n    - `id`: String, unique identifier for the space\\n    - `teamNumber`: int, the team number associated with the video\\n    - `teamName`: String, the name of the team\\n    - `videoUrl`: String, URL of the uploaded video\\n    - `timestamp`: Timestamp, creation timestamp of the space')\n",
      "('WRITE', 'views\\\\spaces\\\\SpaceList.dart', 'Implement a `SpaceList` widget to display a list of spaces:\\n    - Fetch spaces data from Firebase Firestore.\\n    - Display each space using a `SpaceCard` widget.\\n    - Allow navigation to `SpaceView` for individual space details.')\n",
      "('WRITE', 'views\\\\spaces\\\\SpaceCard.dart', 'Implement a `SpaceCard` widget to display a preview of a space:\\n    - Show team number, team name, and a thumbnail of the video.\\n    - Handle navigation to `SpaceView` when tapped.')\n",
      "('WRITE', 'views\\\\spaces\\\\SpaceView.dart', 'Implement a `SpaceView` widget to display details of a space:\\n    - Fetch space data from Firebase Firestore based on the space ID.\\n    - Display video player to play the video.\\n    - Show team number and team name.')\n",
      "('WRITE', 'views\\\\spaces\\\\CreateSpaceScreen.dart', 'Implement a `CreateSpaceScreen` widget to allow users to create new spaces:\\n    - Use `image_picker` to allow video selection from the gallery.\\n    - Upload the video to Firebase Storage.\\n    - Create a new `Space` object with video URL and other details.\\n    - Store the `Space` object in Firebase Firestore.')\n",
      "('EDIT', 'views\\\\LandingPage.dart', 'Add a new tab for \"Spaces\" and link it to the `SpaceList` widget.')\n",
      "('EDIT', 'models\\\\AppModel.dart', 'Add data management functions for spaces in the `DataModel` class.')\n"
     ]
    }
   ],
   "source": [
    "md = extract_markdown_blocks(response)[0]\n",
    "blocks = md.split(\"|\")\n",
    "actions = []\n",
    "i = 0\n",
    "while i < len(blocks):\n",
    "    block = blocks[i].strip()\n",
    "    if block != \"WRITE\" and block != \"EDIT\" and block != \"DELETE\":\n",
    "        i += 1\n",
    "        continue\n",
    "    action, file, prompt = blocks[i:i + 3]\n",
    "    action = action.strip()\n",
    "    if file.strip().startswith(source.get_working_dir()):\n",
    "        file = file.strip()[len(source.get_working_dir()) + 1:]\n",
    "    else:\n",
    "        file = file.strip()\n",
    "    prompt = prompt.strip()\n",
    "    actions.append((action, file, prompt))\n",
    "    i += 3\n",
    "for action in actions:\n",
    "    print(action)"
   ]
  },
  {
   "cell_type": "code",
   "execution_count": 16,
   "metadata": {},
   "outputs": [
    {
     "data": {
      "text/plain": [
       "22746"
      ]
     },
     "execution_count": 16,
     "metadata": {},
     "output_type": "execute_result"
    }
   ],
   "source": [
    "source_swe_coder.model.count_tokens('\\n'.join(message['parts'][0] for interaction in team.context_threads['all'] for message in interaction.to_dict())).total_tokens"
   ]
  },
  {
   "cell_type": "code",
   "execution_count": 17,
   "metadata": {},
   "outputs": [
    {
     "data": {
      "text/plain": [
       "45461"
      ]
     },
     "execution_count": 17,
     "metadata": {},
     "output_type": "execute_result"
    }
   ],
   "source": [
    "# Cache the context threads\n",
    "factor = 32768 / source_swe_coder.model.count_tokens('\\n'.join(message['parts'][0] for interaction in team.context_threads['all'] for message in interaction.to_dict())).total_tokens\n",
    "# eg. if factor is 3.2, round to 4\n",
    "factor = math.ceil(factor)\n",
    "thread = team.context_threads['all'].copy()\n",
    "thread *= factor\n",
    "source_swe_coder.model.count_tokens('\\n'.join(message['parts'][0] for interaction in thread for message in interaction.to_dict())).total_tokens"
   ]
  },
  {
   "cell_type": "code",
   "execution_count": 18,
   "metadata": {},
   "outputs": [],
   "source": [
    "def write(file_path, prompt):\n",
    "    response = source_swe_coder.chat(f\"Instructions for {file_path}:\\n{prompt}\")\n",
    "    md = extract_markdown_blocks(response)[0]\n",
    "    path = f\"{working_dir_path}\\\\{file_path}\"\n",
    "    if not os.path.exists(os.path.dirname(path)):\n",
    "        os.makedirs(os.path.dirname(path))\n",
    "    with open(path, 'w') as f:\n",
    "        f.write(md)\n",
    "\n",
    "def edit(file_path, prompt):\n",
    "    with open(f\"{working_dir_path}\\\\{file_path}\", 'r') as f:\n",
    "        content = f.read()\n",
    "    response = source_swe_editor.chat(\n",
    "        f\"{prompt}\\n\\nRemember, keep your skinnydiffs SHORT and do NOT include @@...@@. Instead, split it into multiple steps. Anytime you see @@...@@, just split it into another step.\",\n",
    "        custom_context=[Interaction(f\"Contents of {file_path}\", content)]\n",
    "    )\n",
    "    diffs = extract_markdown_blocks(response)\n",
    "    for diff in diffs:\n",
    "        with open(f'{working_dir_path}\\\\{file_path}', 'w') as f:\n",
    "            f.seek(0)\n",
    "            f.truncate()\n",
    "            content = skwonk(content, diff)\n",
    "            f.write(content)\n",
    "\n",
    "def delete(file_path):\n",
    "    os.remove(f\"{working_dir_path}\\\\{file_path}\")"
   ]
  },
  {
   "cell_type": "code",
   "execution_count": 19,
   "metadata": {},
   "outputs": [
    {
     "name": "stderr",
     "output_type": "stream",
     "text": [
      "100%|██████████| 7/7 [00:40<00:00,  5.71s/it]\n"
     ]
    }
   ],
   "source": [
    "from utils.errorutils import repeat_until_finish\n",
    "from tqdm import tqdm\n",
    "\n",
    "for i in tqdm(range(len(actions))):\n",
    "    action, file, prompt = actions[i]\n",
    "    if action == 'WRITE':\n",
    "        repeat_until_finish(lambda: write(file, prompt), max_retries=2)\n",
    "    elif action == 'EDIT':\n",
    "        repeat_until_finish(lambda: edit(file, prompt), max_retries=2)\n",
    "    elif action == 'DELETE':\n",
    "        delete(file)"
   ]
  }
 ],
 "metadata": {
  "kernelspec": {
   "display_name": "base",
   "language": "python",
   "name": "python3"
  },
  "language_info": {
   "codemirror_mode": {
    "name": "ipython",
    "version": 3
   },
   "file_extension": ".py",
   "mimetype": "text/x-python",
   "name": "python",
   "nbconvert_exporter": "python",
   "pygments_lexer": "ipython3",
   "version": "3.11.7"
  }
 },
 "nbformat": 4,
 "nbformat_minor": 2
}
