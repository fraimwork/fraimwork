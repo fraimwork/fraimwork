{
 "cells": [
  {
   "cell_type": "code",
   "execution_count": 1,
   "metadata": {},
   "outputs": [],
   "source": [
    "import datetime, time, math, os, json, shutil, asyncio, networkx as nx\n",
    "from utils.gitutils import create_pull_request, clone_repo, create_branch, wipe_repo, prepare_repo\n",
    "from utils.agent import Agent, GenerationConfig, Interaction, Team\n",
    "from utils.stringutils import arr_from_sep_string, extract_markdown_blocks, markdown_to_dict, find_most_similar_substring\n",
    "from utils.filetreeutils import FileTree, write_file_tree\n",
    "from utils.listutils import flatten\n",
    "from utils.frameworkutils import DartAnalyzer\n",
    "from dotenv import load_dotenv\n",
    "from utils.graphutils import loose_level_order, collapsed_level_order\n",
    "from utils.frameworkutils import Framework"
   ]
  },
  {
   "cell_type": "code",
   "execution_count": 2,
   "metadata": {},
   "outputs": [],
   "source": [
    "load_dotenv()  # Load environment variables from .env\n",
    "\n",
    "GITHUB_TOKEN = os.getenv('GITHUB_TOKEN')\n",
    "API_KEY = os.getenv('API_KEY')"
   ]
  },
  {
   "cell_type": "code",
   "execution_count": 3,
   "metadata": {},
   "outputs": [],
   "source": [
    "repo_url = 'https://github.com/6165-MSET-CuttleFish/TeamTrack'\n",
    "source = Framework.FLUTTER\n",
    "feature = f\"\"\"## Name\n",
    "Organizations\n",
    "## Description\n",
    "Organizations are a way to group users together. They can be used to automatically share events with the members of the organization whenever they are uploaded to the cloud. \\\n",
    "Organizations consist of a name, team number, and a backend-generated unique id. They can also have a profile picture, description, and location. \\\n",
    "Members can also opt to be publicly listed as a member of the organization or not. \\\n",
    "\"\"\""
   ]
  },
  {
   "cell_type": "code",
   "execution_count": 4,
   "metadata": {},
   "outputs": [],
   "source": [
    "# Clone the repo and make a new branch\n",
    "repo = clone_repo(repo_url)\n",
    "base_branch = repo.active_branch.name\n",
    "created_branch = f\"modification-{base_branch}\"\n",
    "local_repo_path = str(repo.working_dir)\n",
    "working_dir_path = f'{local_repo_path}\\\\{source.get_working_dir()}'"
   ]
  },
  {
   "cell_type": "code",
   "execution_count": 5,
   "metadata": {},
   "outputs": [],
   "source": [
    "source_swe_summarizer = Agent(\n",
    "    model_name=\"gemini-1.5-flash-001\",\n",
    "    api_key=API_KEY,\n",
    "    name=\"source_swe_analyzer\",\n",
    "    generation_config=GenerationConfig(temperature=0.7),\n",
    "    system_prompt=f'''You are a {source} software engineer. Your job is to summarize the functionality of provided code files. Structure your response as follows:\n",
    "\n",
    "# filename.ext:\n",
    "\n",
    "$7 sentence summary of the functionality/contents of the file$\n",
    "'''\n",
    ")\n",
    "\n",
    "pm = Agent(\n",
    "    model_name=\"gemini-1.5-pro-001\",\n",
    "    api_key=API_KEY,\n",
    "    name=\"pm\",\n",
    "    generation_config=GenerationConfig(temperature=0.3),\n",
    "    system_prompt=f\"\"\"You are a high-level technical project manager tasked with the project of adding functionality to a {source} repository.\"\"\"\n",
    ")\n",
    "\n",
    "source_swe_coder = Agent(\n",
    "    model_name=\"gemini-1.5-flash-001\",\n",
    "    api_key=API_KEY,\n",
    "    name=\"source_swe_coder\",\n",
    "    generation_config=GenerationConfig(temperature=0.5),\n",
    "    system_prompt=f\"You are a {source} software engineer. Your job is to write code to implement a specific feature. Respond with code and nothing else. No explanations needed.\"\n",
    ")\n",
    "\n",
    "team = Team(source_swe_summarizer, pm, source_swe_coder)"
   ]
  },
  {
   "cell_type": "code",
   "execution_count": 6,
   "metadata": {},
   "outputs": [],
   "source": [
    "analyzer = source.get_analyzer(working_dir_path)\n",
    "\n",
    "source_dependency_graph = analyzer.buildDependencyGraph()"
   ]
  },
  {
   "cell_type": "code",
   "execution_count": 7,
   "metadata": {},
   "outputs": [
    {
     "name": "stdout",
     "output_type": "stream",
     "text": [
      "['models\\\\StatConfig.dart', 'models\\\\AppModel.dart']\n",
      "['models\\\\GameModel.dart']\n",
      "['models\\\\ScoreModel.dart']\n",
      "['functions\\\\Extensions.dart', 'components\\\\misc\\\\PlatformGraphics.dart']\n",
      "['components\\\\statistics\\\\BarGraph.dart', 'components\\\\users\\\\PFP.dart']\n",
      "['components\\\\users\\\\UsersRow.dart', 'functions\\\\Statistics.dart', 'components\\\\scores\\\\Incrementor.dart', 'components\\\\scores\\\\ScoreSummary.dart', 'providers\\\\Auth.dart']\n",
      "['views\\\\home\\\\match\\\\MatchView.dart']\n",
      "['components\\\\statistics\\\\PercentChange.dart', 'functions\\\\Functions.dart']\n",
      "['models\\\\Change.dart', 'components\\\\scores\\\\ScoreRangeSummary.dart', 'components\\\\scores\\\\ScoreTimeline.dart']\n",
      "['views\\\\home\\\\match\\\\MatchRow.dart', 'views\\\\home\\\\change\\\\ChangeConfig.dart', 'views\\\\home\\\\change\\\\ChangeRow.dart', 'components\\\\misc\\\\EmptyList.dart', 'views\\\\home\\\\match\\\\ExampleMatchRow.dart', 'components\\\\misc\\\\CardView.dart', 'views\\\\home\\\\match\\\\MatchConfig.dart', 'components\\\\statistics\\\\CheckList.dart', 'components\\\\scores\\\\ScoringElementStats.dart']\n",
      "['views\\\\home\\\\match\\\\MatchList.dart', 'components\\\\misc\\\\Collapsible.dart', 'components\\\\scores\\\\ScoreCard.dart', 'views\\\\home\\\\change\\\\ChangeList.dart', 'components\\\\AutonomousDrawingTool.dart']\n",
      "['views\\\\home\\\\team\\\\AutonDrawer.dart']\n",
      "['views\\\\home\\\\team\\\\ExampleTeamRow.dart', 'views\\\\home\\\\team\\\\TeamView.dart', 'views\\\\home\\\\util\\\\Permissions.dart', 'views\\\\home\\\\team\\\\TeamRow.dart']\n",
      "['views\\\\home\\\\team\\\\TeamList.dart', 'functions\\\\APIMethods.dart', 'views\\\\home\\\\events\\\\EventShare.dart']\n",
      "['views\\\\auth\\\\SignUpScreen.dart', 'views\\\\home\\\\events\\\\EventView.dart']\n",
      "['views\\\\inbox\\\\BlockList.dart', 'views\\\\auth\\\\Login.dart', 'providers\\\\PushNotifications.dart', 'views\\\\templates\\\\TemplatesList.dart', 'providers\\\\Theme.dart', 'views\\\\home\\\\events\\\\EventsList.dart', 'views\\\\inbox\\\\Inbox.dart']\n",
      "['views\\\\LandingPage.dart']\n",
      "['views\\\\auth\\\\AuthenticationWrapper.dart', 'models\\\\GPTModel.dart']\n",
      "['views\\\\home\\\\team\\\\AllianceSimulator.dart', 'views\\\\home\\\\team\\\\TeamAllianceRecommend.dart', 'views\\\\home\\\\events\\\\ImageView.dart', 'api\\\\README.MD', 'providers\\\\UserPresence.dart', 'views\\\\home\\\\events\\\\CameraView.dart', 'main.dart', 'views\\\\home\\\\team\\\\AllianceSelection.dart', 'functions\\\\ResponseModel.dart', 'views\\\\home\\\\team\\\\TeamRowAlliance.dart', 'views\\\\templates\\\\TemplateView.dart', 'functions\\\\GPTModel.dart', 'views\\\\auth\\\\Verify.dart', 'components\\\\misc\\\\InfoPills.dart']\n",
      "Number of levels: 19\n"
     ]
    }
   ],
   "source": [
    "# loose level order\n",
    "eval_order = loose_level_order(source_dependency_graph)[::-1]\n",
    "for level in eval_order:\n",
    "    print(level)\n",
    "print(f\"Number of levels: {len(eval_order)}\")"
   ]
  },
  {
   "cell_type": "code",
   "execution_count": 8,
   "metadata": {},
   "outputs": [
    {
     "data": {
      "text/plain": [
       "├── api\\\n",
       "│   ├── README.MD\n",
       "├── components\\\n",
       "│   ├── misc\\\n",
       "│   │   ├── CardView.dart\n",
       "│   │   ├── Collapsible.dart\n",
       "│   │   ├── EmptyList.dart\n",
       "│   │   ├── InfoPills.dart\n",
       "│   │   ├── PlatformGraphics.dart\n",
       "│   ├── scores\\\n",
       "│   │   ├── Incrementor.dart\n",
       "│   │   ├── ScoreCard.dart\n",
       "│   │   ├── ScoreRangeSummary.dart\n",
       "│   │   ├── ScoreSummary.dart\n",
       "│   │   ├── ScoreTimeline.dart\n",
       "│   │   ├── ScoringElementStats.dart\n",
       "│   ├── statistics\\\n",
       "│   │   ├── BarGraph.dart\n",
       "│   │   ├── CheckList.dart\n",
       "│   │   ├── PercentChange.dart\n",
       "│   ├── users\\\n",
       "│   │   ├── PFP.dart\n",
       "│   │   ├── UsersRow.dart\n",
       "│   ├── AutonomousDrawingTool.dart\n",
       "├── functions\\\n",
       "│   ├── APIMethods.dart\n",
       "│   ├── Extensions.dart\n",
       "│   ├── Functions.dart\n",
       "│   ├── GPTModel.dart\n",
       "│   ├── ResponseModel.dart\n",
       "│   ├── Statistics.dart\n",
       "├── models\\\n",
       "│   ├── AppModel.dart\n",
       "│   ├── Change.dart\n",
       "│   ├── GameModel.dart\n",
       "│   ├── GPTModel.dart\n",
       "│   ├── ScoreModel.dart\n",
       "│   ├── StatConfig.dart\n",
       "├── providers\\\n",
       "│   ├── Auth.dart\n",
       "│   ├── PushNotifications.dart\n",
       "│   ├── Theme.dart\n",
       "│   ├── UserPresence.dart\n",
       "├── views\\\n",
       "│   ├── auth\\\n",
       "│   │   ├── AuthenticationWrapper.dart\n",
       "│   │   ├── Login.dart\n",
       "│   │   ├── SignUpScreen.dart\n",
       "│   │   ├── Verify.dart\n",
       "│   ├── home\\\n",
       "│   │   ├── change\\\n",
       "│   │   │   ├── ChangeConfig.dart\n",
       "│   │   │   ├── ChangeList.dart\n",
       "│   │   │   ├── ChangeRow.dart\n",
       "│   │   ├── events\\\n",
       "│   │   │   ├── CameraView.dart\n",
       "│   │   │   ├── EventShare.dart\n",
       "│   │   │   ├── EventsList.dart\n",
       "│   │   │   ├── EventView.dart\n",
       "│   │   │   ├── ImageView.dart\n",
       "│   │   ├── match\\\n",
       "│   │   │   ├── ExampleMatchRow.dart\n",
       "│   │   │   ├── MatchConfig.dart\n",
       "│   │   │   ├── MatchList.dart\n",
       "│   │   │   ├── MatchRow.dart\n",
       "│   │   │   ├── MatchView.dart\n",
       "│   │   ├── team\\\n",
       "│   │   │   ├── AllianceSelection.dart\n",
       "│   │   │   ├── AllianceSimulator.dart\n",
       "│   │   │   ├── AutonDrawer.dart\n",
       "│   │   │   ├── ExampleTeamRow.dart\n",
       "│   │   │   ├── TeamAllianceRecommend.dart\n",
       "│   │   │   ├── TeamList.dart\n",
       "│   │   │   ├── TeamRow.dart\n",
       "│   │   │   ├── TeamRowAlliance.dart\n",
       "│   │   │   ├── TeamView.dart\n",
       "│   │   ├── util\\\n",
       "│   │   │   ├── Permissions.dart\n",
       "│   ├── inbox\\\n",
       "│   │   ├── BlockList.dart\n",
       "│   │   ├── Inbox.dart\n",
       "│   ├── templates\\\n",
       "│   │   ├── TemplatesList.dart\n",
       "│   │   ├── TemplateView.dart\n",
       "│   ├── LandingPage.dart\n",
       "├── main.dart"
      ]
     },
     "execution_count": 8,
     "metadata": {},
     "output_type": "execute_result"
    }
   ],
   "source": [
    "(source_file_tree := FileTree.from_dir(working_dir_path))"
   ]
  },
  {
   "cell_type": "code",
   "execution_count": 9,
   "metadata": {},
   "outputs": [
    {
     "name": "stderr",
     "output_type": "stream",
     "text": [
      "100%|██████████| 19/19 [01:38<00:00,  5.20s/it]\n"
     ]
    }
   ],
   "source": [
    "# Summarize the original repo\n",
    "from tqdm import tqdm\n",
    "\n",
    "async def summarize_group(group):\n",
    "    async def summarize(node):\n",
    "        name = source_file_tree.nodes[node]['name']\n",
    "        content = source_file_tree.nodes[node]['content']\n",
    "        message = f\"{name}\\n```\\n{content}\\n```\"\n",
    "        return await team.async_chat_with_agent(\n",
    "            agent_name='source_swe_analyzer',\n",
    "            message=message,\n",
    "            context_keys=[f\"summary_{neighbor}\" for neighbor in source_dependency_graph[node]],\n",
    "            save_keys=[f\"summary_{node}\", \"all\"],\n",
    "            prompt_title=f\"Summary of {node}\"\n",
    "            )\n",
    "    tasks = [summarize(node) for node in group]\n",
    "    responses = await asyncio.gather(*tasks)\n",
    "    for i, response in enumerate(responses):\n",
    "        source_file_tree.nodes[group[i]][\"summary\"] = response\n",
    "\n",
    "for level in tqdm(eval_order):\n",
    "    await summarize_group(level)\n",
    "    time.sleep(0.5)"
   ]
  },
  {
   "cell_type": "code",
   "execution_count": 10,
   "metadata": {},
   "outputs": [
    {
     "name": "stdout",
     "output_type": "stream",
     "text": [
      "The repository implements a Flutter application named \"TeamTrack\" designed for managing and analyzing data related to FTC robotics competitions.  It leverages Firebase for user authentication, data storage, and real-time updates. The app provides features for:\n",
      "\n",
      "- **Event Management:**  Creating, sharing, and managing events, including adding teams and matches, importing match schedules from images, and fetching scores from the The Orange Alliance (TOA) API.\n",
      "- **Team Management:**  Viewing team details, scores, autonomous paths, and statistics, allowing users to sort and filter data based on different criteria.\n",
      "- **Alliance Simulation:**  Providing tools to simulate alliance formations based on team performance and GPT-powered recommendations.\n",
      "- **Push Notifications:**  Sending and receiving push notifications to keep users informed about event updates and invitations.\n",
      "- **User Management:**  Creating accounts, managing user permissions, and blocking users.\n",
      "- **Data Analysis:**  Displaying statistical information about teams and matches, including score timelines, percentage changes, and other visualizations.\n",
      "- **Autonomous Path Drawing:**  Capturing and storing autonomous paths for analysis.\n",
      "\n",
      "The app utilizes a combination of widgets, providers, and services to provide a user-friendly interface for managing and analyzing FTC competition data. It leverages platform-specific widgets to ensure consistent UI across different platforms and uses Firebase services for authentication, data storage, and real-time updates. \n",
      "\n"
     ]
    }
   ],
   "source": [
    "prompt = f\"\"\"This is the file tree for the original {source} repo:\n",
    "```\n",
    "{source.get_working_dir()}\\\\\n",
    "{source_file_tree}\n",
    "```\n",
    "Given the prior context, summarize the functionality of the entire repository succinctly.\n",
    "\"\"\"\n",
    "print(team.chat_with_agent('source_swe_analyzer', prompt, context_keys=[\"all\"], save_keys=[\"all\"], prompt_title=f\"\"\"Repository Summary.\n",
    "File Tree provided:\n",
    "```\n",
    "{source.get_working_dir()}\\\\\n",
    "{source_file_tree}\n",
    "```\n",
    "\"\"\"))"
   ]
  },
  {
   "cell_type": "code",
   "execution_count": 11,
   "metadata": {},
   "outputs": [
    {
     "data": {
      "text/plain": [
       "21170"
      ]
     },
     "execution_count": 11,
     "metadata": {},
     "output_type": "execute_result"
    }
   ],
   "source": [
    "curr_string = '\\n'.join([message['parts'][0] for interaction in team.context_threads['all'] for message in interaction.to_dict()])\n",
    "(curr_tokens := pm.model.count_tokens(curr_string).total_tokens)"
   ]
  },
  {
   "cell_type": "code",
   "execution_count": 12,
   "metadata": {},
   "outputs": [
    {
     "data": {
      "text/plain": [
       "122951"
      ]
     },
     "execution_count": 12,
     "metadata": {},
     "output_type": "execute_result"
    }
   ],
   "source": [
    "would_be_string = '\\n'.join([source_file_tree.nodes[node]['content'] for node in source_dependency_graph.nodes])\n",
    "(would_be_tokens := pm.model.count_tokens(would_be_string).total_tokens)"
   ]
  },
  {
   "cell_type": "code",
   "execution_count": 13,
   "metadata": {},
   "outputs": [
    {
     "data": {
      "text/plain": [
       "0.8278175858675407"
      ]
     },
     "execution_count": 13,
     "metadata": {},
     "output_type": "execute_result"
    }
   ],
   "source": [
    "(percent_tokens_reduction := 1 - (curr_tokens / would_be_tokens))"
   ]
  },
  {
   "cell_type": "code",
   "execution_count": 20,
   "metadata": {},
   "outputs": [
    {
     "name": "stdout",
     "output_type": "stream",
     "text": [
      "```\n",
      "| WRITE | lib/models/Organization.dart | Implement the `Organization` class with the following properties:\n",
      "    - `id`: String (backend-generated unique ID)\n",
      "    - `name`: String\n",
      "    - `teamNumber`: String\n",
      "    - `description`: String? (optional)\n",
      "    - `location`: String? (optional)\n",
      "    - `photoUrl`: String? (optional)\n",
      "| WRITE | lib/models/OrganizationMembership.dart | Implement the `OrganizationMembership` class with the following properties:\n",
      "    - `organizationId`: String\n",
      "    - `userId`: String\n",
      "    - `isPublic`: bool (whether the membership is publicly visible)\n",
      "| WRITE | lib/providers/OrganizationProvider.dart | Implement the `OrganizationProvider` class to handle organization-related data operations:\n",
      "    - `getOrganizationById`: Fetch an organization by its ID.\n",
      "    - `createOrganization`: Create a new organization.\n",
      "    - `updateOrganization`: Update an existing organization.\n",
      "    - `deleteOrganization`: Delete an organization.\n",
      "    - `getUserOrganizations`: Get a list of organizations a user is a member of.\n",
      "    - `addUserToOrganization`: Add a user to an organization.\n",
      "    - `removeUserFromOrganization`: Remove a user from an organization.\n",
      "| EDIT | lib/views/LandingPage.dart | Add a new tab for \"Organizations\" and display the `OrganizationsList` widget in the tab view.\n",
      "| WRITE | lib/views/organizations/OrganizationsList.dart | Implement the `OrganizationsList` widget to display a list of organizations the user is a member of:\n",
      "    - Fetch the list of organizations from `OrganizationProvider`.\n",
      "    - Display each organization in a `ListTile`.\n",
      "    - Navigate to `OrganizationView` when a list item is tapped.\n",
      "| WRITE | lib/views/organizations/OrganizationView.dart | Implement the `OrganizationView` widget to display details of a specific organization.\n",
      "| EDIT | lib/main.dart | Add `OrganizationProvider` to the `MultiProvider` to make it accessible throughout the app.\n",
      "```\n"
     ]
    }
   ],
   "source": [
    "response_format = f\"\"\"\n",
    "You may choose ACTIONS from the following list:\n",
    "- | WRITE | $FILE_PATH$ | $PROMPT$ (PROMPT should be a brief instruction for how the new FILE_PATH should be WRITTEN)\n",
    "- | EDIT | $FILE_PATH$ | $PROMPT$ (PROMPT should be a brief instruction for how the FILE_PATH should be EDITED)\n",
    "- | DELETE | $FILE_PATH$ (Delete the provided file)\n",
    "----------\n",
    "Here is a sample response:\n",
    "```\n",
    "| WRITE | {source.get_working_dir()}\\\\path\\\\to\\\\newfile.ext | Implement ... with the following properties:\n",
    "    - property1\n",
    "    - property2\n",
    "    - dependency1\n",
    "    - dependency2\n",
    "| EDIT | {source.get_working_dir()}\\\\path\\\\to\\\\file.ext | Fix the bug ... by doing:\n",
    "    - step1\n",
    "    - step2\n",
    "| DELETE | {source.get_working_dir()}\\\\path\\\\to\\\\some\\\\file.ext | Reasons for deletion:\n",
    "    - reason1\n",
    "    - reason2\n",
    "```\n",
    "It is VERY important that you only respond with a high level overview of what to do. The actual implementation will be done by the coder.\n",
    "\"\"\"\n",
    "\n",
    "# Create new file tree\n",
    "prompt = f'''\n",
    "You are to build the following feature:\n",
    "{feature}\n",
    "------------------\n",
    "{response_format}\n",
    "------------------\n",
    "You need to follow the response template structure exactly (MY JOB DEPENDS ON IT)\n",
    "'''\n",
    "print(response := team.chat_with_agent(\"pm\", prompt, context_keys=[\"all\"], save_keys=[\"all\"], prompt_title=\"Feature Creation Steps\"))"
   ]
  },
  {
   "cell_type": "code",
   "execution_count": 21,
   "metadata": {},
   "outputs": [
    {
     "name": "stdout",
     "output_type": "stream",
     "text": [
      "('WRITE', 'models/Organization.dart', 'Implement the `Organization` class with the following properties:\\n    - `id`: String (backend-generated unique ID)\\n    - `name`: String\\n    - `teamNumber`: String\\n    - `description`: String? (optional)\\n    - `location`: String? (optional)\\n    - `photoUrl`: String? (optional)')\n",
      "('WRITE', 'models/OrganizationMembership.dart', 'Implement the `OrganizationMembership` class with the following properties:\\n    - `organizationId`: String\\n    - `userId`: String\\n    - `isPublic`: bool (whether the membership is publicly visible)')\n",
      "('WRITE', 'providers/OrganizationProvider.dart', 'Implement the `OrganizationProvider` class to handle organization-related data operations:\\n    - `getOrganizationById`: Fetch an organization by its ID.\\n    - `createOrganization`: Create a new organization.\\n    - `updateOrganization`: Update an existing organization.\\n    - `deleteOrganization`: Delete an organization.\\n    - `getUserOrganizations`: Get a list of organizations a user is a member of.\\n    - `addUserToOrganization`: Add a user to an organization.\\n    - `removeUserFromOrganization`: Remove a user from an organization.')\n",
      "('EDIT', 'views/LandingPage.dart', 'Add a new tab for \"Organizations\" and display the `OrganizationsList` widget in the tab view.')\n",
      "('WRITE', 'views/organizations/OrganizationsList.dart', 'Implement the `OrganizationsList` widget to display a list of organizations the user is a member of:\\n    - Fetch the list of organizations from `OrganizationProvider`.\\n    - Display each organization in a `ListTile`.\\n    - Navigate to `OrganizationView` when a list item is tapped.')\n",
      "('WRITE', 'views/organizations/OrganizationView.dart', 'Implement the `OrganizationView` widget to display details of a specific organization.')\n",
      "('EDIT', 'main.dart', 'Add `OrganizationProvider` to the `MultiProvider` to make it accessible throughout the app.')\n"
     ]
    }
   ],
   "source": [
    "md = extract_markdown_blocks(response)[0]\n",
    "blocks = md.split(\"|\")\n",
    "actions = []\n",
    "i = 0\n",
    "while i < len(blocks):\n",
    "    block = blocks[i].strip()\n",
    "    if block != \"WRITE\" and block != \"EDIT\" and block != \"DELETE\":\n",
    "        i += 1\n",
    "        continue\n",
    "    action, file, prompt = blocks[i:i + 3]\n",
    "    action = action.strip()\n",
    "    file = file.strip()[len(source.get_working_dir()) + 1:]\n",
    "    prompt = prompt.strip()\n",
    "    actions.append((action, file, prompt))\n",
    "    i += 3\n",
    "for action in actions:\n",
    "    print(action)"
   ]
  },
  {
   "cell_type": "code",
   "execution_count": 22,
   "metadata": {},
   "outputs": [
    {
     "data": {
      "text/plain": [
       "23643"
      ]
     },
     "execution_count": 22,
     "metadata": {},
     "output_type": "execute_result"
    }
   ],
   "source": [
    "source_swe_coder.model.count_tokens('\\n'.join(message['parts'][0] for interaction in team.context_threads['all'] for message in interaction.to_dict())).total_tokens"
   ]
  },
  {
   "cell_type": "code",
   "execution_count": 23,
   "metadata": {},
   "outputs": [
    {
     "data": {
      "text/plain": [
       "47255"
      ]
     },
     "execution_count": 23,
     "metadata": {},
     "output_type": "execute_result"
    }
   ],
   "source": [
    "# Cache the context threads\n",
    "factor = 32768 / source_swe_coder.model.count_tokens('\\n'.join(message['parts'][0] for interaction in team.context_threads['all'] for message in interaction.to_dict())).total_tokens\n",
    "# eg. if factor is 3.2, round to 4\n",
    "factor = math.ceil(factor)\n",
    "thread = team.context_threads['all'].copy()\n",
    "thread *= factor\n",
    "source_swe_coder.model.count_tokens('\\n'.join(message['parts'][0] for interaction in thread for message in interaction.to_dict())).total_tokens"
   ]
  },
  {
   "cell_type": "code",
   "execution_count": 24,
   "metadata": {},
   "outputs": [],
   "source": [
    "def write(file_path, prompt):\n",
    "    response = source_swe_coder.chat(f\"Instructions for {file_path}:\\n{prompt}\")\n",
    "    md = extract_markdown_blocks(response)[0]\n",
    "    path = f\"{working_dir_path}\\\\{file_path}\"\n",
    "    if not os.path.exists(os.path.dirname(path)):\n",
    "        os.makedirs(os.path.dirname(path))\n",
    "    with open(path, 'w') as f:\n",
    "        f.write(md)\n",
    "\n",
    "def edit(file_path, prompt):\n",
    "    with open(f\"{working_dir_path}\\\\{file_path}\", 'r') as f:\n",
    "        content = f.read()\n",
    "    response = source_swe_coder.chat(f\"\"\"{prompt}\n",
    "We will solve this problem by dividing the edit into smaller sub-edits. Structure your response as follows:\n",
    "# Step 1\n",
    "$Brief description of the first sub-change$\n",
    "## Short Old Code Snippet 1\n",
    "```\n",
    "$short old code snippet that needs to changed$\n",
    "```\n",
    "## New Code Snippet 1\n",
    "```\n",
    "$the new code snippet needed to fulfill the prompt$\n",
    "```\n",
    "------------------\n",
    "...\n",
    "...\n",
    "------------------\n",
    "# Step N\n",
    "$Brief description of the Nth sub-change$\n",
    "## Short Old Code Snippet N\n",
    "```\n",
    "$...$\n",
    "```\n",
    "## New Code Snippet N\n",
    "```\n",
    "$...$\n",
    "```.\n",
    "I have a very advanced algorithm to find the closest match to the old code snippet, so you only need to provide a FEW lines (around 10 lines) of padding context around the old code snippet.\n",
    "MAKE SURE THAT EACH SNIPPET IS SHORT (MY JOB DEPENDS ON IT).\n",
    "Additionally, DO NOT RESPOND WITH A DIFF FILE OR IN A DIFFERENT FORMAT, MY JOB ALSO DEPENDS ON IT\"\"\", custom_context=[Interaction(f\"Contents of {file_path}\", content)])\n",
    "    blocks = extract_markdown_blocks(response)\n",
    "    # even blocks are old code, odd blocks are new code\n",
    "    old_codes = [block for i, block in enumerate(blocks) if i % 2 == 0]\n",
    "    new_codes = [block for i, block in enumerate(blocks) if i % 2 == 1]\n",
    "    closest_matches = []\n",
    "    for i in range(len(old_codes)):\n",
    "        old_code = old_codes[i]\n",
    "        closest_match, distance = find_most_similar_substring(content, old_code)\n",
    "        closest_matches.append(closest_match)\n",
    "    for i in range(len(old_codes)):\n",
    "        closest_match = closest_matches[i]\n",
    "        new_code = new_codes[i]\n",
    "        content = content.replace(closest_match, new_code)\n",
    "        # clear the contents of the file\n",
    "        with open(f'{working_dir_path}\\\\{file_path}', 'w') as f:\n",
    "            f.seek(0)\n",
    "            f.truncate()\n",
    "            f.write(content)\n",
    "\n",
    "def delete(file_path):\n",
    "    os.remove(f\"{working_dir_path}\\\\{file_path}\")"
   ]
  },
  {
   "cell_type": "code",
   "execution_count": 25,
   "metadata": {},
   "outputs": [
    {
     "name": "stderr",
     "output_type": "stream",
     "text": [
      "100%|██████████| 7/7 [00:46<00:00,  6.57s/it]\n"
     ]
    }
   ],
   "source": [
    "from utils.errorutils import repeat_until_finish\n",
    "from tqdm import tqdm\n",
    "\n",
    "for i in tqdm(range(len(actions))):\n",
    "    action, file, prompt = actions[i]\n",
    "    if action == 'WRITE':\n",
    "        repeat_until_finish(lambda: write(file, prompt), max_retries=2)\n",
    "    elif action == 'EDIT':\n",
    "        repeat_until_finish(lambda: edit(file, prompt), max_retries=2)\n",
    "    elif action == 'DELETE':\n",
    "        delete(file)"
   ]
  }
 ],
 "metadata": {
  "kernelspec": {
   "display_name": "base",
   "language": "python",
   "name": "python3"
  },
  "language_info": {
   "codemirror_mode": {
    "name": "ipython",
    "version": 3
   },
   "file_extension": ".py",
   "mimetype": "text/x-python",
   "name": "python",
   "nbconvert_exporter": "python",
   "pygments_lexer": "ipython3",
   "version": "3.11.7"
  }
 },
 "nbformat": 4,
 "nbformat_minor": 2
}
