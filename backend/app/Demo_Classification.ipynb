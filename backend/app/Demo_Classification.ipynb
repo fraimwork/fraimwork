{
 "cells": [
  {
   "cell_type": "code",
   "execution_count": null,
   "metadata": {},
   "outputs": [],
   "source": [
    "repo_url = 'https://github.com/fraimwork/fraimwork'"
   ]
  },
  {
   "cell_type": "code",
   "execution_count": null,
   "metadata": {},
   "outputs": [],
   "source": [
    "from utils.gitutils import clone_repo\n",
    "\n",
    "# Clone the repo\n",
    "repo = clone_repo(repo_url, max_size_mb=10000)\n",
    "local_repo_path = str(repo.working_dir)"
   ]
  },
  {
   "cell_type": "code",
   "execution_count": null,
   "metadata": {},
   "outputs": [],
   "source": [
    "from utils.filetreeutils import FileTree\n",
    "\n",
    "(file_tree := FileTree.from_dir(f'{local_repo_path}'))"
   ]
  },
  {
   "cell_type": "code",
   "execution_count": null,
   "metadata": {},
   "outputs": [],
   "source": [
    "from utils.agent import Agent, GenerationConfig\n",
    "from dotenv import load_dotenv\n",
    "import os\n",
    "\n",
    "load_dotenv()\n",
    "\n",
    "API_KEY = os.getenv('API_KEY')\n",
    "\n",
    "classifier = Agent(\n",
    "    model_name=\"gemini-1.5-flash-001\",\n",
    "    api_key=API_KEY,\n",
    "    name=\"classifier\",\n",
    "    generation_config=GenerationConfig(temperature=0.3),\n",
    "    system_prompt=f\"\"\"You are a software engineer tasked with classifying the framework of a codebase. \\\n",
    "In the following prompts, you will be given the subdirectories of a codebase. You can respond with one of the following:\n",
    "- IDENTIFY: FRAMEWORK_NAME (Only select this if you are absolutely certain)\n",
    "- N/A (if you cannot identify the framework based on the subdirectories)\"\"\"\n",
    ")"
   ]
  },
  {
   "cell_type": "code",
   "execution_count": null,
   "metadata": {},
   "outputs": [],
   "source": [
    "import re\n",
    "from utils.agent import Interaction\n",
    "from utils.languageutils import get_imports\n",
    "# RegEx to match classifier responses\n",
    "identify_re = re.compile(r\"IDENTIFY: (.+)\")\n",
    "search_re = re.compile(r\"OPEN: (.+)\")\n",
    "unable_re = re.compile(r\"N/A\")\n",
    "\n",
    "def classify_node(node):\n",
    "    if node not in file_tree.nodes:\n",
    "        print(f\"Node {node} not found in file tree\")\n",
    "        return\n",
    "    node_dict = file_tree.nodes[node]\n",
    "    neighbors = list(file_tree[node])\n",
    "    prompt = f\"{file_tree.nodes[node]['name']}\\n\" + '\\n'.join(f\"├── {file_tree.nodes[k]['name']}\" for k in neighbors)\n",
    "    all_imports = [f'Dependencies of {neighbor}\\n----\\n' + '\\n'.join(imports) for neighbor in neighbors if 'content' in file_tree.nodes[neighbor] and (imports := get_imports(file_tree.nodes[neighbor]['path']))]\n",
    "    context = [Interaction('...', '\\n'.join(imports for imports in all_imports))]\n",
    "    response = classifier.chat(prompt, custom_context=context)\n",
    "    # Match the response to the RegEx\n",
    "    if (m := identify_re.match(response)):\n",
    "        print(f\"{node_dict['name']} is a {m.group(1)} project\")\n",
    "        return m.group(1).strip()\n",
    "    elif (m := search_re.match(response)):\n",
    "        print(f\"Opening {m.group(1)} for {node_dict['name']} project\")\n",
    "        to_search = f'{node}\\\\{m.group(1).strip()}'\n",
    "        if node == file_tree.root_node(): to_search = to_search[len(file_tree.root_node()):]\n",
    "        return classify_node(to_search)\n",
    "    elif (m := unable_re.match(response)):\n",
    "        print(f\"Searching {node} ...\")\n",
    "        return [classify_node(node) for node in neighbors if 'content' not in file_tree.nodes[node]]\n",
    "    else:\n",
    "        print(f\"Classifier response: {response}\")\n",
    "\n",
    "(root_classification := classify_node(file_tree.root_node()))"
   ]
  }
 ],
 "metadata": {
  "kernelspec": {
   "display_name": "base",
   "language": "python",
   "name": "python3"
  },
  "language_info": {
   "codemirror_mode": {
    "name": "ipython",
    "version": 3
   },
   "file_extension": ".py",
   "mimetype": "text/x-python",
   "name": "python",
   "nbconvert_exporter": "python",
   "pygments_lexer": "ipython3",
   "version": "3.11.7"
  }
 },
 "nbformat": 4,
 "nbformat_minor": 2
}
