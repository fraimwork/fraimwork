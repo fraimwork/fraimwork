{
 "cells": [
  {
   "cell_type": "code",
   "execution_count": 1,
   "metadata": {},
   "outputs": [],
   "source": [
    "import os, json, asyncio, networkx as nx\n",
    "from flask import Flask, request\n",
    "from flask_cors import CORS\n",
    "from utils.gitutils import create_pull_request, clone_repo, create_branch\n",
    "from utils.agent import Agent, GenerationConfig, Interaction, Team\n",
    "from utils.stringutils import arr_from_sep_string, extract_markdown_blocks, markdown_to_dict\n",
    "from utils.filetreeutils import FileTree, write_file_tree\n",
    "from dotenv import load_dotenv\n",
    "import shutil\n",
    "\n",
    "app = Flask(__name__)\n",
    "CORS(app)\n",
    "\n",
    "load_dotenv()  # Load environment variables from .env\n",
    "\n",
    "PROJECT_ID = os.getenv('PROJECT_ID')\n",
    "LOCATION = os.getenv('LOCATION')\n",
    "GITHUB_TOKEN = os.getenv('GITHUB_TOKEN')\n",
    "API_KEY = os.getenv('API_KEY')\n",
    "\n",
    "extensions_of = {\n",
    "    \"flutter\": [\".dart\"],\n",
    "    \"react-native\": [\".ts, .js, .tsx, .jsx\"]\n",
    "    # Add more frameworks and their corresponding languages here\n",
    "}\n",
    "\n",
    "ignored_files_of = {\n",
    "    \"flutter\": [],\n",
    "    \"react-native\": []\n",
    "    # Add more frameworks and their corresponding ignored files here\n",
    "}\n",
    "\n",
    "def get_working_dir(framework):\n",
    "    match framework:\n",
    "        case \"flutter\":\n",
    "            return \"lib\"\n",
    "        case \"react-native\":\n",
    "            return \"src\"\n",
    "        case _:\n",
    "            return None\n",
    "\n",
    "def wipe_repo(repo_path, exceptions=set()):\n",
    "    for dir in os.listdir(repo_path):\n",
    "        path = os.path.join(repo_path, dir)\n",
    "        if os.path.isfile(path):\n",
    "            os.remove(path)\n",
    "        else:\n",
    "            dir_name = os.path.basename(dir)\n",
    "            if dir_name == \".git\" or dir_name in exceptions: continue\n",
    "            if os.listdir(path):\n",
    "                wipe_repo(path)\n",
    "            os.rmdir(os.path.join(repo_path, dir))\n",
    "\n",
    "def prepare_repo(repo_path, framework):\n",
    "    working_dir = get_working_dir(framework)\n",
    "    if not working_dir:\n",
    "        return \"Invalid framework\"\n",
    "    wipe_repo(repo_path)\n",
    "    os.makedirs(f\"{repo_path}/{working_dir}\", exist_ok=True)\n",
    "    return f'{repo_path}/{working_dir}'\n",
    "\n",
    "def failed_check_for_params(data, *params):\n",
    "    for param in params:\n",
    "        if not data[param]:\n",
    "            return f\"Error: Missing '{param}' parameter\", 400\n",
    "    return None\n",
    "\n",
    "# Load the request data\n",
    "repo_url = 'https://github.com/6165-MSET-CuttleFish/TeamTrack'\n",
    "source = 'flutter'\n",
    "target = 'react-native'"
   ]
  },
  {
   "cell_type": "code",
   "execution_count": 2,
   "metadata": {},
   "outputs": [],
   "source": [
    "# Clone the repo and make a new branch\n",
    "repo = clone_repo(repo_url)\n",
    "base_branch = repo.active_branch.name\n",
    "created_branch = f\"translation-{source}-{target}\"\n",
    "create_branch(repo, repo.active_branch.name, created_branch)\n",
    "local_repo_path = str(repo.working_dir)\n",
    "working_dir_path = f'{local_repo_path}\\\\{get_working_dir(source)}'"
   ]
  },
  {
   "cell_type": "code",
   "execution_count": 3,
   "metadata": {},
   "outputs": [],
   "source": [
    "# Initialize the agent and team\n",
    "target_swe = Agent(\n",
    "    model_name=\"gemini-1.5-flash-001\",\n",
    "    api_key=API_KEY,\n",
    "    name=\"target_swe\",\n",
    "    generation_config=GenerationConfig(temperature=0.8),\n",
    "    system_prompt=f\"You are a software engineer tasked with writing {target} code based on a {source} repo. Answer the following prompts to the best of your skills.\"\n",
    ")\n",
    "pm = Agent(\n",
    "    model_name=\"gemini-1.5-flash-001\",\n",
    "    api_key=API_KEY,\n",
    "    name=\"pm\",\n",
    "    generation_config=GenerationConfig(temperature=0.5),\n",
    "    system_prompt=f\"You are a high-level technical project manager tasked with the project of translating a repository from {source} to {target}. Answer the following prompts to the best of your knowledge.\"\n",
    ")\n",
    "source_swe = Agent(\n",
    "    model_name=\"gemini-1.5-flash-001\",\n",
    "    api_key=API_KEY,\n",
    "    name=\"source_swe\",\n",
    "    generation_config=GenerationConfig(temperature=0.7),\n",
    "    system_prompt=f'''You are a {source} software engineer. Your job is to summarize the functionality of provided code files. Structure your response as follows:\n",
    "\n",
    "# filename.ext:\n",
    "\n",
    "$7 sentence summary of the functionality/contents of the file$\n",
    "'''\n",
    ")\n",
    "team = Team(target_swe, pm, source_swe)"
   ]
  },
  {
   "cell_type": "code",
   "execution_count": 4,
   "metadata": {},
   "outputs": [],
   "source": [
    "from utils.languageutils import DartAnalyzer\n",
    "\n",
    "analyzer = DartAnalyzer(working_dir_path)\n",
    "\n",
    "source_dependency_graph = analyzer.buildDependencyGraph()"
   ]
  },
  {
   "cell_type": "code",
   "execution_count": 5,
   "metadata": {},
   "outputs": [
    {
     "name": "stdout",
     "output_type": "stream",
     "text": [
      "['models\\\\AppModel.dart', 'models\\\\StatConfig.dart']\n",
      "['models\\\\GameModel.dart']\n",
      "['models\\\\ScoreModel.dart']\n",
      "['components\\\\misc\\\\PlatformGraphics.dart', 'functions\\\\Extensions.dart']\n",
      "['components\\\\users\\\\PFP.dart', 'components\\\\statistics\\\\BarGraph.dart']\n",
      "['functions\\\\Statistics.dart', 'components\\\\users\\\\UsersRow.dart', 'components\\\\scores\\\\Incrementor.dart', 'components\\\\scores\\\\ScoreSummary.dart', 'providers\\\\Auth.dart']\n",
      "['views\\\\home\\\\match\\\\MatchView.dart']\n",
      "['functions\\\\Functions.dart', 'components\\\\statistics\\\\PercentChange.dart']\n",
      "['components\\\\scores\\\\ScoreRangeSummary.dart', 'components\\\\scores\\\\ScoreTimeline.dart', 'models\\\\Change.dart']\n",
      "['components\\\\misc\\\\EmptyList.dart', 'components\\\\statistics\\\\CheckList.dart', 'views\\\\home\\\\match\\\\ExampleMatchRow.dart', 'views\\\\home\\\\change\\\\ChangeRow.dart', 'views\\\\home\\\\match\\\\MatchConfig.dart', 'components\\\\scores\\\\ScoringElementStats.dart', 'views\\\\home\\\\match\\\\MatchRow.dart', 'components\\\\misc\\\\CardView.dart', 'views\\\\home\\\\change\\\\ChangeConfig.dart']\n",
      "['views\\\\home\\\\change\\\\ChangeList.dart', 'components\\\\AutonomousDrawingTool.dart', 'components\\\\misc\\\\Collapsible.dart', 'components\\\\scores\\\\ScoreCard.dart', 'views\\\\home\\\\match\\\\MatchList.dart']\n",
      "['views\\\\home\\\\team\\\\AutonDrawer.dart']\n",
      "['views\\\\home\\\\team\\\\ExampleTeamRow.dart', 'views\\\\home\\\\team\\\\TeamView.dart', 'views\\\\home\\\\util\\\\Permissions.dart', 'views\\\\home\\\\team\\\\TeamRow.dart']\n",
      "['views\\\\home\\\\events\\\\EventShare.dart', 'functions\\\\APIMethods.dart', 'views\\\\home\\\\team\\\\TeamList.dart']\n",
      "['views\\\\home\\\\events\\\\EventView.dart', 'views\\\\auth\\\\SignUpScreen.dart']\n",
      "['views\\\\home\\\\events\\\\EventsList.dart', 'providers\\\\Theme.dart', 'views\\\\templates\\\\TemplatesList.dart', 'views\\\\inbox\\\\Inbox.dart', 'views\\\\inbox\\\\BlockList.dart', 'providers\\\\PushNotifications.dart', 'views\\\\auth\\\\Login.dart']\n",
      "['views\\\\LandingPage.dart']\n",
      "['models\\\\GPTModel.dart', 'views\\\\auth\\\\AuthenticationWrapper.dart']\n",
      "['main.dart', 'components\\\\misc\\\\InfoPills.dart', 'functions\\\\GPTModel.dart', 'views\\\\home\\\\events\\\\CameraView.dart', 'views\\\\home\\\\team\\\\AllianceSimulator.dart', 'views\\\\home\\\\team\\\\TeamAllianceRecommend.dart', 'views\\\\templates\\\\TemplateView.dart', 'providers\\\\UserPresence.dart', 'views\\\\auth\\\\Verify.dart', 'views\\\\home\\\\team\\\\AllianceSelection.dart', 'views\\\\home\\\\team\\\\TeamRowAlliance.dart', 'functions\\\\ResponseModel.dart', 'api\\\\README.MD', 'views\\\\home\\\\events\\\\ImageView.dart']\n",
      "Number of levels: 19\n"
     ]
    }
   ],
   "source": [
    "from utils.graphutils import loose_level_order\n",
    "\n",
    "# loose level order\n",
    "eval_order = loose_level_order(source_dependency_graph)[::-1]\n",
    "for level in eval_order:\n",
    "    print(level)\n",
    "print(f\"Number of levels: {len(eval_order)}\")"
   ]
  },
  {
   "cell_type": "code",
   "execution_count": 6,
   "metadata": {},
   "outputs": [
    {
     "data": {
      "text/plain": [
       "├── api\\\n",
       "│   ├── README.MD\n",
       "├── components\\\n",
       "│   ├── misc\\\n",
       "│   │   ├── CardView.dart\n",
       "│   │   ├── Collapsible.dart\n",
       "│   │   ├── EmptyList.dart\n",
       "│   │   ├── InfoPills.dart\n",
       "│   │   ├── PlatformGraphics.dart\n",
       "│   ├── scores\\\n",
       "│   │   ├── Incrementor.dart\n",
       "│   │   ├── ScoreCard.dart\n",
       "│   │   ├── ScoreRangeSummary.dart\n",
       "│   │   ├── ScoreSummary.dart\n",
       "│   │   ├── ScoreTimeline.dart\n",
       "│   │   ├── ScoringElementStats.dart\n",
       "│   ├── statistics\\\n",
       "│   │   ├── BarGraph.dart\n",
       "│   │   ├── CheckList.dart\n",
       "│   │   ├── PercentChange.dart\n",
       "│   ├── users\\\n",
       "│   │   ├── PFP.dart\n",
       "│   │   ├── UsersRow.dart\n",
       "│   ├── AutonomousDrawingTool.dart\n",
       "├── functions\\\n",
       "│   ├── APIMethods.dart\n",
       "│   ├── Extensions.dart\n",
       "│   ├── Functions.dart\n",
       "│   ├── GPTModel.dart\n",
       "│   ├── ResponseModel.dart\n",
       "│   ├── Statistics.dart\n",
       "├── models\\\n",
       "│   ├── AppModel.dart\n",
       "│   ├── Change.dart\n",
       "│   ├── GameModel.dart\n",
       "│   ├── GPTModel.dart\n",
       "│   ├── ScoreModel.dart\n",
       "│   ├── StatConfig.dart\n",
       "├── providers\\\n",
       "│   ├── Auth.dart\n",
       "│   ├── PushNotifications.dart\n",
       "│   ├── Theme.dart\n",
       "│   ├── UserPresence.dart\n",
       "├── views\\\n",
       "│   ├── auth\\\n",
       "│   │   ├── AuthenticationWrapper.dart\n",
       "│   │   ├── Login.dart\n",
       "│   │   ├── SignUpScreen.dart\n",
       "│   │   ├── Verify.dart\n",
       "│   ├── home\\\n",
       "│   │   ├── change\\\n",
       "│   │   │   ├── ChangeConfig.dart\n",
       "│   │   │   ├── ChangeList.dart\n",
       "│   │   │   ├── ChangeRow.dart\n",
       "│   │   ├── events\\\n",
       "│   │   │   ├── CameraView.dart\n",
       "│   │   │   ├── EventShare.dart\n",
       "│   │   │   ├── EventsList.dart\n",
       "│   │   │   ├── EventView.dart\n",
       "│   │   │   ├── ImageView.dart\n",
       "│   │   ├── match\\\n",
       "│   │   │   ├── ExampleMatchRow.dart\n",
       "│   │   │   ├── MatchConfig.dart\n",
       "│   │   │   ├── MatchList.dart\n",
       "│   │   │   ├── MatchRow.dart\n",
       "│   │   │   ├── MatchView.dart\n",
       "│   │   ├── team\\\n",
       "│   │   │   ├── AllianceSelection.dart\n",
       "│   │   │   ├── AllianceSimulator.dart\n",
       "│   │   │   ├── AutonDrawer.dart\n",
       "│   │   │   ├── ExampleTeamRow.dart\n",
       "│   │   │   ├── TeamAllianceRecommend.dart\n",
       "│   │   │   ├── TeamList.dart\n",
       "│   │   │   ├── TeamRow.dart\n",
       "│   │   │   ├── TeamRowAlliance.dart\n",
       "│   │   │   ├── TeamView.dart\n",
       "│   │   ├── util\\\n",
       "│   │   │   ├── Permissions.dart\n",
       "│   ├── inbox\\\n",
       "│   │   ├── BlockList.dart\n",
       "│   │   ├── Inbox.dart\n",
       "│   ├── templates\\\n",
       "│   │   ├── TemplatesList.dart\n",
       "│   │   ├── TemplateView.dart\n",
       "│   ├── LandingPage.dart\n",
       "├── main.dart"
      ]
     },
     "execution_count": 6,
     "metadata": {},
     "output_type": "execute_result"
    }
   ],
   "source": [
    "(source_file_tree := FileTree.from_dir(working_dir_path))"
   ]
  },
  {
   "cell_type": "code",
   "execution_count": 7,
   "metadata": {},
   "outputs": [
    {
     "name": "stderr",
     "output_type": "stream",
     "text": [
      "100%|██████████| 19/19 [01:14<00:00,  3.94s/it]\n"
     ]
    }
   ],
   "source": [
    "# Summarize the original repo\n",
    "from tqdm import tqdm\n",
    "import time\n",
    "\n",
    "async def summarize_group(group):\n",
    "    async def summarize(node):\n",
    "        name = source_file_tree.nodes[node]['name']\n",
    "        content = source_file_tree.nodes[node]['content']\n",
    "        message = f\"{name}\\n```\\n{content}\\n```\"\n",
    "        return await team.async_chat_with_agent(\n",
    "            agent_name='source_swe',\n",
    "            message=message,\n",
    "            context_keys=[f\"summary_{neighbor}\" for neighbor in source_dependency_graph[node]],\n",
    "            save_keys=[f\"summary_{node}\", \"all\"],\n",
    "            prompt_title=f\"Summary of {name}\"\n",
    "            )\n",
    "    tasks = [summarize(node) for node in group]\n",
    "    responses = await asyncio.gather(*tasks)\n",
    "    for i, response in enumerate(responses):\n",
    "        source_file_tree.nodes[group[i]][\"summary\"] = response\n",
    "\n",
    "for level in tqdm(eval_order):\n",
    "    await summarize_group(level)\n",
    "    time.sleep(0.5)"
   ]
  },
  {
   "cell_type": "code",
   "execution_count": 8,
   "metadata": {},
   "outputs": [
    {
     "data": {
      "text/plain": [
       "16646"
      ]
     },
     "execution_count": 8,
     "metadata": {},
     "output_type": "execute_result"
    }
   ],
   "source": [
    "curr_string = '\\n'.join([message['parts'][0] for interaction in team.context_threads['all'] for message in interaction.to_dict()])\n",
    "(curr_tokens := pm.model.count_tokens(curr_string).total_tokens)"
   ]
  },
  {
   "cell_type": "code",
   "execution_count": 9,
   "metadata": {},
   "outputs": [
    {
     "data": {
      "text/plain": [
       "122963"
      ]
     },
     "execution_count": 9,
     "metadata": {},
     "output_type": "execute_result"
    }
   ],
   "source": [
    "would_be_string = '\\n'.join([source_file_tree.nodes[node]['content'] for node in source_dependency_graph.nodes])\n",
    "(would_be_tokens := pm.model.count_tokens(would_be_string).total_tokens)"
   ]
  },
  {
   "cell_type": "code",
   "execution_count": 10,
   "metadata": {},
   "outputs": [
    {
     "data": {
      "text/plain": [
       "0.8646259443897758"
      ]
     },
     "execution_count": 10,
     "metadata": {},
     "output_type": "execute_result"
    }
   ],
   "source": [
    "(percent_tokens_reduction := 1 - (curr_tokens / would_be_tokens))"
   ]
  },
  {
   "cell_type": "code",
   "execution_count": 11,
   "metadata": {},
   "outputs": [],
   "source": [
    "# Create new file tree\n",
    "prompt = f'''This is the file tree for the original {source} repo:\n",
    "```\n",
    "{get_working_dir(source)}\\\\\n",
    "{source_file_tree}\n",
    "```\n",
    "You are tasked with re-structuring the directory to create a file tree for the new react-native repo in the new working directory {get_working_dir(target)}\\\\. Format your response as follows:\n",
    "# Summary of Original Repo\n",
    "$less than 10 sentence summary of the original repo$\n",
    "\n",
    "# Methodology of Translation\n",
    "$Brief explanation of what needs to be translated (include things like filename changes for entry points and other structural changes)$\n",
    "\n",
    "# File Tree\n",
    "```\n",
    "{get_working_dir(target)}\\\\\n",
    "├── folder1\\\\\n",
    "│   ├── file1.ext\n",
    "├── folder2\\\\\n",
    "│   ├── folder3\\\\\n",
    "│   │   ├── file2.ext\n",
    "```\n",
    "*Only include files of type(s) {extensions_of[target]} in your file tree\n",
    "\n",
    "# All Correspondances\n",
    "$List all the files in the original repo and their corresponding file(s) in the new repo (N/A if no such file(s) exists)$\n",
    "```\n",
    "{get_working_dir(source)}\\\\path\\\\to\\\\{source}\\\\file1.ext --> {get_working_dir(target)}\\\\path\\\\to\\\\{target}\\\\file1.ext, {get_working_dir(target)}\\\\path\\\\to\\\\{target}\\\\file2.ext\n",
    "{get_working_dir(source)}\\\\path\\\\to\\\\{source}\\\\file2.ext --> {get_working_dir(target)}\\\\path\\\\to\\\\{target}\\\\file3.ext\n",
    "{get_working_dir(source)}\\\\path\\\\to\\\\{source}\\\\file_with_no_correspondant.ext --> N/A *do NOT provide a reason if n/a*\n",
    "```\n",
    "'''\n",
    "response = team.chat_with_agent('pm', prompt, context_keys=['all'], save_keys=['all'], prompt_title=f\"Translate file tree from {source} to {target}:\\n```\\n{get_working_dir(source)}\\\\\\n{source_file_tree}```\")"
   ]
  },
  {
   "cell_type": "code",
   "execution_count": 12,
   "metadata": {},
   "outputs": [],
   "source": [
    "response_dict = markdown_to_dict(response)\n",
    "\n",
    "raw_tree = extract_markdown_blocks(response_dict['file tree'])[0][len(get_working_dir(target)) + 2:]"
   ]
  },
  {
   "cell_type": "code",
   "execution_count": 13,
   "metadata": {},
   "outputs": [
    {
     "data": {
      "text/plain": [
       "├── components\\\n",
       "│   ├── misc\\\n",
       "│   │   ├── CardView.tsx\n",
       "│   │   ├── Collapsible.tsx\n",
       "│   │   ├── EmptyList.tsx\n",
       "│   │   ├── InfoPills.tsx\n",
       "│   │   ├── PlatformGraphics.tsx\n",
       "│   ├── scores\\\n",
       "│   │   ├── Incrementor.tsx\n",
       "│   │   ├── ScoreCard.tsx\n",
       "│   │   ├── ScoreRangeSummary.tsx\n",
       "│   │   ├── ScoreSummary.tsx\n",
       "│   │   ├── ScoreTimeline.tsx\n",
       "│   │   ├── ScoringElementStats.tsx\n",
       "│   ├── statistics\\\n",
       "│   │   ├── BarGraph.tsx\n",
       "│   │   ├── CheckList.tsx\n",
       "│   │   ├── PercentChange.tsx\n",
       "│   ├── users\\\n",
       "│   │   ├── PFP.tsx\n",
       "│   │   ├── UsersRow.tsx\n",
       "│   ├── AutonomousDrawingTool.tsx\n",
       "├── functions\\\n",
       "│   ├── APIMethods.ts\n",
       "│   ├── Extensions.ts\n",
       "│   ├── Functions.ts\n",
       "│   ├── GPTModel.ts\n",
       "│   ├── ResponseModel.ts\n",
       "│   ├── Statistics.ts\n",
       "├── models\\\n",
       "│   ├── AppModel.ts\n",
       "│   ├── Change.ts\n",
       "│   ├── GameModel.ts\n",
       "│   ├── GPTModel.ts\n",
       "│   ├── ScoreModel.ts\n",
       "│   ├── StatConfig.ts\n",
       "├── providers\\\n",
       "│   ├── Auth.ts\n",
       "│   ├── PushNotifications.ts\n",
       "│   ├── Theme.ts\n",
       "│   ├── UserPresence.ts\n",
       "├── views\\\n",
       "│   ├── auth\\\n",
       "│   │   ├── AuthenticationWrapper.tsx\n",
       "│   │   ├── Login.tsx\n",
       "│   │   ├── SignUpScreen.tsx\n",
       "│   │   ├── Verify.tsx\n",
       "│   ├── home\\\n",
       "│   │   ├── change\\\n",
       "│   │   │   ├── ChangeConfig.tsx\n",
       "│   │   │   ├── ChangeList.tsx\n",
       "│   │   │   ├── ChangeRow.tsx\n",
       "│   │   ├── events\\\n",
       "│   │   │   ├── CameraView.tsx\n",
       "│   │   │   ├── EventShare.tsx\n",
       "│   │   │   ├── EventsList.tsx\n",
       "│   │   │   ├── EventView.tsx\n",
       "│   │   │   ├── ImageView.tsx\n",
       "│   │   ├── match\\\n",
       "│   │   │   ├── ExampleMatchRow.tsx\n",
       "│   │   │   ├── MatchConfig.tsx\n",
       "│   │   │   ├── MatchList.tsx\n",
       "│   │   │   ├── MatchRow.tsx\n",
       "│   │   │   ├── MatchView.tsx\n",
       "│   │   ├── team\\\n",
       "│   │   │   ├── AllianceSelection.tsx\n",
       "│   │   │   ├── AllianceSimulator.tsx\n",
       "│   │   │   ├── AutonDrawer.tsx\n",
       "│   │   │   ├── ExampleTeamRow.tsx\n",
       "│   │   │   ├── TeamAllianceRecommend.tsx\n",
       "│   │   │   ├── TeamList.tsx\n",
       "│   │   │   ├── TeamRow.tsx\n",
       "│   │   │   ├── TeamRowAlliance.tsx\n",
       "│   │   │   ├── TeamView.tsx\n",
       "│   │   ├── util\\\n",
       "│   │   │   ├── Permissions.tsx\n",
       "│   ├── inbox\\\n",
       "│   │   ├── BlockList.tsx\n",
       "│   │   ├── Inbox.tsx\n",
       "│   ├── templates\\\n",
       "│   │   ├── TemplatesList.tsx\n",
       "│   │   ├── TemplateView.tsx\n",
       "│   ├── LandingPage.tsx\n",
       "├── index.js"
      ]
     },
     "execution_count": 13,
     "metadata": {},
     "output_type": "execute_result"
    }
   ],
   "source": [
    "wipe_repo(local_repo_path)\n",
    "# repo.git.commit(A=True, m=\"rm past\")\n",
    "working_dir_path = f'{local_repo_path}\\\\{get_working_dir(target)}'\n",
    "write_file_tree(raw_tree, working_dir_path)\n",
    "# repo.git.commit(A=True, m=\"A New Hope\")\n",
    "(target_file_tree := FileTree.from_dir(working_dir_path))"
   ]
  },
  {
   "cell_type": "code",
   "execution_count": 14,
   "metadata": {},
   "outputs": [
    {
     "data": {
      "text/plain": [
       "20204"
      ]
     },
     "execution_count": 14,
     "metadata": {},
     "output_type": "execute_result"
    }
   ],
   "source": [
    "pm.model.count_tokens('\\n'.join(message['parts'][0] for interaction in team.context_threads['all'] for message in interaction.to_dict())).total_tokens"
   ]
  },
  {
   "cell_type": "code",
   "execution_count": 15,
   "metadata": {},
   "outputs": [
    {
     "data": {
      "text/plain": [
       "40374"
      ]
     },
     "execution_count": 15,
     "metadata": {},
     "output_type": "execute_result"
    }
   ],
   "source": [
    "import datetime, math\n",
    "# Cache the context threads\n",
    "factor = 32768 / pm.model.count_tokens('\\n'.join(message['parts'][0] for interaction in team.context_threads['all'] for message in interaction.to_dict())).total_tokens\n",
    "# eg. if factor is 3.2, round to 4\n",
    "factor = math.ceil(factor)\n",
    "team.context_threads['all'] *= factor\n",
    "pm.model.count_tokens('\\n'.join(message['parts'][0] for interaction in team.context_threads['all'] for message in interaction.to_dict())).total_tokens"
   ]
  },
  {
   "cell_type": "code",
   "execution_count": 16,
   "metadata": {},
   "outputs": [],
   "source": [
    "pm.cache_context(team.context_threads['all'], ttl=datetime.timedelta(minutes=5))"
   ]
  },
  {
   "cell_type": "code",
   "execution_count": 17,
   "metadata": {},
   "outputs": [
    {
     "name": "stdout",
     "output_type": "stream",
     "text": [
      "You forgot to correspond the following files:\n",
      "\n",
      "----\n",
      "Correspond the files above in the same format as before.\n",
      "\n",
      "('api\\\\README.MD', 'api\\\\README.MD')\n",
      "('components\\\\misc\\\\CardView.dart', 'components\\\\misc\\\\CardView.tsx')\n",
      "('components\\\\misc\\\\Collapsible.dart', 'components\\\\misc\\\\Collapsible.tsx')\n",
      "('components\\\\misc\\\\EmptyList.dart', 'components\\\\misc\\\\EmptyList.tsx')\n",
      "('components\\\\misc\\\\InfoPills.dart', 'components\\\\misc\\\\InfoPills.tsx')\n",
      "('components\\\\misc\\\\PlatformGraphics.dart', 'components\\\\misc\\\\PlatformGraphics.tsx')\n",
      "('components\\\\scores\\\\Incrementor.dart', 'components\\\\scores\\\\Incrementor.tsx')\n",
      "('components\\\\scores\\\\ScoreCard.dart', 'components\\\\scores\\\\ScoreCard.tsx')\n",
      "('components\\\\scores\\\\ScoreRangeSummary.dart', 'components\\\\scores\\\\ScoreRangeSummary.tsx')\n",
      "('components\\\\scores\\\\ScoreSummary.dart', 'components\\\\scores\\\\ScoreSummary.tsx')\n",
      "('components\\\\scores\\\\ScoreTimeline.dart', 'components\\\\scores\\\\ScoreTimeline.tsx')\n",
      "('components\\\\scores\\\\ScoringElementStats.dart', 'components\\\\scores\\\\ScoringElementStats.tsx')\n",
      "('components\\\\statistics\\\\BarGraph.dart', 'components\\\\statistics\\\\BarGraph.tsx')\n",
      "('components\\\\statistics\\\\CheckList.dart', 'components\\\\statistics\\\\CheckList.tsx')\n",
      "('components\\\\statistics\\\\PercentChange.dart', 'components\\\\statistics\\\\PercentChange.tsx')\n",
      "('components\\\\users\\\\PFP.dart', 'components\\\\users\\\\PFP.tsx')\n",
      "('components\\\\users\\\\UsersRow.dart', 'components\\\\users\\\\UsersRow.tsx')\n",
      "('components\\\\AutonomousDrawingTool.dart', 'components\\\\AutonomousDrawingTool.tsx')\n",
      "('functions\\\\APIMethods.dart', 'functions\\\\APIMethods.ts')\n",
      "('functions\\\\Extensions.dart', 'functions\\\\Extensions.ts')\n",
      "('functions\\\\Functions.dart', 'functions\\\\Functions.ts')\n",
      "('functions\\\\GPTModel.dart', 'functions\\\\GPTModel.ts')\n",
      "('functions\\\\ResponseModel.dart', 'functions\\\\ResponseModel.ts')\n",
      "('functions\\\\Statistics.dart', 'functions\\\\Statistics.ts')\n",
      "('models\\\\AppModel.dart', 'models\\\\AppModel.ts')\n",
      "('models\\\\Change.dart', 'models\\\\Change.ts')\n",
      "('models\\\\GameModel.dart', 'models\\\\GameModel.ts')\n",
      "('models\\\\GPTModel.dart', 'models\\\\GPTModel.ts')\n",
      "('models\\\\ScoreModel.dart', 'models\\\\ScoreModel.ts')\n",
      "('models\\\\StatConfig.dart', 'models\\\\StatConfig.ts')\n",
      "('providers\\\\Auth.dart', 'providers\\\\Auth.ts')\n",
      "('providers\\\\PushNotifications.dart', 'providers\\\\PushNotifications.ts')\n",
      "('providers\\\\Theme.dart', 'providers\\\\Theme.ts')\n",
      "('providers\\\\UserPresence.dart', 'providers\\\\UserPresence.ts')\n",
      "('views\\\\auth\\\\AuthenticationWrapper.dart', 'views\\\\auth\\\\AuthenticationWrapper.tsx')\n",
      "('views\\\\auth\\\\Login.dart', 'views\\\\auth\\\\Login.tsx')\n",
      "('views\\\\auth\\\\SignUpScreen.dart', 'views\\\\auth\\\\SignUpScreen.tsx')\n",
      "('views\\\\auth\\\\Verify.dart', 'views\\\\auth\\\\Verify.tsx')\n",
      "('views\\\\home\\\\change\\\\ChangeConfig.dart', 'views\\\\home\\\\change\\\\ChangeConfig.tsx')\n",
      "('views\\\\home\\\\change\\\\ChangeList.dart', 'views\\\\home\\\\change\\\\ChangeList.tsx')\n",
      "('views\\\\home\\\\change\\\\ChangeRow.dart', 'views\\\\home\\\\change\\\\ChangeRow.tsx')\n",
      "('views\\\\home\\\\events\\\\CameraView.dart', 'views\\\\home\\\\events\\\\CameraView.tsx')\n",
      "('views\\\\home\\\\events\\\\EventShare.dart', 'views\\\\home\\\\events\\\\EventShare.tsx')\n",
      "('views\\\\home\\\\events\\\\EventsList.dart', 'views\\\\home\\\\events\\\\EventsList.tsx')\n",
      "('views\\\\home\\\\events\\\\EventView.dart', 'views\\\\home\\\\events\\\\EventView.tsx')\n",
      "('views\\\\home\\\\events\\\\ImageView.dart', 'views\\\\home\\\\events\\\\ImageView.tsx')\n",
      "('views\\\\home\\\\match\\\\ExampleMatchRow.dart', 'views\\\\home\\\\match\\\\ExampleMatchRow.tsx')\n",
      "('views\\\\home\\\\match\\\\MatchConfig.dart', 'views\\\\home\\\\match\\\\MatchConfig.tsx')\n",
      "('views\\\\home\\\\match\\\\MatchList.dart', 'views\\\\home\\\\match\\\\MatchList.tsx')\n",
      "('views\\\\home\\\\match\\\\MatchRow.dart', 'views\\\\home\\\\match\\\\MatchRow.tsx')\n",
      "('views\\\\home\\\\match\\\\MatchView.dart', 'views\\\\home\\\\match\\\\MatchView.tsx')\n",
      "('views\\\\home\\\\team\\\\AllianceSelection.dart', 'views\\\\home\\\\team\\\\AllianceSelection.tsx')\n",
      "('views\\\\home\\\\team\\\\AllianceSimulator.dart', 'views\\\\home\\\\team\\\\AllianceSimulator.tsx')\n",
      "('views\\\\home\\\\team\\\\AutonDrawer.dart', 'views\\\\home\\\\team\\\\AutonDrawer.tsx')\n",
      "('views\\\\home\\\\team\\\\ExampleTeamRow.dart', 'views\\\\home\\\\team\\\\ExampleTeamRow.tsx')\n",
      "('views\\\\home\\\\team\\\\TeamAllianceRecommend.dart', 'views\\\\home\\\\team\\\\TeamAllianceRecommend.tsx')\n",
      "('views\\\\home\\\\team\\\\TeamList.dart', 'views\\\\home\\\\team\\\\TeamList.tsx')\n",
      "('views\\\\home\\\\team\\\\TeamRow.dart', 'views\\\\home\\\\team\\\\TeamRow.tsx')\n",
      "('views\\\\home\\\\team\\\\TeamRowAlliance.dart', 'views\\\\home\\\\team\\\\TeamRowAlliance.tsx')\n",
      "('views\\\\home\\\\team\\\\TeamView.dart', 'views\\\\home\\\\team\\\\TeamView.tsx')\n",
      "('views\\\\home\\\\util\\\\Permissions.dart', 'views\\\\home\\\\util\\\\Permissions.tsx')\n",
      "('views\\\\inbox\\\\BlockList.dart', 'views\\\\inbox\\\\BlockList.tsx')\n",
      "('views\\\\inbox\\\\Inbox.dart', 'views\\\\inbox\\\\Inbox.tsx')\n",
      "('views\\\\templates\\\\TemplatesList.dart', 'views\\\\templates\\\\TemplatesList.tsx')\n",
      "('views\\\\templates\\\\TemplateView.dart', 'views\\\\templates\\\\TemplateView.tsx')\n",
      "('views\\\\LandingPage.dart', 'views\\\\LandingPage.tsx')\n",
      "('main.dart', 'index.js')\n"
     ]
    }
   ],
   "source": [
    "correspondance_graph = nx.Graph()\n",
    "correspondences = arr_from_sep_string(extract_markdown_blocks(response_dict['all correspondances'])[0], '\\n')\n",
    "for correspondence in correspondences:\n",
    "    source_file, target_files = arr_from_sep_string(correspondence, ' --> ')\n",
    "    if target_files == \"N/A\": continue\n",
    "    source_file = source_file[len(get_working_dir(source)) + 1:]\n",
    "    if not source_file_tree.has_node(source_file):\n",
    "        source_file = source_file_tree.get_closest_file_name(source_file)\n",
    "    target_files = arr_from_sep_string(target_files)\n",
    "    for target_file in target_files:\n",
    "        target_file = target_file[len(get_working_dir(target)) + 1:]\n",
    "        correspondance_graph.add_edge(source_file, target_file)\n",
    "\n",
    "node_diff = set(source_file_tree.get_files()).union(set(target_file_tree.get_files())) - correspondance_graph.nodes\n",
    "\n",
    "forgotten = \"\\n\".join([f\"- {node}\" for node in node_diff])\n",
    "\n",
    "prompt = f'''You forgot to correspond the following files:\n",
    "{forgotten}\n",
    "----\n",
    "Correspond the files above in the same format as before.\n",
    "'''\n",
    "print(prompt)\n",
    "\n",
    "# print edges\n",
    "for edge in correspondance_graph.edges:\n",
    "    print(edge)"
   ]
  },
  {
   "cell_type": "code",
   "execution_count": 18,
   "metadata": {},
   "outputs": [],
   "source": [
    "order = [node for node in target_file_tree.nodes if 'content' in target_file_tree.nodes[node]]\n",
    "async def build_description(node):\n",
    "    prompt = f'''For the file {node} in the new {target} repo. I want you to provide the following write-up:\n",
    "$A brief description of what the file should contain (classes, functions, views etc.) in 20 lines or less$\n",
    "'''\n",
    "    return await team.async_chat_with_agent('pm', prompt, save_keys=[f\"description_{node}\"], prompt_title=f\"Description of what to build for {node}\")\n",
    "tasks = [build_description(node) for node in order]\n",
    "descriptions = await asyncio.gather(*tasks)\n",
    "for i, description in enumerate(descriptions):\n",
    "    target_file_tree.nodes[order[i]]['description'] = description"
   ]
  },
  {
   "cell_type": "code",
   "execution_count": 19,
   "metadata": {},
   "outputs": [],
   "source": [
    "# Create a dependency graph for the target repo\n",
    "target_dependency_graph = nx.DiGraph()\n",
    "for level in eval_order:\n",
    "    for node in level:\n",
    "        if node not in correspondance_graph.nodes: continue\n",
    "        # We add the correspondant node to the target dependency graph and connect it to the correspondant nodes of the source dependency graph\n",
    "        target_nodes = list(correspondance_graph.neighbors(node))\n",
    "        for target_node in target_nodes:\n",
    "            target_dependency_graph.add_node(target_node)\n",
    "            for source_node in source_dependency_graph.neighbors(node):\n",
    "                if source_node not in correspondance_graph.nodes: continue\n",
    "                source_node_correspondants = list(correspondance_graph.neighbors(source_node))\n",
    "                for source_node_correspondant in source_node_correspondants:\n",
    "                    target_dependency_graph.add_edge(target_node, source_node_correspondant)"
   ]
  },
  {
   "cell_type": "code",
   "execution_count": 21,
   "metadata": {},
   "outputs": [],
   "source": [
    "# label each node in target dependency graph with a description\n",
    "for node in target_dependency_graph.nodes:\n",
    "    target_dependency_graph.nodes[node]['description'] = \"\"\n",
    "    if node not in target_file_tree.nodes:\n",
    "        # maybe remove the node from the target dependency graph\n",
    "        continue\n",
    "    if 'content' not in target_file_tree.nodes[node]: continue\n",
    "    description = target_file_tree.nodes[node]['description']\n",
    "    target_dependency_graph.nodes[node]['description'] = description"
   ]
  },
  {
   "cell_type": "code",
   "execution_count": 22,
   "metadata": {},
   "outputs": [
    {
     "name": "stdout",
     "output_type": "stream",
     "text": [
      "['models\\\\AppModel.ts']\n",
      "['functions\\\\Extensions.ts', 'models\\\\StatConfig.ts']\n",
      "['models\\\\GameModel.ts']\n",
      "['components\\\\misc\\\\PlatformGraphics.tsx', 'functions\\\\Statistics.ts']\n",
      "['components\\\\users\\\\PFP.tsx', 'models\\\\ScoreModel.ts', 'components\\\\statistics\\\\BarGraph.tsx']\n",
      "['components\\\\scores\\\\ScoreSummary.tsx', 'components\\\\scores\\\\Incrementor.tsx', 'providers\\\\Auth.ts', 'components\\\\users\\\\UsersRow.tsx']\n",
      "['views\\\\home\\\\match\\\\MatchView.tsx']\n",
      "['components\\\\statistics\\\\PercentChange.tsx', 'functions\\\\Functions.ts']\n",
      "['components\\\\scores\\\\ScoreTimeline.tsx', 'models\\\\Change.ts', 'components\\\\scores\\\\ScoreRangeSummary.tsx']\n",
      "['views\\\\home\\\\change\\\\ChangeRow.tsx', 'components\\\\statistics\\\\CheckList.tsx', 'components\\\\misc\\\\EmptyList.tsx', 'views\\\\home\\\\match\\\\MatchConfig.tsx', 'views\\\\home\\\\match\\\\MatchRow.tsx', 'views\\\\home\\\\match\\\\ExampleMatchRow.tsx', 'components\\\\misc\\\\CardView.tsx', 'views\\\\home\\\\change\\\\ChangeConfig.tsx', 'components\\\\scores\\\\ScoringElementStats.tsx']\n",
      "['components\\\\misc\\\\Collapsible.tsx', 'views\\\\home\\\\change\\\\ChangeList.tsx', 'views\\\\home\\\\match\\\\MatchList.tsx', 'components\\\\scores\\\\ScoreCard.tsx', 'components\\\\AutonomousDrawingTool.tsx']\n",
      "['views\\\\home\\\\team\\\\AutonDrawer.tsx']\n",
      "['views\\\\home\\\\team\\\\TeamRow.tsx', 'views\\\\home\\\\team\\\\TeamView.tsx', 'views\\\\home\\\\util\\\\Permissions.tsx', 'views\\\\home\\\\team\\\\ExampleTeamRow.tsx']\n",
      "['views\\\\home\\\\events\\\\EventShare.tsx', 'functions\\\\APIMethods.ts', 'views\\\\home\\\\team\\\\TeamList.tsx']\n",
      "['views\\\\auth\\\\SignUpScreen.tsx', 'views\\\\home\\\\events\\\\EventView.tsx']\n",
      "['views\\\\auth\\\\Login.tsx', 'providers\\\\PushNotifications.ts', 'views\\\\inbox\\\\Inbox.tsx', 'views\\\\inbox\\\\BlockList.tsx', 'providers\\\\Theme.ts', 'views\\\\templates\\\\TemplatesList.tsx', 'views\\\\home\\\\events\\\\EventsList.tsx']\n",
      "['views\\\\LandingPage.tsx']\n",
      "['models\\\\GPTModel.ts', 'views\\\\auth\\\\AuthenticationWrapper.tsx']\n",
      "['functions\\\\GPTModel.ts', 'views\\\\templates\\\\TemplateView.tsx', 'views\\\\auth\\\\Verify.tsx', 'views\\\\home\\\\team\\\\AllianceSelection.tsx', 'views\\\\home\\\\team\\\\TeamRowAlliance.tsx', 'components\\\\misc\\\\InfoPills.tsx', 'views\\\\home\\\\events\\\\ImageView.tsx', 'functions\\\\ResponseModel.ts', 'providers\\\\UserPresence.ts', 'views\\\\home\\\\team\\\\AllianceSimulator.tsx', 'api\\\\README.MD', 'views\\\\home\\\\team\\\\TeamAllianceRecommend.tsx', 'index.js', 'views\\\\home\\\\events\\\\CameraView.tsx']\n",
      "Number of levels: 19\n"
     ]
    }
   ],
   "source": [
    "eval_order = loose_level_order(target_dependency_graph, key='description')[::-1]\n",
    "for level in eval_order:\n",
    "    print(level)\n",
    "print(f\"Number of levels: {len(eval_order)}\")"
   ]
  },
  {
   "cell_type": "code",
   "execution_count": 23,
   "metadata": {},
   "outputs": [
    {
     "name": "stderr",
     "output_type": "stream",
     "text": [
      " 95%|█████████▍| 18/19 [14:09<00:47, 47.18s/it]\n"
     ]
    },
    {
     "ename": "ValueError",
     "evalue": "no path specified",
     "output_type": "error",
     "traceback": [
      "\u001b[1;31m---------------------------------------------------------------------------\u001b[0m",
      "\u001b[1;31mValueError\u001b[0m                                Traceback (most recent call last)",
      "Cell \u001b[1;32mIn[23], line 37\u001b[0m\n\u001b[0;32m     35\u001b[0m             f\u001b[38;5;241m.\u001b[39mwrite(response)\n\u001b[0;32m     36\u001b[0m \u001b[38;5;28;01mfor\u001b[39;00m level \u001b[38;5;129;01min\u001b[39;00m tqdm(eval_order):\n\u001b[1;32m---> 37\u001b[0m     \u001b[38;5;28;01mawait\u001b[39;00m make_level(level)\n\u001b[0;32m     38\u001b[0m     time\u001b[38;5;241m.\u001b[39msleep(\u001b[38;5;241m0.5\u001b[39m)\n",
      "Cell \u001b[1;32mIn[23], line 30\u001b[0m, in \u001b[0;36mmake_level\u001b[1;34m(group)\u001b[0m\n\u001b[0;32m     28\u001b[0m     \u001b[38;5;28;01mreturn\u001b[39;00m blocks[\u001b[38;5;241m0\u001b[39m]\n\u001b[0;32m     29\u001b[0m tasks \u001b[38;5;241m=\u001b[39m [make_file(node) \u001b[38;5;28;01mfor\u001b[39;00m node \u001b[38;5;129;01min\u001b[39;00m group]\n\u001b[1;32m---> 30\u001b[0m responses \u001b[38;5;241m=\u001b[39m \u001b[38;5;28;01mawait\u001b[39;00m asyncio\u001b[38;5;241m.\u001b[39mgather(\u001b[38;5;241m*\u001b[39mtasks)\n\u001b[0;32m     31\u001b[0m \u001b[38;5;28;01mfor\u001b[39;00m i, response \u001b[38;5;129;01min\u001b[39;00m \u001b[38;5;28menumerate\u001b[39m(responses):\n\u001b[0;32m     32\u001b[0m     \u001b[38;5;28;01mif\u001b[39;00m response \u001b[38;5;129;01mis\u001b[39;00m \u001b[38;5;28;01mNone\u001b[39;00m: \u001b[38;5;28;01mcontinue\u001b[39;00m\n",
      "Cell \u001b[1;32mIn[23], line 10\u001b[0m, in \u001b[0;36mmake_level.<locals>.make_file\u001b[1;34m(node)\u001b[0m\n\u001b[0;32m      8\u001b[0m relevant_files \u001b[38;5;241m=\u001b[39m [file[\u001b[38;5;28mlen\u001b[39m(source) \u001b[38;5;241m+\u001b[39m \u001b[38;5;241m2\u001b[39m:] \u001b[38;5;28;01mfor\u001b[39;00m file \u001b[38;5;129;01min\u001b[39;00m correspondance_graph[node] \u001b[38;5;28;01mif\u001b[39;00m file \u001b[38;5;129;01mis\u001b[39;00m \u001b[38;5;129;01mnot\u001b[39;00m \u001b[38;5;28;01mNone\u001b[39;00m]\n\u001b[0;32m      9\u001b[0m depends_on \u001b[38;5;241m=\u001b[39m [file \u001b[38;5;28;01mfor\u001b[39;00m file \u001b[38;5;129;01min\u001b[39;00m target_dependency_graph[node]]\n\u001b[1;32m---> 10\u001b[0m dependencies \u001b[38;5;241m=\u001b[39m \u001b[38;5;124m\"\u001b[39m\u001b[38;5;130;01m\\n\u001b[39;00m\u001b[38;5;124m\"\u001b[39m\u001b[38;5;241m.\u001b[39mjoin(os\u001b[38;5;241m.\u001b[39mpath\u001b[38;5;241m.\u001b[39mrelpath(file, node) \u001b[38;5;28;01mfor\u001b[39;00m file \u001b[38;5;129;01min\u001b[39;00m relevant_files \u001b[38;5;28;01mif\u001b[39;00m file \u001b[38;5;129;01mis\u001b[39;00m \u001b[38;5;129;01mnot\u001b[39;00m \u001b[38;5;28;01mNone\u001b[39;00m)\n\u001b[0;32m     11\u001b[0m custom_context \u001b[38;5;241m=\u001b[39m [\n\u001b[0;32m     12\u001b[0m     Interaction(\n\u001b[0;32m     13\u001b[0m         prompt\u001b[38;5;241m=\u001b[39m\u001b[38;5;124mf\u001b[39m\u001b[38;5;124m'\u001b[39m\u001b[38;5;124mContents of \u001b[39m\u001b[38;5;132;01m{\u001b[39;00mfile\u001b[38;5;132;01m}\u001b[39;00m\u001b[38;5;124m in the \u001b[39m\u001b[38;5;132;01m{\u001b[39;00mtarget\u001b[38;5;132;01m}\u001b[39;00m\u001b[38;5;124m repo. This file is a dependency of \u001b[39m\u001b[38;5;132;01m{\u001b[39;00mnode\u001b[38;5;132;01m}\u001b[39;00m\u001b[38;5;124m whose relative path is \u001b[39m\u001b[38;5;132;01m{\u001b[39;00mos\u001b[38;5;241m.\u001b[39mpath\u001b[38;5;241m.\u001b[39mrelpath(file,\u001b[38;5;250m \u001b[39mnode)\u001b[38;5;132;01m}\u001b[39;00m\u001b[38;5;124m'\u001b[39m,\n\u001b[1;32m   (...)\u001b[0m\n\u001b[0;32m     20\u001b[0m     ) \u001b[38;5;28;01mfor\u001b[39;00m file \u001b[38;5;129;01min\u001b[39;00m relevant_files \u001b[38;5;28;01mif\u001b[39;00m file \u001b[38;5;129;01min\u001b[39;00m source_file_tree\u001b[38;5;241m.\u001b[39mnodes \u001b[38;5;129;01mand\u001b[39;00m \u001b[38;5;124m'\u001b[39m\u001b[38;5;124mcontent\u001b[39m\u001b[38;5;124m'\u001b[39m \u001b[38;5;129;01min\u001b[39;00m source_file_tree\u001b[38;5;241m.\u001b[39mnodes[file]\n\u001b[0;32m     21\u001b[0m ] \u001b[38;5;241m+\u001b[39m team\u001b[38;5;241m.\u001b[39mcontext_threads[\u001b[38;5;124mf\u001b[39m\u001b[38;5;124m'\u001b[39m\u001b[38;5;124mdescription_\u001b[39m\u001b[38;5;132;01m{\u001b[39;00mnode\u001b[38;5;132;01m}\u001b[39;00m\u001b[38;5;124m'\u001b[39m]\n\u001b[0;32m     22\u001b[0m raw_resp \u001b[38;5;241m=\u001b[39m \u001b[38;5;28;01mawait\u001b[39;00m target_swe\u001b[38;5;241m.\u001b[39masync_chat(\n\u001b[0;32m     23\u001b[0m     \u001b[38;5;124mf\u001b[39m\u001b[38;5;124m\"\u001b[39m\u001b[38;5;124mThe relative dependencies for \u001b[39m\u001b[38;5;132;01m{\u001b[39;00mnode\u001b[38;5;132;01m}\u001b[39;00m\u001b[38;5;124m are\u001b[39m\u001b[38;5;130;01m\\n\u001b[39;00m\u001b[38;5;132;01m{\u001b[39;00mdependencies\u001b[38;5;132;01m}\u001b[39;00m\u001b[38;5;124m. Using the context from the prior \u001b[39m\u001b[38;5;132;01m{\u001b[39;00msource\u001b[38;5;132;01m}\u001b[39;00m\u001b[38;5;124m code (to be translated) and \u001b[39m\u001b[38;5;132;01m{\u001b[39;00mtarget\u001b[38;5;132;01m}\u001b[39;00m\u001b[38;5;124m code which \u001b[39m\u001b[38;5;132;01m{\u001b[39;00mnode\u001b[38;5;132;01m}\u001b[39;00m\u001b[38;5;124m depends on, write code in \u001b[39m\u001b[38;5;132;01m{\u001b[39;00mtarget\u001b[38;5;132;01m}\u001b[39;00m\u001b[38;5;124m to create \u001b[39m\u001b[38;5;132;01m{\u001b[39;00mnode\u001b[38;5;132;01m}\u001b[39;00m\u001b[38;5;124m. Respond with code and nothing else.\u001b[39m\u001b[38;5;124m\"\u001b[39m,\n\u001b[0;32m     24\u001b[0m     custom_context\u001b[38;5;241m=\u001b[39mcustom_context\n\u001b[0;32m     25\u001b[0m )\n",
      "Cell \u001b[1;32mIn[23], line 10\u001b[0m, in \u001b[0;36m<genexpr>\u001b[1;34m(.0)\u001b[0m\n\u001b[0;32m      8\u001b[0m relevant_files \u001b[38;5;241m=\u001b[39m [file[\u001b[38;5;28mlen\u001b[39m(source) \u001b[38;5;241m+\u001b[39m \u001b[38;5;241m2\u001b[39m:] \u001b[38;5;28;01mfor\u001b[39;00m file \u001b[38;5;129;01min\u001b[39;00m correspondance_graph[node] \u001b[38;5;28;01mif\u001b[39;00m file \u001b[38;5;129;01mis\u001b[39;00m \u001b[38;5;129;01mnot\u001b[39;00m \u001b[38;5;28;01mNone\u001b[39;00m]\n\u001b[0;32m      9\u001b[0m depends_on \u001b[38;5;241m=\u001b[39m [file \u001b[38;5;28;01mfor\u001b[39;00m file \u001b[38;5;129;01min\u001b[39;00m target_dependency_graph[node]]\n\u001b[1;32m---> 10\u001b[0m dependencies \u001b[38;5;241m=\u001b[39m \u001b[38;5;124m\"\u001b[39m\u001b[38;5;130;01m\\n\u001b[39;00m\u001b[38;5;124m\"\u001b[39m\u001b[38;5;241m.\u001b[39mjoin(\u001b[43mos\u001b[49m\u001b[38;5;241;43m.\u001b[39;49m\u001b[43mpath\u001b[49m\u001b[38;5;241;43m.\u001b[39;49m\u001b[43mrelpath\u001b[49m\u001b[43m(\u001b[49m\u001b[43mfile\u001b[49m\u001b[43m,\u001b[49m\u001b[43m \u001b[49m\u001b[43mnode\u001b[49m\u001b[43m)\u001b[49m \u001b[38;5;28;01mfor\u001b[39;00m file \u001b[38;5;129;01min\u001b[39;00m relevant_files \u001b[38;5;28;01mif\u001b[39;00m file \u001b[38;5;129;01mis\u001b[39;00m \u001b[38;5;129;01mnot\u001b[39;00m \u001b[38;5;28;01mNone\u001b[39;00m)\n\u001b[0;32m     11\u001b[0m custom_context \u001b[38;5;241m=\u001b[39m [\n\u001b[0;32m     12\u001b[0m     Interaction(\n\u001b[0;32m     13\u001b[0m         prompt\u001b[38;5;241m=\u001b[39m\u001b[38;5;124mf\u001b[39m\u001b[38;5;124m'\u001b[39m\u001b[38;5;124mContents of \u001b[39m\u001b[38;5;132;01m{\u001b[39;00mfile\u001b[38;5;132;01m}\u001b[39;00m\u001b[38;5;124m in the \u001b[39m\u001b[38;5;132;01m{\u001b[39;00mtarget\u001b[38;5;132;01m}\u001b[39;00m\u001b[38;5;124m repo. This file is a dependency of \u001b[39m\u001b[38;5;132;01m{\u001b[39;00mnode\u001b[38;5;132;01m}\u001b[39;00m\u001b[38;5;124m whose relative path is \u001b[39m\u001b[38;5;132;01m{\u001b[39;00mos\u001b[38;5;241m.\u001b[39mpath\u001b[38;5;241m.\u001b[39mrelpath(file,\u001b[38;5;250m \u001b[39mnode)\u001b[38;5;132;01m}\u001b[39;00m\u001b[38;5;124m'\u001b[39m,\n\u001b[1;32m   (...)\u001b[0m\n\u001b[0;32m     20\u001b[0m     ) \u001b[38;5;28;01mfor\u001b[39;00m file \u001b[38;5;129;01min\u001b[39;00m relevant_files \u001b[38;5;28;01mif\u001b[39;00m file \u001b[38;5;129;01min\u001b[39;00m source_file_tree\u001b[38;5;241m.\u001b[39mnodes \u001b[38;5;129;01mand\u001b[39;00m \u001b[38;5;124m'\u001b[39m\u001b[38;5;124mcontent\u001b[39m\u001b[38;5;124m'\u001b[39m \u001b[38;5;129;01min\u001b[39;00m source_file_tree\u001b[38;5;241m.\u001b[39mnodes[file]\n\u001b[0;32m     21\u001b[0m ] \u001b[38;5;241m+\u001b[39m team\u001b[38;5;241m.\u001b[39mcontext_threads[\u001b[38;5;124mf\u001b[39m\u001b[38;5;124m'\u001b[39m\u001b[38;5;124mdescription_\u001b[39m\u001b[38;5;132;01m{\u001b[39;00mnode\u001b[38;5;132;01m}\u001b[39;00m\u001b[38;5;124m'\u001b[39m]\n\u001b[0;32m     22\u001b[0m raw_resp \u001b[38;5;241m=\u001b[39m \u001b[38;5;28;01mawait\u001b[39;00m target_swe\u001b[38;5;241m.\u001b[39masync_chat(\n\u001b[0;32m     23\u001b[0m     \u001b[38;5;124mf\u001b[39m\u001b[38;5;124m\"\u001b[39m\u001b[38;5;124mThe relative dependencies for \u001b[39m\u001b[38;5;132;01m{\u001b[39;00mnode\u001b[38;5;132;01m}\u001b[39;00m\u001b[38;5;124m are\u001b[39m\u001b[38;5;130;01m\\n\u001b[39;00m\u001b[38;5;132;01m{\u001b[39;00mdependencies\u001b[38;5;132;01m}\u001b[39;00m\u001b[38;5;124m. Using the context from the prior \u001b[39m\u001b[38;5;132;01m{\u001b[39;00msource\u001b[38;5;132;01m}\u001b[39;00m\u001b[38;5;124m code (to be translated) and \u001b[39m\u001b[38;5;132;01m{\u001b[39;00mtarget\u001b[38;5;132;01m}\u001b[39;00m\u001b[38;5;124m code which \u001b[39m\u001b[38;5;132;01m{\u001b[39;00mnode\u001b[38;5;132;01m}\u001b[39;00m\u001b[38;5;124m depends on, write code in \u001b[39m\u001b[38;5;132;01m{\u001b[39;00mtarget\u001b[38;5;132;01m}\u001b[39;00m\u001b[38;5;124m to create \u001b[39m\u001b[38;5;132;01m{\u001b[39;00mnode\u001b[38;5;132;01m}\u001b[39;00m\u001b[38;5;124m. Respond with code and nothing else.\u001b[39m\u001b[38;5;124m\"\u001b[39m,\n\u001b[0;32m     24\u001b[0m     custom_context\u001b[38;5;241m=\u001b[39mcustom_context\n\u001b[0;32m     25\u001b[0m )\n",
      "File \u001b[1;32m<frozen ntpath>:757\u001b[0m, in \u001b[0;36mrelpath\u001b[1;34m(path, start)\u001b[0m\n",
      "\u001b[1;31mValueError\u001b[0m: no path specified"
     ]
    }
   ],
   "source": [
    "# Translate the code in the proposed file tree\n",
    "async def make_level(group: list):\n",
    "    async def make_file(node):\n",
    "        if node not in target_file_tree.nodes: return None\n",
    "        if node not in correspondance_graph.nodes:\n",
    "            print(node)\n",
    "            return None\n",
    "        relevant_files = [file[len(source) + 2:] for file in correspondance_graph[node] if file is not None]\n",
    "        depends_on = [file for file in target_dependency_graph[node]]\n",
    "        dependencies = \"\\n\".join(os.path.relpath(file, node) for file in depends_on if file is not None)\n",
    "        custom_context = [\n",
    "            Interaction(\n",
    "                prompt=f'Contents of {file} in the {target} repo. This file is a dependency of {node} whose relative path is {os.path.relpath(file, node)}',\n",
    "                response=target_file_tree.nodes[file][\"content\"]\n",
    "            ) for file in depends_on if file in target_file_tree.nodes and 'content' in target_file_tree.nodes[file]\n",
    "        ] + [\n",
    "            Interaction(\n",
    "                prompt=f'Contents of {file} in the {source} repo',\n",
    "                response=f'{file}:\\n{source_file_tree.nodes[file][\"content\"]}',\n",
    "            ) for file in relevant_files if file in source_file_tree.nodes and 'content' in source_file_tree.nodes[file]\n",
    "        ] + team.context_threads[f'description_{node}']\n",
    "        raw_resp = await target_swe.async_chat(\n",
    "            f\"The relative dependencies for {node} are\\n{dependencies}. Using the context from the prior {source} code (to be translated) and {target} code which {node} depends on, write code in {target} to create {node}. Respond with code and nothing else.\",\n",
    "            custom_context=custom_context\n",
    "        )\n",
    "        blocks = extract_markdown_blocks(raw_resp)\n",
    "        if len(blocks) == 0: return None\n",
    "        return blocks[0]\n",
    "    tasks = [make_file(node) for node in group]\n",
    "    responses = await asyncio.gather(*tasks)\n",
    "    for i, response in enumerate(responses):\n",
    "        if response is None: continue\n",
    "        target_file_tree.nodes[group[i]]['content'] = response\n",
    "        with open(f'{working_dir_path}\\\\{group[i]}', 'w') as f:\n",
    "            f.write(response)\n",
    "for level in tqdm(eval_order):\n",
    "    await make_level(level)\n",
    "    time.sleep(0.5)"
   ]
  },
  {
   "cell_type": "code",
   "execution_count": null,
   "metadata": {},
   "outputs": [],
   "source": [
    "# Commit the translated code\n",
    "repo.git.commit(A=True, m=f\"Boilerplate {target} code\")\n",
    "repo.git.push('origin', created_branch, force=True)\n",
    "\n",
    "# Create a pull request with the translated code\n",
    "pr = create_pull_request(\n",
    "        repo=repo,\n",
    "        base_branch=base_branch,\n",
    "        new_branch=created_branch,\n",
    "        title=f\"Translation from {source} to {target}\",\n",
    "        body=f\"This is a boilerplate translation performed by the Fraimwork app. Please check to make sure that all logic is appropriately translated before merging.\",\n",
    "        token=GITHUB_TOKEN\n",
    "    )\n",
    "\n",
    "shutil.rmtree('./tmp/', ignore_errors=True)"
   ]
  }
 ],
 "metadata": {
  "kernelspec": {
   "display_name": "base",
   "language": "python",
   "name": "python3"
  },
  "language_info": {
   "codemirror_mode": {
    "name": "ipython",
    "version": 3
   },
   "file_extension": ".py",
   "mimetype": "text/x-python",
   "name": "python",
   "nbconvert_exporter": "python",
   "pygments_lexer": "ipython3",
   "version": "3.11.7"
  }
 },
 "nbformat": 4,
 "nbformat_minor": 2
}
