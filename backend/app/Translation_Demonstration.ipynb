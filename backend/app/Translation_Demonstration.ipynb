{
 "cells": [
  {
   "cell_type": "code",
   "execution_count": 1,
   "metadata": {},
   "outputs": [],
   "source": [
    "import os, json, asyncio, networkx as nx\n",
    "from flask import Flask, request\n",
    "from flask_cors import CORS\n",
    "from utils.gitutils import create_pull_request, clone_repo, create_branch\n",
    "from utils.agent import Agent, GenerationConfig, Interaction, Team\n",
    "from utils.stringutils import arr_from_sep_string, extract_markdown_blocks, markdown_to_dict\n",
    "from utils.filetreeutils import FileTree, write_file_tree\n",
    "from dotenv import load_dotenv\n",
    "import shutil\n",
    "\n",
    "app = Flask(__name__)\n",
    "CORS(app)\n",
    "\n",
    "load_dotenv()  # Load environment variables from .env\n",
    "\n",
    "PROJECT_ID = os.getenv('PROJECT_ID')\n",
    "LOCATION = os.getenv('LOCATION')\n",
    "GITHUB_TOKEN = os.getenv('GITHUB_TOKEN')\n",
    "API_KEY = os.getenv('API_KEY')\n",
    "\n",
    "extensions_of = {\n",
    "    \"flutter\": [\".dart\"],\n",
    "    \"react-native\": [\".ts, .js, .tsx, .jsx\"]\n",
    "    # Add more frameworks and their corresponding languages here\n",
    "}\n",
    "\n",
    "ignored_files_of = {\n",
    "    \"flutter\": [],\n",
    "    \"react-native\": []\n",
    "    # Add more frameworks and their corresponding ignored files here\n",
    "}\n",
    "\n",
    "def get_working_dir(framework):\n",
    "    match framework:\n",
    "        case \"flutter\":\n",
    "            return \"lib\"\n",
    "        case \"react-native\":\n",
    "            return \"src\"\n",
    "        case _:\n",
    "            return None\n",
    "\n",
    "def wipe_repo(repo_path, exceptions=set()):\n",
    "    for dir in os.listdir(repo_path):\n",
    "        path = os.path.join(repo_path, dir)\n",
    "        if os.path.isfile(path):\n",
    "            os.remove(path)\n",
    "        else:\n",
    "            dir_name = os.path.basename(dir)\n",
    "            if dir_name == \".git\" or dir_name in exceptions: continue\n",
    "            if os.listdir(path):\n",
    "                wipe_repo(path)\n",
    "            os.rmdir(os.path.join(repo_path, dir))\n",
    "\n",
    "def prepare_repo(repo_path, framework):\n",
    "    working_dir = get_working_dir(framework)\n",
    "    if not working_dir:\n",
    "        return \"Invalid framework\"\n",
    "    wipe_repo(repo_path)\n",
    "    os.makedirs(f\"{repo_path}/{working_dir}\", exist_ok=True)\n",
    "    return f'{repo_path}/{working_dir}'\n",
    "\n",
    "def failed_check_for_params(data, *params):\n",
    "    for param in params:\n",
    "        if not data[param]:\n",
    "            return f\"Error: Missing '{param}' parameter\", 400\n",
    "    return None\n",
    "\n",
    "# Load the request data\n",
    "repo_url = 'https://github.com/6165-MSET-CuttleFish/TeamTrack'\n",
    "source = 'flutter'\n",
    "target = 'react-native'"
   ]
  },
  {
   "cell_type": "code",
   "execution_count": 2,
   "metadata": {},
   "outputs": [],
   "source": [
    "# Clone the repo and make a new branch\n",
    "repo = clone_repo(repo_url)\n",
    "base_branch = repo.active_branch.name\n",
    "created_branch = f\"translation-{source}-{target}\"\n",
    "create_branch(repo, repo.active_branch.name, created_branch)\n",
    "local_repo_path = str(repo.working_dir)\n",
    "working_dir_path = f'{local_repo_path}\\\\{get_working_dir(source)}'"
   ]
  },
  {
   "cell_type": "code",
   "execution_count": 3,
   "metadata": {},
   "outputs": [],
   "source": [
    "# Initialize the agent and team\n",
    "target_swe = Agent(\n",
    "    model_name=\"gemini-1.5-flash-001\",\n",
    "    api_key=API_KEY,\n",
    "    name=\"target_swe\",\n",
    "    generation_config=GenerationConfig(temperature=0.8),\n",
    "    system_prompt=f\"You are a software engineer tasked with writing {target} code based on a {source} repo. Answer the following prompts to the best of your skills.\"\n",
    ")\n",
    "pm = Agent(\n",
    "    model_name=\"gemini-1.5-flash-001\",\n",
    "    api_key=API_KEY,\n",
    "    name=\"pm\",\n",
    "    generation_config=GenerationConfig(temperature=0.5),\n",
    "    system_prompt=f\"You are a high-level technical project manager tasked with the project of translating a repository from {source} to {target}. Answer the following prompts to the best of your knowledge.\"\n",
    ")\n",
    "source_swe = Agent(\n",
    "    model_name=\"gemini-1.5-flash-001\",\n",
    "    api_key=API_KEY,\n",
    "    name=\"source_swe\",\n",
    "    generation_config=GenerationConfig(temperature=0.7),\n",
    "    system_prompt=f'''You are a {source} software engineer. Your job is to summarize the functionality of provided code files. Structure your response as follows:\n",
    "\n",
    "# filename.ext:\n",
    "\n",
    "$7 sentence summary of the functionality/contents of the file$\n",
    "'''\n",
    ")\n",
    "team = Team(target_swe, pm, source_swe)"
   ]
  },
  {
   "cell_type": "code",
   "execution_count": 4,
   "metadata": {},
   "outputs": [],
   "source": [
    "from utils.languageutils import DartAnalyzer\n",
    "\n",
    "analyzer = DartAnalyzer(working_dir_path)\n",
    "\n",
    "source_dependency_graph = analyzer.buildDependencyGraph()"
   ]
  },
  {
   "cell_type": "code",
   "execution_count": 5,
   "metadata": {},
   "outputs": [
    {
     "name": "stdout",
     "output_type": "stream",
     "text": [
      "['models\\\\AppModel.dart', 'models\\\\StatConfig.dart']\n",
      "['models\\\\GameModel.dart']\n",
      "['models\\\\ScoreModel.dart']\n",
      "['functions\\\\Extensions.dart', 'components\\\\misc\\\\PlatformGraphics.dart']\n",
      "['components\\\\statistics\\\\BarGraph.dart', 'components\\\\users\\\\PFP.dart']\n",
      "['components\\\\users\\\\UsersRow.dart', 'functions\\\\Statistics.dart', 'components\\\\scores\\\\ScoreSummary.dart', 'components\\\\scores\\\\Incrementor.dart', 'providers\\\\Auth.dart']\n",
      "['views\\\\home\\\\match\\\\MatchView.dart']\n",
      "['components\\\\statistics\\\\PercentChange.dart', 'functions\\\\Functions.dart']\n",
      "['components\\\\scores\\\\ScoreRangeSummary.dart', 'components\\\\scores\\\\ScoreTimeline.dart', 'models\\\\Change.dart']\n",
      "['components\\\\misc\\\\CardView.dart', 'views\\\\home\\\\change\\\\ChangeRow.dart', 'views\\\\home\\\\match\\\\MatchRow.dart', 'views\\\\home\\\\change\\\\ChangeConfig.dart', 'views\\\\home\\\\match\\\\MatchConfig.dart', 'components\\\\statistics\\\\CheckList.dart', 'components\\\\misc\\\\EmptyList.dart', 'views\\\\home\\\\match\\\\ExampleMatchRow.dart', 'components\\\\scores\\\\ScoringElementStats.dart']\n",
      "['components\\\\misc\\\\Collapsible.dart', 'components\\\\scores\\\\ScoreCard.dart', 'views\\\\home\\\\match\\\\MatchList.dart', 'views\\\\home\\\\change\\\\ChangeList.dart', 'components\\\\AutonomousDrawingTool.dart']\n",
      "['views\\\\home\\\\team\\\\AutonDrawer.dart']\n",
      "['views\\\\home\\\\util\\\\Permissions.dart', 'views\\\\home\\\\team\\\\ExampleTeamRow.dart', 'views\\\\home\\\\team\\\\TeamView.dart', 'views\\\\home\\\\team\\\\TeamRow.dart']\n",
      "['views\\\\home\\\\events\\\\EventShare.dart', 'views\\\\home\\\\team\\\\TeamList.dart', 'functions\\\\APIMethods.dart']\n",
      "['views\\\\auth\\\\SignUpScreen.dart', 'views\\\\home\\\\events\\\\EventView.dart']\n",
      "['views\\\\auth\\\\Login.dart', 'views\\\\inbox\\\\Inbox.dart', 'views\\\\inbox\\\\BlockList.dart', 'views\\\\templates\\\\TemplatesList.dart', 'views\\\\home\\\\events\\\\EventsList.dart', 'providers\\\\PushNotifications.dart', 'providers\\\\Theme.dart']\n",
      "['views\\\\LandingPage.dart']\n",
      "['models\\\\GPTModel.dart', 'views\\\\auth\\\\AuthenticationWrapper.dart']\n",
      "['views\\\\templates\\\\TemplateView.dart', 'functions\\\\ResponseModel.dart', 'views\\\\home\\\\team\\\\AllianceSelection.dart', 'views\\\\home\\\\team\\\\TeamAllianceRecommend.dart', 'components\\\\misc\\\\InfoPills.dart', 'views\\\\home\\\\events\\\\CameraView.dart', 'providers\\\\UserPresence.dart', 'api\\\\README.MD', 'main.dart', 'views\\\\home\\\\team\\\\AllianceSimulator.dart', 'views\\\\home\\\\team\\\\TeamRowAlliance.dart', 'views\\\\auth\\\\Verify.dart', 'views\\\\home\\\\events\\\\ImageView.dart', 'functions\\\\GPTModel.dart']\n",
      "Number of levels: 19\n"
     ]
    }
   ],
   "source": [
    "from utils.graphutils import loose_level_order\n",
    "\n",
    "# loose level order\n",
    "eval_order = loose_level_order(source_dependency_graph)[::-1]\n",
    "for level in eval_order:\n",
    "    print(level)\n",
    "print(f\"Number of levels: {len(eval_order)}\")"
   ]
  },
  {
   "cell_type": "code",
   "execution_count": 6,
   "metadata": {},
   "outputs": [
    {
     "data": {
      "text/plain": [
       "├── api\\\n",
       "│   ├── README.MD\n",
       "├── components\\\n",
       "│   ├── misc\\\n",
       "│   │   ├── CardView.dart\n",
       "│   │   ├── Collapsible.dart\n",
       "│   │   ├── EmptyList.dart\n",
       "│   │   ├── InfoPills.dart\n",
       "│   │   ├── PlatformGraphics.dart\n",
       "│   ├── scores\\\n",
       "│   │   ├── Incrementor.dart\n",
       "│   │   ├── ScoreCard.dart\n",
       "│   │   ├── ScoreRangeSummary.dart\n",
       "│   │   ├── ScoreSummary.dart\n",
       "│   │   ├── ScoreTimeline.dart\n",
       "│   │   ├── ScoringElementStats.dart\n",
       "│   ├── statistics\\\n",
       "│   │   ├── BarGraph.dart\n",
       "│   │   ├── CheckList.dart\n",
       "│   │   ├── PercentChange.dart\n",
       "│   ├── users\\\n",
       "│   │   ├── PFP.dart\n",
       "│   │   ├── UsersRow.dart\n",
       "│   ├── AutonomousDrawingTool.dart\n",
       "├── functions\\\n",
       "│   ├── APIMethods.dart\n",
       "│   ├── Extensions.dart\n",
       "│   ├── Functions.dart\n",
       "│   ├── GPTModel.dart\n",
       "│   ├── ResponseModel.dart\n",
       "│   ├── Statistics.dart\n",
       "├── models\\\n",
       "│   ├── AppModel.dart\n",
       "│   ├── Change.dart\n",
       "│   ├── GameModel.dart\n",
       "│   ├── GPTModel.dart\n",
       "│   ├── ScoreModel.dart\n",
       "│   ├── StatConfig.dart\n",
       "├── providers\\\n",
       "│   ├── Auth.dart\n",
       "│   ├── PushNotifications.dart\n",
       "│   ├── Theme.dart\n",
       "│   ├── UserPresence.dart\n",
       "├── views\\\n",
       "│   ├── auth\\\n",
       "│   │   ├── AuthenticationWrapper.dart\n",
       "│   │   ├── Login.dart\n",
       "│   │   ├── SignUpScreen.dart\n",
       "│   │   ├── Verify.dart\n",
       "│   ├── home\\\n",
       "│   │   ├── change\\\n",
       "│   │   │   ├── ChangeConfig.dart\n",
       "│   │   │   ├── ChangeList.dart\n",
       "│   │   │   ├── ChangeRow.dart\n",
       "│   │   ├── events\\\n",
       "│   │   │   ├── CameraView.dart\n",
       "│   │   │   ├── EventShare.dart\n",
       "│   │   │   ├── EventsList.dart\n",
       "│   │   │   ├── EventView.dart\n",
       "│   │   │   ├── ImageView.dart\n",
       "│   │   ├── match\\\n",
       "│   │   │   ├── ExampleMatchRow.dart\n",
       "│   │   │   ├── MatchConfig.dart\n",
       "│   │   │   ├── MatchList.dart\n",
       "│   │   │   ├── MatchRow.dart\n",
       "│   │   │   ├── MatchView.dart\n",
       "│   │   ├── team\\\n",
       "│   │   │   ├── AllianceSelection.dart\n",
       "│   │   │   ├── AllianceSimulator.dart\n",
       "│   │   │   ├── AutonDrawer.dart\n",
       "│   │   │   ├── ExampleTeamRow.dart\n",
       "│   │   │   ├── TeamAllianceRecommend.dart\n",
       "│   │   │   ├── TeamList.dart\n",
       "│   │   │   ├── TeamRow.dart\n",
       "│   │   │   ├── TeamRowAlliance.dart\n",
       "│   │   │   ├── TeamView.dart\n",
       "│   │   ├── util\\\n",
       "│   │   │   ├── Permissions.dart\n",
       "│   ├── inbox\\\n",
       "│   │   ├── BlockList.dart\n",
       "│   │   ├── Inbox.dart\n",
       "│   ├── templates\\\n",
       "│   │   ├── TemplatesList.dart\n",
       "│   │   ├── TemplateView.dart\n",
       "│   ├── LandingPage.dart\n",
       "├── main.dart"
      ]
     },
     "execution_count": 6,
     "metadata": {},
     "output_type": "execute_result"
    }
   ],
   "source": [
    "(source_file_tree := FileTree.from_dir(working_dir_path))"
   ]
  },
  {
   "cell_type": "code",
   "execution_count": 7,
   "metadata": {},
   "outputs": [
    {
     "name": "stderr",
     "output_type": "stream",
     "text": [
      "100%|██████████| 19/19 [01:15<00:00,  3.98s/it]\n"
     ]
    }
   ],
   "source": [
    "# Summarize the original repo\n",
    "from tqdm import tqdm\n",
    "import time\n",
    "\n",
    "async def summarize_group(group):\n",
    "    async def summarize(node):\n",
    "        name = source_file_tree.nodes[node]['name']\n",
    "        content = source_file_tree.nodes[node]['content']\n",
    "        message = f\"{name}\\n```\\n{content}\\n```\"\n",
    "        return await team.async_chat_with_agent(\n",
    "            agent_name='source_swe',\n",
    "            message=message,\n",
    "            context_keys=[f\"summary_{neighbor}\" for neighbor in source_dependency_graph[node]],\n",
    "            save_keys=[f\"summary_{node}\", \"all\"],\n",
    "            prompt_title=f\"Summary of {name}\"\n",
    "            )\n",
    "    tasks = [summarize(node) for node in group]\n",
    "    responses = await asyncio.gather(*tasks)\n",
    "    for i, response in enumerate(responses):\n",
    "        source_file_tree.nodes[group[i]][\"summary\"] = response\n",
    "\n",
    "for level in tqdm(eval_order):\n",
    "    await summarize_group(level)\n",
    "    time.sleep(0.5)"
   ]
  },
  {
   "cell_type": "code",
   "execution_count": 8,
   "metadata": {},
   "outputs": [
    {
     "data": {
      "text/plain": [
       "16242"
      ]
     },
     "execution_count": 8,
     "metadata": {},
     "output_type": "execute_result"
    }
   ],
   "source": [
    "curr_string = '\\n'.join([message['parts'][0] for interaction in team.context_threads['all'] for message in interaction.to_dict()])\n",
    "(curr_tokens := pm.model.count_tokens(curr_string).total_tokens)"
   ]
  },
  {
   "cell_type": "code",
   "execution_count": 9,
   "metadata": {},
   "outputs": [
    {
     "data": {
      "text/plain": [
       "122963"
      ]
     },
     "execution_count": 9,
     "metadata": {},
     "output_type": "execute_result"
    }
   ],
   "source": [
    "would_be_string = '\\n'.join([source_file_tree.nodes[node]['content'] for node in source_dependency_graph.nodes])\n",
    "(would_be_tokens := pm.model.count_tokens(would_be_string).total_tokens)"
   ]
  },
  {
   "cell_type": "code",
   "execution_count": 10,
   "metadata": {},
   "outputs": [
    {
     "data": {
      "text/plain": [
       "0.8679114855688297"
      ]
     },
     "execution_count": 10,
     "metadata": {},
     "output_type": "execute_result"
    }
   ],
   "source": [
    "(percent_tokens_reduction := 1 - (curr_tokens / would_be_tokens))"
   ]
  },
  {
   "cell_type": "code",
   "execution_count": 11,
   "metadata": {},
   "outputs": [],
   "source": [
    "# Create new file tree\n",
    "prompt = f'''This is the file tree for the original {source} repo:\n",
    "```\n",
    "{get_working_dir(source)}\\\\\n",
    "{source_file_tree}\n",
    "```\n",
    "You are tasked with re-structuring the directory to create a file tree for the new react-native repo in the new working directory {get_working_dir(target)}\\\\. Format your response as follows:\n",
    "# Summary of Original Repo\n",
    "$less than 10 sentence summary of the original repo$\n",
    "\n",
    "# Methodology of Translation\n",
    "$Brief explanation of what needs to be translated (include things like filename changes for entry points and other structural changes)$\n",
    "\n",
    "# File Tree\n",
    "```\n",
    "{get_working_dir(target)}\\\\\n",
    "├── folder1\\\\\n",
    "│   ├── file1.ext\n",
    "├── folder2\\\\\n",
    "│   ├── folder3\\\\\n",
    "│   │   ├── file2.ext\n",
    "```\n",
    "*Only include files of type(s) {extensions_of[target]} in your file tree\n",
    "\n",
    "# All Correspondances\n",
    "$List all the files in the original repo and their corresponding file(s) in the new repo (N/A if no such file(s) exists)$\n",
    "```\n",
    "{get_working_dir(source)}\\\\path\\\\to\\\\{source}\\\\file1.ext --> {get_working_dir(target)}\\\\path\\\\to\\\\{target}\\\\file1.ext, {get_working_dir(target)}\\\\...\\\\file2.ext\n",
    "{get_working_dir(source)}\\\\path\\\\to\\\\{source}\\\\file2.ext --> {get_working_dir(target)}\\\\path\\\\to\\\\{target}\\\\file3.ext\n",
    "{get_working_dir(source)}\\\\path\\\\to\\\\{source}\\\\file_with_no_correspondant.ext --> N/A\n",
    "```\n",
    "'''\n",
    "response = team.chat_with_agent('pm', prompt, context_keys=['all'], save_keys=['all'], prompt_title=f\"Translate file tree from {source} to {target}:\\n```\\n{get_working_dir(source)}\\\\\\n{source_file_tree}```\")"
   ]
  },
  {
   "cell_type": "code",
   "execution_count": 12,
   "metadata": {},
   "outputs": [],
   "source": [
    "response_dict = markdown_to_dict(response)\n",
    "\n",
    "raw_tree = extract_markdown_blocks(response_dict['file tree'])[0][len(get_working_dir(target)) + 2:]"
   ]
  },
  {
   "cell_type": "code",
   "execution_count": 13,
   "metadata": {},
   "outputs": [
    {
     "name": "stdout",
     "output_type": "stream",
     "text": [
      "('components\\\\misc\\\\CardView.dart', 'components\\\\misc\\\\CardView.tsx')\n",
      "('components\\\\misc\\\\Collapsible.dart', 'components\\\\misc\\\\Collapsible.tsx')\n",
      "('components\\\\misc\\\\EmptyList.dart', 'components\\\\misc\\\\EmptyList.tsx')\n",
      "('components\\\\misc\\\\InfoPills.dart', 'components\\\\misc\\\\InfoPills.tsx')\n",
      "('components\\\\misc\\\\PlatformGraphics.dart', 'components\\\\misc\\\\PlatformGraphics.ts')\n",
      "('components\\\\scores\\\\Incrementor.dart', 'components\\\\scores\\\\Incrementor.tsx')\n",
      "('components\\\\scores\\\\ScoreCard.dart', 'components\\\\scores\\\\ScoreCard.tsx')\n",
      "('components\\\\scores\\\\ScoreRangeSummary.dart', 'components\\\\scores\\\\ScoreRangeSummary.tsx')\n",
      "('components\\\\scores\\\\ScoreSummary.dart', 'components\\\\scores\\\\ScoreSummary.tsx')\n",
      "('components\\\\scores\\\\ScoreTimeline.dart', 'components\\\\scores\\\\ScoreTimeline.tsx')\n",
      "('components\\\\scores\\\\ScoringElementStats.dart', 'components\\\\scores\\\\ScoringElementStats.tsx')\n",
      "('components\\\\statistics\\\\BarGraph.dart', 'components\\\\statistics\\\\BarGraph.tsx')\n",
      "('components\\\\statistics\\\\CheckList.dart', 'components\\\\statistics\\\\CheckList.tsx')\n",
      "('components\\\\statistics\\\\PercentChange.dart', 'components\\\\statistics\\\\PercentChange.tsx')\n",
      "('components\\\\users\\\\PFP.dart', 'components\\\\users\\\\PFP.tsx')\n",
      "('components\\\\users\\\\UsersRow.dart', 'components\\\\users\\\\UsersRow.tsx')\n",
      "('components\\\\AutonomousDrawingTool.dart', 'components\\\\AutonomousDrawingTool.tsx')\n",
      "('functions\\\\Extensions.dart', 'functions\\\\Extensions.ts')\n",
      "('functions\\\\Functions.dart', 'functions\\\\Functions.ts')\n",
      "('functions\\\\GPTModel.dart', 'functions\\\\GPTModel.ts')\n",
      "('functions\\\\ResponseModel.dart', 'functions\\\\ResponseModel.ts')\n",
      "('functions\\\\Statistics.dart', 'functions\\\\Statistics.ts')\n",
      "('models\\\\AppModel.dart', 'models\\\\AppModel.ts')\n",
      "('models\\\\Change.dart', 'models\\\\Change.ts')\n",
      "('models\\\\GameModel.dart', 'models\\\\GameModel.ts')\n",
      "('models\\\\GPTModel.dart', 'models\\\\GPTModel.ts')\n",
      "('models\\\\ScoreModel.dart', 'models\\\\ScoreModel.ts')\n",
      "('models\\\\StatConfig.dart', 'models\\\\StatConfig.ts')\n",
      "('providers\\\\Auth.dart', 'providers\\\\Auth.ts')\n",
      "('providers\\\\PushNotifications.dart', 'providers\\\\PushNotifications.ts')\n",
      "('providers\\\\Theme.dart', 'providers\\\\Theme.ts')\n",
      "('providers\\\\UserPresence.dart', 'providers\\\\UserPresence.ts')\n",
      "('views\\\\auth\\\\AuthenticationWrapper.dart', 'views\\\\auth\\\\AuthenticationWrapper.tsx')\n",
      "('views\\\\auth\\\\Login.dart', 'views\\\\auth\\\\Login.tsx')\n",
      "('views\\\\auth\\\\SignUpScreen.dart', 'views\\\\auth\\\\SignUpScreen.tsx')\n",
      "('views\\\\auth\\\\Verify.dart', 'views\\\\auth\\\\Verify.tsx')\n",
      "('views\\\\home\\\\change\\\\ChangeConfig.dart', 'views\\\\home\\\\change\\\\ChangeConfig.tsx')\n",
      "('views\\\\home\\\\change\\\\ChangeList.dart', 'views\\\\home\\\\change\\\\ChangeList.tsx')\n",
      "('views\\\\home\\\\change\\\\ChangeRow.dart', 'views\\\\home\\\\change\\\\ChangeRow.tsx')\n",
      "('views\\\\home\\\\events\\\\CameraView.dart', 'views\\\\home\\\\events\\\\CameraView.tsx')\n",
      "('views\\\\home\\\\events\\\\EventShare.dart', 'views\\\\home\\\\events\\\\EventShare.tsx')\n",
      "('views\\\\home\\\\events\\\\EventsList.dart', 'views\\\\home\\\\events\\\\EventsList.tsx')\n",
      "('views\\\\home\\\\events\\\\EventView.dart', 'views\\\\home\\\\events\\\\EventView.tsx')\n",
      "('views\\\\home\\\\events\\\\ImageView.dart', 'views\\\\home\\\\events\\\\ImageView.tsx')\n",
      "('views\\\\home\\\\match\\\\ExampleMatchRow.dart', 'views\\\\home\\\\match\\\\ExampleMatchRow.tsx')\n",
      "('views\\\\home\\\\match\\\\MatchConfig.dart', 'views\\\\home\\\\match\\\\MatchConfig.tsx')\n",
      "('views\\\\home\\\\match\\\\MatchList.dart', 'views\\\\home\\\\match\\\\MatchList.tsx')\n",
      "('views\\\\home\\\\match\\\\MatchRow.dart', 'views\\\\home\\\\match\\\\MatchRow.tsx')\n",
      "('views\\\\home\\\\match\\\\MatchView.dart', 'views\\\\home\\\\match\\\\MatchView.tsx')\n",
      "('views\\\\home\\\\team\\\\AllianceSelection.dart', 'views\\\\home\\\\team\\\\AllianceSelection.tsx')\n",
      "('views\\\\home\\\\team\\\\AllianceSimulator.dart', 'views\\\\home\\\\team\\\\AllianceSimulator.tsx')\n",
      "('views\\\\home\\\\team\\\\AutonDrawer.dart', 'views\\\\home\\\\team\\\\AutonDrawer.tsx')\n",
      "('views\\\\home\\\\team\\\\ExampleTeamRow.dart', 'views\\\\home\\\\team\\\\ExampleTeamRow.tsx')\n",
      "('views\\\\home\\\\team\\\\TeamAllianceRecommend.dart', 'views\\\\home\\\\team\\\\TeamAllianceRecommend.tsx')\n",
      "('views\\\\home\\\\team\\\\TeamList.dart', 'views\\\\home\\\\team\\\\TeamList.tsx')\n",
      "('views\\\\home\\\\team\\\\TeamRow.dart', 'views\\\\home\\\\team\\\\TeamRow.tsx')\n",
      "('views\\\\home\\\\team\\\\TeamRowAlliance.dart', 'views\\\\home\\\\team\\\\TeamRowAlliance.tsx')\n",
      "('views\\\\home\\\\team\\\\TeamView.dart', 'views\\\\home\\\\team\\\\TeamView.tsx')\n",
      "('views\\\\home\\\\util\\\\Permissions.dart', 'views\\\\home\\\\util\\\\Permissions.tsx')\n",
      "('views\\\\inbox\\\\BlockList.dart', 'views\\\\inbox\\\\BlockList.tsx')\n",
      "('views\\\\inbox\\\\Inbox.dart', 'views\\\\inbox\\\\Inbox.tsx')\n",
      "('views\\\\templates\\\\TemplatesList.dart', 'views\\\\templates\\\\TemplatesList.tsx')\n",
      "('views\\\\templates\\\\TemplateView.dart', 'views\\\\templates\\\\TemplateView.tsx')\n",
      "('views\\\\LandingPage.dart', 'views\\\\LandingPage.tsx')\n",
      "('main.dart', 'index.ts')\n"
     ]
    }
   ],
   "source": [
    "correspondance_graph = nx.Graph()\n",
    "correspondences = arr_from_sep_string(extract_markdown_blocks(response_dict['all correspondances'])[0], '\\n')\n",
    "for correspondence in correspondences:\n",
    "    source_file, target_files = arr_from_sep_string(correspondence, ' --> ')\n",
    "    source_file = source_file[len(get_working_dir(source)) + 1:]\n",
    "    if not os.path.exists(f\"{working_dir_path}\\\\{source_file}\") or target_files == \"N/A\": continue\n",
    "    target_files = arr_from_sep_string(target_files)\n",
    "    for target_file in target_files:\n",
    "        target_file = target_file[len(get_working_dir(target)) + 1:]\n",
    "        correspondance_graph.add_edge(source_file, target_file)\n",
    "\n",
    "# print edges\n",
    "for edge in correspondance_graph.edges:\n",
    "    print(edge)"
   ]
  },
  {
   "cell_type": "code",
   "execution_count": 14,
   "metadata": {},
   "outputs": [
    {
     "data": {
      "text/plain": [
       "├── api\\\n",
       "│   ├── APIMethods.ts\n",
       "├── components\\\n",
       "│   ├── misc\\\n",
       "│   │   ├── CardView.tsx\n",
       "│   │   ├── Collapsible.tsx\n",
       "│   │   ├── EmptyList.tsx\n",
       "│   │   ├── InfoPills.tsx\n",
       "│   │   ├── PlatformGraphics.ts\n",
       "│   ├── scores\\\n",
       "│   │   ├── Incrementor.tsx\n",
       "│   │   ├── ScoreCard.tsx\n",
       "│   │   ├── ScoreRangeSummary.tsx\n",
       "│   │   ├── ScoreSummary.tsx\n",
       "│   │   ├── ScoreTimeline.tsx\n",
       "│   │   ├── ScoringElementStats.tsx\n",
       "│   ├── statistics\\\n",
       "│   │   ├── BarGraph.tsx\n",
       "│   │   ├── CheckList.tsx\n",
       "│   │   ├── PercentChange.tsx\n",
       "│   ├── users\\\n",
       "│   │   ├── PFP.tsx\n",
       "│   │   ├── UsersRow.tsx\n",
       "│   ├── AutonomousDrawingTool.tsx\n",
       "├── functions\\\n",
       "│   ├── Extensions.ts\n",
       "│   ├── Functions.ts\n",
       "│   ├── GPTModel.ts\n",
       "│   ├── ResponseModel.ts\n",
       "│   ├── Statistics.ts\n",
       "├── models\\\n",
       "│   ├── AppModel.ts\n",
       "│   ├── Change.ts\n",
       "│   ├── GameModel.ts\n",
       "│   ├── GPTModel.ts\n",
       "│   ├── ScoreModel.ts\n",
       "│   ├── StatConfig.ts\n",
       "├── providers\\\n",
       "│   ├── Auth.ts\n",
       "│   ├── PushNotifications.ts\n",
       "│   ├── Theme.ts\n",
       "│   ├── UserPresence.ts\n",
       "├── views\\\n",
       "│   ├── auth\\\n",
       "│   │   ├── AuthenticationWrapper.tsx\n",
       "│   │   ├── Login.tsx\n",
       "│   │   ├── SignUpScreen.tsx\n",
       "│   │   ├── Verify.tsx\n",
       "│   ├── home\\\n",
       "│   │   ├── change\\\n",
       "│   │   │   ├── ChangeConfig.tsx\n",
       "│   │   │   ├── ChangeList.tsx\n",
       "│   │   │   ├── ChangeRow.tsx\n",
       "│   │   ├── events\\\n",
       "│   │   │   ├── CameraView.tsx\n",
       "│   │   │   ├── EventShare.tsx\n",
       "│   │   │   ├── EventsList.tsx\n",
       "│   │   │   ├── EventView.tsx\n",
       "│   │   │   ├── ImageView.tsx\n",
       "│   │   ├── match\\\n",
       "│   │   │   ├── ExampleMatchRow.tsx\n",
       "│   │   │   ├── MatchConfig.tsx\n",
       "│   │   │   ├── MatchList.tsx\n",
       "│   │   │   ├── MatchRow.tsx\n",
       "│   │   │   ├── MatchView.tsx\n",
       "│   │   ├── team\\\n",
       "│   │   │   ├── AllianceSelection.tsx\n",
       "│   │   │   ├── AllianceSimulator.tsx\n",
       "│   │   │   ├── AutonDrawer.tsx\n",
       "│   │   │   ├── ExampleTeamRow.tsx\n",
       "│   │   │   ├── TeamAllianceRecommend.tsx\n",
       "│   │   │   ├── TeamList.tsx\n",
       "│   │   │   ├── TeamRow.tsx\n",
       "│   │   │   ├── TeamRowAlliance.tsx\n",
       "│   │   │   ├── TeamView.tsx\n",
       "│   │   ├── util\\\n",
       "│   │   │   ├── Permissions.tsx\n",
       "│   ├── inbox\\\n",
       "│   │   ├── BlockList.tsx\n",
       "│   │   ├── Inbox.tsx\n",
       "│   ├── templates\\\n",
       "│   │   ├── TemplatesList.tsx\n",
       "│   │   ├── TemplateView.tsx\n",
       "│   ├── LandingPage.tsx\n",
       "├── index.ts"
      ]
     },
     "execution_count": 14,
     "metadata": {},
     "output_type": "execute_result"
    }
   ],
   "source": [
    "wipe_repo(local_repo_path)\n",
    "# repo.git.commit(A=True, m=\"Let the past die. Kill it if you have to\")\n",
    "working_dir_path = f'{local_repo_path}\\\\{get_working_dir(target)}'\n",
    "write_file_tree(raw_tree, working_dir_path)\n",
    "# repo.git.commit(A=True, m=\"A New Hope\")\n",
    "(target_file_tree := FileTree.from_dir(working_dir_path))"
   ]
  },
  {
   "cell_type": "code",
   "execution_count": 15,
   "metadata": {},
   "outputs": [
    {
     "data": {
      "text/plain": [
       "19590"
      ]
     },
     "execution_count": 15,
     "metadata": {},
     "output_type": "execute_result"
    }
   ],
   "source": [
    "pm.model.count_tokens('\\n'.join(message['parts'][0] for interaction in team.context_threads['all'] for message in interaction.to_dict())).total_tokens"
   ]
  },
  {
   "cell_type": "code",
   "execution_count": 16,
   "metadata": {},
   "outputs": [
    {
     "data": {
      "text/plain": [
       "39146"
      ]
     },
     "execution_count": 16,
     "metadata": {},
     "output_type": "execute_result"
    }
   ],
   "source": [
    "import datetime, math\n",
    "# Cache the context threads\n",
    "factor = 32768 / pm.model.count_tokens('\\n'.join(message['parts'][0] for interaction in team.context_threads['all'] for message in interaction.to_dict())).total_tokens\n",
    "# eg. if factor is 3.2, round to 4\n",
    "factor = math.ceil(factor)\n",
    "team.context_threads['all'] *= factor\n",
    "pm.model.count_tokens('\\n'.join(message['parts'][0] for interaction in team.context_threads['all'] for message in interaction.to_dict())).total_tokens"
   ]
  },
  {
   "cell_type": "code",
   "execution_count": 17,
   "metadata": {},
   "outputs": [],
   "source": [
    "pm.cache_context(team.context_threads['all'], ttl=datetime.timedelta(minutes=5))"
   ]
  },
  {
   "cell_type": "code",
   "execution_count": 19,
   "metadata": {},
   "outputs": [],
   "source": [
    "order = [node for node in target_file_tree.nodes if 'content' in target_file_tree.nodes[node]]\n",
    "async def build_description(node):\n",
    "    prompt = f'''For the file {node} in the new {target} repo. I want you to provide the following write-up:\n",
    "$A brief description of what the file should contain (classes, functions, views etc.) in 20 lines or less$\n",
    "'''\n",
    "    return await team.async_chat_with_agent('pm', prompt, save_keys=[f\"description_{node}\"], prompt_title=f\"Description of what to build for {node}\")\n",
    "tasks = [build_description(node) for node in order]\n",
    "descriptions = await asyncio.gather(*tasks)\n",
    "for i, description in enumerate(descriptions):\n",
    "    target_file_tree.nodes[order[i]]['description'] = description"
   ]
  },
  {
   "cell_type": "code",
   "execution_count": 21,
   "metadata": {},
   "outputs": [],
   "source": [
    "# Create a dependency graph for the target repo\n",
    "target_dependency_graph = nx.DiGraph()\n",
    "for level in eval_order:\n",
    "    for node in level:\n",
    "        if node not in correspondance_graph.nodes: continue\n",
    "        # We add the correspondant node to the target dependency graph and connect it to the correspondant nodes of the source dependency graph\n",
    "        target_nodes = list(correspondance_graph.neighbors(node))\n",
    "        for target_node in target_nodes:\n",
    "            target_dependency_graph.add_node(target_node)\n",
    "            for source_node in source_dependency_graph.neighbors(node):\n",
    "                if source_node not in correspondance_graph.nodes: continue\n",
    "                source_node_correspondants = list(correspondance_graph.neighbors(source_node))\n",
    "                for source_node_correspondant in source_node_correspondants:\n",
    "                    target_dependency_graph.add_edge(target_node, source_node_correspondant)"
   ]
  },
  {
   "cell_type": "code",
   "execution_count": 22,
   "metadata": {},
   "outputs": [],
   "source": [
    "# label each node in target dependency graph with a description\n",
    "for node in target_dependency_graph.nodes:\n",
    "    target_dependency_graph.nodes[node]['description'] = \"\"\n",
    "    if 'content' not in target_file_tree.nodes[node]: continue\n",
    "    description = target_file_tree.nodes[node]['description']\n",
    "    target_dependency_graph.nodes[node]['description'] = description"
   ]
  },
  {
   "cell_type": "code",
   "execution_count": 24,
   "metadata": {},
   "outputs": [
    {
     "name": "stdout",
     "output_type": "stream",
     "text": [
      "['models\\\\StatConfig.ts']\n",
      "['components\\\\misc\\\\PlatformGraphics.ts', 'models\\\\GameModel.ts']\n",
      "['functions\\\\Functions.ts']\n",
      "['models\\\\AppModel.ts']\n",
      "['models\\\\ScoreModel.ts']\n",
      "['functions\\\\Extensions.ts']\n",
      "['components\\\\users\\\\PFP.tsx', 'components\\\\statistics\\\\PercentChange.tsx', 'functions\\\\Statistics.ts', 'components\\\\statistics\\\\BarGraph.tsx']\n",
      "['components\\\\users\\\\UsersRow.tsx', 'models\\\\Change.ts', 'components\\\\scores\\\\ScoreTimeline.tsx', 'components\\\\scores\\\\ScoreSummary.tsx', 'components\\\\scores\\\\ScoreRangeSummary.tsx']\n",
      "['providers\\\\Auth.ts', 'components\\\\statistics\\\\CheckList.tsx', 'components\\\\misc\\\\EmptyList.tsx', 'components\\\\misc\\\\CardView.tsx', 'views\\\\home\\\\change\\\\ChangeRow.tsx', 'views\\\\home\\\\match\\\\MatchRow.tsx', 'views\\\\home\\\\match\\\\ExampleMatchRow.tsx', 'views\\\\home\\\\change\\\\ChangeConfig.tsx', 'components\\\\scores\\\\ScoringElementStats.tsx', 'views\\\\home\\\\match\\\\MatchConfig.tsx', 'components\\\\scores\\\\Incrementor.tsx']\n",
      "['views\\\\home\\\\match\\\\MatchList.tsx', 'views\\\\home\\\\change\\\\ChangeList.tsx', 'components\\\\scores\\\\ScoreCard.tsx', 'components\\\\misc\\\\Collapsible.tsx', 'views\\\\home\\\\match\\\\MatchView.tsx', 'components\\\\AutonomousDrawingTool.tsx']\n",
      "['views\\\\home\\\\team\\\\AutonDrawer.tsx']\n",
      "['views\\\\home\\\\util\\\\Permissions.tsx', 'views\\\\home\\\\team\\\\ExampleTeamRow.tsx', 'views\\\\home\\\\team\\\\TeamRow.tsx', 'views\\\\home\\\\team\\\\TeamView.tsx']\n",
      "['views\\\\home\\\\team\\\\TeamList.tsx', 'views\\\\home\\\\events\\\\EventShare.tsx']\n",
      "['views\\\\home\\\\events\\\\EventView.tsx', 'views\\\\auth\\\\SignUpScreen.tsx']\n",
      "['views\\\\home\\\\events\\\\EventsList.tsx', 'views\\\\inbox\\\\BlockList.tsx', 'providers\\\\Theme.ts', 'views\\\\templates\\\\TemplatesList.tsx', 'views\\\\inbox\\\\Inbox.tsx', 'providers\\\\PushNotifications.ts', 'views\\\\auth\\\\Login.tsx']\n",
      "['views\\\\LandingPage.tsx']\n",
      "['views\\\\auth\\\\AuthenticationWrapper.tsx', 'models\\\\GPTModel.ts']\n",
      "['views\\\\auth\\\\Verify.tsx', 'views\\\\home\\\\events\\\\ImageView.tsx', 'views\\\\home\\\\team\\\\AllianceSelection.tsx', 'index.ts', 'views\\\\home\\\\team\\\\TeamRowAlliance.tsx', 'views\\\\home\\\\team\\\\TeamAllianceRecommend.tsx', 'views\\\\templates\\\\TemplateView.tsx', 'views\\\\home\\\\team\\\\AllianceSimulator.tsx', 'functions\\\\ResponseModel.ts', 'components\\\\misc\\\\InfoPills.tsx', 'functions\\\\GPTModel.ts', 'providers\\\\UserPresence.ts', 'views\\\\home\\\\events\\\\CameraView.tsx']\n",
      "Number of levels: 18\n"
     ]
    }
   ],
   "source": [
    "eval_order = loose_level_order(target_dependency_graph, key='description')[::-1]\n",
    "for level in eval_order:\n",
    "    print(level)\n",
    "print(f\"Number of levels: {len(eval_order)}\")"
   ]
  },
  {
   "cell_type": "code",
   "execution_count": 25,
   "metadata": {},
   "outputs": [
    {
     "name": "stderr",
     "output_type": "stream",
     "text": [
      "100%|██████████| 18/18 [04:00<00:00, 13.34s/it]\n"
     ]
    }
   ],
   "source": [
    "# Translate the code in the proposed file tree\n",
    "async def make_level(group: list):\n",
    "    async def make_file(node):\n",
    "        if node not in target_file_tree.nodes: return None\n",
    "        if node not in correspondance_graph.nodes:\n",
    "            print(node)\n",
    "            return None\n",
    "        relevant_files = [file[len(source) + 2:] for file in correspondance_graph[node]]\n",
    "        depends_on = [file for file in target_dependency_graph[node]]\n",
    "        custom_context = [\n",
    "            Interaction(\n",
    "                prompt=f'Contents of {file} in the {target} repo. This file is a dependency of {node} whose relative path is {os.path.relpath(file, node)}',\n",
    "                response=target_file_tree.nodes[file][\"content\"]\n",
    "            ) for file in depends_on if file in target_file_tree.nodes and 'content' in target_file_tree.nodes[file]\n",
    "        ] + [\n",
    "            Interaction(\n",
    "                prompt=f'Contents of {file} in the {source} repo',\n",
    "                response=f'{file}:\\n{source_file_tree.nodes[file][\"content\"]}',\n",
    "            ) for file in relevant_files if file in source_file_tree.nodes and 'content' in source_file_tree.nodes[file]\n",
    "        ] + team.context_threads[f'description_{node}']\n",
    "        raw_resp = await target_swe.async_chat(\n",
    "            f\"Using the context from the prior {source} code and used {target} code, write code in {target} to create {node}. Respond with code and nothing else.\",\n",
    "            custom_context=custom_context\n",
    "        )\n",
    "        blocks = extract_markdown_blocks(raw_resp)\n",
    "        if len(blocks) == 0: return None\n",
    "        return blocks[0]\n",
    "    tasks = [make_file(node) for node in group]\n",
    "    responses = await asyncio.gather(*tasks)\n",
    "    for i, response in enumerate(responses):\n",
    "        if response is None: continue\n",
    "        target_file_tree.nodes[group[i]]['content'] = response\n",
    "        with open(f'{working_dir_path}\\\\{group[i]}', 'w') as f:\n",
    "            f.write(response)\n",
    "for level in tqdm(eval_order):\n",
    "    await make_level(level)\n",
    "    time.sleep(0.5)"
   ]
  },
  {
   "cell_type": "code",
   "execution_count": null,
   "metadata": {},
   "outputs": [],
   "source": [
    "# Commit the translated code\n",
    "repo.git.commit(A=True, m=f\"Boilerplate {target} code\")\n",
    "repo.git.push('origin', created_branch, force=True)\n",
    "\n",
    "# Create a pull request with the translated code\n",
    "pr = create_pull_request(\n",
    "        repo=repo,\n",
    "        base_branch=base_branch,\n",
    "        new_branch=created_branch,\n",
    "        title=f\"Translation from {source} to {target}\",\n",
    "        body=f\"This is a boilerplate translation performed by the Fraimwork app. Please check to make sure that all logic is appropriately translated before merging.\",\n",
    "        token=GITHUB_TOKEN\n",
    "    )\n",
    "\n",
    "shutil.rmtree('./tmp/', ignore_errors=True)"
   ]
  }
 ],
 "metadata": {
  "kernelspec": {
   "display_name": "base",
   "language": "python",
   "name": "python3"
  },
  "language_info": {
   "codemirror_mode": {
    "name": "ipython",
    "version": 3
   },
   "file_extension": ".py",
   "mimetype": "text/x-python",
   "name": "python",
   "nbconvert_exporter": "python",
   "pygments_lexer": "ipython3",
   "version": "3.11.7"
  }
 },
 "nbformat": 4,
 "nbformat_minor": 2
}
