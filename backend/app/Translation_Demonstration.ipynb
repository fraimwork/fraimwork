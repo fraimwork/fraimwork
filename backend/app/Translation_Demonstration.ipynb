{
 "cells": [
  {
   "cell_type": "code",
   "execution_count": 2,
   "metadata": {},
   "outputs": [],
   "source": [
    "import os, json, asyncio, networkx as nx\n",
    "from flask import Flask, request\n",
    "from flask_cors import CORS\n",
    "from utils.gitutils import create_pull_request, clone_repo, create_branch\n",
    "from utils.agent import Agent, GenerationConfig, Interaction, Team\n",
    "from utils.stringutils import arr_from_sep_string, extract_markdown_blocks\n",
    "from utils.filetreeutils import FileTree, write_file_tree\n",
    "from dotenv import load_dotenv\n",
    "import shutil\n",
    "\n",
    "app = Flask(__name__)\n",
    "CORS(app)\n",
    "\n",
    "load_dotenv()  # Load environment variables from .env\n",
    "\n",
    "PROJECT_ID = os.getenv('PROJECT_ID')\n",
    "LOCATION = os.getenv('LOCATION')\n",
    "MODEL_NAME = os.getenv('MODEL_NAME')\n",
    "GITHUB_TOKEN = os.getenv('GITHUB_TOKEN')\n",
    "API_KEY = os.getenv('API_KEY')\n",
    "\n",
    "extensions_of = {\n",
    "    \"flutter\": [\".dart\"],\n",
    "    \"react-native\": [\".ts, .js, .tsx, .jsx\"]\n",
    "    # Add more frameworks and their corresponding languages here\n",
    "}\n",
    "\n",
    "ignored_files_of = {\n",
    "    \"flutter\": [],\n",
    "    \"react-native\": []\n",
    "    # Add more frameworks and their corresponding ignored files here\n",
    "}\n",
    "\n",
    "def get_working_dir(framework):\n",
    "    match framework:\n",
    "        case \"flutter\":\n",
    "            return \"lib\"\n",
    "        case \"react-native\":\n",
    "            return \"src\"\n",
    "        case _:\n",
    "            return None\n",
    "\n",
    "def wipe_repo(repo_path, exceptions=set()):\n",
    "    for dir in os.listdir(repo_path):\n",
    "        path = os.path.join(repo_path, dir)\n",
    "        if os.path.isfile(path):\n",
    "            os.remove(path)\n",
    "        else:\n",
    "            dir_name = os.path.basename(dir)\n",
    "            if dir_name == \".git\" or dir_name in exceptions: continue\n",
    "            if os.listdir(path):\n",
    "                wipe_repo(path)\n",
    "            os.rmdir(os.path.join(repo_path, dir))\n",
    "\n",
    "def prepare_repo(repo_path, framework):\n",
    "    working_dir = get_working_dir(framework)\n",
    "    if not working_dir:\n",
    "        return \"Invalid framework\"\n",
    "    wipe_repo(repo_path)\n",
    "    os.makedirs(f\"{repo_path}/{working_dir}\", exist_ok=True)\n",
    "    return f'{repo_path}/{working_dir}'\n",
    "\n",
    "def failed_check_for_params(data, *params):\n",
    "    for param in params:\n",
    "        if not data[param]:\n",
    "            return f\"Error: Missing '{param}' parameter\", 400\n",
    "    return None\n",
    "\n",
    "# Load the request data\n",
    "repo_url = 'https://github.com/6165-MSET-CuttleFish/TeamTrack'\n",
    "source = 'flutter'\n",
    "target = 'react-native'"
   ]
  },
  {
   "cell_type": "code",
   "execution_count": 4,
   "metadata": {},
   "outputs": [],
   "source": [
    "# Clone the repo and make a new branch\n",
    "repo = clone_repo(repo_url)\n",
    "base_branch = repo.active_branch.name\n",
    "created_branch = f\"translation-{source}-{target}\"\n",
    "create_branch(repo, repo.active_branch.name, created_branch)\n",
    "local_repo_path = str(repo.working_dir)\n",
    "working_dir_path = f'{local_repo_path}\\\\{get_working_dir(source)}'"
   ]
  },
  {
   "cell_type": "code",
   "execution_count": 5,
   "metadata": {},
   "outputs": [],
   "source": [
    "# Initialize the agent and team\n",
    "target_swe = Agent(\n",
    "    model_name=MODEL_NAME,\n",
    "    api_key=API_KEY,\n",
    "    name=\"target_swe\",\n",
    "    generation_config=GenerationConfig(temperature=0.9),\n",
    "    system_prompt=f\"You are a software engineer tasked with writing {target} code based on a {source} repo. Answer the following prompts to the best of your skills.\"\n",
    ")\n",
    "pm = Agent(\n",
    "    model_name=MODEL_NAME,\n",
    "    api_key=API_KEY,\n",
    "    name=\"pm\",\n",
    "    generation_config=GenerationConfig(max_output_tokens=4000, temperature=0.5),\n",
    "    system_prompt=f\"You are a high-level technical project manager tasked with the project of translating a repository from {source} to {target}. Answer the following prompts to the best of your knowledge.\"\n",
    ")\n",
    "source_swe = Agent(\n",
    "    model_name=MODEL_NAME,\n",
    "    api_key=API_KEY,\n",
    "    name=\"source_swe\",\n",
    "    generation_config=GenerationConfig(temperature=0.7),\n",
    "    system_prompt=f'''You are a {source} software engineer. Your job is to summarize the functionality of provided code files. Include all classes, functions and their params, and dependencies in your summary. Below is an example of how you might structure your response:\n",
    "\n",
    "# filename.ext:\n",
    "\n",
    "<3 sentence summary of the of the file>.\n",
    "\n",
    "## Dependencies:\n",
    "...\n",
    "...\n",
    "\n",
    "## Classes:\n",
    "`Pet`: describes the abstract class for a pet\n",
    "- `changeOwner(newOwner) - Function changes the owner of the pet to `newOwner`\n",
    "\n",
    "`Dog`: describes the blueprint class for a dog. Is a subtype of `Animal`\n",
    "- `bark()`- prints \"woof\" to the console\n",
    "- `changeOwner(newOwner)`- Function changes the owner of the dog to `newOwner`\n",
    "\n",
    "`Cat`: describes the blueprint class for a cat. Is a subtype of `Pet`\n",
    "- `meow()`- prints \"meow\" to the console\n",
    "- `changeOwner(newOwner)`- Function changes the owner of the cat to `newOwner`\n",
    "'''\n",
    ")\n",
    "team = Team(target_swe, pm, source_swe)"
   ]
  },
  {
   "cell_type": "code",
   "execution_count": 6,
   "metadata": {},
   "outputs": [],
   "source": [
    "from utils.languageutils import DartAnalyzer\n",
    "\n",
    "analyzer = DartAnalyzer(working_dir_path)\n",
    "\n",
    "source_dependency_graph = analyzer.buildDependencyGraph()"
   ]
  },
  {
   "cell_type": "code",
   "execution_count": 7,
   "metadata": {},
   "outputs": [
    {
     "name": "stdout",
     "output_type": "stream",
     "text": [
      "['models\\\\AppModel.dart', 'models\\\\StatConfig.dart']\n",
      "['models\\\\GameModel.dart']\n",
      "['models\\\\ScoreModel.dart']\n",
      "['functions\\\\Extensions.dart', 'components\\\\misc\\\\PlatformGraphics.dart']\n",
      "['components\\\\statistics\\\\BarGraph.dart', 'components\\\\users\\\\PFP.dart']\n",
      "['providers\\\\Auth.dart', 'components\\\\scores\\\\Incrementor.dart', 'components\\\\users\\\\UsersRow.dart', 'functions\\\\Statistics.dart', 'components\\\\scores\\\\ScoreSummary.dart']\n",
      "['views\\\\home\\\\match\\\\MatchView.dart']\n",
      "['components\\\\statistics\\\\PercentChange.dart', 'functions\\\\Functions.dart']\n",
      "['components\\\\scores\\\\ScoreRangeSummary.dart', 'components\\\\scores\\\\ScoreTimeline.dart', 'models\\\\Change.dart']\n",
      "['views\\\\home\\\\match\\\\ExampleMatchRow.dart', 'views\\\\home\\\\change\\\\ChangeRow.dart', 'views\\\\home\\\\change\\\\ChangeConfig.dart', 'views\\\\home\\\\match\\\\MatchRow.dart', 'components\\\\misc\\\\EmptyList.dart', 'components\\\\scores\\\\ScoringElementStats.dart', 'components\\\\misc\\\\CardView.dart', 'views\\\\home\\\\match\\\\MatchConfig.dart', 'components\\\\statistics\\\\CheckList.dart']\n",
      "['views\\\\home\\\\change\\\\ChangeList.dart', 'components\\\\AutonomousDrawingTool.dart', 'views\\\\home\\\\match\\\\MatchList.dart', 'components\\\\scores\\\\ScoreCard.dart', 'components\\\\misc\\\\Collapsible.dart']\n",
      "['views\\\\home\\\\team\\\\AutonDrawer.dart']\n",
      "['views\\\\home\\\\team\\\\ExampleTeamRow.dart', 'views\\\\home\\\\team\\\\TeamRow.dart', 'views\\\\home\\\\util\\\\Permissions.dart', 'views\\\\home\\\\team\\\\TeamView.dart']\n",
      "['views\\\\home\\\\events\\\\EventShare.dart', 'views\\\\home\\\\team\\\\TeamList.dart', 'functions\\\\APIMethods.dart']\n",
      "['views\\\\auth\\\\SignUpScreen.dart', 'views\\\\home\\\\events\\\\EventView.dart']\n",
      "['providers\\\\PushNotifications.dart', 'views\\\\templates\\\\TemplatesList.dart', 'views\\\\auth\\\\Login.dart', 'views\\\\home\\\\events\\\\EventsList.dart', 'views\\\\inbox\\\\BlockList.dart', 'views\\\\inbox\\\\Inbox.dart', 'providers\\\\Theme.dart']\n",
      "['views\\\\LandingPage.dart']\n",
      "['views\\\\auth\\\\AuthenticationWrapper.dart', 'models\\\\GPTModel.dart']\n",
      "['components\\\\misc\\\\InfoPills.dart', 'views\\\\home\\\\team\\\\AllianceSelection.dart', 'views\\\\home\\\\team\\\\TeamRowAlliance.dart', 'views\\\\auth\\\\Verify.dart', 'views\\\\home\\\\team\\\\TeamAllianceRecommend.dart', 'views\\\\home\\\\events\\\\CameraView.dart', 'functions\\\\ResponseModel.dart', 'views\\\\home\\\\events\\\\ImageView.dart', 'providers\\\\UserPresence.dart', 'api\\\\README.MD', 'views\\\\home\\\\team\\\\AllianceSimulator.dart', 'views\\\\templates\\\\TemplateView.dart', 'functions\\\\GPTModel.dart', 'main.dart']\n",
      "Number of levels: 19\n"
     ]
    }
   ],
   "source": [
    "from utils.graphutils import loose_level_order\n",
    "\n",
    "# loose level order\n",
    "eval_order = loose_level_order(source_dependency_graph)[::-1]\n",
    "for level in eval_order:\n",
    "    print(level)\n",
    "print(f\"Number of levels: {len(eval_order)}\")"
   ]
  },
  {
   "cell_type": "code",
   "execution_count": 8,
   "metadata": {},
   "outputs": [
    {
     "data": {
      "text/plain": [
       "├── api\\\n",
       "│   ├── README.MD\n",
       "├── components\\\n",
       "│   ├── misc\\\n",
       "│   │   ├── CardView.dart\n",
       "│   │   ├── Collapsible.dart\n",
       "│   │   ├── EmptyList.dart\n",
       "│   │   ├── InfoPills.dart\n",
       "│   │   ├── PlatformGraphics.dart\n",
       "│   ├── scores\\\n",
       "│   │   ├── Incrementor.dart\n",
       "│   │   ├── ScoreCard.dart\n",
       "│   │   ├── ScoreRangeSummary.dart\n",
       "│   │   ├── ScoreSummary.dart\n",
       "│   │   ├── ScoreTimeline.dart\n",
       "│   │   ├── ScoringElementStats.dart\n",
       "│   ├── statistics\\\n",
       "│   │   ├── BarGraph.dart\n",
       "│   │   ├── CheckList.dart\n",
       "│   │   ├── PercentChange.dart\n",
       "│   ├── users\\\n",
       "│   │   ├── PFP.dart\n",
       "│   │   ├── UsersRow.dart\n",
       "│   ├── AutonomousDrawingTool.dart\n",
       "├── functions\\\n",
       "│   ├── APIMethods.dart\n",
       "│   ├── Extensions.dart\n",
       "│   ├── Functions.dart\n",
       "│   ├── GPTModel.dart\n",
       "│   ├── ResponseModel.dart\n",
       "│   ├── Statistics.dart\n",
       "├── models\\\n",
       "│   ├── AppModel.dart\n",
       "│   ├── Change.dart\n",
       "│   ├── GameModel.dart\n",
       "│   ├── GPTModel.dart\n",
       "│   ├── ScoreModel.dart\n",
       "│   ├── StatConfig.dart\n",
       "├── providers\\\n",
       "│   ├── Auth.dart\n",
       "│   ├── PushNotifications.dart\n",
       "│   ├── Theme.dart\n",
       "│   ├── UserPresence.dart\n",
       "├── views\\\n",
       "│   ├── auth\\\n",
       "│   │   ├── AuthenticationWrapper.dart\n",
       "│   │   ├── Login.dart\n",
       "│   │   ├── SignUpScreen.dart\n",
       "│   │   ├── Verify.dart\n",
       "│   ├── home\\\n",
       "│   │   ├── change\\\n",
       "│   │   │   ├── ChangeConfig.dart\n",
       "│   │   │   ├── ChangeList.dart\n",
       "│   │   │   ├── ChangeRow.dart\n",
       "│   │   ├── events\\\n",
       "│   │   │   ├── CameraView.dart\n",
       "│   │   │   ├── EventShare.dart\n",
       "│   │   │   ├── EventsList.dart\n",
       "│   │   │   ├── EventView.dart\n",
       "│   │   │   ├── ImageView.dart\n",
       "│   │   ├── match\\\n",
       "│   │   │   ├── ExampleMatchRow.dart\n",
       "│   │   │   ├── MatchConfig.dart\n",
       "│   │   │   ├── MatchList.dart\n",
       "│   │   │   ├── MatchRow.dart\n",
       "│   │   │   ├── MatchView.dart\n",
       "│   │   ├── team\\\n",
       "│   │   │   ├── AllianceSelection.dart\n",
       "│   │   │   ├── AllianceSimulator.dart\n",
       "│   │   │   ├── AutonDrawer.dart\n",
       "│   │   │   ├── ExampleTeamRow.dart\n",
       "│   │   │   ├── TeamAllianceRecommend.dart\n",
       "│   │   │   ├── TeamList.dart\n",
       "│   │   │   ├── TeamRow.dart\n",
       "│   │   │   ├── TeamRowAlliance.dart\n",
       "│   │   │   ├── TeamView.dart\n",
       "│   │   ├── util\\\n",
       "│   │   │   ├── Permissions.dart\n",
       "│   ├── inbox\\\n",
       "│   │   ├── BlockList.dart\n",
       "│   │   ├── Inbox.dart\n",
       "│   ├── templates\\\n",
       "│   │   ├── TemplatesList.dart\n",
       "│   │   ├── TemplateView.dart\n",
       "│   ├── LandingPage.dart\n",
       "├── main.dart"
      ]
     },
     "execution_count": 8,
     "metadata": {},
     "output_type": "execute_result"
    }
   ],
   "source": [
    "(source_file_tree := FileTree.from_dir(working_dir_path))"
   ]
  },
  {
   "cell_type": "code",
   "execution_count": 9,
   "metadata": {},
   "outputs": [
    {
     "name": "stderr",
     "output_type": "stream",
     "text": [
      "100%|██████████| 19/19 [02:56<00:00,  9.27s/it]\n"
     ]
    }
   ],
   "source": [
    "# Summarize the original repo\n",
    "from tqdm import tqdm\n",
    "\n",
    "async def summarize_group(group):\n",
    "    async def summarize(node):\n",
    "        name = source_file_tree.nodes[node]['name']\n",
    "        content = source_file_tree.nodes[node]['content']\n",
    "        message = f\"{name}\\n```\\n{content}\\n```\"\n",
    "        return await team.async_chat_with_agent(\n",
    "            agent_name='source_swe',\n",
    "            message=message,\n",
    "            context_keys=[f\"summary_{neighbor}\" for neighbor in source_dependency_graph[node]],\n",
    "            save_keys=[f\"summary_{node}\", \"all\"],\n",
    "            prompt_title=f\"Summary of {name}\"\n",
    "            )\n",
    "    tasks = [summarize(node) for node in group]\n",
    "    responses = await asyncio.gather(*tasks)\n",
    "    for i, response in enumerate(responses):\n",
    "        source_file_tree.nodes[group[i]][\"summary\"] = response\n",
    "\n",
    "for level in tqdm(eval_order):\n",
    "    await summarize_group(level)"
   ]
  },
  {
   "cell_type": "code",
   "execution_count": 10,
   "metadata": {},
   "outputs": [
    {
     "data": {
      "text/plain": [
       "44063"
      ]
     },
     "execution_count": 10,
     "metadata": {},
     "output_type": "execute_result"
    }
   ],
   "source": [
    "curr_string = '\\n'.join([message['parts'][0] for interaction in team.context_threads['all'] for message in interaction.to_dict()])\n",
    "(curr_tokens := pm.model.count_tokens(curr_string).total_tokens)"
   ]
  },
  {
   "cell_type": "code",
   "execution_count": 11,
   "metadata": {},
   "outputs": [
    {
     "data": {
      "text/plain": [
       "122963"
      ]
     },
     "execution_count": 11,
     "metadata": {},
     "output_type": "execute_result"
    }
   ],
   "source": [
    "would_be_string = '\\n'.join([source_file_tree.nodes[node]['content'] for node in source_dependency_graph.nodes])\n",
    "(would_be_tokens := pm.model.count_tokens(would_be_string).total_tokens)"
   ]
  },
  {
   "cell_type": "code",
   "execution_count": 12,
   "metadata": {},
   "outputs": [
    {
     "data": {
      "text/plain": [
       "0.6416564332360141"
      ]
     },
     "execution_count": 12,
     "metadata": {},
     "output_type": "execute_result"
    }
   ],
   "source": [
    "(percent_tokens_reduction := 1 - (curr_tokens / would_be_tokens))"
   ]
  },
  {
   "cell_type": "code",
   "execution_count": 13,
   "metadata": {},
   "outputs": [],
   "source": [
    "# Create new file tree\n",
    "prompt = f'''This is the file tree for the original {source} repo:\n",
    "```\n",
    "{get_working_dir(source)}\\\\\n",
    "{source_file_tree}\n",
    "```\n",
    "You are tasked with re-structuring the directory to create a file tree for the new react-native repo in the new working directory {get_working_dir(target)}\\\\. Only include files of type(s) {extensions_of[target]} in your response. Structure your response with as follows:\n",
    "# Summary of original repo\n",
    "$less than 10 sentence summary of the original repo$\n",
    "\n",
    "# Methodology of translation\n",
    "$Brief explanation of what needs to be translated (include things like filename changes for entry points and other structural changes)$\n",
    "\n",
    "# File-tree\n",
    "```\n",
    "{get_working_dir(target)}\\\\\n",
    "├── folder1\\\\\n",
    "│   ├── file1.ext\n",
    "├── folder2\\\\\n",
    "│   ├── folder3\\\\\n",
    "│   │   ├── file2.ext\n",
    "```\n",
    "# Notes\n",
    "...\n",
    "'''\n",
    "raw_tree = max(extract_markdown_blocks(team.chat_with_agent('pm', prompt, context_keys=['all'], save_keys=['all'])), key=len)[len(get_working_dir(target)) + 2:]"
   ]
  },
  {
   "cell_type": "code",
   "execution_count": 14,
   "metadata": {},
   "outputs": [
    {
     "data": {
      "text/plain": [
       "├── api\\\n",
       "│   ├── APIMethods.ts\n",
       "├── components\\\n",
       "│   ├── misc\\\n",
       "│   │   ├── CardView.tsx\n",
       "│   │   ├── Collapsible.tsx\n",
       "│   │   ├── EmptyList.tsx\n",
       "│   │   ├── InfoPills.tsx\n",
       "│   │   ├── PlatformGraphics.tsx\n",
       "│   ├── scores\\\n",
       "│   │   ├── Incrementor.tsx\n",
       "│   │   ├── ScoreCard.tsx\n",
       "│   │   ├── ScoreRangeSummary.tsx\n",
       "│   │   ├── ScoreSummary.tsx\n",
       "│   │   ├── ScoreTimeline.tsx\n",
       "│   │   ├── ScoringElementStats.tsx\n",
       "│   ├── statistics\\\n",
       "│   │   ├── BarGraph.tsx\n",
       "│   │   ├── CheckList.tsx\n",
       "│   │   ├── PercentChange.tsx\n",
       "│   ├── users\\\n",
       "│   │   ├── PFP.tsx\n",
       "│   │   ├── UsersRow.tsx\n",
       "│   ├── AutonomousDrawingTool.tsx\n",
       "├── functions\\\n",
       "│   ├── APIMethods.ts\n",
       "│   ├── Extensions.ts\n",
       "│   ├── Functions.ts\n",
       "│   ├── GPTModel.ts\n",
       "│   ├── ResponseModel.ts\n",
       "│   ├── Statistics.ts\n",
       "├── models\\\n",
       "│   ├── AppModel.ts\n",
       "│   ├── Change.ts\n",
       "│   ├── GameModel.ts\n",
       "│   ├── GPTModel.ts\n",
       "│   ├── ScoreModel.ts\n",
       "│   ├── StatConfig.ts\n",
       "├── providers\\\n",
       "│   ├── Auth.ts\n",
       "│   ├── PushNotifications.ts\n",
       "│   ├── Theme.ts\n",
       "│   ├── UserPresence.ts\n",
       "├── views\\\n",
       "│   ├── auth\\\n",
       "│   │   ├── AuthenticationWrapper.tsx\n",
       "│   │   ├── Login.tsx\n",
       "│   │   ├── SignUpScreen.tsx\n",
       "│   │   ├── Verify.tsx\n",
       "│   ├── home\\\n",
       "│   │   ├── change\\\n",
       "│   │   │   ├── ChangeConfig.tsx\n",
       "│   │   │   ├── ChangeList.tsx\n",
       "│   │   │   ├── ChangeRow.tsx\n",
       "│   │   ├── events\\\n",
       "│   │   │   ├── CameraView.tsx\n",
       "│   │   │   ├── EventShare.tsx\n",
       "│   │   │   ├── EventsList.tsx\n",
       "│   │   │   ├── EventView.tsx\n",
       "│   │   │   ├── ImageView.tsx\n",
       "│   │   ├── match\\\n",
       "│   │   │   ├── ExampleMatchRow.tsx\n",
       "│   │   │   ├── MatchConfig.tsx\n",
       "│   │   │   ├── MatchList.tsx\n",
       "│   │   │   ├── MatchRow.tsx\n",
       "│   │   │   ├── MatchView.tsx\n",
       "│   │   ├── team\\\n",
       "│   │   │   ├── AllianceSelection.tsx\n",
       "│   │   │   ├── AllianceSimulator.tsx\n",
       "│   │   │   ├── AutonDrawer.tsx\n",
       "│   │   │   ├── ExampleTeamRow.tsx\n",
       "│   │   │   ├── TeamAllianceRecommend.tsx\n",
       "│   │   │   ├── TeamList.tsx\n",
       "│   │   │   ├── TeamRow.tsx\n",
       "│   │   │   ├── TeamRowAlliance.tsx\n",
       "│   │   │   ├── TeamView.tsx\n",
       "│   │   ├── util\\\n",
       "│   │   │   ├── Permissions.tsx\n",
       "│   ├── inbox\\\n",
       "│   │   ├── BlockList.tsx\n",
       "│   │   ├── Inbox.tsx\n",
       "│   ├── templates\\\n",
       "│   │   ├── TemplatesList.tsx\n",
       "│   │   ├── TemplateView.tsx\n",
       "│   ├── LandingPage.tsx\n",
       "├── index.js"
      ]
     },
     "execution_count": 14,
     "metadata": {},
     "output_type": "execute_result"
    }
   ],
   "source": [
    "wipe_repo(local_repo_path)\n",
    "# repo.git.commit(A=True, m=\"Let the past die. Kill it if you have to\")\n",
    "working_dir_path = f'{local_repo_path}\\\\{get_working_dir(target)}'\n",
    "write_file_tree(raw_tree, working_dir_path)\n",
    "# repo.git.commit(A=True, m=\"A New Hope\")\n",
    "(target_file_tree := FileTree.from_dir(working_dir_path))"
   ]
  },
  {
   "cell_type": "code",
   "execution_count": 15,
   "metadata": {},
   "outputs": [],
   "source": [
    "import datetime\n",
    "# Cache the context threads\n",
    "pm.cache_context(team.context_threads['all'], ttl=datetime.timedelta(minutes=5))"
   ]
  },
  {
   "cell_type": "code",
   "execution_count": 16,
   "metadata": {},
   "outputs": [],
   "source": [
    "order = list(target_file_tree.nodes)\n",
    "async def build_description(node):\n",
    "    prompt = f'''For the file {node} in the new {target} repo. I want you to provide the following write-up:\n",
    "$A brief description of what the file should contain (classes, functions, views etc.) in 8 lines or less$\n",
    "'''\n",
    "    return await team.async_chat_with_agent('pm', prompt, save_keys=[f\"description_{node}\"], prompt_title=f\"Description of {node}\")\n",
    "tasks = [build_description(node) for node in order if 'content' in target_file_tree.nodes[node]]\n",
    "descriptions = await asyncio.gather(*tasks)\n",
    "for i, description in enumerate(descriptions):\n",
    "    target_file_tree.nodes[order[i]]['description'] = description"
   ]
  },
  {
   "cell_type": "code",
   "execution_count": 17,
   "metadata": {},
   "outputs": [],
   "source": [
    "# Create a correspondence graph between the two file trees\n",
    "correspondance_graph = nx.DiGraph()\n",
    "\n",
    "async def find_correspondance(node):\n",
    "    prompt = f\"\"\"Which file(s) in the original {source} correspond to {node} in the translated {target} repo you made? \\\n",
    "Only include the file(s) that are ABSOLUTELY necessary for context (tend towards fewer files). Additionally, only include the paths in your response and format your response as:\n",
    "```\n",
    "{get_working_dir(source)}\\\\path\\\\to\\\\{source}\\\\file1.ext, {get_working_dir(source)}\\\\path\\\\to\\\\{source}\\\\file2.ext\n",
    "```\n",
    "Be sure to start all of your paths from {get_working_dir(source)}\"\"\"\n",
    "    return await team.async_chat_with_agent('pm', prompt, context_keys=[f\"description_{node}\"])\n",
    "files_to_make = [file for file in target_file_tree.reverse_level_order() if 'content' in target_file_tree.nodes[file]]\n",
    "tasks = [find_correspondance(node) for node in files_to_make]\n",
    "responses = await asyncio.gather(*tasks)\n",
    "for i, response in enumerate(responses):\n",
    "    blocks = extract_markdown_blocks(response)\n",
    "    if len(blocks) == 0: continue\n",
    "    response = blocks[0]\n",
    "    node = files_to_make[i]\n",
    "    target_node = f'{target}_{node}'\n",
    "    for correspondance in arr_from_sep_string(response):\n",
    "        source_node = f'{source}_{correspondance[len(get_working_dir(source)) + 1:]}'\n",
    "        correspondance_graph.add_edge(target_node, source_node)"
   ]
  },
  {
   "cell_type": "code",
   "execution_count": 19,
   "metadata": {},
   "outputs": [],
   "source": [
    "# Create a dependency graph for the target repo\n",
    "target_dependency_graph = nx.DiGraph()\n",
    "async def find_dependency(node):\n",
    "    prompt = f\"\"\"Which file(s) does {node} depend on (as dependencies) in the new {target} repo you made? \\\n",
    "Only include the files that are ABSOLUTELY necessary for functionality. Additionally, only include valid paths on the tree in your response and format your response as:\n",
    "```\n",
    "{get_working_dir(target)}\\\\path\\\\to\\\\{target}\\\\file1.ext, {get_working_dir(target)}\\\\path\\\\to\\\\{target}\\\\file2.ext\n",
    "```\n",
    "Be sure to start all of your paths from {get_working_dir(target)}\"\"\"\n",
    "    return await team.async_chat_with_agent('pm', prompt, context_keys=[f\"description_{node}\"])\n",
    "tasks = [find_dependency(node) for node in files_to_make]\n",
    "responses = await asyncio.gather(*tasks)\n",
    "for i, response in enumerate(responses):\n",
    "    blocks = extract_markdown_blocks(response)\n",
    "    if len(blocks) == 0: continue\n",
    "    response = blocks[0]\n",
    "    node = files_to_make[i]\n",
    "    for dependency in arr_from_sep_string(response):\n",
    "        dependency_node = f'{dependency[len(get_working_dir(target)) + 1:]}'\n",
    "        dependency_node = dependency_node.replace('/', '\\\\')\n",
    "        \n",
    "        if not os.path.exists(f'{working_dir_path}\\\\{dependency_node}'): continue\n",
    "\n",
    "        target_dependency_graph.add_node(node, content=\"\", description=target_file_tree.nodes[node]['description'] if 'description' in target_file_tree.nodes[node] else \"\")\n",
    "        target_dependency_graph.add_node(dependency_node, content=\"\", description=target_file_tree.nodes[dependency_node]['description'] if 'description' in target_file_tree.nodes[dependency_node] else \"\")\n",
    "        target_dependency_graph.add_edge(node, dependency_node)"
   ]
  },
  {
   "cell_type": "code",
   "execution_count": 20,
   "metadata": {},
   "outputs": [
    {
     "name": "stdout",
     "output_type": "stream",
     "text": [
      "[{'components\\\\misc\\\\PlatformGraphics.tsx'}]\n",
      "[{'components\\\\statistics\\\\BarGraph.tsx'}]\n",
      "[{'functions\\\\Extensions.ts', 'components\\\\scores\\\\ScoreSummary.tsx', 'providers\\\\Auth.ts', 'components\\\\scores\\\\Incrementor.tsx', 'models\\\\AppModel.ts', 'models\\\\Change.ts', 'components\\\\users\\\\UsersRow.tsx', 'views\\\\home\\\\match\\\\MatchView.tsx', 'models\\\\StatConfig.ts', 'components\\\\users\\\\PFP.tsx', 'functions\\\\Statistics.ts', 'functions\\\\Functions.ts', 'models\\\\ScoreModel.ts', 'models\\\\GameModel.ts'}]\n",
      "[{'functions\\\\ResponseModel.ts'}, {'functions\\\\APIMethods.ts'}, {'components\\\\statistics\\\\PercentChange.tsx'}]\n",
      "[{'functions\\\\GPTModel.ts'}, {'components\\\\misc\\\\InfoPills.tsx'}, {'components\\\\scores\\\\ScoreTimeline.tsx'}, {'components\\\\scores\\\\ScoreRangeSummary.tsx'}]\n",
      "[{'components\\\\misc\\\\CardView.tsx'}, {'components\\\\scores\\\\ScoringElementStats.tsx'}, {'views\\\\home\\\\match\\\\MatchRow.tsx'}, {'views\\\\home\\\\match\\\\MatchConfig.tsx'}, {'components\\\\misc\\\\EmptyList.tsx'}, {'views\\\\home\\\\change\\\\ChangeConfig.tsx'}, {'views\\\\home\\\\change\\\\ChangeRow.tsx'}, {'models\\\\GPTModel.ts'}, {'views\\\\home\\\\team\\\\TeamRowAlliance.tsx'}, {'views\\\\home\\\\team\\\\TeamAllianceRecommend.tsx'}]\n",
      "[{'components\\\\scores\\\\ScoreCard.tsx'}, {'views\\\\home\\\\match\\\\MatchList.tsx'}, {'views\\\\home\\\\change\\\\ChangeList.tsx'}, {'components\\\\statistics\\\\CheckList.tsx'}, {'components\\\\AutonomousDrawingTool.tsx'}, {'views\\\\home\\\\team\\\\AllianceSelection.tsx'}]\n",
      "[{'views\\\\home\\\\team\\\\TeamView.tsx'}, {'views\\\\home\\\\util\\\\Permissions.tsx'}, {'views\\\\home\\\\team\\\\TeamRow.tsx'}, {'views\\\\home\\\\team\\\\ExampleTeamRow.tsx'}]\n",
      "[{'views\\\\home\\\\events\\\\EventShare.tsx'}, {'providers\\\\Theme.ts'}, {'views\\\\home\\\\team\\\\TeamList.tsx'}, {'api\\\\APIMethods.ts'}]\n",
      "[{'views\\\\templates\\\\TemplateView.tsx'}, {'views\\\\auth\\\\SignUpScreen.tsx'}, {'views\\\\home\\\\events\\\\EventView.tsx'}]\n",
      "[{'views\\\\home\\\\events\\\\EventsList.tsx'}, {'views\\\\templates\\\\TemplatesList.tsx'}, {'views\\\\inbox\\\\BlockList.tsx'}, {'providers\\\\PushNotifications.ts'}, {'views\\\\auth\\\\Login.tsx'}]\n",
      "[{'views\\\\LandingPage.tsx', 'views\\\\inbox\\\\Inbox.tsx'}, {'views\\\\auth\\\\Verify.tsx'}]\n",
      "[{'views\\\\home\\\\team\\\\AllianceSimulator.tsx'}, {'views\\\\home\\\\match\\\\ExampleMatchRow.tsx'}, {'views\\\\home\\\\events\\\\ImageView.tsx', 'views\\\\home\\\\events\\\\CameraView.tsx'}, {'views\\\\auth\\\\AuthenticationWrapper.tsx'}, {'components\\\\misc\\\\Collapsible.tsx'}, {'providers\\\\UserPresence.ts'}, {'index.js'}, {'views\\\\home\\\\team\\\\AutonDrawer.tsx'}]\n"
     ]
    }
   ],
   "source": [
    "from utils.graphutils import collapsed_level_order\n",
    "eval_order = collapsed_level_order(target_dependency_graph)[::-1]\n",
    "for level in eval_order:\n",
    "    print(level)"
   ]
  },
  {
   "cell_type": "code",
   "execution_count": 22,
   "metadata": {},
   "outputs": [
    {
     "name": "stderr",
     "output_type": "stream",
     "text": [
      " 15%|█▌        | 2/13 [00:07<00:41,  3.80s/it]"
     ]
    },
    {
     "name": "stdout",
     "output_type": "stream",
     "text": [
      "index: 0\n",
      "finish_reason: RECITATION\n",
      "\n"
     ]
    },
    {
     "name": "stderr",
     "output_type": "stream",
     "text": [
      " 69%|██████▉   | 9/13 [01:20<00:47, 11.84s/it]"
     ]
    },
    {
     "name": "stdout",
     "output_type": "stream",
     "text": [
      "index: 0\n",
      "finish_reason: RECITATION\n",
      "\n"
     ]
    },
    {
     "name": "stderr",
     "output_type": "stream",
     "text": [
      " 77%|███████▋  | 10/13 [01:35<00:38, 12.68s/it]"
     ]
    },
    {
     "name": "stdout",
     "output_type": "stream",
     "text": [
      "index: 0\n",
      "finish_reason: RECITATION\n",
      "\n"
     ]
    },
    {
     "name": "stderr",
     "output_type": "stream",
     "text": [
      "100%|██████████| 13/13 [02:08<00:00,  9.86s/it]\n"
     ]
    }
   ],
   "source": [
    "# Translate the code in the proposed file tree\n",
    "async def make_group(group: set):\n",
    "    group_list = list(group)\n",
    "    async def make_file(node):\n",
    "        if node not in target_file_tree.nodes: return None\n",
    "        actually_relevant_files = [file[len(source) + 2:] for file in correspondance_graph[f'{target}_{node}']]\n",
    "        actually_dependent_files = [file[len(target) + 2:] for file in target_dependency_graph[node]]\n",
    "        custom_context = [\n",
    "            Interaction(\n",
    "                prompt=f'Contents of {file} in the {target} repo',\n",
    "                response=target_file_tree.nodes[file][\"summary\"]\n",
    "            ) for file in actually_dependent_files if file in target_file_tree.nodes and 'content' in target_file_tree.nodes[file]\n",
    "        ] + [\n",
    "            Interaction(\n",
    "                prompt=f'Contents of {file} in the {source} repo',\n",
    "                response=f'{file}:\\n{source_file_tree.nodes[file][\"content\"]}',\n",
    "            ) for file in actually_relevant_files if file in source_file_tree.nodes and 'content' in source_file_tree.nodes[file]\n",
    "        ] + team.context_threads[f'description_{node}']\n",
    "        raw_resp = await target_swe.async_chat(\n",
    "            f\"Using the context from the prior {source} code and used {target} code, write code in {target} to create {node}. Respond with code and nothing else.\",\n",
    "            custom_context=custom_context\n",
    "        )\n",
    "        blocks = extract_markdown_blocks(raw_resp)\n",
    "        if len(blocks) == 0: return None\n",
    "        return blocks[0]\n",
    "    tasks = [make_file(node) for node in group_list]\n",
    "    responses = await asyncio.gather(*tasks)\n",
    "    for i, response in enumerate(responses):\n",
    "        if response is None: continue\n",
    "        target_file_tree.nodes[group_list[i]]['content'] = response\n",
    "        with open(f'{working_dir_path}\\\\{group_list[i]}', 'w') as f:\n",
    "            f.write(response)\n",
    "for level in tqdm(eval_order):\n",
    "    tasks = [make_group(group) for group in level]\n",
    "    responses = await asyncio.gather(*tasks)"
   ]
  },
  {
   "cell_type": "code",
   "execution_count": null,
   "metadata": {},
   "outputs": [],
   "source": [
    "# Commit the translated code\n",
    "repo.git.commit(A=True, m=f\"Boilerplate {target} code\")\n",
    "repo.git.push('origin', created_branch, force=True)\n",
    "\n",
    "# Create a pull request with the translated code\n",
    "pr = create_pull_request(\n",
    "        repo=repo,\n",
    "        base_branch=base_branch,\n",
    "        new_branch=created_branch,\n",
    "        title=f\"Translation from {source} to {target}\",\n",
    "        body=f\"This is a boilerplate translation performed by the Fraimwork app. Please check to make sure that all logic is appropriately translated before merging.\",\n",
    "        token=GITHUB_TOKEN\n",
    "    )\n",
    "\n",
    "shutil.rmtree('./tmp/', ignore_errors=True)"
   ]
  }
 ],
 "metadata": {
  "kernelspec": {
   "display_name": "base",
   "language": "python",
   "name": "python3"
  },
  "language_info": {
   "codemirror_mode": {
    "name": "ipython",
    "version": 3
   },
   "file_extension": ".py",
   "mimetype": "text/x-python",
   "name": "python",
   "nbconvert_exporter": "python",
   "pygments_lexer": "ipython3",
   "version": "3.11.7"
  }
 },
 "nbformat": 4,
 "nbformat_minor": 2
}
