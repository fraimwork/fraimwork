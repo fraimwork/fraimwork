{
 "cells": [
  {
   "cell_type": "code",
   "execution_count": 1,
   "metadata": {},
   "outputs": [],
   "source": [
    "from utils.gitutils import create_pull_request, clone_repo, create_branch\n",
    "from utils.agent import Agent, GenerationConfig, Interaction\n",
    "from utils.stringutils import arr_from_sep_string, extract_markdown_blocks, remove_indents\n",
    "from utils.filetreeutils import FileTree, write_file_tree\n",
    "import os, json, networkx as nx\n",
    "from dotenv import load_dotenv\n",
    "from utils.team import Team\n",
    "from tqdm import tqdm\n",
    "import requests\n",
    "import asyncio\n",
    "\n",
    "load_dotenv()  # Load environment variables from .env\n",
    "\n",
    "PROJECT_ID = os.getenv('PROJECT_ID')\n",
    "LOCATION = os.getenv('LOCATION')\n",
    "MODEL_NAME = os.getenv('MODEL_NAME')\n",
    "GITHUB_TOKEN = os.getenv('GITHUB_TOKEN')\n",
    "API_KEY = os.getenv('API_KEY')\n",
    "\n",
    "extensions_of = {\n",
    "    \"flutter\": [\".dart\"],\n",
    "    \"react-native\": [\".ts, .js, .tsx, .jsx\"]\n",
    "    # Add more frameworks and their corresponding languages here\n",
    "}\n",
    "\n",
    "ignored_files_of = {\n",
    "    \"flutter\": [],\n",
    "    \"react-native\": []\n",
    "    # Add more frameworks and their corresponding ignored files here\n",
    "}\n",
    "\n",
    "def get_working_dir(framework):\n",
    "    match framework:\n",
    "        case \"flutter\":\n",
    "            return \"lib\"\n",
    "        case \"react-native\":\n",
    "            return \"src\"\n",
    "        case _:\n",
    "            return None\n",
    "\n",
    "def wipe_repo(repo_path, exceptions=set()):\n",
    "    for dir in os.listdir(repo_path):\n",
    "        if os.path.isfile(os.path.join(repo_path, dir)):\n",
    "            os.remove(os.path.join(repo_path, dir))\n",
    "        else:\n",
    "            dir_name = os.path.basename(dir)\n",
    "            if dir_name == \".git\" or dir_name in exceptions: continue\n",
    "            if os.listdir(os.path.join(repo_path, dir)):\n",
    "                wipe_repo(os.path.join(repo_path, dir))\n",
    "            os.rmdir(os.path.join(repo_path, dir))\n",
    "\n",
    "def prepare_repo(repo_path, framework):\n",
    "    working_dir = get_working_dir(framework)\n",
    "    if not working_dir:\n",
    "        return \"Invalid framework\"\n",
    "    wipe_repo(repo_path)\n",
    "    os.makedirs(f\"{repo_path}/{working_dir}\", exist_ok=True)\n",
    "    return f'{repo_path}/{working_dir}'"
   ]
  },
  {
   "cell_type": "code",
   "execution_count": 2,
   "metadata": {},
   "outputs": [],
   "source": [
    "repo_url = 'https://github.com/6165-MSET-CuttleFish/TeamTrack'\n",
    "source = 'flutter'\n",
    "target = 'react-native'\n",
    "\n",
    "# Clone the repo and make a new branch\n",
    "repo = clone_repo(repo_url)\n",
    "base_branch = repo.active_branch.name\n",
    "created_branch = f\"translation-{source}-{target}\"\n",
    "create_branch(repo, repo.active_branch.name, created_branch)\n",
    "local_repo_path = str(repo.working_dir)\n",
    "working_dir_path = f'{local_repo_path}\\\\{get_working_dir(source)}'"
   ]
  },
  {
   "cell_type": "code",
   "execution_count": 3,
   "metadata": {},
   "outputs": [],
   "source": [
    "# Initialize the agent and team\n",
    "swe = Agent(\n",
    "    model_name=MODEL_NAME,\n",
    "    api_key=API_KEY,\n",
    "    name=\"swe\",\n",
    "    generation_config=GenerationConfig(temperature=0.9),\n",
    "    system_prompt=\"You are a software engineer tasked with translating code from one framework to another. Respond with code and nothing else.\"\n",
    ")\n",
    "\n",
    "pm = Agent(\n",
    "    model_name=MODEL_NAME,\n",
    "    api_key=API_KEY,\n",
    "    name=\"pm\",\n",
    "    generation_config=GenerationConfig(max_output_tokens=4000),\n",
    "    system_prompt=\"You are a high-level technical project manager tasked with the project of translating a framework. In the following prompts, you will be given instructions on what to do. Answer them to the best of your knowledge.\"\n",
    ")"
   ]
  },
  {
   "cell_type": "code",
   "execution_count": 4,
   "metadata": {},
   "outputs": [
    {
     "name": "stderr",
     "output_type": "stream",
     "text": [
      "100%|██████████| 87/87 [00:00<?, ?it/s]\n"
     ]
    }
   ],
   "source": [
    "# Get the file structure of the original repo and the proposed file structure of the new repo\n",
    "source_file_tree = FileTree.from_directory(working_dir_path)\n",
    "source_reverse_level_order = source_file_tree.reverse_level_order()\n",
    "async def task(node):\n",
    "    if 'content' not in source_file_tree.nodes[node]: return None\n",
    "    return await pm.async_chat(f'Summarize the functionality of the following code, be brief and to the point:\\n{remove_indents(source_file_tree.nodes[node][\"content\"])}')\n",
    "tasks = [task(node) for node in tqdm(source_reverse_level_order)]\n",
    "responses = await asyncio.gather(*tasks)\n",
    "for i, response in enumerate(responses):\n",
    "    source_file_tree.nodes[source_reverse_level_order[i]][\"summary\"] = response\n",
    "prompt = f\"This is the file tree for the original {source} repo:\\n{get_working_dir(source)}\\\\\\n{source_file_tree}. Create a file tree for the new {target} repo in the new working directory {get_working_dir(target)}. Structure your response as follows:\\n```\\n{get_working_dir(target)}\\\\\\nfile tree\\n```\"\n",
    "custom_context = [\n",
    "        Interaction(\n",
    "            prompt=f'Summary of {file}',\n",
    "            response=source_file_tree.nodes[file][\"summary\"],\n",
    "            ) for file in source_reverse_level_order if 'content' in source_file_tree.nodes[file]\n",
    "        ]"
   ]
  },
  {
   "cell_type": "code",
   "execution_count": 5,
   "metadata": {},
   "outputs": [
    {
     "name": "stdout",
     "output_type": "stream",
     "text": [
      "├── app\\\n",
      "│   ├── routes\\\n",
      "│   │   ├── index.ts\n",
      "│   ├── theme\\\n",
      "│   │   ├── appTheme.ts\n",
      "│   │   ├── useTheme.ts\n",
      "│   ├── util\\\n",
      "│   │   ├── useToast.ts\n",
      "│   ├── app.config.ts\n",
      "│   ├── app.ts\n",
      "├── components\\\n",
      "│   ├── Authenticate\\\n",
      "│   │   ├── Authenticate.ts\n",
      "│   │   ├── Authenticate.types.ts\n",
      "│   │   ├── useAuthenticate.ts\n",
      "│   ├── Event\\\n",
      "│   │   ├── Event.tsx\n",
      "│   │   ├── useEvent.ts\n",
      "│   ├── EventCard\\\n",
      "│   │   ├── EventCard.tsx\n",
      "│   │   ├── EventCard.types.ts\n",
      "│   ├── EventList\\\n",
      "│   │   ├── EventList.tsx\n",
      "│   │   ├── useEventList.ts\n",
      "│   ├── EventView\\\n",
      "│   │   ├── EventView.tsx\n",
      "│   │   ├── useEventView.ts\n",
      "│   ├── Header\\\n",
      "│   │   ├── Header.tsx\n",
      "│   ├── Team\\\n",
      "│   │   ├── Team.tsx\n",
      "│   │   ├── useTeam.ts\n",
      "│   ├── TeamCard\\\n",
      "│   │   ├── TeamCard.tsx\n",
      "│   │   ├── TeamCard.types.ts\n",
      "│   ├── TeamCardList\\\n",
      "│   │   ├── TeamCardList.tsx\n",
      "│   │   ├── TeamCardList.types.ts\n",
      "│   ├── TeamList\\\n",
      "│   │   ├── TeamList.tsx\n",
      "│   │   ├── useTeamList.ts\n",
      "│   ├── Teams\\\n",
      "│   │   ├── Teams.tsx\n",
      "│   │   ├── useTeams.ts\n",
      "│   ├── TeamTrackUser\\\n",
      "│   │   ├── TeamTrackUser.ts\n",
      "│   │   ├── TeamTrackUserContext.ts\n",
      "│   │   ├── useTeamTrackUser.ts\n",
      "│   ├── TeamView\\\n",
      "│   │   ├── TeamView.tsx\n",
      "│   │   ├── useTeamView.ts\n",
      "│   ├── UserPreferences\\\n",
      "│   │   ├── useUserPreferences.ts\n",
      "├── hooks\\\n",
      "│   ├── useFetchData.ts\n",
      "├── services\\\n",
      "│   ├── api\\\n",
      "│   │   ├── apiService.ts\n",
      "│   ├── firebase\\\n",
      "│   │   ├── firebaseService.ts\n",
      "│   │   ├── firestoreService.ts\n",
      "├── types\\\n",
      "│   ├── events.ts\n",
      "│   ├── teams.ts\n",
      "│   ├── types.ts\n",
      "├── __tests__\\\n",
      "│   ├── api\\\n",
      "│   │   ├── apiService.test.ts\n",
      "│   ├── components\\\n",
      "│   │   ├── EventCard\\\n",
      "│   │   │   ├── EventCard.test.ts\n",
      "│   │   ├── Header\\\n",
      "│   │   │   ├── Header.test.ts\n",
      "│   │   ├── Team\\\n",
      "│   │   │   ├── Team.test.ts\n",
      "│   │   ├── TeamCard\\\n",
      "│   │   │   ├── TeamCard.test.ts\n",
      "│   │   ├── TeamCardList\\\n",
      "│   │   │   ├── TeamCardList.test.ts\n",
      "│   │   ├── TeamList\\\n",
      "│   │   │   ├── TeamList.test.ts\n",
      "│   │   ├── Teams\\\n",
      "│   │   │   ├── Teams.test.ts\n",
      "│   ├── hooks\\\n",
      "│   │   ├── useFetchData.test.ts\n",
      "│   ├── services\\\n",
      "│   │   ├── firebase\\\n",
      "│   │   │   ├── firestoreService.test.ts\n",
      "│   ├── theme\\\n",
      "│   │   ├── appTheme.test.ts\n",
      "│   ├── util\\\n",
      "│   │   ├── useToast.test.ts\n",
      "│   ├── App.test.ts\n",
      "├── index.d.ts\n",
      "├── index.js\n",
      "\n"
     ]
    }
   ],
   "source": [
    "raw_tree = extract_markdown_blocks(pm.chat(prompt, custom_context=custom_context))[0][len(get_working_dir(target)) + 2:]\n",
    "wipe_repo(local_repo_path)\n",
    "working_dir_path = f'{local_repo_path}\\\\{get_working_dir(target)}'\n",
    "write_file_tree(raw_tree, working_dir_path)\n",
    "target_file_tree = FileTree.from_directory(working_dir_path)\n",
    "print(target_file_tree)"
   ]
  },
  {
   "cell_type": "code",
   "execution_count": 6,
   "metadata": {},
   "outputs": [
    {
     "name": "stdout",
     "output_type": "stream",
     "text": [
      "DiGraph with 123 nodes and 0 edges\n"
     ]
    }
   ],
   "source": [
    "# Create a correspondence graph between the two file trees\n",
    "correspondance_graph = nx.DiGraph()\n",
    "# Merge the two file trees\n",
    "for node in source_file_tree.nodes:\n",
    "    if 'content' not in source_file_tree.nodes[node]: continue\n",
    "    correspondance_graph.add_node(f'{source}_{node}', attr=source_file_tree.nodes[node])\n",
    "for node in target_file_tree.nodes:\n",
    "    if 'content' not in target_file_tree.nodes[node]: continue\n",
    "    correspondance_graph.add_node(f'{target}_{node}', attr=target_file_tree.nodes[node])\n",
    "\n",
    "print(correspondance_graph)"
   ]
  },
  {
   "cell_type": "code",
   "execution_count": 7,
   "metadata": {},
   "outputs": [],
   "source": [
    "custom_context.append(\n",
    "        Interaction(\n",
    "            prompt=prompt,\n",
    "            response=raw_tree\n",
    "        )\n",
    "    )"
   ]
  },
  {
   "cell_type": "code",
   "execution_count": 8,
   "metadata": {},
   "outputs": [
    {
     "name": "stderr",
     "output_type": "stream",
     "text": [
      "100%|██████████| 96/96 [00:00<?, ?it/s]\n"
     ]
    }
   ],
   "source": [
    "async def find_correspondance(node):\n",
    "    if 'content' not in target_file_tree.nodes[node]: return None\n",
    "    raw_correspondances = await pm.async_chat(f\"Which file(s) in the original {source} repo correspond to {node} in the translated {target} repo you made? Only include the paths in your response and format your response as:\\n```\\n{get_working_dir(source)}\\\\path\\\\to\\\\{source}\\\\file1, {get_working_dir(source)}\\\\path\\\\to\\\\{source}\\\\file2\\n```\", custom_context=custom_context)\n",
    "    return extract_markdown_blocks(raw_correspondances)[0]\n",
    "\n",
    "tasks = [find_correspondance(node) for node in tqdm(target_file_tree.nodes)]\n",
    "responses = await asyncio.gather(*tasks)"
   ]
  },
  {
   "cell_type": "code",
   "execution_count": 9,
   "metadata": {},
   "outputs": [
    {
     "name": "stdout",
     "output_type": "stream",
     "text": [
      "DiGraph with 131 nodes and 138 edges\n"
     ]
    }
   ],
   "source": [
    "for i, response in enumerate(responses):\n",
    "    if not response: continue\n",
    "    node = list(target_file_tree.nodes)[i]\n",
    "    target_node = f'{target}_{node}'\n",
    "    for correspondance in arr_from_sep_string(response):\n",
    "        source_node = f'{source}_{correspondance[len(get_working_dir(source)) + 1:]}'\n",
    "        correspondance_graph.add_edge(target_node, source_node)\n",
    "\n",
    "print(correspondance_graph)"
   ]
  },
  {
   "cell_type": "code",
   "execution_count": 11,
   "metadata": {},
   "outputs": [
    {
     "name": "stderr",
     "output_type": "stream",
     "text": [
      "100%|██████████| 96/96 [00:00<?, ?it/s]\n"
     ]
    },
    {
     "name": "stdout",
     "output_type": "stream",
     "text": [
      "index: 0\n",
      "finish_reason: RECITATION\n",
      "\n"
     ]
    }
   ],
   "source": [
    "# Translate the code in the proposed file tree\n",
    "files_to_make = target_file_tree.reverse_level_order()\n",
    "async def make_file(node):\n",
    "    if 'content' not in target_file_tree.nodes[node]: return None\n",
    "    relevant_files = [file[len(target) + 2:] for file in correspondance_graph[f'{target}_{node}']]\n",
    "    actually_relevant_files = []\n",
    "    for source_file in source_file_tree.nodes:\n",
    "        for file in relevant_files:\n",
    "            if file in source_file:\n",
    "                actually_relevant_files.append(source_file)\n",
    "    custom_context = [\n",
    "        Interaction(\n",
    "            prompt=f'{file}:\\n{remove_indents(source_file_tree.nodes[file][\"content\"])}',\n",
    "            response='Waiting for instructions to translate...',\n",
    "        ) for file in actually_relevant_files\n",
    "    ]\n",
    "    raw_resp = await swe.async_chat(\n",
    "        f\"Translate the prior code from {source} to {target} to create {node}:\",\n",
    "        custom_context=custom_context\n",
    "    )\n",
    "    blocks = extract_markdown_blocks(raw_resp)\n",
    "    if len(blocks) == 0: return \"UNABLE TO TRANSLATE THIS FILE\"\n",
    "    return blocks[0]\n",
    "tasks = [make_file(node) for node in tqdm(files_to_make)]\n",
    "responses = await asyncio.gather(*tasks)\n",
    "\n",
    "for i, response in enumerate(responses):\n",
    "    if not response: continue\n",
    "    target_file_tree.nodes[files_to_make[i]]['content'] = response\n",
    "    with open(f'{working_dir_path}\\\\{files_to_make[i]}', 'w') as f:\n",
    "        f.write(response)"
   ]
  },
  {
   "cell_type": "code",
   "execution_count": 17,
   "metadata": {},
   "outputs": [
    {
     "data": {
      "text/plain": [
       "''"
      ]
     },
     "execution_count": 17,
     "metadata": {},
     "output_type": "execute_result"
    }
   ],
   "source": [
    "# Commit the translated code\n",
    "repo.git.add(A=True)\n",
    "repo.index.commit(f\"Translate code from {source} to {target}\")\n",
    "# Push the branch to the remote repository\n",
    "repo.git.push(\"origin\", created_branch)"
   ]
  },
  {
   "cell_type": "code",
   "execution_count": 18,
   "metadata": {},
   "outputs": [
    {
     "name": "stdout",
     "output_type": "stream",
     "text": [
      "Pull request created successfully!\n"
     ]
    }
   ],
   "source": [
    "GITHUB_TOKEN = load_dotenv(\"GITHUB_TOKEN\")\n",
    "\n",
    "# Create a pull request with the translated code\n",
    "pr = create_pull_request(\n",
    "        repo=repo,\n",
    "        base_branch=base_branch,\n",
    "        new_branch=created_branch,\n",
    "        title=f\"Translation from {source} to {target}\",\n",
    "        body=f\"This is a boilerplate translation performed by the Fraimwork app. Please check to make sure that all logic is appropriately translated.\",\n",
    "        token=GITHUB_TOKEN\n",
    "    )"
   ]
  }
 ],
 "metadata": {
  "kernelspec": {
   "display_name": "base",
   "language": "python",
   "name": "python3"
  },
  "language_info": {
   "codemirror_mode": {
    "name": "ipython",
    "version": 3
   },
   "file_extension": ".py",
   "mimetype": "text/x-python",
   "name": "python",
   "nbconvert_exporter": "python",
   "pygments_lexer": "ipython3",
   "version": "3.11.7"
  }
 },
 "nbformat": 4,
 "nbformat_minor": 2
}
