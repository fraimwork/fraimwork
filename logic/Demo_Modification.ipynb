{
 "cells": [
  {
   "cell_type": "code",
   "execution_count": 1,
   "metadata": {},
   "outputs": [],
   "source": [
    "import datetime, time, math, os, json, shutil, asyncio, networkx as nx\n",
    "from utils.gitutils import create_pull_request, clone_repo, create_branch, wipe_repo, prepare_repo\n",
    "from utils.agent import Agent, GenerationConfig, Interaction, Team\n",
    "from utils.stringutils import arr_from_sep_string, extract_markdown_blocks, markdown_to_dict, fuzzy_find, skwonk\n",
    "from utils.filetreeutils import FileTree, write_file_tree\n",
    "from utils.listutils import flatten\n",
    "from utils.frameworkutils import DartAnalyzer\n",
    "from dotenv import load_dotenv\n",
    "from utils.graphutils import loose_level_order, collapsed_level_order\n",
    "from utils.frameworkutils import Framework"
   ]
  },
  {
   "cell_type": "code",
   "execution_count": 2,
   "metadata": {},
   "outputs": [],
   "source": [
    "load_dotenv()  # Load environment variables from .env\n",
    "\n",
    "GITHUB_TOKEN = os.getenv('GITHUB_TOKEN')\n",
    "API_KEY = os.getenv('API_KEY')"
   ]
  },
  {
   "cell_type": "code",
   "execution_count": 3,
   "metadata": {},
   "outputs": [],
   "source": [
    "repo_url = 'https://github.com/6165-MSET-CuttleFish/TeamTrack'\n",
    "source = Framework.FLUTTER\n",
    "feature = f\"\"\"## Feature Name\n",
    "Spaces\n",
    "## Descriptions\n",
    "Organizations are a way for users to share videos of their robot competing. These videos will have information about the team number and name as well. Users will be able to view these videos and see how other teams are doing. They will also be able to upload their own videos to share with others.\n",
    "\"\"\""
   ]
  },
  {
   "cell_type": "code",
   "execution_count": 4,
   "metadata": {},
   "outputs": [],
   "source": [
    "# Clone the repo and make a new branch\n",
    "repo = clone_repo(repo_url)\n",
    "base_branch = repo.active_branch.name\n",
    "created_branch = f\"modification-{base_branch}\"\n",
    "local_repo_path = str(repo.working_dir)\n",
    "working_dir_path = f'{local_repo_path}\\\\{source.get_working_dir()}'"
   ]
  },
  {
   "cell_type": "code",
   "execution_count": 5,
   "metadata": {},
   "outputs": [],
   "source": [
    "source_swe_summarizer = Agent(\n",
    "    model_name=\"gemini-1.5-flash-001\",\n",
    "    api_key=API_KEY,\n",
    "    name=\"source_swe_analyzer\",\n",
    "    generation_config=GenerationConfig(temperature=0.7),\n",
    "    system_prompt=f'''You are a {source} software engineer. Your job is to summarize the functionality of provided code files. Structure your response as follows:\n",
    "\n",
    "# filename.ext:\n",
    "\n",
    "$7 sentence summary of the functionality/contents of the file$\n",
    "'''\n",
    ")\n",
    "pm = Agent(\n",
    "    model_name=\"gemini-1.5-pro-001\",\n",
    "    api_key=API_KEY,\n",
    "    name=\"pm\",\n",
    "    generation_config=GenerationConfig(temperature=0.3),\n",
    "    system_prompt=f\"\"\"You are a high-level technical project manager tasked with the project of adding functionality to a {source} repository.\"\"\"\n",
    ")\n",
    "source_swe_coder = Agent(\n",
    "    model_name=\"gemini-1.5-flash-001\",\n",
    "    api_key=API_KEY,\n",
    "    name=\"source_swe_coder\",\n",
    "    generation_config=GenerationConfig(temperature=0.5),\n",
    "    system_prompt=f\"You are a {source} software engineer. Your job is to write code to implement a specific feature. Respond with code and nothing else. No explanations needed.\"\n",
    ")\n",
    "source_swe_editor = Agent(\n",
    "    model_name=\"gemini-1.5-flash\",\n",
    "    api_key=API_KEY,\n",
    "    name=\"source_swe_editor\",\n",
    "    generation_config=GenerationConfig(temperature=0.0),\n",
    "    system_prompt=f\"\"\"You are a {source} software engineer tasked with editing a large code file to implement changes in accordance with the instructions you will receive in the following prompts. Large edits at once are NOT the way. We will solve this problem by dividing the edit into smaller sub-edits consisting of additions and deletions (no more than 10 lines per edit). We will use a custom file type called 'skinnydiff', which are diff-like files but only feature a larger file's substring, to convey these changes. Here is an example of a 'skinnydiff' file:\n",
    "\n",
    "```skinnydiff\n",
    " void foo() {{\n",
    "- int x = 5;\n",
    "+ var x = 7;\n",
    "  return x + 3; // Example code \n",
    " }}\n",
    "```\n",
    "Skinnydiffs are shorter versions of diff files that only include a few context lines around the deletions and insertions. They DO NOT CONTAINS @@...@@  as this is wasted information\n",
    "\n",
    "Given this knowledge, structure your response as follows:\n",
    "\n",
    "# Step 1\n",
    "$Talk through the 1st sub-change and what you plan to do$\n",
    "## Scope\n",
    "$Brief planning on which line or class to include in the change$\n",
    "## Change 1\n",
    "```skinnydiff\n",
    "$code diff$\n",
    "```\n",
    "\n",
    "# Step N\n",
    "$Talk through the Nth sub-change and what you plan to do$\n",
    "## Scope\n",
    "$Brief planning on which line or class to include in the change$\n",
    "## Change N\n",
    "```skinnydiff\n",
    "$...$\n",
    "```\"\"\"\n",
    ")\n",
    "skeletonizer = Agent(\n",
    "    name=\"skeletonizer\",\n",
    "    model_name=\"gemini-1.5-flash\",\n",
    "    api_key=API_KEY,\n",
    "    system_prompt=\"\"\"Why say many word when few word do trick?! Turn code into skeleton-pseudocode by condensing nitty gritty syntax into sensible short pseudocode. Respond as such: \n",
    "```pseudocode\n",
    "....\n",
    "```\"\"\",\n",
    "    generation_config=GenerationConfig(temperature=0.0)\n",
    ")\n",
    "\n",
    "team = Team(source_swe_summarizer, pm, source_swe_coder, source_swe_editor, skeletonizer)"
   ]
  },
  {
   "cell_type": "code",
   "execution_count": 6,
   "metadata": {},
   "outputs": [],
   "source": [
    "analyzer = source.get_analyzer(working_dir_path)\n",
    "\n",
    "source_dependency_graph = analyzer.buildDependencyGraph()"
   ]
  },
  {
   "cell_type": "code",
   "execution_count": 7,
   "metadata": {},
   "outputs": [
    {
     "name": "stdout",
     "output_type": "stream",
     "text": [
      "['models\\\\AppModel.dart', 'models\\\\StatConfig.dart']\n",
      "['models\\\\GameModel.dart']\n",
      "['models\\\\ScoreModel.dart']\n",
      "['functions\\\\Extensions.dart', 'components\\\\misc\\\\PlatformGraphics.dart']\n",
      "['components\\\\statistics\\\\BarGraph.dart', 'components\\\\users\\\\PFP.dart']\n",
      "['components\\\\scores\\\\ScoreSummary.dart', 'components\\\\scores\\\\Incrementor.dart', 'providers\\\\Auth.dart', 'components\\\\users\\\\UsersRow.dart', 'functions\\\\Statistics.dart']\n",
      "['views\\\\home\\\\match\\\\MatchView.dart']\n",
      "['components\\\\statistics\\\\PercentChange.dart', 'functions\\\\Functions.dart']\n",
      "['components\\\\scores\\\\ScoreTimeline.dart', 'components\\\\scores\\\\ScoreRangeSummary.dart', 'models\\\\Change.dart']\n",
      "['views\\\\home\\\\change\\\\ChangeConfig.dart', 'components\\\\statistics\\\\CheckList.dart', 'views\\\\home\\\\match\\\\MatchConfig.dart', 'components\\\\misc\\\\CardView.dart', 'components\\\\scores\\\\ScoringElementStats.dart', 'components\\\\misc\\\\EmptyList.dart', 'views\\\\home\\\\change\\\\ChangeRow.dart', 'views\\\\home\\\\match\\\\ExampleMatchRow.dart', 'views\\\\home\\\\match\\\\MatchRow.dart']\n",
      "['views\\\\home\\\\match\\\\MatchList.dart', 'components\\\\scores\\\\ScoreCard.dart', 'views\\\\home\\\\change\\\\ChangeList.dart', 'components\\\\AutonomousDrawingTool.dart', 'components\\\\misc\\\\Collapsible.dart']\n",
      "['views\\\\home\\\\team\\\\AutonDrawer.dart']\n",
      "['views\\\\home\\\\team\\\\TeamRow.dart', 'views\\\\home\\\\util\\\\Permissions.dart', 'views\\\\home\\\\team\\\\ExampleTeamRow.dart', 'views\\\\home\\\\team\\\\TeamView.dart']\n",
      "['functions\\\\APIMethods.dart', 'views\\\\home\\\\events\\\\EventShare.dart', 'views\\\\home\\\\team\\\\TeamList.dart']\n",
      "['views\\\\auth\\\\SignUpScreen.dart', 'views\\\\home\\\\events\\\\EventView.dart']\n",
      "['views\\\\inbox\\\\BlockList.dart', 'views\\\\inbox\\\\Inbox.dart', 'providers\\\\PushNotifications.dart', 'providers\\\\Theme.dart', 'views\\\\home\\\\events\\\\EventsList.dart', 'views\\\\templates\\\\TemplatesList.dart', 'views\\\\auth\\\\Login.dart']\n",
      "['views\\\\LandingPage.dart']\n",
      "['views\\\\auth\\\\AuthenticationWrapper.dart', 'models\\\\GPTModel.dart']\n",
      "['components\\\\misc\\\\InfoPills.dart', 'views\\\\home\\\\team\\\\AllianceSimulator.dart', 'functions\\\\GPTModel.dart', 'views\\\\auth\\\\Verify.dart', 'views\\\\home\\\\team\\\\TeamRowAlliance.dart', 'views\\\\home\\\\team\\\\AllianceSelection.dart', 'views\\\\home\\\\team\\\\TeamAllianceRecommend.dart', 'functions\\\\ResponseModel.dart', 'main.dart', 'views\\\\templates\\\\TemplateView.dart', 'views\\\\home\\\\events\\\\CameraView.dart', 'providers\\\\UserPresence.dart', 'views\\\\home\\\\events\\\\ImageView.dart', 'api\\\\README.MD']\n",
      "Number of levels: 19\n"
     ]
    }
   ],
   "source": [
    "# loose level order\n",
    "eval_order = loose_level_order(source_dependency_graph)[::-1]\n",
    "for level in eval_order:\n",
    "    print(level)\n",
    "print(f\"Number of levels: {len(eval_order)}\")"
   ]
  },
  {
   "cell_type": "code",
   "execution_count": 31,
   "metadata": {},
   "outputs": [
    {
     "data": {
      "text/plain": [
       "[('functions\\\\Functions.dart', 0.13015165084511265),\n",
       " ('models\\\\AppModel.dart', 0.1133542274603946),\n",
       " ('models\\\\GameModel.dart', 0.11054238484593704),\n",
       " ('components\\\\misc\\\\PlatformGraphics.dart', 0.07280617686501588),\n",
       " ('functions\\\\Extensions.dart', 0.06491036089133999),\n",
       " ('models\\\\ScoreModel.dart', 0.04846332476566593),\n",
       " ('functions\\\\Statistics.dart', 0.04758879390256111),\n",
       " ('models\\\\StatConfig.dart', 0.03794723616207956),\n",
       " ('views\\\\home\\\\match\\\\MatchView.dart', 0.03251008281339123),\n",
       " ('models\\\\Change.dart', 0.02251042215978528),\n",
       " ('providers\\\\Auth.dart', 0.01548168224778635),\n",
       " ('components\\\\statistics\\\\BarGraph.dart', 0.012206693129943554),\n",
       " ('components\\\\users\\\\PFP.dart', 0.009606083157777829),\n",
       " ('models\\\\GPTModel.dart', 0.009186070453302648),\n",
       " ('views\\\\LandingPage.dart', 0.008410495014922857),\n",
       " ('components\\\\scores\\\\ScoreSummary.dart', 0.007612721724091385),\n",
       " ('components\\\\users\\\\UsersRow.dart', 0.007612721724091385),\n",
       " ('components\\\\misc\\\\EmptyList.dart', 0.0075104656743458665),\n",
       " ('components\\\\scores\\\\Incrementor.dart', 0.006818046092388102),\n",
       " ('functions\\\\APIMethods.dart', 0.00672324243456879),\n",
       " ('components\\\\statistics\\\\PercentChange.dart', 0.006100882021360595),\n",
       " ('views\\\\home\\\\util\\\\Permissions.dart', 0.0059496910721929),\n",
       " ('components\\\\scores\\\\ScoreRangeSummary.dart', 0.005759640907687779),\n",
       " ('views\\\\auth\\\\SignUpScreen.dart', 0.00571014961174401),\n",
       " ('components\\\\statistics\\\\CheckList.dart', 0.005573484772824824),\n",
       " ('components\\\\scores\\\\ScoreTimeline.dart', 0.005504345548548064),\n",
       " ('providers\\\\PushNotifications.dart', 0.0054787754112969435),\n",
       " ('providers\\\\Theme.dart', 0.0054787754112969435),\n",
       " ('views\\\\home\\\\events\\\\EventShare.dart', 0.005362821256068044),\n",
       " ('views\\\\home\\\\match\\\\MatchList.dart', 0.005204820528839973),\n",
       " ('views\\\\home\\\\change\\\\ChangeConfig.dart', 0.005130526325835364),\n",
       " ('views\\\\home\\\\change\\\\ChangeRow.dart', 0.005130526325835364),\n",
       " ('views\\\\home\\\\match\\\\MatchConfig.dart', 0.005029426974179914),\n",
       " ('views\\\\home\\\\events\\\\EventView.dart', 0.005008091085871029),\n",
       " ('views\\\\auth\\\\Login.dart', 0.00495591420844288),\n",
       " ('views\\\\home\\\\events\\\\EventsList.dart', 0.00495591420844288),\n",
       " ('views\\\\inbox\\\\BlockList.dart', 0.00495591420844288),\n",
       " ('views\\\\inbox\\\\Inbox.dart', 0.00495591420844288),\n",
       " ('views\\\\templates\\\\TemplatesList.dart', 0.00495591420844288),\n",
       " ('components\\\\AutonomousDrawingTool.dart', 0.004850090358642959),\n",
       " ('components\\\\misc\\\\Collapsible.dart', 0.004850090358642959),\n",
       " ('components\\\\scores\\\\ScoreCard.dart', 0.004850090358642959),\n",
       " ('views\\\\home\\\\change\\\\ChangeList.dart', 0.004850090358642959),\n",
       " ('views\\\\auth\\\\AuthenticationWrapper.dart', 0.004828893762852113),\n",
       " ('components\\\\misc\\\\CardView.dart', 0.004821341163646371),\n",
       " ('components\\\\scores\\\\ScoringElementStats.dart', 0.004821341163646371),\n",
       " ('views\\\\home\\\\team\\\\ExampleTeamRow.dart', 0.0047021856118590576),\n",
       " ('views\\\\home\\\\team\\\\TeamRow.dart', 0.0047021856118590576),\n",
       " ('views\\\\home\\\\team\\\\TeamView.dart', 0.0047021856118590576),\n",
       " ('views\\\\home\\\\match\\\\ExampleMatchRow.dart', 0.0046746968039829),\n",
       " ('views\\\\home\\\\match\\\\MatchRow.dart', 0.0046746968039829),\n",
       " ('views\\\\home\\\\team\\\\TeamList.dart', 0.004660762730195063),\n",
       " ('views\\\\home\\\\team\\\\AutonDrawer.dart', 0.004572482801274121),\n",
       " ('main.dart', 0.004306032559998049),\n",
       " ('api\\\\README.MD', 0.004306032559998049),\n",
       " ('components\\\\misc\\\\InfoPills.dart', 0.004306032559998049),\n",
       " ('functions\\\\GPTModel.dart', 0.004306032559998049),\n",
       " ('functions\\\\ResponseModel.dart', 0.004306032559998049),\n",
       " ('providers\\\\UserPresence.dart', 0.004306032559998049),\n",
       " ('views\\\\auth\\\\Verify.dart', 0.004306032559998049),\n",
       " ('views\\\\home\\\\events\\\\CameraView.dart', 0.004306032559998049),\n",
       " ('views\\\\home\\\\events\\\\ImageView.dart', 0.004306032559998049),\n",
       " ('views\\\\home\\\\team\\\\AllianceSelection.dart', 0.004306032559998049),\n",
       " ('views\\\\home\\\\team\\\\AllianceSimulator.dart', 0.004306032559998049),\n",
       " ('views\\\\home\\\\team\\\\TeamAllianceRecommend.dart', 0.004306032559998049),\n",
       " ('views\\\\home\\\\team\\\\TeamRowAlliance.dart', 0.004306032559998049),\n",
       " ('views\\\\templates\\\\TemplateView.dart', 0.004306032559998049)]"
      ]
     },
     "execution_count": 31,
     "metadata": {},
     "output_type": "execute_result"
    }
   ],
   "source": [
    "(ranks := sorted(nx.pagerank(source_dependency_graph).items(), key=lambda x: x[1], reverse=True))"
   ]
  },
  {
   "cell_type": "code",
   "execution_count": 35,
   "metadata": {},
   "outputs": [
    {
     "data": {
      "text/plain": [
       "[('functions\\\\Functions.dart', 1.0),\n",
       " ('models\\\\AppModel.dart', 0.8709396056396712),\n",
       " ('models\\\\GameModel.dart', 0.8493352495197185),\n",
       " ('components\\\\misc\\\\PlatformGraphics.dart', 0.5593949549795498),\n",
       " ('functions\\\\Extensions.dart', 0.4987286789668673),\n",
       " ('models\\\\ScoreModel.dart', 0.3723604307050999),\n",
       " ('functions\\\\Statistics.dart', 0.3656411086110179),\n",
       " ('models\\\\StatConfig.dart', 0.29156169680274574),\n",
       " ('views\\\\home\\\\match\\\\MatchView.dart', 0.24978617330086691),\n",
       " ('models\\\\Change.dart', 0.17295533336395305),\n",
       " ('providers\\\\Auth.dart', 0.11895110163612424),\n",
       " ('components\\\\statistics\\\\BarGraph.dart', 0.09378823127238059),\n",
       " ('components\\\\users\\\\PFP.dart', 0.07380684836037597),\n",
       " ('models\\\\GPTModel.dart', 0.0705797459629195),\n",
       " ('views\\\\LandingPage.dart', 0.06462073250943079),\n",
       " ('components\\\\scores\\\\ScoreSummary.dart', 0.05849116530339616),\n",
       " ('components\\\\users\\\\UsersRow.dart', 0.05849116530339616),\n",
       " ('components\\\\misc\\\\EmptyList.dart', 0.05770549682296168),\n",
       " ('components\\\\scores\\\\Incrementor.dart', 0.052385398480284645),\n",
       " ('functions\\\\APIMethods.dart', 0.05165698929604669),\n",
       " ('components\\\\statistics\\\\PercentChange.dart', 0.04687517969803524),\n",
       " ('views\\\\home\\\\util\\\\Permissions.dart', 0.04571352751624601),\n",
       " ('components\\\\scores\\\\ScoreRangeSummary.dart', 0.044253306587267616),\n",
       " ('views\\\\auth\\\\SignUpScreen.dart', 0.04387304789963356),\n",
       " ('components\\\\statistics\\\\CheckList.dart', 0.04282300483040024),\n",
       " ('components\\\\scores\\\\ScoreTimeline.dart', 0.04229178433624731),\n",
       " ('providers\\\\PushNotifications.dart', 0.04209532015707566),\n",
       " ('providers\\\\Theme.dart', 0.04209532015707566),\n",
       " ('views\\\\home\\\\events\\\\EventShare.dart', 0.041204404410129875),\n",
       " ('views\\\\home\\\\match\\\\MatchList.dart', 0.039990430356000514),\n",
       " ('views\\\\home\\\\change\\\\ChangeConfig.dart', 0.03941960238323032),\n",
       " ('views\\\\home\\\\change\\\\ChangeRow.dart', 0.03941960238323032),\n",
       " ('views\\\\home\\\\match\\\\MatchConfig.dart', 0.03864282121296485),\n",
       " ('views\\\\home\\\\events\\\\EventView.dart', 0.03847889022806881),\n",
       " ('views\\\\auth\\\\Login.dart', 0.03807799729210258),\n",
       " ('views\\\\home\\\\events\\\\EventsList.dart', 0.03807799729210258),\n",
       " ('views\\\\inbox\\\\BlockList.dart', 0.03807799729210258),\n",
       " ('views\\\\inbox\\\\Inbox.dart', 0.03807799729210258),\n",
       " ('views\\\\templates\\\\TemplatesList.dart', 0.03807799729210258),\n",
       " ('components\\\\AutonomousDrawingTool.dart', 0.03726491617393945),\n",
       " ('components\\\\misc\\\\Collapsible.dart', 0.03726491617393945),\n",
       " ('components\\\\scores\\\\ScoreCard.dart', 0.03726491617393945),\n",
       " ('views\\\\home\\\\change\\\\ChangeList.dart', 0.03726491617393945),\n",
       " ('views\\\\auth\\\\AuthenticationWrapper.dart', 0.03710205542147715),\n",
       " ('components\\\\misc\\\\CardView.dart', 0.03704402619820798),\n",
       " ('components\\\\scores\\\\ScoringElementStats.dart', 0.03704402619820798),\n",
       " ('views\\\\home\\\\team\\\\ExampleTeamRow.dart', 0.036128513017901764),\n",
       " ('views\\\\home\\\\team\\\\TeamRow.dart', 0.036128513017901764),\n",
       " ('views\\\\home\\\\team\\\\TeamView.dart', 0.036128513017901764),\n",
       " ('views\\\\home\\\\match\\\\ExampleMatchRow.dart', 0.03591730703090379),\n",
       " ('views\\\\home\\\\match\\\\MatchRow.dart', 0.03591730703090379),\n",
       " ('views\\\\home\\\\team\\\\TeamList.dart', 0.03581024673856513),\n",
       " ('views\\\\home\\\\team\\\\AutonDrawer.dart', 0.03513196161234725),\n",
       " ('main.dart', 0.03308473255650407),\n",
       " ('api\\\\README.MD', 0.03308473255650407),\n",
       " ('components\\\\misc\\\\InfoPills.dart', 0.03308473255650407),\n",
       " ('functions\\\\GPTModel.dart', 0.03308473255650407),\n",
       " ('functions\\\\ResponseModel.dart', 0.03308473255650407),\n",
       " ('providers\\\\UserPresence.dart', 0.03308473255650407),\n",
       " ('views\\\\auth\\\\Verify.dart', 0.03308473255650407),\n",
       " ('views\\\\home\\\\events\\\\CameraView.dart', 0.03308473255650407),\n",
       " ('views\\\\home\\\\events\\\\ImageView.dart', 0.03308473255650407),\n",
       " ('views\\\\home\\\\team\\\\AllianceSelection.dart', 0.03308473255650407),\n",
       " ('views\\\\home\\\\team\\\\AllianceSimulator.dart', 0.03308473255650407),\n",
       " ('views\\\\home\\\\team\\\\TeamAllianceRecommend.dart', 0.03308473255650407),\n",
       " ('views\\\\home\\\\team\\\\TeamRowAlliance.dart', 0.03308473255650407),\n",
       " ('views\\\\templates\\\\TemplateView.dart', 0.03308473255650407)]"
      ]
     },
     "execution_count": 35,
     "metadata": {},
     "output_type": "execute_result"
    }
   ],
   "source": [
    "max_probability = ranks[0][1]\n",
    "(percentage_of_max_arr := [(rank[0], rank[1] / max_probability) for rank in ranks])"
   ]
  },
  {
   "cell_type": "code",
   "execution_count": 8,
   "metadata": {},
   "outputs": [
    {
     "data": {
      "text/plain": [
       "├── api\\\n",
       "│   ├── README.MD\n",
       "├── components\\\n",
       "│   ├── misc\\\n",
       "│   │   ├── CardView.dart\n",
       "│   │   ├── Collapsible.dart\n",
       "│   │   ├── EmptyList.dart\n",
       "│   │   ├── InfoPills.dart\n",
       "│   │   ├── PlatformGraphics.dart\n",
       "│   ├── scores\\\n",
       "│   │   ├── Incrementor.dart\n",
       "│   │   ├── ScoreCard.dart\n",
       "│   │   ├── ScoreRangeSummary.dart\n",
       "│   │   ├── ScoreSummary.dart\n",
       "│   │   ├── ScoreTimeline.dart\n",
       "│   │   ├── ScoringElementStats.dart\n",
       "│   ├── statistics\\\n",
       "│   │   ├── BarGraph.dart\n",
       "│   │   ├── CheckList.dart\n",
       "│   │   ├── PercentChange.dart\n",
       "│   ├── users\\\n",
       "│   │   ├── PFP.dart\n",
       "│   │   ├── UsersRow.dart\n",
       "│   ├── AutonomousDrawingTool.dart\n",
       "├── functions\\\n",
       "│   ├── APIMethods.dart\n",
       "│   ├── Extensions.dart\n",
       "│   ├── Functions.dart\n",
       "│   ├── GPTModel.dart\n",
       "│   ├── ResponseModel.dart\n",
       "│   ├── Statistics.dart\n",
       "├── models\\\n",
       "│   ├── AppModel.dart\n",
       "│   ├── Change.dart\n",
       "│   ├── GameModel.dart\n",
       "│   ├── GPTModel.dart\n",
       "│   ├── ScoreModel.dart\n",
       "│   ├── StatConfig.dart\n",
       "├── providers\\\n",
       "│   ├── Auth.dart\n",
       "│   ├── PushNotifications.dart\n",
       "│   ├── Theme.dart\n",
       "│   ├── UserPresence.dart\n",
       "├── views\\\n",
       "│   ├── auth\\\n",
       "│   │   ├── AuthenticationWrapper.dart\n",
       "│   │   ├── Login.dart\n",
       "│   │   ├── SignUpScreen.dart\n",
       "│   │   ├── Verify.dart\n",
       "│   ├── home\\\n",
       "│   │   ├── change\\\n",
       "│   │   │   ├── ChangeConfig.dart\n",
       "│   │   │   ├── ChangeList.dart\n",
       "│   │   │   ├── ChangeRow.dart\n",
       "│   │   ├── events\\\n",
       "│   │   │   ├── CameraView.dart\n",
       "│   │   │   ├── EventShare.dart\n",
       "│   │   │   ├── EventsList.dart\n",
       "│   │   │   ├── EventView.dart\n",
       "│   │   │   ├── ImageView.dart\n",
       "│   │   ├── match\\\n",
       "│   │   │   ├── ExampleMatchRow.dart\n",
       "│   │   │   ├── MatchConfig.dart\n",
       "│   │   │   ├── MatchList.dart\n",
       "│   │   │   ├── MatchRow.dart\n",
       "│   │   │   ├── MatchView.dart\n",
       "│   │   ├── team\\\n",
       "│   │   │   ├── AllianceSelection.dart\n",
       "│   │   │   ├── AllianceSimulator.dart\n",
       "│   │   │   ├── AutonDrawer.dart\n",
       "│   │   │   ├── ExampleTeamRow.dart\n",
       "│   │   │   ├── TeamAllianceRecommend.dart\n",
       "│   │   │   ├── TeamList.dart\n",
       "│   │   │   ├── TeamRow.dart\n",
       "│   │   │   ├── TeamRowAlliance.dart\n",
       "│   │   │   ├── TeamView.dart\n",
       "│   │   ├── util\\\n",
       "│   │   │   ├── Permissions.dart\n",
       "│   ├── inbox\\\n",
       "│   │   ├── BlockList.dart\n",
       "│   │   ├── Inbox.dart\n",
       "│   ├── templates\\\n",
       "│   │   ├── TemplatesList.dart\n",
       "│   │   ├── TemplateView.dart\n",
       "│   ├── LandingPage.dart\n",
       "├── main.dart"
      ]
     },
     "execution_count": 8,
     "metadata": {},
     "output_type": "execute_result"
    }
   ],
   "source": [
    "(source_file_tree := FileTree.from_dir(working_dir_path))"
   ]
  },
  {
   "cell_type": "code",
   "execution_count": 9,
   "metadata": {},
   "outputs": [],
   "source": [
    "async def skeletonize(node):\n",
    "    name = source_file_tree.nodes[node]['name']\n",
    "    content = source_file_tree.nodes[node]['content']\n",
    "    message = f\"{name}\\n```\\n{content}\\n```\"\n",
    "    return await team.async_chat_with_agent(\n",
    "        agent_name='skeletonizer',\n",
    "        message=message,\n",
    "        save_keys=[f\"skeleton_{node}\", \"all_skeletons\"],\n",
    "        prompt_title=f\"Skeleton of {node}\"\n",
    "    )\n",
    "order = source_file_tree.get_files()\n",
    "tasks = [skeletonize(node) for node in order]\n",
    "skeletons = await asyncio.gather(*tasks)\n",
    "for i, response in enumerate(skeletons):\n",
    "    source_file_tree.nodes[order[i]]['skeleton'] = response"
   ]
  },
  {
   "cell_type": "code",
   "execution_count": 10,
   "metadata": {},
   "outputs": [],
   "source": [
    "# Summarize the original repo\n",
    "async def summarize(node):\n",
    "    name = source_file_tree.nodes[node]['name']\n",
    "    content = source_file_tree.nodes[node]['content']\n",
    "    message = f\"{name}\\n```\\n{content}\\n```\"\n",
    "    return await team.async_chat_with_agent(\n",
    "        agent_name='source_swe_analyzer',\n",
    "        message=message,\n",
    "        context_keys=[f\"skeleton_{neighbor}\" for neighbor in source_dependency_graph[node]],\n",
    "        save_keys=[f\"summary_{node}\", \"all_summaries\"],\n",
    "        prompt_title=f\"Summary of {node}\"\n",
    "    )\n",
    "tasks = [summarize(node) for node in order]\n",
    "responses = await asyncio.gather(*tasks)\n",
    "for i, response in enumerate(responses):\n",
    "    source_file_tree.nodes[order[i]][\"summary\"] = response"
   ]
  },
  {
   "cell_type": "code",
   "execution_count": 11,
   "metadata": {},
   "outputs": [
    {
     "name": "stdout",
     "output_type": "stream",
     "text": [
      "This Flutter repository implements a comprehensive application for managing and analyzing data related to FIRST Robotics Competition (FRC) events. It provides features for creating and managing events, teams, and matches, as well as visualizing team performance and simulating alliance formations. The application leverages Firebase for data persistence and real-time updates, and utilizes Google's ML Kit for image analysis. It includes features for:\n",
      "\n",
      "* **Event Management:** Creating, sharing, and managing events, including adding teams and matches.\n",
      "* **Team Management:** Viewing team details, scores, match history, and autonomous paths.\n",
      "* **Match Management:** Creating, viewing, and editing match details, including scores and penalties.\n",
      "* **Data Analysis:** Displaying statistical data, including score summaries, bar graphs, and line charts.\n",
      "* **Alliance Formation:** Simulating alliance formations, generating recommendations based on team performance, and viewing alliance details.\n",
      "* **User Management:** User authentication, managing blocked users, and sharing events.\n",
      "* **Push Notifications:** Receiving notifications about events and updates.\n",
      "* **Image Analysis:** Importing match schedules from images using Google ML Kit.\n",
      "\n",
      "The repository leverages a variety of Flutter widgets, extensions, and classes for functionality and UI elements. It utilizes Firebase for data storage, authentication, and real-time updates, and Google ML Kit for image analysis. The app provides a robust tool for FRC teams and enthusiasts to manage and analyze data, ultimately improving team performance and decision-making. \n",
      "\n"
     ]
    }
   ],
   "source": [
    "prompt = f\"\"\"This is the file tree for the original {source} repo:\n",
    "```\n",
    "{source.get_working_dir()}\\\\\n",
    "{source_file_tree}\n",
    "```\n",
    "Given the prior context, summarize the functionality of the entire repository succinctly.\n",
    "\"\"\"\n",
    "print(team.chat_with_agent('source_swe_analyzer', prompt, context_keys=[\"all_summaries\"], save_keys=[\"all_summaries\"], prompt_title=f\"\"\"Repository Summary.\n",
    "File Tree provided:\n",
    "```\n",
    "{source.get_working_dir()}\\\\\n",
    "{source_file_tree}\n",
    "```\n",
    "\"\"\"))"
   ]
  },
  {
   "cell_type": "markdown",
   "metadata": {},
   "source": [
    "## Summary Compression"
   ]
  },
  {
   "cell_type": "code",
   "execution_count": 12,
   "metadata": {},
   "outputs": [
    {
     "data": {
      "text/plain": [
       "16959"
      ]
     },
     "execution_count": 12,
     "metadata": {},
     "output_type": "execute_result"
    }
   ],
   "source": [
    "curr_string = '\\n'.join([message['parts'][0] for interaction in team.context_threads['all_summaries'] for message in interaction.to_dict()])\n",
    "(curr_tokens := pm.model.count_tokens(curr_string).total_tokens)"
   ]
  },
  {
   "cell_type": "code",
   "execution_count": 13,
   "metadata": {},
   "outputs": [
    {
     "data": {
      "text/plain": [
       "122951"
      ]
     },
     "execution_count": 13,
     "metadata": {},
     "output_type": "execute_result"
    }
   ],
   "source": [
    "would_be_string = '\\n'.join([source_file_tree.nodes[node]['content'] for node in source_dependency_graph.nodes])\n",
    "(would_be_tokens := pm.model.count_tokens(would_be_string).total_tokens)"
   ]
  },
  {
   "cell_type": "code",
   "execution_count": 14,
   "metadata": {},
   "outputs": [
    {
     "data": {
      "text/plain": [
       "0.86206700230173"
      ]
     },
     "execution_count": 14,
     "metadata": {},
     "output_type": "execute_result"
    }
   ],
   "source": [
    "(percent_tokens_reduction := 1 - (curr_tokens / would_be_tokens))"
   ]
  },
  {
   "cell_type": "markdown",
   "metadata": {},
   "source": [
    "## Skeleton Compression"
   ]
  },
  {
   "cell_type": "code",
   "execution_count": 15,
   "metadata": {},
   "outputs": [
    {
     "data": {
      "text/plain": [
       "35555"
      ]
     },
     "execution_count": 15,
     "metadata": {},
     "output_type": "execute_result"
    }
   ],
   "source": [
    "curr_string = '\\n'.join([message['parts'][0] for interaction in team.context_threads['all_skeletons'] for message in interaction.to_dict()])\n",
    "(curr_tokens := pm.model.count_tokens(curr_string).total_tokens)"
   ]
  },
  {
   "cell_type": "code",
   "execution_count": 16,
   "metadata": {},
   "outputs": [
    {
     "data": {
      "text/plain": [
       "122951"
      ]
     },
     "execution_count": 16,
     "metadata": {},
     "output_type": "execute_result"
    }
   ],
   "source": [
    "would_be_string = '\\n'.join([source_file_tree.nodes[node]['content'] for node in source_dependency_graph.nodes])\n",
    "(would_be_tokens := pm.model.count_tokens(would_be_string).total_tokens)"
   ]
  },
  {
   "cell_type": "code",
   "execution_count": 17,
   "metadata": {},
   "outputs": [
    {
     "data": {
      "text/plain": [
       "0.7108197574643558"
      ]
     },
     "execution_count": 17,
     "metadata": {},
     "output_type": "execute_result"
    }
   ],
   "source": [
    "(percent_tokens_reduction := 1 - (curr_tokens / would_be_tokens))"
   ]
  },
  {
   "cell_type": "code",
   "execution_count": 18,
   "metadata": {},
   "outputs": [
    {
     "name": "stdout",
     "output_type": "stream",
     "text": [
      "```\n",
      "| WRITE | models\\Space.dart | Implement the Space model with the following properties:\n",
      "    - id: string (unique identifier for the space)\n",
      "    - name: string (name of the organization)\n",
      "    - members: list of user IDs (users who are members of the space)\n",
      "    - videos: list of video IDs (videos shared within the space)\n",
      "| WRITE | models\\Video.dart | Implement the Video model with the following properties:\n",
      "    - id: string (unique identifier for the video)\n",
      "    - spaceId: string (ID of the space the video belongs to)\n",
      "    - userId: string (ID of the user who uploaded the video)\n",
      "    - url: string (URL of the video)\n",
      "    - teamNumber: int (team number featured in the video)\n",
      "    - teamName: string (team name featured in the video)\n",
      "    - timestamp: DateTime (time the video was uploaded)\n",
      "| WRITE | views\\spaces\\SpaceList.dart | Implement a screen to display a list of spaces the user is a member of. Allow users to create new spaces.\n",
      "| WRITE | views\\spaces\\SpaceView.dart | Implement a screen to display the details of a space, including its name, members, and videos.\n",
      "| WRITE | views\\spaces\\VideoList.dart | Implement a screen to display a list of videos within a space.\n",
      "| WRITE | views\\spaces\\VideoView.dart | Implement a screen to play a video and display its details, including team number and name.\n",
      "| WRITE | views\\spaces\\UploadVideo.dart | Implement a screen to allow users to upload new videos to a space.\n",
      "| EDIT | views\\LandingPage.dart | Add a new tab for \"Spaces\" that navigates to SpaceList.dart.\n",
      "| EDIT | providers\\Auth.dart | Add functionality to store user's space memberships in their Firestore document.\n",
      "```\n"
     ]
    }
   ],
   "source": [
    "response_format = f\"\"\"\n",
    "You may choose ACTIONS from the following list:\n",
    "- | WRITE | $FILE_PATH$ | $COMMA_SEPERATED_DEPENDENCY_PATH(S)$ | $PROMPT$ (PROMPT should be a brief instruction for how the new FILE_PATH should be WRITTEN)\n",
    "- | EDIT | $FILE_PATH$ | $PROMPT$ (PROMPT should be a brief instruction for how the FILE_PATH should be EDITED)\n",
    "- | DELETE | $FILE_PATH$ (Delete the provided file)\n",
    "----------\n",
    "Structure your response using the following example:\n",
    "```\n",
    "| WRITE | {source.get_working_dir()}\\\\path\\\\to\\\\newfile.ext | | Implement ... with the following properties:\n",
    "    - property1\n",
    "    - property2\n",
    "    - dependency1\n",
    "    - dependency2\n",
    "| EDIT | {source.get_working_dir()}\\\\path\\\\to\\\\file.ext | Fix the bug ... by doing:\n",
    "    - step1\n",
    "    - step2\n",
    "| DELETE | {source.get_working_dir()}\\\\path\\\\to\\\\some\\\\file.ext | Short deletion message | Internal reasons for deletion:\n",
    "    - reason1\n",
    "    - reason2\n",
    "```\n",
    "It is VERY important that you only respond with a high level overview of what to do. The actual implementation will be done by the coder.\n",
    "\"\"\"\n",
    "\n",
    "# Create new file tree\n",
    "prompt = f'''\n",
    "You are to build the following feature:\n",
    "{feature}\n",
    "------------------\n",
    "{response_format}\n",
    "------------------\n",
    "You need to follow the response template structure exactly (MY JOB DEPENDS ON IT)\n",
    "'''\n",
    "print(response := team.chat_with_agent(\"pm\", prompt, context_keys=[\"all_skeletons\"]))"
   ]
  },
  {
   "cell_type": "code",
   "execution_count": 19,
   "metadata": {},
   "outputs": [
    {
     "name": "stdout",
     "output_type": "stream",
     "text": [
      "('WRITE', 'models\\\\Space.dart', 'Implement the Space model with the following properties:\\n    - id: string (unique identifier for the space)\\n    - name: string (name of the organization)\\n    - members: list of user IDs (users who are members of the space)\\n    - videos: list of video IDs (videos shared within the space)')\n",
      "('WRITE', 'models\\\\Video.dart', 'Implement the Video model with the following properties:\\n    - id: string (unique identifier for the video)\\n    - spaceId: string (ID of the space the video belongs to)\\n    - userId: string (ID of the user who uploaded the video)\\n    - url: string (URL of the video)\\n    - teamNumber: int (team number featured in the video)\\n    - teamName: string (team name featured in the video)\\n    - timestamp: DateTime (time the video was uploaded)')\n",
      "('WRITE', 'views\\\\spaces\\\\SpaceList.dart', 'Implement a screen to display a list of spaces the user is a member of. Allow users to create new spaces.')\n",
      "('WRITE', 'views\\\\spaces\\\\SpaceView.dart', 'Implement a screen to display the details of a space, including its name, members, and videos.')\n",
      "('WRITE', 'views\\\\spaces\\\\VideoList.dart', 'Implement a screen to display a list of videos within a space.')\n",
      "('WRITE', 'views\\\\spaces\\\\VideoView.dart', 'Implement a screen to play a video and display its details, including team number and name.')\n",
      "('WRITE', 'views\\\\spaces\\\\UploadVideo.dart', 'Implement a screen to allow users to upload new videos to a space.')\n",
      "('EDIT', 'views\\\\LandingPage.dart', 'Add a new tab for \"Spaces\" that navigates to SpaceList.dart.')\n",
      "('EDIT', 'providers\\\\Auth.dart', \"Add functionality to store user's space memberships in their Firestore document.\")\n"
     ]
    }
   ],
   "source": [
    "md = extract_markdown_blocks(response)[0]\n",
    "blocks = md.split(\"|\")\n",
    "actions = []\n",
    "i = 0\n",
    "while i < len(blocks):\n",
    "    block = blocks[i].strip()\n",
    "    if block != \"WRITE\" and block != \"EDIT\" and block != \"DELETE\":\n",
    "        i += 1\n",
    "        continue\n",
    "    action, file, prompt = blocks[i:i + 3]\n",
    "    action = action.strip()\n",
    "    if file.strip().startswith(source.get_working_dir()):\n",
    "        file = file.strip()[len(source.get_working_dir()) + 1:]\n",
    "    else:\n",
    "        file = file.strip()\n",
    "    prompt = prompt.strip()\n",
    "    actions.append((action, file, prompt))\n",
    "    i += 3\n",
    "for action in actions:\n",
    "    print(action)"
   ]
  },
  {
   "cell_type": "code",
   "execution_count": 22,
   "metadata": {},
   "outputs": [],
   "source": [
    "async def write(file_path, prompt):\n",
    "    response = await source_swe_coder.async_chat(f\"Instructions for {file_path}:\\n{prompt}\")\n",
    "    md = extract_markdown_blocks(response)[0]\n",
    "    path = f\"{working_dir_path}\\\\{file_path}\"\n",
    "    if not os.path.exists(os.path.dirname(path)):\n",
    "        os.makedirs(os.path.dirname(path))\n",
    "    with open(path, 'w') as f:\n",
    "        f.write(md)\n",
    "\n",
    "async def edit(file_path, prompt):\n",
    "    with open(f\"{working_dir_path}\\\\{file_path}\", 'r') as f:\n",
    "        content = f.read()\n",
    "    response = await source_swe_editor.async_chat(\n",
    "        f\"{prompt}\\n\\nRemember, keep your skinnydiffs SHORT and do NOT include @@...@@. Instead, split it into multiple steps. Anytime you see @@...@@, just split it into another step.\",\n",
    "        custom_context=[Interaction(f\"Contents of {file_path}\", content)]\n",
    "    )\n",
    "    diffs = extract_markdown_blocks(response)\n",
    "    for diff in diffs:\n",
    "        with open(f'{working_dir_path}\\\\{file_path}', 'w') as f:\n",
    "            f.seek(0)\n",
    "            f.truncate()\n",
    "            content = skwonk(content, diff)\n",
    "            f.write(content)\n",
    "\n",
    "async def delete(file_path):\n",
    "    os.remove(f\"{working_dir_path}\\\\{file_path}\")"
   ]
  },
  {
   "cell_type": "code",
   "execution_count": 23,
   "metadata": {},
   "outputs": [
    {
     "name": "stderr",
     "output_type": "stream",
     "text": [
      " 56%|█████▌    | 5/9 [00:11<00:10,  2.62s/it]"
     ]
    },
    {
     "name": "stdout",
     "output_type": "stream",
     "text": [
      "index: 0\n",
      "finish_reason: RECITATION\n",
      "\n"
     ]
    },
    {
     "name": "stderr",
     "output_type": "stream",
     "text": [
      "100%|██████████| 9/9 [00:34<00:00,  3.81s/it]\n"
     ]
    }
   ],
   "source": [
    "from utils.errorutils import repeat_until_finish\n",
    "from tqdm import tqdm\n",
    "\n",
    "writes = [repeat_until_finish(lambda: write(file, prompt)) for action, file, prompt in actions if action == 'WRITE']\n",
    "edits = [repeat_until_finish(lambda: edit(file, prompt)) for action, file, prompt in actions if action == 'EDIT']\n",
    "deletes = [repeat_until_finish(lambda: delete(file)) for action, file, prompt in actions if action == 'DELETE']\n",
    "\n",
    "await asyncio.gather(*writes, *edits, *deletes)"
   ]
  }
 ],
 "metadata": {
  "kernelspec": {
   "display_name": "base",
   "language": "python",
   "name": "python3"
  },
  "language_info": {
   "codemirror_mode": {
    "name": "ipython",
    "version": 3
   },
   "file_extension": ".py",
   "mimetype": "text/x-python",
   "name": "python",
   "nbconvert_exporter": "python",
   "pygments_lexer": "ipython3",
   "version": "3.11.7"
  }
 },
 "nbformat": 4,
 "nbformat_minor": 2
}
