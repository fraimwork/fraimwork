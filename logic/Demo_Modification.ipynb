{
 "cells": [
  {
   "cell_type": "code",
   "execution_count": 1,
   "metadata": {},
   "outputs": [],
   "source": [
    "import datetime, time, math, os, json, shutil, asyncio, networkx as nx\n",
    "from utils.gitutils import create_pull_request, clone_repo, create_branch, wipe_repo, prepare_repo\n",
    "from utils.agent import Agent, GenerationConfig, Interaction, Team\n",
    "from utils.stringutils import arr_from_sep_string, extract_markdown_blocks, markdown_to_dict, fuzzy_find, skwonk\n",
    "from utils.filetreeutils import FileTree, write_file_tree\n",
    "from utils.listutils import flatten\n",
    "from utils.frameworkutils import DartAnalyzer\n",
    "from dotenv import load_dotenv\n",
    "from utils.graphutils import loose_level_order, collapsed_level_order\n",
    "from utils.frameworkutils import Framework"
   ]
  },
  {
   "cell_type": "code",
   "execution_count": 2,
   "metadata": {},
   "outputs": [],
   "source": [
    "load_dotenv()  # Load environment variables from .env\n",
    "\n",
    "GITHUB_TOKEN = os.getenv('GITHUB_TOKEN')\n",
    "API_KEY = os.getenv('API_KEY')"
   ]
  },
  {
   "cell_type": "code",
   "execution_count": 3,
   "metadata": {},
   "outputs": [],
   "source": [
    "repo_url = 'https://github.com/6165-MSET-CuttleFish/TeamTrack'\n",
    "source = Framework.FLUTTER\n",
    "feature = f\"\"\"## Feature Name\n",
    "Spaces\n",
    "## Descriptions\n",
    "Spaces are a way for users to share videos of their robot competing. These videos will have information about the team number and name as well. Users will be able to view these videos and see how other teams are doing. They will also be able to upload their own videos to share with others.\n",
    "\"\"\""
   ]
  },
  {
   "cell_type": "code",
   "execution_count": 4,
   "metadata": {},
   "outputs": [],
   "source": [
    "# Clone the repo and make a new branch\n",
    "repo = clone_repo(repo_url)\n",
    "base_branch = repo.active_branch.name\n",
    "created_branch = f\"modification-{base_branch}\"\n",
    "local_repo_path = str(repo.working_dir)\n",
    "working_dir_path = f'{local_repo_path}\\\\{source.get_working_dir()}'"
   ]
  },
  {
   "cell_type": "code",
   "execution_count": 5,
   "metadata": {},
   "outputs": [],
   "source": [
    "source_swe_summarizer = Agent(\n",
    "    model_name=\"gemini-1.5-flash-001\",\n",
    "    api_key=API_KEY,\n",
    "    name=\"source_swe_analyzer\",\n",
    "    generation_config=GenerationConfig(temperature=0.7),\n",
    "    system_prompt=f'''You are a {source} software engineer. Your job is to summarize the functionality of provided code files. Structure your response as follows:\n",
    "\n",
    "# filename.ext:\n",
    "\n",
    "$7 sentence summary of the functionality/contents of the file$\n",
    "'''\n",
    ")\n",
    "pm = Agent(\n",
    "    model_name=\"gemini-1.5-pro-001\",\n",
    "    api_key=API_KEY,\n",
    "    name=\"pm\",\n",
    "    generation_config=GenerationConfig(temperature=0.2),\n",
    "    system_prompt=f\"\"\"You are a high-level technical project manager tasked with the project of adding functionality to a {source} repository.\"\"\"\n",
    ")\n",
    "source_swe_coder = Agent(\n",
    "    model_name=\"gemini-1.5-flash-001\",\n",
    "    api_key=API_KEY,\n",
    "    name=\"source_swe_coder\",\n",
    "    generation_config=GenerationConfig(temperature=0.5),\n",
    "    system_prompt=f\"You are a {source} software engineer. Your job is to write code to implement a specific feature. Respond with code and nothing else. No explanations needed.\"\n",
    ")\n",
    "source_swe_editor = Agent(\n",
    "    model_name=\"gemini-1.5-flash\",\n",
    "    api_key=API_KEY,\n",
    "    name=\"source_swe_editor\",\n",
    "    generation_config=GenerationConfig(temperature=0.0),\n",
    "    system_prompt=f\"\"\"You are a {source} software engineer tasked with editing a large code file to implement changes in accordance with the instructions you will receive in the following prompts. Large edits at once are NOT the way. We will solve this problem by dividing the edit into smaller sub-edits consisting of additions and deletions (no more than 10 lines per edit). We will use a custom file type called 'skinnydiff', which are diff-like files but only feature a larger file's substring, to convey these changes. Here is an example of a 'skinnydiff' file:\n",
    "\n",
    "```skinnydiff\n",
    " void foo() {{\n",
    "- int x = 5;\n",
    "+ var x = 7;\n",
    "  return x + 3; // Example code \n",
    " }}\n",
    "```\n",
    "Skinnydiffs are shorter versions of diff files that only include a few context lines around the deletions and insertions.\n",
    "\n",
    "Given this knowledge, structure your response as follows:\n",
    "\n",
    "# Step 1\n",
    "$Talk through the 1st sub-change and what you plan to do$\n",
    "## Scope\n",
    "$Brief planning on which line or class to include in the change$\n",
    "## Change 1\n",
    "```skinnydiff\n",
    "$code diff$\n",
    "```\n",
    "\n",
    "# Step N\n",
    "$Talk through the Nth sub-change and what you plan to do$\n",
    "## Scope\n",
    "$Brief planning on which line or class to include in the change$\n",
    "## Change N\n",
    "```skinnydiff\n",
    "$...$\n",
    "```\"\"\"\n",
    ")\n",
    "skeletonizer = Agent(\n",
    "    name=\"skeletonizer\",\n",
    "    model_name=\"gemini-1.5-flash\",\n",
    "    api_key=API_KEY,\n",
    "    system_prompt=\"\"\"Why say many word when few word do trick?! Turn code into skeleton-pseudocode by condensing nitty gritty syntax into sensible short pseudocode. Respond as such: \n",
    "```pseudocode\n",
    "....\n",
    "```\"\"\",\n",
    "    generation_config=GenerationConfig(temperature=0.0)\n",
    ")\n",
    "\n",
    "team = Team(source_swe_summarizer, pm, source_swe_coder, source_swe_editor, skeletonizer)"
   ]
  },
  {
   "cell_type": "code",
   "execution_count": 6,
   "metadata": {},
   "outputs": [],
   "source": [
    "analyzer = source.get_analyzer(working_dir_path)\n",
    "\n",
    "source_dependency_graph = analyzer.buildDependencyGraph()"
   ]
  },
  {
   "cell_type": "code",
   "execution_count": 7,
   "metadata": {},
   "outputs": [
    {
     "name": "stdout",
     "output_type": "stream",
     "text": [
      "['models\\\\StatConfig.dart', 'models\\\\AppModel.dart']\n",
      "['models\\\\GameModel.dart']\n",
      "['models\\\\ScoreModel.dart']\n",
      "['functions\\\\Extensions.dart', 'components\\\\misc\\\\PlatformGraphics.dart']\n",
      "['components\\\\statistics\\\\BarGraph.dart', 'components\\\\users\\\\PFP.dart']\n",
      "['functions\\\\Statistics.dart', 'providers\\\\Auth.dart', 'components\\\\scores\\\\Incrementor.dart', 'components\\\\scores\\\\ScoreSummary.dart', 'components\\\\users\\\\UsersRow.dart']\n",
      "['views\\\\home\\\\match\\\\MatchView.dart']\n",
      "['components\\\\statistics\\\\PercentChange.dart', 'functions\\\\Functions.dart']\n",
      "['models\\\\Change.dart', 'components\\\\scores\\\\ScoreTimeline.dart', 'components\\\\scores\\\\ScoreRangeSummary.dart']\n",
      "['views\\\\home\\\\match\\\\ExampleMatchRow.dart', 'views\\\\home\\\\change\\\\ChangeConfig.dart', 'components\\\\scores\\\\ScoringElementStats.dart', 'views\\\\home\\\\match\\\\MatchRow.dart', 'views\\\\home\\\\match\\\\MatchConfig.dart', 'views\\\\home\\\\change\\\\ChangeRow.dart', 'components\\\\misc\\\\EmptyList.dart', 'components\\\\misc\\\\CardView.dart', 'components\\\\statistics\\\\CheckList.dart']\n",
      "['views\\\\home\\\\change\\\\ChangeList.dart', 'views\\\\home\\\\match\\\\MatchList.dart', 'components\\\\AutonomousDrawingTool.dart', 'components\\\\scores\\\\ScoreCard.dart', 'components\\\\misc\\\\Collapsible.dart']\n",
      "['views\\\\home\\\\team\\\\AutonDrawer.dart']\n",
      "['views\\\\home\\\\team\\\\ExampleTeamRow.dart', 'views\\\\home\\\\util\\\\Permissions.dart', 'views\\\\home\\\\team\\\\TeamRow.dart', 'views\\\\home\\\\team\\\\TeamView.dart']\n",
      "['functions\\\\APIMethods.dart', 'views\\\\home\\\\events\\\\EventShare.dart', 'views\\\\home\\\\team\\\\TeamList.dart']\n",
      "['views\\\\auth\\\\SignUpScreen.dart', 'views\\\\home\\\\events\\\\EventView.dart']\n",
      "['providers\\\\Theme.dart', 'providers\\\\PushNotifications.dart', 'views\\\\auth\\\\Login.dart', 'views\\\\inbox\\\\Inbox.dart', 'views\\\\home\\\\events\\\\EventsList.dart', 'views\\\\inbox\\\\BlockList.dart', 'views\\\\templates\\\\TemplatesList.dart']\n",
      "['views\\\\LandingPage.dart']\n",
      "['models\\\\GPTModel.dart', 'views\\\\auth\\\\AuthenticationWrapper.dart']\n",
      "['api\\\\README.MD', 'functions\\\\ResponseModel.dart', 'views\\\\home\\\\events\\\\CameraView.dart', 'views\\\\templates\\\\TemplateView.dart', 'functions\\\\GPTModel.dart', 'views\\\\home\\\\team\\\\AllianceSimulator.dart', 'views\\\\auth\\\\Verify.dart', 'main.dart', 'views\\\\home\\\\events\\\\ImageView.dart', 'views\\\\home\\\\team\\\\AllianceSelection.dart', 'components\\\\misc\\\\InfoPills.dart', 'views\\\\home\\\\team\\\\TeamAllianceRecommend.dart', 'providers\\\\UserPresence.dart', 'views\\\\home\\\\team\\\\TeamRowAlliance.dart']\n",
      "Number of levels: 19\n"
     ]
    }
   ],
   "source": [
    "# loose level order\n",
    "eval_order = loose_level_order(source_dependency_graph)[::-1]\n",
    "for level in eval_order:\n",
    "    print(level)\n",
    "print(f\"Number of levels: {len(eval_order)}\")"
   ]
  },
  {
   "cell_type": "code",
   "execution_count": 8,
   "metadata": {},
   "outputs": [
    {
     "data": {
      "text/plain": [
       "[('functions\\\\Functions.dart', 0.13015165084511265),\n",
       " ('models\\\\AppModel.dart', 0.1133542274603946),\n",
       " ('models\\\\GameModel.dart', 0.11054238484593704),\n",
       " ('components\\\\misc\\\\PlatformGraphics.dart', 0.07280617686501588),\n",
       " ('functions\\\\Extensions.dart', 0.06491036089133999),\n",
       " ('models\\\\ScoreModel.dart', 0.04846332476566593),\n",
       " ('functions\\\\Statistics.dart', 0.04758879390256111),\n",
       " ('models\\\\StatConfig.dart', 0.03794723616207956),\n",
       " ('views\\\\home\\\\match\\\\MatchView.dart', 0.03251008281339123),\n",
       " ('models\\\\Change.dart', 0.02251042215978528),\n",
       " ('providers\\\\Auth.dart', 0.01548168224778635),\n",
       " ('components\\\\statistics\\\\BarGraph.dart', 0.012206693129943554),\n",
       " ('components\\\\users\\\\PFP.dart', 0.009606083157777829),\n",
       " ('models\\\\GPTModel.dart', 0.009186070453302648),\n",
       " ('views\\\\LandingPage.dart', 0.008410495014922857),\n",
       " ('components\\\\scores\\\\ScoreSummary.dart', 0.007612721724091385),\n",
       " ('components\\\\users\\\\UsersRow.dart', 0.007612721724091385),\n",
       " ('components\\\\misc\\\\EmptyList.dart', 0.0075104656743458665),\n",
       " ('components\\\\scores\\\\Incrementor.dart', 0.006818046092388102),\n",
       " ('functions\\\\APIMethods.dart', 0.00672324243456879),\n",
       " ('components\\\\statistics\\\\PercentChange.dart', 0.006100882021360595),\n",
       " ('views\\\\home\\\\util\\\\Permissions.dart', 0.0059496910721929),\n",
       " ('components\\\\scores\\\\ScoreRangeSummary.dart', 0.005759640907687779),\n",
       " ('views\\\\auth\\\\SignUpScreen.dart', 0.00571014961174401),\n",
       " ('components\\\\statistics\\\\CheckList.dart', 0.005573484772824824),\n",
       " ('components\\\\scores\\\\ScoreTimeline.dart', 0.005504345548548064),\n",
       " ('providers\\\\PushNotifications.dart', 0.0054787754112969435),\n",
       " ('providers\\\\Theme.dart', 0.0054787754112969435),\n",
       " ('views\\\\home\\\\events\\\\EventShare.dart', 0.005362821256068044),\n",
       " ('views\\\\home\\\\match\\\\MatchList.dart', 0.005204820528839973),\n",
       " ('views\\\\home\\\\change\\\\ChangeConfig.dart', 0.005130526325835364),\n",
       " ('views\\\\home\\\\change\\\\ChangeRow.dart', 0.005130526325835364),\n",
       " ('views\\\\home\\\\match\\\\MatchConfig.dart', 0.005029426974179914),\n",
       " ('views\\\\home\\\\events\\\\EventView.dart', 0.005008091085871029),\n",
       " ('views\\\\auth\\\\Login.dart', 0.00495591420844288),\n",
       " ('views\\\\home\\\\events\\\\EventsList.dart', 0.00495591420844288),\n",
       " ('views\\\\inbox\\\\BlockList.dart', 0.00495591420844288),\n",
       " ('views\\\\inbox\\\\Inbox.dart', 0.00495591420844288),\n",
       " ('views\\\\templates\\\\TemplatesList.dart', 0.00495591420844288),\n",
       " ('components\\\\AutonomousDrawingTool.dart', 0.004850090358642959),\n",
       " ('components\\\\misc\\\\Collapsible.dart', 0.004850090358642959),\n",
       " ('components\\\\scores\\\\ScoreCard.dart', 0.004850090358642959),\n",
       " ('views\\\\home\\\\change\\\\ChangeList.dart', 0.004850090358642959),\n",
       " ('views\\\\auth\\\\AuthenticationWrapper.dart', 0.004828893762852113),\n",
       " ('components\\\\misc\\\\CardView.dart', 0.004821341163646371),\n",
       " ('components\\\\scores\\\\ScoringElementStats.dart', 0.004821341163646371),\n",
       " ('views\\\\home\\\\team\\\\ExampleTeamRow.dart', 0.0047021856118590576),\n",
       " ('views\\\\home\\\\team\\\\TeamRow.dart', 0.0047021856118590576),\n",
       " ('views\\\\home\\\\team\\\\TeamView.dart', 0.0047021856118590576),\n",
       " ('views\\\\home\\\\match\\\\ExampleMatchRow.dart', 0.0046746968039829),\n",
       " ('views\\\\home\\\\match\\\\MatchRow.dart', 0.0046746968039829),\n",
       " ('views\\\\home\\\\team\\\\TeamList.dart', 0.004660762730195063),\n",
       " ('views\\\\home\\\\team\\\\AutonDrawer.dart', 0.004572482801274121),\n",
       " ('main.dart', 0.004306032559998049),\n",
       " ('api\\\\README.MD', 0.004306032559998049),\n",
       " ('components\\\\misc\\\\InfoPills.dart', 0.004306032559998049),\n",
       " ('functions\\\\GPTModel.dart', 0.004306032559998049),\n",
       " ('functions\\\\ResponseModel.dart', 0.004306032559998049),\n",
       " ('providers\\\\UserPresence.dart', 0.004306032559998049),\n",
       " ('views\\\\auth\\\\Verify.dart', 0.004306032559998049),\n",
       " ('views\\\\home\\\\events\\\\CameraView.dart', 0.004306032559998049),\n",
       " ('views\\\\home\\\\events\\\\ImageView.dart', 0.004306032559998049),\n",
       " ('views\\\\home\\\\team\\\\AllianceSelection.dart', 0.004306032559998049),\n",
       " ('views\\\\home\\\\team\\\\AllianceSimulator.dart', 0.004306032559998049),\n",
       " ('views\\\\home\\\\team\\\\TeamAllianceRecommend.dart', 0.004306032559998049),\n",
       " ('views\\\\home\\\\team\\\\TeamRowAlliance.dart', 0.004306032559998049),\n",
       " ('views\\\\templates\\\\TemplateView.dart', 0.004306032559998049)]"
      ]
     },
     "execution_count": 8,
     "metadata": {},
     "output_type": "execute_result"
    }
   ],
   "source": [
    "(ranks := sorted(nx.pagerank(source_dependency_graph).items(), key=lambda x: x[1], reverse=True))"
   ]
  },
  {
   "cell_type": "code",
   "execution_count": 9,
   "metadata": {},
   "outputs": [
    {
     "data": {
      "text/plain": [
       "[('functions\\\\Functions.dart', 1.0),\n",
       " ('models\\\\AppModel.dart', 0.8709396056396712),\n",
       " ('models\\\\GameModel.dart', 0.8493352495197185),\n",
       " ('components\\\\misc\\\\PlatformGraphics.dart', 0.5593949549795498),\n",
       " ('functions\\\\Extensions.dart', 0.4987286789668673),\n",
       " ('models\\\\ScoreModel.dart', 0.3723604307050999),\n",
       " ('functions\\\\Statistics.dart', 0.3656411086110179),\n",
       " ('models\\\\StatConfig.dart', 0.29156169680274574),\n",
       " ('views\\\\home\\\\match\\\\MatchView.dart', 0.24978617330086691),\n",
       " ('models\\\\Change.dart', 0.17295533336395305),\n",
       " ('providers\\\\Auth.dart', 0.11895110163612424),\n",
       " ('components\\\\statistics\\\\BarGraph.dart', 0.09378823127238059),\n",
       " ('components\\\\users\\\\PFP.dart', 0.07380684836037597),\n",
       " ('models\\\\GPTModel.dart', 0.0705797459629195),\n",
       " ('views\\\\LandingPage.dart', 0.06462073250943079),\n",
       " ('components\\\\scores\\\\ScoreSummary.dart', 0.05849116530339616),\n",
       " ('components\\\\users\\\\UsersRow.dart', 0.05849116530339616),\n",
       " ('components\\\\misc\\\\EmptyList.dart', 0.05770549682296168),\n",
       " ('components\\\\scores\\\\Incrementor.dart', 0.052385398480284645),\n",
       " ('functions\\\\APIMethods.dart', 0.05165698929604669),\n",
       " ('components\\\\statistics\\\\PercentChange.dart', 0.04687517969803524),\n",
       " ('views\\\\home\\\\util\\\\Permissions.dart', 0.04571352751624601),\n",
       " ('components\\\\scores\\\\ScoreRangeSummary.dart', 0.044253306587267616),\n",
       " ('views\\\\auth\\\\SignUpScreen.dart', 0.04387304789963356),\n",
       " ('components\\\\statistics\\\\CheckList.dart', 0.04282300483040024),\n",
       " ('components\\\\scores\\\\ScoreTimeline.dart', 0.04229178433624731),\n",
       " ('providers\\\\PushNotifications.dart', 0.04209532015707566),\n",
       " ('providers\\\\Theme.dart', 0.04209532015707566),\n",
       " ('views\\\\home\\\\events\\\\EventShare.dart', 0.041204404410129875),\n",
       " ('views\\\\home\\\\match\\\\MatchList.dart', 0.039990430356000514),\n",
       " ('views\\\\home\\\\change\\\\ChangeConfig.dart', 0.03941960238323032),\n",
       " ('views\\\\home\\\\change\\\\ChangeRow.dart', 0.03941960238323032),\n",
       " ('views\\\\home\\\\match\\\\MatchConfig.dart', 0.03864282121296485),\n",
       " ('views\\\\home\\\\events\\\\EventView.dart', 0.03847889022806881),\n",
       " ('views\\\\auth\\\\Login.dart', 0.03807799729210258),\n",
       " ('views\\\\home\\\\events\\\\EventsList.dart', 0.03807799729210258),\n",
       " ('views\\\\inbox\\\\BlockList.dart', 0.03807799729210258),\n",
       " ('views\\\\inbox\\\\Inbox.dart', 0.03807799729210258),\n",
       " ('views\\\\templates\\\\TemplatesList.dart', 0.03807799729210258),\n",
       " ('components\\\\AutonomousDrawingTool.dart', 0.03726491617393945),\n",
       " ('components\\\\misc\\\\Collapsible.dart', 0.03726491617393945),\n",
       " ('components\\\\scores\\\\ScoreCard.dart', 0.03726491617393945),\n",
       " ('views\\\\home\\\\change\\\\ChangeList.dart', 0.03726491617393945),\n",
       " ('views\\\\auth\\\\AuthenticationWrapper.dart', 0.03710205542147715),\n",
       " ('components\\\\misc\\\\CardView.dart', 0.03704402619820798),\n",
       " ('components\\\\scores\\\\ScoringElementStats.dart', 0.03704402619820798),\n",
       " ('views\\\\home\\\\team\\\\ExampleTeamRow.dart', 0.036128513017901764),\n",
       " ('views\\\\home\\\\team\\\\TeamRow.dart', 0.036128513017901764),\n",
       " ('views\\\\home\\\\team\\\\TeamView.dart', 0.036128513017901764),\n",
       " ('views\\\\home\\\\match\\\\ExampleMatchRow.dart', 0.03591730703090379),\n",
       " ('views\\\\home\\\\match\\\\MatchRow.dart', 0.03591730703090379),\n",
       " ('views\\\\home\\\\team\\\\TeamList.dart', 0.03581024673856513),\n",
       " ('views\\\\home\\\\team\\\\AutonDrawer.dart', 0.03513196161234725),\n",
       " ('main.dart', 0.03308473255650407),\n",
       " ('api\\\\README.MD', 0.03308473255650407),\n",
       " ('components\\\\misc\\\\InfoPills.dart', 0.03308473255650407),\n",
       " ('functions\\\\GPTModel.dart', 0.03308473255650407),\n",
       " ('functions\\\\ResponseModel.dart', 0.03308473255650407),\n",
       " ('providers\\\\UserPresence.dart', 0.03308473255650407),\n",
       " ('views\\\\auth\\\\Verify.dart', 0.03308473255650407),\n",
       " ('views\\\\home\\\\events\\\\CameraView.dart', 0.03308473255650407),\n",
       " ('views\\\\home\\\\events\\\\ImageView.dart', 0.03308473255650407),\n",
       " ('views\\\\home\\\\team\\\\AllianceSelection.dart', 0.03308473255650407),\n",
       " ('views\\\\home\\\\team\\\\AllianceSimulator.dart', 0.03308473255650407),\n",
       " ('views\\\\home\\\\team\\\\TeamAllianceRecommend.dart', 0.03308473255650407),\n",
       " ('views\\\\home\\\\team\\\\TeamRowAlliance.dart', 0.03308473255650407),\n",
       " ('views\\\\templates\\\\TemplateView.dart', 0.03308473255650407)]"
      ]
     },
     "execution_count": 9,
     "metadata": {},
     "output_type": "execute_result"
    }
   ],
   "source": [
    "max_probability = ranks[0][1]\n",
    "(percentage_of_max_arr := [(rank[0], rank[1] / max_probability) for rank in ranks])"
   ]
  },
  {
   "cell_type": "code",
   "execution_count": 10,
   "metadata": {},
   "outputs": [
    {
     "data": {
      "text/plain": [
       "├── api\\\n",
       "│   ├── README.MD\n",
       "├── components\\\n",
       "│   ├── misc\\\n",
       "│   │   ├── CardView.dart\n",
       "│   │   ├── Collapsible.dart\n",
       "│   │   ├── EmptyList.dart\n",
       "│   │   ├── InfoPills.dart\n",
       "│   │   ├── PlatformGraphics.dart\n",
       "│   ├── scores\\\n",
       "│   │   ├── Incrementor.dart\n",
       "│   │   ├── ScoreCard.dart\n",
       "│   │   ├── ScoreRangeSummary.dart\n",
       "│   │   ├── ScoreSummary.dart\n",
       "│   │   ├── ScoreTimeline.dart\n",
       "│   │   ├── ScoringElementStats.dart\n",
       "│   ├── statistics\\\n",
       "│   │   ├── BarGraph.dart\n",
       "│   │   ├── CheckList.dart\n",
       "│   │   ├── PercentChange.dart\n",
       "│   ├── users\\\n",
       "│   │   ├── PFP.dart\n",
       "│   │   ├── UsersRow.dart\n",
       "│   ├── AutonomousDrawingTool.dart\n",
       "├── functions\\\n",
       "│   ├── APIMethods.dart\n",
       "│   ├── Extensions.dart\n",
       "│   ├── Functions.dart\n",
       "│   ├── GPTModel.dart\n",
       "│   ├── ResponseModel.dart\n",
       "│   ├── Statistics.dart\n",
       "├── models\\\n",
       "│   ├── AppModel.dart\n",
       "│   ├── Change.dart\n",
       "│   ├── GameModel.dart\n",
       "│   ├── GPTModel.dart\n",
       "│   ├── ScoreModel.dart\n",
       "│   ├── StatConfig.dart\n",
       "├── providers\\\n",
       "│   ├── Auth.dart\n",
       "│   ├── PushNotifications.dart\n",
       "│   ├── Theme.dart\n",
       "│   ├── UserPresence.dart\n",
       "├── views\\\n",
       "│   ├── auth\\\n",
       "│   │   ├── AuthenticationWrapper.dart\n",
       "│   │   ├── Login.dart\n",
       "│   │   ├── SignUpScreen.dart\n",
       "│   │   ├── Verify.dart\n",
       "│   ├── home\\\n",
       "│   │   ├── change\\\n",
       "│   │   │   ├── ChangeConfig.dart\n",
       "│   │   │   ├── ChangeList.dart\n",
       "│   │   │   ├── ChangeRow.dart\n",
       "│   │   ├── events\\\n",
       "│   │   │   ├── CameraView.dart\n",
       "│   │   │   ├── EventShare.dart\n",
       "│   │   │   ├── EventsList.dart\n",
       "│   │   │   ├── EventView.dart\n",
       "│   │   │   ├── ImageView.dart\n",
       "│   │   ├── match\\\n",
       "│   │   │   ├── ExampleMatchRow.dart\n",
       "│   │   │   ├── MatchConfig.dart\n",
       "│   │   │   ├── MatchList.dart\n",
       "│   │   │   ├── MatchRow.dart\n",
       "│   │   │   ├── MatchView.dart\n",
       "│   │   ├── team\\\n",
       "│   │   │   ├── AllianceSelection.dart\n",
       "│   │   │   ├── AllianceSimulator.dart\n",
       "│   │   │   ├── AutonDrawer.dart\n",
       "│   │   │   ├── ExampleTeamRow.dart\n",
       "│   │   │   ├── TeamAllianceRecommend.dart\n",
       "│   │   │   ├── TeamList.dart\n",
       "│   │   │   ├── TeamRow.dart\n",
       "│   │   │   ├── TeamRowAlliance.dart\n",
       "│   │   │   ├── TeamView.dart\n",
       "│   │   ├── util\\\n",
       "│   │   │   ├── Permissions.dart\n",
       "│   ├── inbox\\\n",
       "│   │   ├── BlockList.dart\n",
       "│   │   ├── Inbox.dart\n",
       "│   ├── templates\\\n",
       "│   │   ├── TemplatesList.dart\n",
       "│   │   ├── TemplateView.dart\n",
       "│   ├── LandingPage.dart\n",
       "├── main.dart"
      ]
     },
     "execution_count": 10,
     "metadata": {},
     "output_type": "execute_result"
    }
   ],
   "source": [
    "(source_file_tree := FileTree.from_dir(working_dir_path))"
   ]
  },
  {
   "cell_type": "code",
   "execution_count": 11,
   "metadata": {},
   "outputs": [],
   "source": [
    "async def skeletonize(node):\n",
    "    name = source_file_tree.nodes[node]['name']\n",
    "    content = source_file_tree.nodes[node]['content']\n",
    "    message = f\"{name}\\n```\\n{content}\\n```\"\n",
    "    return await team.async_chat_with_agent(\n",
    "        agent_name='skeletonizer',\n",
    "        message=message,\n",
    "        save_keys=[f\"skeleton_{node}\", \"all_skeletons\"],\n",
    "        prompt_title=f\"Skeleton of {node}\"\n",
    "    )\n",
    "order = source_file_tree.get_files()\n",
    "tasks = [skeletonize(node) for node in order]\n",
    "skeletons = await asyncio.gather(*tasks)\n",
    "for i, response in enumerate(skeletons):\n",
    "    source_file_tree.nodes[order[i]]['skeleton'] = response"
   ]
  },
  {
   "cell_type": "code",
   "execution_count": 12,
   "metadata": {},
   "outputs": [],
   "source": [
    "# Summarize the original repo\n",
    "async def summarize(node):\n",
    "    name = source_file_tree.nodes[node]['name']\n",
    "    content = source_file_tree.nodes[node]['content']\n",
    "    message = f\"{name}\\n```\\n{content}\\n```\"\n",
    "    return await team.async_chat_with_agent(\n",
    "        agent_name='source_swe_analyzer',\n",
    "        message=message,\n",
    "        context_keys=[f\"skeleton_{neighbor}\" for neighbor in source_dependency_graph[node]],\n",
    "        save_keys=[f\"summary_{node}\", \"all_summaries\"],\n",
    "        prompt_title=f\"Summary of {node}\"\n",
    "    )\n",
    "tasks = [summarize(node) for node in order]\n",
    "responses = await asyncio.gather(*tasks)\n",
    "for i, response in enumerate(responses):\n",
    "    source_file_tree.nodes[order[i]][\"summary\"] = response"
   ]
  },
  {
   "cell_type": "code",
   "execution_count": 13,
   "metadata": {},
   "outputs": [
    {
     "name": "stdout",
     "output_type": "stream",
     "text": [
      "The repository implements the TeamTrack application, a tool for managing and analyzing data for FIRST Tech Challenge (FTC) robotics teams and events. It provides features for:\n",
      "\n",
      "- **Event Management:** Creating, editing, and sharing events, including adding teams, matches, and scores.\n",
      "- **Team Management:** Viewing team information, scores, and statistics; adding and removing teams from events.\n",
      "- **Match Management:** Creating and editing matches, entering scores, and viewing match summaries.\n",
      "- **Alliance Formation:** Simulating alliance formation, getting AI recommendations for alliance partners, and viewing team compatibility scores.\n",
      "- **Autonomous Programming:** Drawing autonomous paths and uploading them to Firebase for storage and sharing.\n",
      "- **Statistics and Analysis:** Viewing statistics for teams and matches, including score trends, scoring element breakdowns, and performance comparisons.\n",
      "- **Communication and Collaboration:** Sharing events with other users, managing permissions, and receiving event invitations.\n",
      "- **Push Notifications:** Receiving notifications about new events and updates.\n",
      "\n",
      "The app utilizes Firebase services for data storage, authentication, and real-time updates. It also incorporates external APIs like the The Orange Alliance (TOA) API for fetching event data. The application aims to streamline the management of FTC events and provide valuable insights for teams and event organizers. \n",
      "\n"
     ]
    }
   ],
   "source": [
    "prompt = f\"\"\"This is the file tree for the original {source} repo:\n",
    "```\n",
    "{source.get_working_dir()}\\\\\n",
    "{source_file_tree}\n",
    "```\n",
    "Given the prior context, summarize the functionality of the entire repository succinctly.\n",
    "\"\"\"\n",
    "print(response := team.chat_with_agent('source_swe_analyzer', prompt, context_keys=[\"all_summaries\"], save_keys=[\"all_summaries\"], prompt_title=f\"\"\"Repository Summary.\n",
    "File Tree provided:\n",
    "```\n",
    "{source.get_working_dir()}\\\\\n",
    "{source_file_tree}\n",
    "```\n",
    "\"\"\"))"
   ]
  },
  {
   "cell_type": "markdown",
   "metadata": {},
   "source": [
    "## Summary Compression"
   ]
  },
  {
   "cell_type": "code",
   "execution_count": 14,
   "metadata": {},
   "outputs": [
    {
     "data": {
      "text/plain": [
       "17400"
      ]
     },
     "execution_count": 14,
     "metadata": {},
     "output_type": "execute_result"
    }
   ],
   "source": [
    "curr_string = '\\n'.join([message['parts'][0] for interaction in team.context_threads['all_summaries'] for message in interaction.to_dict()])\n",
    "(curr_tokens := pm.model.count_tokens(curr_string).total_tokens)"
   ]
  },
  {
   "cell_type": "code",
   "execution_count": 15,
   "metadata": {},
   "outputs": [
    {
     "data": {
      "text/plain": [
       "122951"
      ]
     },
     "execution_count": 15,
     "metadata": {},
     "output_type": "execute_result"
    }
   ],
   "source": [
    "would_be_string = '\\n'.join([source_file_tree.nodes[node]['content'] for node in source_dependency_graph.nodes])\n",
    "(would_be_tokens := pm.model.count_tokens(would_be_string).total_tokens)"
   ]
  },
  {
   "cell_type": "code",
   "execution_count": 16,
   "metadata": {},
   "outputs": [
    {
     "data": {
      "text/plain": [
       "0.8584802075623622"
      ]
     },
     "execution_count": 16,
     "metadata": {},
     "output_type": "execute_result"
    }
   ],
   "source": [
    "(percent_tokens_reduction := 1 - (curr_tokens / would_be_tokens))"
   ]
  },
  {
   "cell_type": "markdown",
   "metadata": {},
   "source": [
    "## Skeleton Compression"
   ]
  },
  {
   "cell_type": "code",
   "execution_count": 17,
   "metadata": {},
   "outputs": [
    {
     "data": {
      "text/plain": [
       "29137"
      ]
     },
     "execution_count": 17,
     "metadata": {},
     "output_type": "execute_result"
    }
   ],
   "source": [
    "curr_string = '\\n'.join([message['parts'][0] for interaction in team.context_threads['all_skeletons'] for message in interaction.to_dict()])\n",
    "(curr_tokens := pm.model.count_tokens(curr_string).total_tokens)"
   ]
  },
  {
   "cell_type": "code",
   "execution_count": 18,
   "metadata": {},
   "outputs": [
    {
     "data": {
      "text/plain": [
       "122951"
      ]
     },
     "execution_count": 18,
     "metadata": {},
     "output_type": "execute_result"
    }
   ],
   "source": [
    "would_be_string = '\\n'.join([source_file_tree.nodes[node]['content'] for node in source_dependency_graph.nodes])\n",
    "(would_be_tokens := pm.model.count_tokens(would_be_string).total_tokens)"
   ]
  },
  {
   "cell_type": "code",
   "execution_count": 19,
   "metadata": {},
   "outputs": [
    {
     "data": {
      "text/plain": [
       "0.7630194142381924"
      ]
     },
     "execution_count": 19,
     "metadata": {},
     "output_type": "execute_result"
    }
   ],
   "source": [
    "(percent_tokens_reduction := 1 - (curr_tokens / would_be_tokens))"
   ]
  },
  {
   "cell_type": "code",
   "execution_count": 20,
   "metadata": {},
   "outputs": [
    {
     "name": "stdout",
     "output_type": "stream",
     "text": [
      "```\n",
      "| WRITE | lib/views/spaces/SpacesList.dart | lib/models/AppModel.dart, lib/providers/Auth.dart | Implement SpacesList with the following properties:\n",
      "    - Displays a list of uploaded videos.\n",
      "    - Each video item shows the team number, team name, and a thumbnail preview.\n",
      "    - Users can click on a video to view it in full screen.\n",
      "| WRITE | lib/views/spaces/UploadVideo.dart | lib/models/AppModel.dart, lib/providers/Auth.dart | Implement UploadVideo with the following properties:\n",
      "    - Allows authenticated users to upload videos from their device.\n",
      "    - Requires users to input their team number and team name.\n",
      "    - Uploads the video and metadata to Firebase Storage and Firestore.\n",
      "| WRITE | lib/views/spaces/VideoPlayerScreen.dart | N/A | Implement VideoPlayerScreen with the following properties:\n",
      "    - Plays the selected video in full screen.\n",
      "    - Displays the team number and team name associated with the video.\n",
      "| EDIT | lib/views/LandingPage.dart | N/A | Add Spaces tab by doing:\n",
      "    - Add a new tab for \"Spaces\" to the bottom navigation bar.\n",
      "    - The new tab should navigate to the SpacesList screen.\n",
      "| EDIT | lib/models/AppModel.dart | N/A | Add spaces data by doing:\n",
      "    - Add a new data structure to store video information (video URL, team number, team name).\n",
      "    - Implement methods to upload, retrieve, and delete video data from Firestore.\n",
      "```\n"
     ]
    }
   ],
   "source": [
    "response_format = f\"\"\"\\\n",
    "WRITES must include: the path to the new file, the path to necessary local dependencies (N/A if no local dependencies) needed to build the new file, and the high level overview of what to do to build the new file.\n",
    "EDITS must include: the path to the file, the path to local dependencies (N/A if no local dependencies) needed to edit the file, and the high level overview of what to do to edit the file.\n",
    "DELETES must include: the path to the file, a short deletion message, and internal reasons for deletion.\n",
    "\n",
    "Structure your response using the following example:\n",
    "```\n",
    "| WRITE | {source.get_working_dir()}\\\\path\\\\to\\\\newfile.ext | {source.get_working_dir()}\\\\path\\\\to\\\\dependency1, {source.get_working_dir()}\\\\path\\\\to\\\\dependency2 (N/A if no dependencies) | Implement $(feature)$ with the following properties:\n",
    "    - property1\n",
    "    - property2\n",
    "| EDIT | {source.get_working_dir()}\\\\path\\\\to\\\\file.ext | {source.get_working_dir()}\\\\path\\\\to\\\\dependency1, {source.get_working_dir()}\\\\path\\\\to\\\\dependency2 (N/A if no new dependencies) | Add $(feature)$ by doing:\n",
    "    - step1\n",
    "    - step2\n",
    "| DELETE | {source.get_working_dir()}\\\\path\\\\to\\\\some\\\\file.ext | Short deletion message | Internal reasons for deletion:\n",
    "    - reason1\n",
    "    - reason2\n",
    "```\n",
    "Respond ONLY with the high level overview of what to do. The actual implementation will be done by a coder.\\\n",
    "\"\"\"\n",
    "\n",
    "# Create new file tree\n",
    "prompt = f'''\\\n",
    "You are to build the following feature:\n",
    "{feature}\n",
    "------------------\n",
    "{response_format}\n",
    "------------------\n",
    "You need to follow the response template structure exactly (MY JOB DEPENDS ON IT)\\\n",
    "'''\n",
    "print(response := team.chat_with_agent(\"pm\", prompt, context_keys=[\"all_summaries\"]))"
   ]
  },
  {
   "cell_type": "code",
   "execution_count": 21,
   "metadata": {},
   "outputs": [
    {
     "name": "stdout",
     "output_type": "stream",
     "text": [
      "('WRITE', 'views/spaces/SpacesList.dart', ['models\\\\AppModel.dart', 'providers\\\\Auth.dart'], 'Implement SpacesList with the following properties:\\n    - Displays a list of uploaded videos.\\n    - Each video item shows the team number, team name, and a thumbnail preview.\\n    - Users can click on a video to view it in full screen.')\n",
      "('WRITE', 'views/spaces/UploadVideo.dart', ['models\\\\AppModel.dart', 'providers\\\\Auth.dart'], 'Implement UploadVideo with the following properties:\\n    - Allows authenticated users to upload videos from their device.\\n    - Requires users to input their team number and team name.\\n    - Uploads the video and metadata to Firebase Storage and Firestore.')\n",
      "('WRITE', 'views/spaces/VideoPlayerScreen.dart', [], 'Implement VideoPlayerScreen with the following properties:\\n    - Plays the selected video in full screen.\\n    - Displays the team number and team name associated with the video.')\n",
      "('EDIT', 'views/LandingPage.dart', [], 'Add Spaces tab by doing:\\n    - Add a new tab for \"Spaces\" to the bottom navigation bar.\\n    - The new tab should navigate to the SpacesList screen.')\n",
      "('EDIT', 'models/AppModel.dart', [], 'Add spaces data by doing:\\n    - Add a new data structure to store video information (video URL, team number, team name).\\n    - Implement methods to upload, retrieve, and delete video data from Firestore.')\n"
     ]
    }
   ],
   "source": [
    "md = extract_markdown_blocks(response)[0]\n",
    "blocks = md.split(\"|\")\n",
    "actions = []\n",
    "i = 0\n",
    "while i < len(blocks):\n",
    "    block = blocks[i].strip()\n",
    "    if block != \"WRITE\" and block != \"EDIT\" and block != \"DELETE\":\n",
    "        i += 1\n",
    "        continue\n",
    "    action, file, dependencies, prompt = blocks[i:i + 4]\n",
    "    action = action.strip()\n",
    "    if file.strip().startswith(source.get_working_dir()):\n",
    "        file = file.strip()[len(source.get_working_dir()) + 1:]\n",
    "    else:\n",
    "        file = file.strip()\n",
    "    if dependencies.strip() == \"N/A\" or dependencies.strip() == \"\":\n",
    "        dependencies = []\n",
    "    else:\n",
    "        dependencies = [source_file_tree.get_closest_file_name(d) for d in dependencies.split(\",\")]\n",
    "    prompt = prompt.strip()\n",
    "    actions.append((action, file, dependencies, prompt))\n",
    "    i += 4\n",
    "for action in actions:\n",
    "    print(action)"
   ]
  },
  {
   "cell_type": "code",
   "execution_count": 22,
   "metadata": {},
   "outputs": [],
   "source": [
    "import re\n",
    "async def write(file_path, dependencies, prompt):\n",
    "    response = await team.async_chat_with_agent(\n",
    "        \"source_swe_coder\",\n",
    "        f\"Dependencies: {dependencies}\\nInstructions for {file_path}:\\n{prompt}\",\n",
    "        context_keys=[f\"skeleton_{d}\" for d in dependencies]\n",
    "    )\n",
    "    md = extract_markdown_blocks(response)[0]\n",
    "    path = f\"{working_dir_path}\\\\{file_path}\"\n",
    "    if not os.path.exists(os.path.dirname(path)):\n",
    "        os.makedirs(os.path.dirname(path))\n",
    "    with open(path, 'w') as f:\n",
    "        f.write(md)\n",
    "\n",
    "async def edit(file_path, dependencies, prompt):\n",
    "    with open(f\"{working_dir_path}\\\\{file_path}\", 'r') as f:\n",
    "        content = f.read()\n",
    "    response = await source_swe_editor.async_chat(\n",
    "        f\"{prompt}\\n\\nRemember, try to keep each hunk short and concise.\",\n",
    "        custom_context=flatten([team.context_threads[f\"skeleton_{d}\"] for d in dependencies]) + [Interaction(f\"Contents of {file_path}\", content)]\n",
    "    )\n",
    "    diffs = extract_markdown_blocks(response)\n",
    "    for diff in diffs:\n",
    "        with open(f'{working_dir_path}\\\\{file_path}', 'w') as f:\n",
    "            f.seek(0)\n",
    "            f.truncate()\n",
    "            content = skwonk(content, diff)\n",
    "            f.write(content)\n",
    "\n",
    "def delete(file_path):\n",
    "    os.remove(f\"{working_dir_path}\\\\{file_path}\")"
   ]
  },
  {
   "cell_type": "code",
   "execution_count": 25,
   "metadata": {},
   "outputs": [
    {
     "name": "stderr",
     "output_type": "stream",
     "text": [
      " 40%|████      | 2/5 [00:09<00:15,  5.29s/it]"
     ]
    },
    {
     "name": "stdout",
     "output_type": "stream",
     "text": [
      "index: 0\n",
      "finish_reason: RECITATION\n",
      "\n"
     ]
    },
    {
     "name": "stderr",
     "output_type": "stream",
     "text": [
      " 40%|████      | 2/5 [00:15<00:23,  7.77s/it]\n"
     ]
    },
    {
     "ename": "CancelledError",
     "evalue": "",
     "output_type": "error",
     "traceback": [
      "\u001b[1;31m---------------------------------------------------------------------------\u001b[0m",
      "\u001b[1;31mStopCandidateException\u001b[0m                    Traceback (most recent call last)",
      "File \u001b[1;32mc:\\Users\\Ayush\\Documents\\GitHub\\fraimwork\\logic\\utils\\agent.py:154\u001b[0m, in \u001b[0;36mAgent.async_chat\u001b[1;34m(self, prompt, asker, custom_context)\u001b[0m\n\u001b[0;32m    153\u001b[0m \u001b[38;5;28;01mtry\u001b[39;00m:\n\u001b[1;32m--> 154\u001b[0m     response \u001b[38;5;241m=\u001b[39m \u001b[38;5;28;01mawait\u001b[39;00m session\u001b[38;5;241m.\u001b[39msend_message_async(prompt)\n\u001b[0;32m    155\u001b[0m     \u001b[38;5;28mself\u001b[39m\u001b[38;5;241m.\u001b[39m_log_string(\u001b[38;5;124m\"\u001b[39m\u001b[38;5;124mCONTEXT\u001b[39m\u001b[38;5;130;01m\\n\u001b[39;00m\u001b[38;5;124m\"\u001b[39m)\n",
      "File \u001b[1;32mc:\\Users\\Ayush\\anaconda3\\Lib\\site-packages\\google\\generativeai\\generative_models.py:717\u001b[0m, in \u001b[0;36mChatSession.send_message_async\u001b[1;34m(self, content, generation_config, safety_settings, stream, tools, tool_config, request_options)\u001b[0m\n\u001b[0;32m    707\u001b[0m response \u001b[38;5;241m=\u001b[39m \u001b[38;5;28;01mawait\u001b[39;00m \u001b[38;5;28mself\u001b[39m\u001b[38;5;241m.\u001b[39mmodel\u001b[38;5;241m.\u001b[39mgenerate_content_async(\n\u001b[0;32m    708\u001b[0m     contents\u001b[38;5;241m=\u001b[39mhistory,\n\u001b[0;32m    709\u001b[0m     generation_config\u001b[38;5;241m=\u001b[39mgeneration_config,\n\u001b[1;32m   (...)\u001b[0m\n\u001b[0;32m    714\u001b[0m     request_options\u001b[38;5;241m=\u001b[39mrequest_options,\n\u001b[0;32m    715\u001b[0m )\n\u001b[1;32m--> 717\u001b[0m \u001b[38;5;28;43mself\u001b[39;49m\u001b[38;5;241;43m.\u001b[39;49m\u001b[43m_check_response\u001b[49m\u001b[43m(\u001b[49m\u001b[43mresponse\u001b[49m\u001b[38;5;241;43m=\u001b[39;49m\u001b[43mresponse\u001b[49m\u001b[43m,\u001b[49m\u001b[43m \u001b[49m\u001b[43mstream\u001b[49m\u001b[38;5;241;43m=\u001b[39;49m\u001b[43mstream\u001b[49m\u001b[43m)\u001b[49m\n\u001b[0;32m    719\u001b[0m \u001b[38;5;28;01mif\u001b[39;00m \u001b[38;5;28mself\u001b[39m\u001b[38;5;241m.\u001b[39menable_automatic_function_calling \u001b[38;5;129;01mand\u001b[39;00m tools_lib \u001b[38;5;129;01mis\u001b[39;00m \u001b[38;5;129;01mnot\u001b[39;00m \u001b[38;5;28;01mNone\u001b[39;00m:\n",
      "File \u001b[1;32mc:\\Users\\Ayush\\anaconda3\\Lib\\site-packages\\google\\generativeai\\generative_models.py:616\u001b[0m, in \u001b[0;36mChatSession._check_response\u001b[1;34m(self, response, stream)\u001b[0m\n\u001b[0;32m    611\u001b[0m \u001b[38;5;28;01mif\u001b[39;00m response\u001b[38;5;241m.\u001b[39mcandidates[\u001b[38;5;241m0\u001b[39m]\u001b[38;5;241m.\u001b[39mfinish_reason \u001b[38;5;129;01mnot\u001b[39;00m \u001b[38;5;129;01min\u001b[39;00m (\n\u001b[0;32m    612\u001b[0m     protos\u001b[38;5;241m.\u001b[39mCandidate\u001b[38;5;241m.\u001b[39mFinishReason\u001b[38;5;241m.\u001b[39mFINISH_REASON_UNSPECIFIED,\n\u001b[0;32m    613\u001b[0m     protos\u001b[38;5;241m.\u001b[39mCandidate\u001b[38;5;241m.\u001b[39mFinishReason\u001b[38;5;241m.\u001b[39mSTOP,\n\u001b[0;32m    614\u001b[0m     protos\u001b[38;5;241m.\u001b[39mCandidate\u001b[38;5;241m.\u001b[39mFinishReason\u001b[38;5;241m.\u001b[39mMAX_TOKENS,\n\u001b[0;32m    615\u001b[0m ):\n\u001b[1;32m--> 616\u001b[0m     \u001b[38;5;28;01mraise\u001b[39;00m generation_types\u001b[38;5;241m.\u001b[39mStopCandidateException(response\u001b[38;5;241m.\u001b[39mcandidates[\u001b[38;5;241m0\u001b[39m])\n",
      "\u001b[1;31mStopCandidateException\u001b[0m: index: 0\nfinish_reason: RECITATION\n",
      "\nDuring handling of the above exception, another exception occurred:\n",
      "\u001b[1;31mCancelledError\u001b[0m                            Traceback (most recent call last)",
      "Cell \u001b[1;32mIn[25], line 6\u001b[0m\n\u001b[0;32m      4\u001b[0m \u001b[38;5;28;01mfor\u001b[39;00m action, file, dependencies, prompt \u001b[38;5;129;01min\u001b[39;00m tqdm(actions):\n\u001b[0;32m      5\u001b[0m     \u001b[38;5;28;01mif\u001b[39;00m action \u001b[38;5;241m==\u001b[39m \u001b[38;5;124m\"\u001b[39m\u001b[38;5;124mWRITE\u001b[39m\u001b[38;5;124m\"\u001b[39m:\n\u001b[1;32m----> 6\u001b[0m         \u001b[38;5;28;01mawait\u001b[39;00m write(file, dependencies, prompt)\n\u001b[0;32m      7\u001b[0m     \u001b[38;5;28;01melif\u001b[39;00m action \u001b[38;5;241m==\u001b[39m \u001b[38;5;124m\"\u001b[39m\u001b[38;5;124mEDIT\u001b[39m\u001b[38;5;124m\"\u001b[39m:\n\u001b[0;32m      8\u001b[0m         \u001b[38;5;28;01mawait\u001b[39;00m edit(file, dependencies, prompt)\n",
      "Cell \u001b[1;32mIn[22], line 3\u001b[0m, in \u001b[0;36mwrite\u001b[1;34m(file_path, dependencies, prompt)\u001b[0m\n\u001b[0;32m      2\u001b[0m \u001b[38;5;28;01masync\u001b[39;00m \u001b[38;5;28;01mdef\u001b[39;00m \u001b[38;5;21mwrite\u001b[39m(file_path, dependencies, prompt):\n\u001b[1;32m----> 3\u001b[0m     response \u001b[38;5;241m=\u001b[39m \u001b[38;5;28;01mawait\u001b[39;00m team\u001b[38;5;241m.\u001b[39masync_chat_with_agent(\n\u001b[0;32m      4\u001b[0m         \u001b[38;5;124m\"\u001b[39m\u001b[38;5;124msource_swe_coder\u001b[39m\u001b[38;5;124m\"\u001b[39m,\n\u001b[0;32m      5\u001b[0m         \u001b[38;5;124mf\u001b[39m\u001b[38;5;124m\"\u001b[39m\u001b[38;5;124mDependencies: \u001b[39m\u001b[38;5;132;01m{\u001b[39;00mdependencies\u001b[38;5;132;01m}\u001b[39;00m\u001b[38;5;130;01m\\n\u001b[39;00m\u001b[38;5;124mInstructions for \u001b[39m\u001b[38;5;132;01m{\u001b[39;00mfile_path\u001b[38;5;132;01m}\u001b[39;00m\u001b[38;5;124m:\u001b[39m\u001b[38;5;130;01m\\n\u001b[39;00m\u001b[38;5;132;01m{\u001b[39;00mprompt\u001b[38;5;132;01m}\u001b[39;00m\u001b[38;5;124m\"\u001b[39m,\n\u001b[0;32m      6\u001b[0m         context_keys\u001b[38;5;241m=\u001b[39m[\u001b[38;5;124mf\u001b[39m\u001b[38;5;124m\"\u001b[39m\u001b[38;5;124mskeleton_\u001b[39m\u001b[38;5;132;01m{\u001b[39;00md\u001b[38;5;132;01m}\u001b[39;00m\u001b[38;5;124m\"\u001b[39m \u001b[38;5;28;01mfor\u001b[39;00m d \u001b[38;5;129;01min\u001b[39;00m dependencies]\n\u001b[0;32m      7\u001b[0m     )\n\u001b[0;32m      8\u001b[0m     md \u001b[38;5;241m=\u001b[39m extract_markdown_blocks(response)[\u001b[38;5;241m0\u001b[39m]\n\u001b[0;32m      9\u001b[0m     path \u001b[38;5;241m=\u001b[39m \u001b[38;5;124mf\u001b[39m\u001b[38;5;124m\"\u001b[39m\u001b[38;5;132;01m{\u001b[39;00mworking_dir_path\u001b[38;5;132;01m}\u001b[39;00m\u001b[38;5;130;01m\\\\\u001b[39;00m\u001b[38;5;132;01m{\u001b[39;00mfile_path\u001b[38;5;132;01m}\u001b[39;00m\u001b[38;5;124m\"\u001b[39m\n",
      "File \u001b[1;32mc:\\Users\\Ayush\\Documents\\GitHub\\fraimwork\\logic\\utils\\agent.py:199\u001b[0m, in \u001b[0;36mTeam.async_chat_with_agent\u001b[1;34m(self, agent_name, message, context_keys, save_keys, prompt_title)\u001b[0m\n\u001b[0;32m    197\u001b[0m agent \u001b[38;5;241m=\u001b[39m \u001b[38;5;28mself\u001b[39m\u001b[38;5;241m.\u001b[39magents[agent_name]\n\u001b[0;32m    198\u001b[0m custom_context \u001b[38;5;241m=\u001b[39m [interaction \u001b[38;5;28;01mfor\u001b[39;00m key \u001b[38;5;129;01min\u001b[39;00m context_keys \u001b[38;5;28;01mfor\u001b[39;00m interaction \u001b[38;5;129;01min\u001b[39;00m \u001b[38;5;28mself\u001b[39m\u001b[38;5;241m.\u001b[39mcontext_threads[key]]\n\u001b[1;32m--> 199\u001b[0m response \u001b[38;5;241m=\u001b[39m \u001b[38;5;28;01mawait\u001b[39;00m agent\u001b[38;5;241m.\u001b[39masync_chat(message, custom_context\u001b[38;5;241m=\u001b[39mcustom_context)\n\u001b[0;32m    200\u001b[0m user_prompt \u001b[38;5;241m=\u001b[39m message \u001b[38;5;28;01mif\u001b[39;00m \u001b[38;5;129;01mnot\u001b[39;00m prompt_title \u001b[38;5;28;01melse\u001b[39;00m prompt_title\n\u001b[0;32m    201\u001b[0m \u001b[38;5;28;01mfor\u001b[39;00m key \u001b[38;5;129;01min\u001b[39;00m save_keys:\n",
      "File \u001b[1;32mc:\\Users\\Ayush\\Documents\\GitHub\\fraimwork\\logic\\utils\\agent.py:165\u001b[0m, in \u001b[0;36mAgent.async_chat\u001b[1;34m(self, prompt, asker, custom_context)\u001b[0m\n\u001b[0;32m    163\u001b[0m \u001b[38;5;28;01mexcept\u001b[39;00m \u001b[38;5;167;01mException\u001b[39;00m \u001b[38;5;28;01mas\u001b[39;00m e:\n\u001b[0;32m    164\u001b[0m     \u001b[38;5;28mprint\u001b[39m(e)\n\u001b[1;32m--> 165\u001b[0m     \u001b[38;5;28;01mawait\u001b[39;00m asyncio\u001b[38;5;241m.\u001b[39msleep(\u001b[38;5;241m2\u001b[39m)\n",
      "File \u001b[1;32mc:\\Users\\Ayush\\anaconda3\\Lib\\asyncio\\tasks.py:649\u001b[0m, in \u001b[0;36msleep\u001b[1;34m(delay, result)\u001b[0m\n\u001b[0;32m    645\u001b[0m h \u001b[38;5;241m=\u001b[39m loop\u001b[38;5;241m.\u001b[39mcall_later(delay,\n\u001b[0;32m    646\u001b[0m                     futures\u001b[38;5;241m.\u001b[39m_set_result_unless_cancelled,\n\u001b[0;32m    647\u001b[0m                     future, result)\n\u001b[0;32m    648\u001b[0m \u001b[38;5;28;01mtry\u001b[39;00m:\n\u001b[1;32m--> 649\u001b[0m     \u001b[38;5;28;01mreturn\u001b[39;00m \u001b[38;5;28;01mawait\u001b[39;00m future\n\u001b[0;32m    650\u001b[0m \u001b[38;5;28;01mfinally\u001b[39;00m:\n\u001b[0;32m    651\u001b[0m     h\u001b[38;5;241m.\u001b[39mcancel()\n",
      "\u001b[1;31mCancelledError\u001b[0m: "
     ]
    },
    {
     "ename": "",
     "evalue": "",
     "output_type": "error",
     "traceback": [
      "\u001b[1;31mThe Kernel crashed while executing code in the current cell or a previous cell. \n",
      "\u001b[1;31mPlease review the code in the cell(s) to identify a possible cause of the failure. \n",
      "\u001b[1;31mClick <a href='https://aka.ms/vscodeJupyterKernelCrash'>here</a> for more info. \n",
      "\u001b[1;31mView Jupyter <a href='command:jupyter.viewOutput'>log</a> for further details."
     ]
    }
   ],
   "source": [
    "from utils.errorutils import repeat_until_finish\n",
    "from tqdm import tqdm\n",
    "\n",
    "for action, file, dependencies, prompt in tqdm(actions):\n",
    "    if action == \"WRITE\":\n",
    "        await write(file, dependencies, prompt)\n",
    "    elif action == \"EDIT\":\n",
    "        await edit(file, dependencies, prompt)\n",
    "    elif action == \"DELETE\":\n",
    "        delete(file)\n"
   ]
  }
 ],
 "metadata": {
  "kernelspec": {
   "display_name": "base",
   "language": "python",
   "name": "python3"
  },
  "language_info": {
   "codemirror_mode": {
    "name": "ipython",
    "version": 3
   },
   "file_extension": ".py",
   "mimetype": "text/x-python",
   "name": "python",
   "nbconvert_exporter": "python",
   "pygments_lexer": "ipython3",
   "version": "3.11.7"
  }
 },
 "nbformat": 4,
 "nbformat_minor": 2
}
