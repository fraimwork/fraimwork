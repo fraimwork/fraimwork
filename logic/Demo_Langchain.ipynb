{
 "cells": [
  {
   "cell_type": "code",
   "execution_count": 1,
   "metadata": {},
   "outputs": [
    {
     "ename": "ImportError",
     "evalue": "cannot import name 'LangGraph' from 'langchain' (c:\\Users\\Ayush\\anaconda3\\Lib\\site-packages\\langchain\\__init__.py)",
     "output_type": "error",
     "traceback": [
      "\u001b[1;31m---------------------------------------------------------------------------\u001b[0m",
      "\u001b[1;31mImportError\u001b[0m                               Traceback (most recent call last)",
      "Cell \u001b[1;32mIn[1], line 4\u001b[0m\n\u001b[0;32m      1\u001b[0m \u001b[38;5;66;03m# Install LangChain if you haven't already\u001b[39;00m\n\u001b[0;32m      2\u001b[0m \u001b[38;5;66;03m# !pip install langchain\u001b[39;00m\n\u001b[1;32m----> 4\u001b[0m \u001b[38;5;28;01mfrom\u001b[39;00m \u001b[38;5;21;01mlangchain\u001b[39;00m \u001b[38;5;28;01mimport\u001b[39;00m LangGraph, LLMChain, OpenAI\n\u001b[0;32m      5\u001b[0m \u001b[38;5;28;01mfrom\u001b[39;00m \u001b[38;5;21;01mlangchain\u001b[39;00m\u001b[38;5;21;01m.\u001b[39;00m\u001b[38;5;21;01mprompts\u001b[39;00m \u001b[38;5;28;01mimport\u001b[39;00m PromptTemplate\n\u001b[0;32m      6\u001b[0m \u001b[38;5;28;01mfrom\u001b[39;00m \u001b[38;5;21;01mlangchain\u001b[39;00m\u001b[38;5;21;01m.\u001b[39;00m\u001b[38;5;21;01mchains\u001b[39;00m \u001b[38;5;28;01mimport\u001b[39;00m SimpleSequentialChain\n",
      "\u001b[1;31mImportError\u001b[0m: cannot import name 'LangGraph' from 'langchain' (c:\\Users\\Ayush\\anaconda3\\Lib\\site-packages\\langchain\\__init__.py)"
     ]
    }
   ],
   "source": [
    "# Install LangChain if you haven't already\n",
    "# !pip install langchain\n",
    "\n",
    "from langchain import LangGraph, LLMChain, OpenAI\n",
    "from langchain.prompts import PromptTemplate\n",
    "from langchain.chains import SimpleSequentialChain\n",
    "\n",
    "# Initialize the language model\n",
    "llm = OpenAI(temperature=0.7)\n",
    "\n",
    "# Define a prompt template\n",
    "template = \"Translate the following English text to French: {text}\"\n",
    "prompt = PromptTemplate(input_variables=[\"text\"], template=template)\n",
    "\n",
    "# Create the LLMChain node for translation\n",
    "translation_chain = LLMChain(prompt=prompt, llm=llm)\n",
    "\n",
    "# Create another LLMChain node for summarization\n",
    "summary_template = \"Summarize the following French text: {text}\"\n",
    "summary_prompt = PromptTemplate(input_variables=[\"text\"], template=summary_template)\n",
    "summary_chain = LLMChain(prompt=summary_prompt, llm=llm)\n",
    "\n",
    "# Create the LangGraph to connect the chains\n",
    "graph = LangGraph([\n",
    "    (\"translate\", translation_chain),\n",
    "    (\"summarize\", summary_chain)\n",
    "])\n",
    "\n",
    "# Define the flow of the graph\n",
    "# This example first translates the text, then summarizes it\n",
    "graph.add_edge(\"translate\", \"summarize\", \"text\")\n",
    "\n",
    "# Create a SimpleSequentialChain to execute the graph\n",
    "pipeline = SimpleSequentialChain(chains=[translation_chain, summary_chain])\n",
    "\n",
    "# Define input\n",
    "input_text = \"The quick brown fox jumps over the lazy dog.\"\n",
    "\n",
    "# Run the pipeline\n",
    "result = pipeline.run(input_text)\n",
    "print(result)\n"
   ]
  }
 ],
 "metadata": {
  "kernelspec": {
   "display_name": "base",
   "language": "python",
   "name": "python3"
  },
  "language_info": {
   "codemirror_mode": {
    "name": "ipython",
    "version": 3
   },
   "file_extension": ".py",
   "mimetype": "text/x-python",
   "name": "python",
   "nbconvert_exporter": "python",
   "pygments_lexer": "ipython3",
   "version": "3.11.7"
  }
 },
 "nbformat": 4,
 "nbformat_minor": 2
}
